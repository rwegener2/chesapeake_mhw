{
 "cells": [
  {
   "cell_type": "markdown",
   "id": "11850f8c-77b2-4c7f-a561-caae8ea3985f",
   "metadata": {},
   "source": [
    "# MHW Stats to CSVs\n",
    "\n",
    "This codebase saves the dictionary outputof the mhw.detect() function for the raster shape as a `.pickle`, a Python native binary storage format. The codebase saves and re-opens the pickle file several times.\n",
    "\n",
    "While this is convenient for working in Python, it is not convenient if you would like to view the MHW stats for a single location. This code file converts the Python dictionary into a series of csv files, named by the lat/lon they represent. It also creates a `geojson` file which can be used to viualize which csvs are available. Land pixels (nans) are not converted into a csv."
   ]
  },
  {
   "cell_type": "code",
   "execution_count": 7,
   "id": "1788b667-307a-47fc-ad3f-82553669ef64",
   "metadata": {},
   "outputs": [],
   "source": [
    "import os\n",
    "from pathlib import Path\n",
    "import pickle\n",
    "\n",
    "import xarray as xr"
   ]
  },
  {
   "cell_type": "code",
   "execution_count": 5,
   "id": "09b05e15-3d7a-4f9d-ace8-3f87752ad61e",
   "metadata": {},
   "outputs": [],
   "source": [
    "REPO_ROOT = os.getenv('REPO_ROOT', '/Users/rwegener/repos/chesapeake_mhw')\n",
    "REPO_ROOT = Path(REPO_ROOT)"
   ]
  },
  {
   "cell_type": "markdown",
   "id": "a5fbc2a5-1e01-4bed-9a9d-11edd26ef458",
   "metadata": {},
   "source": [
    "Open MHW event statistics"
   ]
  },
  {
   "cell_type": "code",
   "execution_count": 6,
   "id": "397ec679-fdc3-4620-8b06-4f385f82a8ff",
   "metadata": {},
   "outputs": [],
   "source": [
    "filepath = (\n",
    "    REPO_ROOT / \n",
    "    'data/interim' /\n",
    "    'mhw_eventstats_dict.pickle'\n",
    ")\n",
    "\n",
    "with open(filepath, 'rb') as f:\n",
    "    event_statistics = pickle.load(f)"
   ]
  },
  {
   "cell_type": "code",
   "execution_count": 8,
   "id": "00dd9f6f-45d5-4537-a7b4-2fee8d50484b",
   "metadata": {},
   "outputs": [],
   "source": [
    "sst_filename = 'L4_GHRSST-SSTfnd-Geo_Polar_Blended_Night-GLOB-v02.0-fv01.0_CB_20020901_20230831.nc'\n",
    "path = REPO_ROOT /'data/raw' / sst_filename\n",
    "geopolar = xr.open_dataset(path)\n",
    "geopolar = geopolar.analysed_sst"
   ]
  },
  {
   "cell_type": "code",
   "execution_count": null,
   "id": "bc7b64f7-47a2-41da-af33-75091213b469",
   "metadata": {},
   "outputs": [],
   "source": []
  },
  {
   "cell_type": "code",
   "execution_count": null,
   "id": "640713ea-2d81-4ba0-ad32-2dc39ae46c42",
   "metadata": {},
   "outputs": [],
   "source": []
  },
  {
   "cell_type": "code",
   "execution_count": null,
   "id": "63d47183-a0ba-41de-b3a4-2d780bb37566",
   "metadata": {},
   "outputs": [],
   "source": []
  },
  {
   "cell_type": "code",
   "execution_count": null,
   "id": "72cd21dc-aa5c-48b7-aaf6-8524253522d0",
   "metadata": {},
   "outputs": [],
   "source": []
  }
 ],
 "metadata": {
  "kernelspec": {
   "display_name": "Python [conda env:chesapeake_mhw]",
   "language": "python",
   "name": "conda-env-chesapeake_mhw-py"
  },
  "language_info": {
   "codemirror_mode": {
    "name": "ipython",
    "version": 3
   },
   "file_extension": ".py",
   "mimetype": "text/x-python",
   "name": "python",
   "nbconvert_exporter": "python",
   "pygments_lexer": "ipython3",
   "version": "3.11.0"
  }
 },
 "nbformat": 4,
 "nbformat_minor": 5
}
