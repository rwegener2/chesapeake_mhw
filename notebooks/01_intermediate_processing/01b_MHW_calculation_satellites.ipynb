{
 "cells": [
  {
   "cell_type": "markdown",
   "id": "ed55cd61-28d9-4c56-918f-501e725da3d6",
   "metadata": {},
   "source": [
    "# MHW Calculation and Satellite Climatology\n",
    "\n",
    "This notebook computes the MHW event statistics as a Python dictionary. It also generates a netcdf of the climtology and threshold values for each of the pixels in the CBay.\n",
    "\n",
    "- Geo-Polar\n",
    "- MUR\n",
    "- OSTIA\n",
    "\n",
    "- All: identify MHW, save climatology output\n",
    "- Extras for just Geo-Polar: save event statistics, save threshold output, compute detrended sst and use to identify MHW\n",
    "\n",
    "Explain dask -- uncomment dask lines (ex. Client()) to use dask backend. Not needed for small datasets, but should speed up processing."
   ]
  },
  {
   "cell_type": "markdown",
   "id": "432497ae-7c6d-40e2-935d-ffc30309b74d",
   "metadata": {},
   "source": [
    "**QUESTION** do we ever use the threshold information? Maybe it doesn't need to be saved (probably not for MUR/OSTIA, but maybe not for geopolar, either?)"
   ]
  },
  {
   "cell_type": "code",
   "execution_count": 1,
   "id": "c72e2985-e6a2-432a-84c4-2552287559d5",
   "metadata": {},
   "outputs": [],
   "source": [
    "import os\n",
    "import pickle\n",
    "from typing import Union\n",
    "import collections\n",
    "from pathlib import Path\n",
    "from datetime import datetime, date\n",
    "\n",
    "import xarray as xr\n",
    "import numpy as np\n",
    "from scipy import stats\n",
    "import pandas as pd\n",
    "import dask.array as da\n",
    "from dask.distributed import Client\n",
    "import marineHeatWaves as mhw"
   ]
  },
  {
   "cell_type": "code",
   "execution_count": 2,
   "id": "791ce888-3c7a-49ec-9d49-8b024289eab7",
   "metadata": {},
   "outputs": [],
   "source": [
    "REPO_ROOT = os.getenv('REPO_ROOT', '/Users/rwegener/repos/chesapeake_mhw')\n",
    "REPO_ROOT = Path(REPO_ROOT)"
   ]
  },
  {
   "cell_type": "code",
   "execution_count": 3,
   "id": "4ade3d62-008d-4993-8bbd-8d7d04e04691",
   "metadata": {},
   "outputs": [],
   "source": [
    "# Folder in which to store processed climatologies and thresholds\n",
    "OUTPUT_DIR = REPO_ROOT / 'data/02_interim'"
   ]
  },
  {
   "cell_type": "code",
   "execution_count": 11,
   "id": "5686680b-1fd2-450b-b1d8-01a428db9dad",
   "metadata": {},
   "outputs": [],
   "source": [
    "# dask.config.set({'temporary_directory':'/Users/rwegener/repos/'})\n",
    "\n",
    "client = Client(n_workers=4, memory_limit='2Gb', threads_per_worker=2)\n",
    "# client = Client()"
   ]
  },
  {
   "cell_type": "code",
   "execution_count": 12,
   "id": "5f636381-6b49-4c49-ba04-98af8642419e",
   "metadata": {},
   "outputs": [
    {
     "data": {
      "text/html": [
       "<div>\n",
       "    <div style=\"width: 24px; height: 24px; background-color: #e1e1e1; border: 3px solid #9D9D9D; border-radius: 5px; position: absolute;\"> </div>\n",
       "    <div style=\"margin-left: 48px;\">\n",
       "        <h3 style=\"margin-bottom: 0px;\">Client</h3>\n",
       "        <p style=\"color: #9D9D9D; margin-bottom: 0px;\">Client-89a8a618-1a3f-11f0-838a-acde48001122</p>\n",
       "        <table style=\"width: 100%; text-align: left;\">\n",
       "\n",
       "        <tr>\n",
       "        \n",
       "            <td style=\"text-align: left;\"><strong>Connection method:</strong> Cluster object</td>\n",
       "            <td style=\"text-align: left;\"><strong>Cluster type:</strong> distributed.LocalCluster</td>\n",
       "        \n",
       "        </tr>\n",
       "\n",
       "        \n",
       "            <tr>\n",
       "                <td style=\"text-align: left;\">\n",
       "                    <strong>Dashboard: </strong> <a href=\"http://127.0.0.1:8787/status\" target=\"_blank\">http://127.0.0.1:8787/status</a>\n",
       "                </td>\n",
       "                <td style=\"text-align: left;\"></td>\n",
       "            </tr>\n",
       "        \n",
       "\n",
       "        </table>\n",
       "\n",
       "        \n",
       "\n",
       "        \n",
       "            <details>\n",
       "            <summary style=\"margin-bottom: 20px;\"><h3 style=\"display: inline;\">Cluster Info</h3></summary>\n",
       "            <div class=\"jp-RenderedHTMLCommon jp-RenderedHTML jp-mod-trusted jp-OutputArea-output\">\n",
       "    <div style=\"width: 24px; height: 24px; background-color: #e1e1e1; border: 3px solid #9D9D9D; border-radius: 5px; position: absolute;\">\n",
       "    </div>\n",
       "    <div style=\"margin-left: 48px;\">\n",
       "        <h3 style=\"margin-bottom: 0px; margin-top: 0px;\">LocalCluster</h3>\n",
       "        <p style=\"color: #9D9D9D; margin-bottom: 0px;\">d1d2f689</p>\n",
       "        <table style=\"width: 100%; text-align: left;\">\n",
       "            <tr>\n",
       "                <td style=\"text-align: left;\">\n",
       "                    <strong>Dashboard:</strong> <a href=\"http://127.0.0.1:8787/status\" target=\"_blank\">http://127.0.0.1:8787/status</a>\n",
       "                </td>\n",
       "                <td style=\"text-align: left;\">\n",
       "                    <strong>Workers:</strong> 4\n",
       "                </td>\n",
       "            </tr>\n",
       "            <tr>\n",
       "                <td style=\"text-align: left;\">\n",
       "                    <strong>Total threads:</strong> 8\n",
       "                </td>\n",
       "                <td style=\"text-align: left;\">\n",
       "                    <strong>Total memory:</strong> 7.45 GiB\n",
       "                </td>\n",
       "            </tr>\n",
       "            \n",
       "            <tr>\n",
       "    <td style=\"text-align: left;\"><strong>Status:</strong> running</td>\n",
       "    <td style=\"text-align: left;\"><strong>Using processes:</strong> True</td>\n",
       "</tr>\n",
       "\n",
       "            \n",
       "        </table>\n",
       "\n",
       "        <details>\n",
       "            <summary style=\"margin-bottom: 20px;\">\n",
       "                <h3 style=\"display: inline;\">Scheduler Info</h3>\n",
       "            </summary>\n",
       "\n",
       "            <div style=\"\">\n",
       "    <div>\n",
       "        <div style=\"width: 24px; height: 24px; background-color: #FFF7E5; border: 3px solid #FF6132; border-radius: 5px; position: absolute;\"> </div>\n",
       "        <div style=\"margin-left: 48px;\">\n",
       "            <h3 style=\"margin-bottom: 0px;\">Scheduler</h3>\n",
       "            <p style=\"color: #9D9D9D; margin-bottom: 0px;\">Scheduler-7ef99a91-7db3-48c7-a7e0-1ca7535212b5</p>\n",
       "            <table style=\"width: 100%; text-align: left;\">\n",
       "                <tr>\n",
       "                    <td style=\"text-align: left;\">\n",
       "                        <strong>Comm:</strong> tcp://127.0.0.1:49669\n",
       "                    </td>\n",
       "                    <td style=\"text-align: left;\">\n",
       "                        <strong>Workers:</strong> 4\n",
       "                    </td>\n",
       "                </tr>\n",
       "                <tr>\n",
       "                    <td style=\"text-align: left;\">\n",
       "                        <strong>Dashboard:</strong> <a href=\"http://127.0.0.1:8787/status\" target=\"_blank\">http://127.0.0.1:8787/status</a>\n",
       "                    </td>\n",
       "                    <td style=\"text-align: left;\">\n",
       "                        <strong>Total threads:</strong> 8\n",
       "                    </td>\n",
       "                </tr>\n",
       "                <tr>\n",
       "                    <td style=\"text-align: left;\">\n",
       "                        <strong>Started:</strong> Just now\n",
       "                    </td>\n",
       "                    <td style=\"text-align: left;\">\n",
       "                        <strong>Total memory:</strong> 7.45 GiB\n",
       "                    </td>\n",
       "                </tr>\n",
       "            </table>\n",
       "        </div>\n",
       "    </div>\n",
       "\n",
       "    <details style=\"margin-left: 48px;\">\n",
       "        <summary style=\"margin-bottom: 20px;\">\n",
       "            <h3 style=\"display: inline;\">Workers</h3>\n",
       "        </summary>\n",
       "\n",
       "        \n",
       "        <div style=\"margin-bottom: 20px;\">\n",
       "            <div style=\"width: 24px; height: 24px; background-color: #DBF5FF; border: 3px solid #4CC9FF; border-radius: 5px; position: absolute;\"> </div>\n",
       "            <div style=\"margin-left: 48px;\">\n",
       "            <details>\n",
       "                <summary>\n",
       "                    <h4 style=\"margin-bottom: 0px; display: inline;\">Worker: 0</h4>\n",
       "                </summary>\n",
       "                <table style=\"width: 100%; text-align: left;\">\n",
       "                    <tr>\n",
       "                        <td style=\"text-align: left;\">\n",
       "                            <strong>Comm: </strong> tcp://127.0.0.1:49680\n",
       "                        </td>\n",
       "                        <td style=\"text-align: left;\">\n",
       "                            <strong>Total threads: </strong> 2\n",
       "                        </td>\n",
       "                    </tr>\n",
       "                    <tr>\n",
       "                        <td style=\"text-align: left;\">\n",
       "                            <strong>Dashboard: </strong> <a href=\"http://127.0.0.1:49683/status\" target=\"_blank\">http://127.0.0.1:49683/status</a>\n",
       "                        </td>\n",
       "                        <td style=\"text-align: left;\">\n",
       "                            <strong>Memory: </strong> 1.86 GiB\n",
       "                        </td>\n",
       "                    </tr>\n",
       "                    <tr>\n",
       "                        <td style=\"text-align: left;\">\n",
       "                            <strong>Nanny: </strong> tcp://127.0.0.1:49672\n",
       "                        </td>\n",
       "                        <td style=\"text-align: left;\"></td>\n",
       "                    </tr>\n",
       "                    <tr>\n",
       "                        <td colspan=\"2\" style=\"text-align: left;\">\n",
       "                            <strong>Local directory: </strong> /var/folders/nb/y7dp0ct55_58hrhrhlz5vbkm0000gn/T/dask-scratch-space/worker-690f4gz3\n",
       "                        </td>\n",
       "                    </tr>\n",
       "\n",
       "                    \n",
       "\n",
       "                    \n",
       "\n",
       "                </table>\n",
       "            </details>\n",
       "            </div>\n",
       "        </div>\n",
       "        \n",
       "        <div style=\"margin-bottom: 20px;\">\n",
       "            <div style=\"width: 24px; height: 24px; background-color: #DBF5FF; border: 3px solid #4CC9FF; border-radius: 5px; position: absolute;\"> </div>\n",
       "            <div style=\"margin-left: 48px;\">\n",
       "            <details>\n",
       "                <summary>\n",
       "                    <h4 style=\"margin-bottom: 0px; display: inline;\">Worker: 1</h4>\n",
       "                </summary>\n",
       "                <table style=\"width: 100%; text-align: left;\">\n",
       "                    <tr>\n",
       "                        <td style=\"text-align: left;\">\n",
       "                            <strong>Comm: </strong> tcp://127.0.0.1:49681\n",
       "                        </td>\n",
       "                        <td style=\"text-align: left;\">\n",
       "                            <strong>Total threads: </strong> 2\n",
       "                        </td>\n",
       "                    </tr>\n",
       "                    <tr>\n",
       "                        <td style=\"text-align: left;\">\n",
       "                            <strong>Dashboard: </strong> <a href=\"http://127.0.0.1:49685/status\" target=\"_blank\">http://127.0.0.1:49685/status</a>\n",
       "                        </td>\n",
       "                        <td style=\"text-align: left;\">\n",
       "                            <strong>Memory: </strong> 1.86 GiB\n",
       "                        </td>\n",
       "                    </tr>\n",
       "                    <tr>\n",
       "                        <td style=\"text-align: left;\">\n",
       "                            <strong>Nanny: </strong> tcp://127.0.0.1:49674\n",
       "                        </td>\n",
       "                        <td style=\"text-align: left;\"></td>\n",
       "                    </tr>\n",
       "                    <tr>\n",
       "                        <td colspan=\"2\" style=\"text-align: left;\">\n",
       "                            <strong>Local directory: </strong> /var/folders/nb/y7dp0ct55_58hrhrhlz5vbkm0000gn/T/dask-scratch-space/worker-fuuz4384\n",
       "                        </td>\n",
       "                    </tr>\n",
       "\n",
       "                    \n",
       "\n",
       "                    \n",
       "\n",
       "                </table>\n",
       "            </details>\n",
       "            </div>\n",
       "        </div>\n",
       "        \n",
       "        <div style=\"margin-bottom: 20px;\">\n",
       "            <div style=\"width: 24px; height: 24px; background-color: #DBF5FF; border: 3px solid #4CC9FF; border-radius: 5px; position: absolute;\"> </div>\n",
       "            <div style=\"margin-left: 48px;\">\n",
       "            <details>\n",
       "                <summary>\n",
       "                    <h4 style=\"margin-bottom: 0px; display: inline;\">Worker: 2</h4>\n",
       "                </summary>\n",
       "                <table style=\"width: 100%; text-align: left;\">\n",
       "                    <tr>\n",
       "                        <td style=\"text-align: left;\">\n",
       "                            <strong>Comm: </strong> tcp://127.0.0.1:49682\n",
       "                        </td>\n",
       "                        <td style=\"text-align: left;\">\n",
       "                            <strong>Total threads: </strong> 2\n",
       "                        </td>\n",
       "                    </tr>\n",
       "                    <tr>\n",
       "                        <td style=\"text-align: left;\">\n",
       "                            <strong>Dashboard: </strong> <a href=\"http://127.0.0.1:49688/status\" target=\"_blank\">http://127.0.0.1:49688/status</a>\n",
       "                        </td>\n",
       "                        <td style=\"text-align: left;\">\n",
       "                            <strong>Memory: </strong> 1.86 GiB\n",
       "                        </td>\n",
       "                    </tr>\n",
       "                    <tr>\n",
       "                        <td style=\"text-align: left;\">\n",
       "                            <strong>Nanny: </strong> tcp://127.0.0.1:49676\n",
       "                        </td>\n",
       "                        <td style=\"text-align: left;\"></td>\n",
       "                    </tr>\n",
       "                    <tr>\n",
       "                        <td colspan=\"2\" style=\"text-align: left;\">\n",
       "                            <strong>Local directory: </strong> /var/folders/nb/y7dp0ct55_58hrhrhlz5vbkm0000gn/T/dask-scratch-space/worker-od4sqp_g\n",
       "                        </td>\n",
       "                    </tr>\n",
       "\n",
       "                    \n",
       "\n",
       "                    \n",
       "\n",
       "                </table>\n",
       "            </details>\n",
       "            </div>\n",
       "        </div>\n",
       "        \n",
       "        <div style=\"margin-bottom: 20px;\">\n",
       "            <div style=\"width: 24px; height: 24px; background-color: #DBF5FF; border: 3px solid #4CC9FF; border-radius: 5px; position: absolute;\"> </div>\n",
       "            <div style=\"margin-left: 48px;\">\n",
       "            <details>\n",
       "                <summary>\n",
       "                    <h4 style=\"margin-bottom: 0px; display: inline;\">Worker: 3</h4>\n",
       "                </summary>\n",
       "                <table style=\"width: 100%; text-align: left;\">\n",
       "                    <tr>\n",
       "                        <td style=\"text-align: left;\">\n",
       "                            <strong>Comm: </strong> tcp://127.0.0.1:49687\n",
       "                        </td>\n",
       "                        <td style=\"text-align: left;\">\n",
       "                            <strong>Total threads: </strong> 2\n",
       "                        </td>\n",
       "                    </tr>\n",
       "                    <tr>\n",
       "                        <td style=\"text-align: left;\">\n",
       "                            <strong>Dashboard: </strong> <a href=\"http://127.0.0.1:49690/status\" target=\"_blank\">http://127.0.0.1:49690/status</a>\n",
       "                        </td>\n",
       "                        <td style=\"text-align: left;\">\n",
       "                            <strong>Memory: </strong> 1.86 GiB\n",
       "                        </td>\n",
       "                    </tr>\n",
       "                    <tr>\n",
       "                        <td style=\"text-align: left;\">\n",
       "                            <strong>Nanny: </strong> tcp://127.0.0.1:49678\n",
       "                        </td>\n",
       "                        <td style=\"text-align: left;\"></td>\n",
       "                    </tr>\n",
       "                    <tr>\n",
       "                        <td colspan=\"2\" style=\"text-align: left;\">\n",
       "                            <strong>Local directory: </strong> /var/folders/nb/y7dp0ct55_58hrhrhlz5vbkm0000gn/T/dask-scratch-space/worker-k4vybuc8\n",
       "                        </td>\n",
       "                    </tr>\n",
       "\n",
       "                    \n",
       "\n",
       "                    \n",
       "\n",
       "                </table>\n",
       "            </details>\n",
       "            </div>\n",
       "        </div>\n",
       "        \n",
       "\n",
       "    </details>\n",
       "</div>\n",
       "\n",
       "        </details>\n",
       "    </div>\n",
       "</div>\n",
       "            </details>\n",
       "        \n",
       "\n",
       "    </div>\n",
       "</div>"
      ],
      "text/plain": [
       "<Client: 'tcp://127.0.0.1:49669' processes=4 threads=8, memory=7.45 GiB>"
      ]
     },
     "execution_count": 12,
     "metadata": {},
     "output_type": "execute_result"
    }
   ],
   "source": [
    "client"
   ]
  },
  {
   "cell_type": "markdown",
   "id": "74dacff2-9e8e-4b41-85fa-1d64c3f6af43",
   "metadata": {},
   "source": [
    "### Helper functions\n",
    "\n",
    "The processing in these functions is repeated several times throughout the notebook. That code has been consolidated here and given descriptive names to make reading the notebook easier."
   ]
  },
  {
   "cell_type": "code",
   "execution_count": 13,
   "id": "55de9384-a0ac-49f4-ae80-4d4c32481a7c",
   "metadata": {},
   "outputs": [],
   "source": [
    "def format_time(time_np: collections.abc.Iterable[Union[datetime, str]]) -> np.ndarray[int]:\n",
    "    \"\"\"\n",
    "    This function converts a datetime string to an ordinal datetime. Ordinal dates\n",
    "    are required for processing in the marineHeatWaves library.\n",
    "    Args:\n",
    "        time_np: an array of datetime strings of the format %Y-%m-%dT%H:%M:%S.000000000\n",
    "\n",
    "    Returns:\n",
    "        an array of ordinal dates (ex. 2005156)\n",
    "    \"\"\"\n",
    "    time_dt_list = [datetime.strptime(str(time), '%Y-%m-%dT%H:%M:%S.000000000') \n",
    "                    for time in time_np]\n",
    "    return np.array([time.toordinal() for time in time_dt_list], dtype='int32')"
   ]
  },
  {
   "cell_type": "code",
   "execution_count": 14,
   "id": "c7539702-82e4-4cf3-86ce-7d221826c492",
   "metadata": {},
   "outputs": [],
   "source": [
    "def identify_marineheatwaves(sst_np: np.ndarray, time_ordinal: np.ndarray):\n",
    "    \"\"\"\n",
    "    This function uses the marineHeatWave package mhw.detect() and applies it\n",
    "    to all the pixels in a satellite data image. The output is numpy array of\n",
    "    the dictionaries that are returned from the mhw.detect() function.\n",
    "\n",
    "    Args:\n",
    "        sst_np: a 3D numpy array which gives SST values for a region. Axis 0 should\n",
    "        be the time axis\n",
    "        time_ordinal: a 1D numpy array which gives time values corresponding to\n",
    "        sst_np in ordinal format\n",
    "\n",
    "    Returns:\n",
    "        result: A list with two items containing 1) a numpy array with a dictionary\n",
    "        of marine heatwave statistics for each pixel and 2) a numpy array with the\n",
    "        climatological and threshold SST for each pixel\n",
    "    \"\"\"\n",
    "    sst_da = da.from_array(sst_np, chunks=(-1, 20, 20))\n",
    "    # time_da = da.from_array(sst_np, chunks=(-1, 20, 20))\n",
    "\n",
    "    # define a wrapper to rearrange arguments\n",
    "    def func1d(arr, time):\n",
    "        return mhw.detect(time, arr)\n",
    "    \n",
    "    def block_func(block, **kwargs):\n",
    "        return np.apply_along_axis(func1d, 0, block, **kwargs)\n",
    "    \n",
    "    result = sst_da.map_blocks(block_func, meta=sst_da, time=time_ordinal)\n",
    "    result = result.compute()\n",
    "    return result"
   ]
  },
  {
   "cell_type": "code",
   "execution_count": 15,
   "id": "e950cfa8-a0a0-4fc6-bc2d-926248715601",
   "metadata": {},
   "outputs": [],
   "source": [
    "def extract_numpy_outputs(result: np.ndarray, time_length: int):\n",
    "    \"\"\"\n",
    "    The output from mhw.detect() provides a dictionary which holds the\n",
    "    climatological and threshold values for each day of the year as 1D arrays.\n",
    "    This function reshapes the data from this format to a 3D numpy array of shape\n",
    "    (time, lat, lon) for both climatological and threshold values.\n",
    "\n",
    "    Args:\n",
    "        result: output from a marineHeatWaves mhw.detect() function\n",
    "        time_length: the number of time steps in the time series\n",
    "\n",
    "    Result:\n",
    "        two numpy arrays of shape (time, lat, lon), one containing the climatological\n",
    "        SST values and the other containing the threshold SST values\n",
    "    \"\"\"\n",
    "    # Create 2D empty output arrays\n",
    "    lat_length, lon_length = result[1].shape\n",
    "    climatology = np.empty((time_length, lat_length, lon_length))\n",
    "    threshold = np.empty((time_length, lat_length, lon_length))\n",
    "\n",
    "    for i in range(result[1].shape[0]):\n",
    "        for j in range(result[1].shape[1]):\n",
    "            climatology[:, i, j] = result[1, i, j]['seas']\n",
    "            threshold[:, i, j] = result[1, i, j]['thresh']\n",
    "\n",
    "    return climatology, threshold"
   ]
  },
  {
   "cell_type": "code",
   "execution_count": 9,
   "id": "9cfd68d4-8fda-4ab7-8f1a-4bc20f36255b",
   "metadata": {},
   "outputs": [],
   "source": [
    "def detrend_sst(sst_np: np.ndarray, time_ordinal: np.ndarray) -> np.ndarray:\n",
    "    \"\"\"\n",
    "    Given a 3D numpy array of SST values this function returns an SST array with\n",
    "    the long term warming signal. Long term warming is assumed to be linear.\n",
    "    \"\"\"\n",
    "    sst_da = da.from_array(sst_np, chunks=(-1, 20, 20))\n",
    "\n",
    "    # define a wrapper to rearrange arguments\n",
    "    def func1d(arr, time):\n",
    "        def mxplusb(x, m, b):\n",
    "            return m*x + b\n",
    "        \n",
    "        res = stats.linregress(time, arr)\n",
    "        starting_temp = mxplusb(time[0], res.slope, res.intercept)\n",
    "        return arr - mxplusb(time, res.slope, res.intercept) + starting_temp\n",
    "    \n",
    "    def block_func(block, **kwargs):\n",
    "        return np.apply_along_axis(func1d, 0, block, **kwargs)\n",
    "    \n",
    "    detrended_sst = sst_da.map_blocks(block_func, meta=sst_da, time=time_ordinal)\n",
    "    detrended_sst = detrended_sst.compute()\n",
    "    return detrended_sst"
   ]
  },
  {
   "cell_type": "markdown",
   "id": "f9d1eda1-a73d-421c-8bf4-7485becd0065",
   "metadata": {
    "jp-MarkdownHeadingCollapsed": true
   },
   "source": [
    "## Calculate Marine Heatwaves using `marineHeatWaves` Package: **Geo-Polar SST**"
   ]
  },
  {
   "cell_type": "markdown",
   "id": "8abcd346-ef85-470d-87b3-125a7adeb6c4",
   "metadata": {},
   "source": [
    "### Open Geo-Polar SST"
   ]
  },
  {
   "cell_type": "code",
   "execution_count": null,
   "id": "a9bb9a0b-6ef9-4c0d-abc3-7e79ca6b7ff1",
   "metadata": {},
   "outputs": [],
   "source": [
    "path = (\n",
    "    REPO_ROOT / 'data/01_raw' /\n",
    "    'L4_GHRSST-SSTfnd-Geo_Polar_Blended_Night-GLOB-v02.0-fv01.0_CBstem_20030101_20231231.nc'\n",
    ")\n",
    "geopolar = xr.open_dataset(path).analysed_sst"
   ]
  },
  {
   "cell_type": "code",
   "execution_count": null,
   "id": "cb198e6b-c303-42a6-b324-3a6df69108eb",
   "metadata": {},
   "outputs": [],
   "source": [
    "# convert kelvin to celsius & update metadata\n",
    "geopolar.values = geopolar.values - 273.15\n",
    "geopolar.attrs.update({\n",
    "    'units': 'celsius',\n",
    "})"
   ]
  },
  {
   "cell_type": "code",
   "execution_count": null,
   "id": "01f9050c-90e0-497b-8847-8c8bff87a118",
   "metadata": {},
   "outputs": [],
   "source": [
    "geopolar.isel(time=0).plot()"
   ]
  },
  {
   "cell_type": "markdown",
   "id": "fbec8b79-0f68-4533-a80f-93edadaa0d10",
   "metadata": {},
   "source": [
    "### Preprocessing"
   ]
  },
  {
   "cell_type": "code",
   "execution_count": null,
   "id": "df9a3428-433f-47ce-a901-a8371c8fa998",
   "metadata": {},
   "outputs": [],
   "source": [
    "# Convert datetimes to ordinal time format\n",
    "time_ordinal = format_time(geopolar.time.values)\n",
    "# Extract numpy array from xarray DataArray\n",
    "sst_np = geopolar.values"
   ]
  },
  {
   "cell_type": "markdown",
   "id": "93994228-e7dd-4bad-97c3-d200f265ceb2",
   "metadata": {},
   "source": [
    "### Identify marine heatwaves with `mhw.detect()` (Geo-Polar)"
   ]
  },
  {
   "cell_type": "markdown",
   "id": "456fd8fd-09c6-4ab6-8b4f-d365c5fde3c9",
   "metadata": {},
   "source": [
    "Identify marine heatwaves using the `mhw.detect()` function from the marineHeatWaves Python package. The marineHeatWaves package can only process one time series of temperature data at a time (ex. one pixel of data over a period of time). The `identify_marineheatwaves()` function here wraps `mhw.detect()` and applies it to all the pixels in a satellite image.\n",
    "\n",
    "`identify_marineheatwaves()` can take some time, depending on the size of the dataset. This step typically ran in ~4 minutes on my computer."
   ]
  },
  {
   "cell_type": "code",
   "execution_count": null,
   "id": "a150d5bf-f24b-4ff1-ba2f-d05b8d10473a",
   "metadata": {
    "tags": []
   },
   "outputs": [],
   "source": [
    "%%time\n",
    "\n",
    "result = identify_marineheatwaves(sst_np, time_ordinal)"
   ]
  },
  {
   "cell_type": "markdown",
   "id": "1d334799-da23-4033-8536-4284801aed34",
   "metadata": {},
   "source": [
    "The `mhw.detect()` function returns two sets things:\n",
    "1. (index 0) The MHW event statistics for all the events\n",
    "2. (index 1) A dictionary containing the climatology (`seas`), threshold (`thresh`) and missing (`missing`) values from the array\n",
    "These two things are axis 0 and 1, respectively, of the `res` array that gets returned from the `.compute()` above. Each of these two outputs is produced for every pixel location of the array.\n",
    "\n",
    "Below we split these two pieces into different datasets to save them."
   ]
  },
  {
   "cell_type": "code",
   "execution_count": null,
   "id": "62b1d003-f49c-477d-b242-5044ceffcd94",
   "metadata": {
    "tags": []
   },
   "outputs": [],
   "source": [
    "event_statistics = result[0]"
   ]
  },
  {
   "cell_type": "code",
   "execution_count": null,
   "id": "0e1ff7d2-a620-4d0c-8826-4e2382407a8b",
   "metadata": {},
   "outputs": [],
   "source": [
    "clim_np, thresh_np = extract_numpy_outputs(result, len(time_ordinal))"
   ]
  },
  {
   "cell_type": "markdown",
   "id": "2d4f41c7-d33a-4c21-a400-140004fb2ff8",
   "metadata": {},
   "source": [
    "Note that the output of this function is of the same length as time_ordinal. The daily climatological values are repeated multiple times to match length."
   ]
  },
  {
   "cell_type": "markdown",
   "id": "bdb4ec6b-3042-40d4-a0c4-8432f8930446",
   "metadata": {},
   "source": [
    "### Save Climatological average and 90th percentile threshold"
   ]
  },
  {
   "cell_type": "markdown",
   "id": "faae5f31-e03d-409a-b55c-7e7d95610868",
   "metadata": {},
   "source": [
    "Create an xarray DataArray for the climatology data using numpy output from the MHW calculation"
   ]
  },
  {
   "cell_type": "code",
   "execution_count": null,
   "id": "b2ecb390-0eb1-4386-8416-ad251b217bf7",
   "metadata": {
    "scrolled": true
   },
   "outputs": [],
   "source": [
    "# create xarray object from numpy output of mhw\n",
    "clim = xr.DataArray(clim_np, coords=geopolar.coords, dims=geopolar.dims)\n",
    "\n",
    "# rename variables\n",
    "clim = clim.rename('climatology')\n",
    "\n",
    "# add array attributes\n",
    "clim.attrs['comment'] = 'climatology computed using the marineHeatWave package. ' \\\n",
    "    'Uses all defaults from .detect() function - 5 day window half width, 31 day smoothing' \\\n",
    "\n",
    "clim.attrs['source_dataset'] = 'NOAA Geopolar'\n",
    "clim.attrs['units'] = 'celsius'\n",
    "clim.attrs['processing_date'] = datetime.strftime(date.today(), '%Y-%m-%d')\n",
    "clim.rio.write_crs(4326, inplace=True)"
   ]
  },
  {
   "cell_type": "code",
   "execution_count": null,
   "id": "d6cadf85-2e31-4141-81b9-689006a22fe6",
   "metadata": {},
   "outputs": [],
   "source": [
    "clim.to_dataset().to_netcdf(OUTPUT_DIR / 'geopolar_climatology_chesapeakestem.nc')"
   ]
  },
  {
   "cell_type": "markdown",
   "id": "f57cc761-c1c9-4275-a90a-d777e61204c4",
   "metadata": {},
   "source": [
    "Create an xarray DataArray for the threshold data using numpy output from the MHW calculation"
   ]
  },
  {
   "cell_type": "code",
   "execution_count": null,
   "id": "735e05ce-05d6-43a1-b6cc-c4fb717d258f",
   "metadata": {},
   "outputs": [],
   "source": [
    "thresh = xr.DataArray(thresh_np, coords=geopolar.coords, dims=geopolar.dims)\n",
    "\n",
    "# rename variables\n",
    "thresh = thresh.rename('threshold')\n",
    "\n",
    "# add array attributes\n",
    "thresh.attrs['comment'] = '90th percentile treshold values computed using the ' \\\n",
    "    'marineHeatWave package. Uses all defaults from .detect() function - 5 day window' \\\n",
    "    ' half width, 31 day smoothing'\n",
    "thresh.attrs['source_dataset'] = 'NOAA Geopolar'\n",
    "thresh.attrs['units'] = 'celsius'\n",
    "thresh.attrs['processing_date'] = datetime.strftime(date.today(), '%Y-%m-%d')\n",
    "thresh.rio.write_crs(4326, inplace=True)"
   ]
  },
  {
   "cell_type": "code",
   "execution_count": null,
   "id": "37173569-8d50-49a2-a90b-5f0ccc03c88d",
   "metadata": {},
   "outputs": [],
   "source": [
    "thresh.to_dataset().to_netcdf(OUTPUT_DIR / 'geopolar_threshold_chesapeakestem.nc')"
   ]
  },
  {
   "cell_type": "markdown",
   "id": "3b3bb89b-e2da-4117-a285-f729b4e6c57a",
   "metadata": {},
   "source": [
    "### Save the event statistics as a byte stream (pickle) for later processing"
   ]
  },
  {
   "cell_type": "code",
   "execution_count": null,
   "id": "36debd27-9dc4-480f-b122-23a880def878",
   "metadata": {},
   "outputs": [],
   "source": [
    "with open(OUTPUT_DIR / 'mhw_eventstats_stem_dict.pickle', 'wb') as handle:\n",
    "    pickle.dump(event_statistics, handle, protocol=pickle.HIGHEST_PROTOCOL)"
   ]
  },
  {
   "cell_type": "markdown",
   "id": "30455671-c140-43b0-9121-159e03291144",
   "metadata": {
    "jp-MarkdownHeadingCollapsed": true
   },
   "source": [
    "## Calculate Marine Heatwaves using `marineHeatWaves` Package: **Linearly Detrended Geo-Polar SST**"
   ]
  },
  {
   "cell_type": "markdown",
   "id": "6f884e91-9d3d-4424-aa77-c726c025c8b2",
   "metadata": {},
   "source": [
    "### Open Geo-Polar SST"
   ]
  },
  {
   "cell_type": "code",
   "execution_count": null,
   "id": "6807f3d1-3bdc-484e-8559-92b0353bea5b",
   "metadata": {},
   "outputs": [],
   "source": [
    "path = (\n",
    "    REPO_ROOT / 'data/01_raw' /\n",
    "    'L4_GHRSST-SSTfnd-Geo_Polar_Blended_Night-GLOB-v02.0-fv01.0_CBstem_20030101_20231231.nc'\n",
    ")\n",
    "geopolar = xr.open_dataset(path).analysed_sst"
   ]
  },
  {
   "cell_type": "code",
   "execution_count": null,
   "id": "e13f9588-34ae-41e8-9a2d-0f52d1fd92ed",
   "metadata": {},
   "outputs": [],
   "source": [
    "# convert kelvin to celsius & update metadata\n",
    "geopolar.values = geopolar.values - 273.15\n",
    "geopolar.attrs.update({\n",
    "    'units': 'celsius', \n",
    "    'valid_min': geopolar.attrs['valid_min'] - 273.15,\n",
    "    'valid_max': geopolar.attrs['valid_max'] - 273.15,\n",
    "})"
   ]
  },
  {
   "cell_type": "code",
   "execution_count": null,
   "id": "f1991d57-ae94-4c69-92c5-e5e8d867a07e",
   "metadata": {},
   "outputs": [],
   "source": [
    "geopolar.isel(time=0).plot()"
   ]
  },
  {
   "cell_type": "markdown",
   "id": "79885c17-0056-4b4f-8b25-bc9f5a4e9daf",
   "metadata": {},
   "source": [
    "### Preprocessing"
   ]
  },
  {
   "cell_type": "code",
   "execution_count": null,
   "id": "bb2854d3-4c6a-461c-9e3f-316d53f65b4b",
   "metadata": {},
   "outputs": [],
   "source": [
    "# Convert datetimes to ordinal time format\n",
    "time_ordinal = format_time(geopolar.time.values)\n",
    "# Extract numpy array from xarray DataArray\n",
    "sst_np = geopolar.values"
   ]
  },
  {
   "cell_type": "markdown",
   "id": "1ed2f17e-865a-4708-834c-325be748bd67",
   "metadata": {},
   "source": [
    "Remove long term temperature change from the SST record"
   ]
  },
  {
   "cell_type": "code",
   "execution_count": null,
   "id": "d4ab4bc0-9c62-4cbd-93b5-a77324873788",
   "metadata": {
    "scrolled": true
   },
   "outputs": [],
   "source": [
    "%%time\n",
    "\n",
    "detrended_sst_np = detrend_sst(sst_np, time_ordinal)"
   ]
  },
  {
   "cell_type": "code",
   "execution_count": null,
   "id": "a52f78f4-eb9b-40c1-bb29-f0d01639fc65",
   "metadata": {},
   "outputs": [],
   "source": [
    "detrended_sst_np.shape"
   ]
  },
  {
   "cell_type": "markdown",
   "id": "95177ce2-6ebc-4c72-b033-85c2ae6fead7",
   "metadata": {},
   "source": [
    "### Identify marine heatwaves with `mhw.detect()` (Linearly detrended Geo-Polar)"
   ]
  },
  {
   "cell_type": "markdown",
   "id": "bee33025-ecce-4df2-a92d-a0545cc3a999",
   "metadata": {},
   "source": [
    "Identify marine heatwaves using the `mhw.detect()` function from the marineHeatWaves Python package. The marineHeatWaves package can only process one time series of temperature data at a time (ex. one pixel of data over a period of time). The `identify_marineheatwaves()` function here wraps `mhw.detect()` and applies it to all the pixels in a satellite image.\n",
    "\n",
    "`identify_marineheatwaves()` can take some time, depending on the size of the dataset. This step typically ran in ~3 minutes on my computer."
   ]
  },
  {
   "cell_type": "code",
   "execution_count": null,
   "id": "db59fcef-9ad6-43fd-885a-6ce41505807c",
   "metadata": {
    "tags": []
   },
   "outputs": [],
   "source": [
    "%%time\n",
    "\n",
    "result = identify_marineheatwaves(detrended_sst_np, time_ordinal)"
   ]
  },
  {
   "cell_type": "markdown",
   "id": "11e57052-0e6e-4f54-be89-85bd7949aeb7",
   "metadata": {},
   "source": [
    "The `mhw.detect()` function returns two sets things:\n",
    "1. (index 0) The MHW event statistics for all the events\n",
    "2. (index 1) A dictionary containing the climatology (`seas`), threshold (`thresh`) and missing (`missing`) values from the array\n",
    "These two things are axis 0 and 1, respectively, of the `res` array that gets returned from the `.compute()` above. Each of these two outputs is produced for every pixel location of the array.\n",
    "\n",
    "Below we split these two pieces into different datasets to save them."
   ]
  },
  {
   "cell_type": "code",
   "execution_count": null,
   "id": "c016c7bb-a09d-4e71-8a4b-d16aa304cbd3",
   "metadata": {
    "tags": []
   },
   "outputs": [],
   "source": [
    "event_statistics = result[0]"
   ]
  },
  {
   "cell_type": "code",
   "execution_count": null,
   "id": "8252bc9b-182b-414e-8173-24b5083cd4c4",
   "metadata": {},
   "outputs": [],
   "source": [
    "clim_np, _ = extract_numpy_outputs(result, len(time_ordinal))"
   ]
  },
  {
   "cell_type": "markdown",
   "id": "0f835c36-39e9-453c-b31e-40c5a4be237b",
   "metadata": {},
   "source": [
    "Note that the output of this function is of the same length as time_ordinal. The daily climatological values are repeated multiple times to match length."
   ]
  },
  {
   "cell_type": "markdown",
   "id": "1818098a-f118-4f12-aa7d-1d4d1ec5b1bf",
   "metadata": {},
   "source": [
    "### Save Climatological average and 90th percentile threshold"
   ]
  },
  {
   "cell_type": "markdown",
   "id": "21d266a5-643d-45a0-92a1-b7df642aa0c7",
   "metadata": {},
   "source": [
    "Create an xarray DataArray for the climatology data using numpy output from the MHW calculation"
   ]
  },
  {
   "cell_type": "code",
   "execution_count": null,
   "id": "cc7cb641-1c1b-444c-9edf-e2bfe20d9b99",
   "metadata": {},
   "outputs": [],
   "source": [
    "# create xarray objects from numpy output of mhw\n",
    "clim = xr.DataArray(clim_np, coords = geopolar.coords, dims=geopolar.dims)\n",
    "\n",
    "# rename variables\n",
    "clim = clim.rename('climatology')\n",
    "\n",
    "# add array attributes\n",
    "clim.attrs['comment'] = 'climatology computed using the marineHeatWave package. ' \\\n",
    "    'Uses all defaults from .detect() function - 5 day window half width, 31 day smoothing.' \\\n",
    "    'Input SST was linearly detrended to remove long term warming.'\n",
    "\n",
    "clim.attrs['source_dataset'] = 'NOAA Geopolar'\n",
    "clim.attrs['units'] = 'celsius'\n",
    "clim.attrs['processing_date'] = datetime.strftime(date.today(), '%Y-%m-%d')\n",
    "clim.rio.write_crs(4326, inplace=True)"
   ]
  },
  {
   "cell_type": "code",
   "execution_count": null,
   "id": "1fe173ee-f153-498c-be4e-423b08b7d30a",
   "metadata": {},
   "outputs": [],
   "source": [
    "clim.to_dataset().to_netcdf(OUTPUT_DIR / 'geopolar_climatology_chesapeakestem_detrended.nc')"
   ]
  },
  {
   "cell_type": "markdown",
   "id": "30e07858-cc4b-4e44-bef3-51dd5eb02abc",
   "metadata": {},
   "source": [
    "### Save the event statistics as a byte stream (pickle) for later processing"
   ]
  },
  {
   "cell_type": "code",
   "execution_count": null,
   "id": "4124a7dc-7977-4339-a864-c4b82536e44d",
   "metadata": {},
   "outputs": [],
   "source": [
    "with open(OUTPUT_DIR / 'mhw_eventstats_stem_dict_detrended.pickle', 'wb') as handle:\n",
    "    pickle.dump(event_statistics, handle, protocol=pickle.HIGHEST_PROTOCOL)"
   ]
  },
  {
   "cell_type": "markdown",
   "id": "65f1fd7f-e33f-4843-9bd1-04dcd4ab180c",
   "metadata": {},
   "source": [
    "## Calculate Marine Heatwaves using `marineHeatWaves` Package: **MUR SST**"
   ]
  },
  {
   "cell_type": "markdown",
   "id": "14fb8ea0-dae5-496b-acd7-e4d442e34825",
   "metadata": {},
   "source": [
    "### Open MUR SST"
   ]
  },
  {
   "cell_type": "code",
   "execution_count": 16,
   "id": "08d9e7fe-0256-402d-9d87-641816762d33",
   "metadata": {},
   "outputs": [],
   "source": [
    "path = (\n",
    "    REPO_ROOT / 'data/01_raw' / \n",
    "    'MUR-JPL-L4_GHRSST-SSTfnd-GLOB-v02.0-fv04.1-CBstem_20030101_20231231.nc'\n",
    ")\n",
    "mur = xr.open_dataset(path).analysed_sst"
   ]
  },
  {
   "cell_type": "code",
   "execution_count": 17,
   "id": "73bb98d1-f29c-4ec3-b3b6-551969256ada",
   "metadata": {},
   "outputs": [],
   "source": [
    "# convert kelvin to celsius & update metadata\n",
    "mur.values = mur.values - 273.15\n",
    "mur.attrs.update({\n",
    "    'units': 'celsius', \n",
    "})"
   ]
  },
  {
   "cell_type": "code",
   "execution_count": 12,
   "id": "df09fa7b-1c6f-459d-a445-c853656c352f",
   "metadata": {},
   "outputs": [
    {
     "data": {
      "text/plain": [
       "<matplotlib.collections.QuadMesh at 0x167a13950>"
      ]
     },
     "execution_count": 12,
     "metadata": {},
     "output_type": "execute_result"
    },
    {
     "data": {
      "image/png": "[encoded data removed]",
      "text/plain": [
       "<Figure size 640x480 with 2 Axes>"
      ]
     },
     "metadata": {},
     "output_type": "display_data"
    }
   ],
   "source": [
    "mur.isel(time=0).plot()"
   ]
  },
  {
   "cell_type": "markdown",
   "id": "df736b9a-754c-4d71-bd27-1aa3e50bd6d7",
   "metadata": {},
   "source": [
    "### Preprocessing"
   ]
  },
  {
   "cell_type": "code",
   "execution_count": 18,
   "id": "82eddfef-146f-4b07-a939-7e9d566a567a",
   "metadata": {},
   "outputs": [],
   "source": [
    "# Convert datetimes to ordinal time format\n",
    "time_ordinal = format_time(mur.time.values)\n",
    "# Extract numpy array from xarray DataArray\n",
    "sst_np = mur.values.astype('float16')"
   ]
  },
  {
   "cell_type": "markdown",
   "id": "cbabf6b1-d0be-4743-a92c-80031722cb08",
   "metadata": {},
   "source": [
    "### Identify marine heatwaves with `mhw.detect()` (MUR)\n",
    "\n",
    "Identify marine heatwaves using the `mhw.detect()` function from the marineHeatWaves Python package. The marineHeatWaves package can only process one time series of temperature data at a time (ex. one pixel of data over a period of time). The `identify_marineheatwaves()` function here wraps `mhw.detect()` and applies it to all the pixels in a satellite image\n",
    "\n",
    "`identify_marineheatwaves()` can take some time, depending on the size of the dataset. This step typically ran in 80 minutes on my computer."
   ]
  },
  {
   "cell_type": "code",
   "execution_count": null,
   "id": "cf5da82f-1152-4156-b796-29998cfe4260",
   "metadata": {
    "scrolled": true
   },
   "outputs": [
    {
     "name": "stderr",
     "output_type": "stream",
     "text": [
      "/Users/rwegener/miniconda3/envs/chesapeake_mhw/lib/python3.11/site-packages/distributed/client.py:3163: UserWarning: Sending large graph of size 0.94 GiB.\n",
      "This may cause some slowdown.\n",
      "Consider scattering data ahead of time and using futures.\n",
      "  warnings.warn(\n",
      "/Users/rwegener/repos/chesapeake_mhw/notebooks/01_intermediate_processing/marineHeatWaves.py:281: RuntimeWarning: Mean of empty slice\n",
      "  seas_climYear[d-1] = np.nanmean(tempClim[tt.astype(int)])\n",
      "/Users/rwegener/repos/chesapeake_mhw/notebooks/01_intermediate_processing/marineHeatWaves.py:281: RuntimeWarning: Mean of empty slice\n",
      "  seas_climYear[d-1] = np.nanmean(tempClim[tt.astype(int)])\n",
      "/Users/rwegener/miniconda3/envs/chesapeake_mhw/lib/python3.11/site-packages/numpy/lib/nanfunctions.py:1556: RuntimeWarning: All-NaN slice encountered\n",
      "  return function_base._ureduce(a,\n",
      "/Users/rwegener/miniconda3/envs/chesapeake_mhw/lib/python3.11/site-packages/numpy/lib/nanfunctions.py:1556: RuntimeWarning: All-NaN slice encountered\n",
      "  return function_base._ureduce(a,\n",
      "/Users/rwegener/repos/chesapeake_mhw/notebooks/01_intermediate_processing/marineHeatWaves.py:281: RuntimeWarning: Mean of empty slice\n",
      "  seas_climYear[d-1] = np.nanmean(tempClim[tt.astype(int)])\n",
      "/Users/rwegener/miniconda3/envs/chesapeake_mhw/lib/python3.11/site-packages/numpy/lib/nanfunctions.py:1556: RuntimeWarning: All-NaN slice encountered\n",
      "  return function_base._ureduce(a,\n",
      "/Users/rwegener/miniconda3/envs/chesapeake_mhw/lib/python3.11/site-packages/numpy/lib/nanfunctions.py:1556: RuntimeWarning: All-NaN slice encountered\n",
      "  return function_base._ureduce(a,\n",
      "/Users/rwegener/repos/chesapeake_mhw/notebooks/01_intermediate_processing/marineHeatWaves.py:281: RuntimeWarning: Mean of empty slice\n",
      "  seas_climYear[d-1] = np.nanmean(tempClim[tt.astype(int)])\n",
      "2025-04-15 18:56:14,448 - distributed.worker - ERROR - failed during get data with tcp://127.0.0.1:49687 -> None\n",
      "Traceback (most recent call last):\n",
      "  File \"/Users/rwegener/miniconda3/envs/chesapeake_mhw/lib/python3.11/site-packages/tornado/iostream.py\", line 973, in _handle_write\n",
      "    num_bytes = self.write_to_fd(self._write_buffer.peek(size))\n",
      "                ^^^^^^^^^^^^^^^^^^^^^^^^^^^^^^^^^^^^^^^^^^^^^^^\n",
      "  File \"/Users/rwegener/miniconda3/envs/chesapeake_mhw/lib/python3.11/site-packages/tornado/iostream.py\", line 1146, in write_to_fd\n",
      "    return self.socket.send(data)  # type: ignore\n",
      "           ^^^^^^^^^^^^^^^^^^^^^^\n",
      "ConnectionResetError: [Errno 54] Connection reset by peer\n",
      "\n",
      "The above exception was the direct cause of the following exception:\n",
      "\n",
      "Traceback (most recent call last):\n",
      "  File \"/Users/rwegener/miniconda3/envs/chesapeake_mhw/lib/python3.11/site-packages/distributed/worker.py\", line 1783, in get_data\n",
      "    response = await comm.read(deserializers=serializers)\n",
      "               ^^^^^^^^^^^^^^^^^^^^^^^^^^^^^^^^^^^^^^^^^^\n",
      "  File \"/Users/rwegener/miniconda3/envs/chesapeake_mhw/lib/python3.11/site-packages/distributed/comm/tcp.py\", line 237, in read\n",
      "    convert_stream_closed_error(self, e)\n",
      "  File \"/Users/rwegener/miniconda3/envs/chesapeake_mhw/lib/python3.11/site-packages/distributed/comm/tcp.py\", line 140, in convert_stream_closed_error\n",
      "    raise CommClosedError(f\"in {obj}: {exc.__class__.__name__}: {exc}\") from exc\n",
      "distributed.comm.core.CommClosedError: in <TCP (closed)  local=tcp://127.0.0.1:49687 remote=tcp://127.0.0.1:49752>: ConnectionResetError: [Errno 54] Connection reset by peer\n",
      "2025-04-15 18:56:14,583 - distributed.worker - ERROR - failed during get data with tcp://127.0.0.1:49682 -> None\n",
      "Traceback (most recent call last):\n",
      "  File \"/Users/rwegener/miniconda3/envs/chesapeake_mhw/lib/python3.11/site-packages/tornado/iostream.py\", line 973, in _handle_write\n",
      "    num_bytes = self.write_to_fd(self._write_buffer.peek(size))\n",
      "                ^^^^^^^^^^^^^^^^^^^^^^^^^^^^^^^^^^^^^^^^^^^^^^^\n",
      "  File \"/Users/rwegener/miniconda3/envs/chesapeake_mhw/lib/python3.11/site-packages/tornado/iostream.py\", line 1146, in write_to_fd\n",
      "    return self.socket.send(data)  # type: ignore\n",
      "           ^^^^^^^^^^^^^^^^^^^^^^\n",
      "ConnectionResetError: [Errno 54] Connection reset by peer\n",
      "\n",
      "The above exception was the direct cause of the following exception:\n",
      "\n",
      "Traceback (most recent call last):\n",
      "  File \"/Users/rwegener/miniconda3/envs/chesapeake_mhw/lib/python3.11/site-packages/distributed/worker.py\", line 1783, in get_data\n",
      "    response = await comm.read(deserializers=serializers)\n",
      "               ^^^^^^^^^^^^^^^^^^^^^^^^^^^^^^^^^^^^^^^^^^\n",
      "  File \"/Users/rwegener/miniconda3/envs/chesapeake_mhw/lib/python3.11/site-packages/distributed/comm/tcp.py\", line 237, in read\n",
      "    convert_stream_closed_error(self, e)\n",
      "  File \"/Users/rwegener/miniconda3/envs/chesapeake_mhw/lib/python3.11/site-packages/distributed/comm/tcp.py\", line 140, in convert_stream_closed_error\n",
      "    raise CommClosedError(f\"in {obj}: {exc.__class__.__name__}: {exc}\") from exc\n",
      "distributed.comm.core.CommClosedError: in <TCP (closed)  local=tcp://127.0.0.1:49682 remote=tcp://127.0.0.1:49751>: ConnectionResetError: [Errno 54] Connection reset by peer\n",
      "2025-04-15 18:56:14,786 - distributed.worker.memory - WARNING - Worker is at 84% memory usage. Pausing worker.  Process memory: 1.57 GiB -- Worker memory limit: 1.86 GiB\n",
      "2025-04-15 18:56:15,303 - distributed.worker.memory - WARNING - Worker is at 68% memory usage. Resuming worker. Process memory: 1.28 GiB -- Worker memory limit: 1.86 GiB\n",
      "2025-04-15 18:56:15,587 - distributed.scheduler - ERROR - Couldn't gather keys: {('block_func-cd87e1af050cc5fe8a76a7dbd344defa', 0, 9, 8): 'memory', ('block_func-cd87e1af050cc5fe8a76a7dbd344defa', 0, 10, 7): 'memory', ('block_func-cd87e1af050cc5fe8a76a7dbd344defa', 0, 1, 4): 'memory', ('block_func-cd87e1af050cc5fe8a76a7dbd344defa', 0, 3, 1): 'memory', ('block_func-cd87e1af050cc5fe8a76a7dbd344defa', 0, 14, 7): 'memory', ('block_func-cd87e1af050cc5fe8a76a7dbd344defa', 0, 16, 4): 'memory', ('block_func-cd87e1af050cc5fe8a76a7dbd344defa', 0, 5, 4): 'memory', ('block_func-cd87e1af050cc5fe8a76a7dbd344defa', 0, 6, 3): 'memory', ('block_func-cd87e1af050cc5fe8a76a7dbd344defa', 0, 8, 0): 'memory', ('block_func-cd87e1af050cc5fe8a76a7dbd344defa', 0, 7, 1): 'memory', ('block_func-cd87e1af050cc5fe8a76a7dbd344defa', 0, 7, 10): 'memory', ('block_func-cd87e1af050cc5fe8a76a7dbd344defa', 0, 8, 9): 'memory', ('block_func-cd87e1af050cc5fe8a76a7dbd344defa', 0, 12, 0): 'memory', ('block_func-cd87e1af050cc5fe8a76a7dbd344defa', 0, 12, 9): 'memory', ('block_func-cd87e1af050cc5fe8a76a7dbd344defa', 0, 4, 5): 'memory', ('block_func-cd87e1af050cc5fe8a76a7dbd344defa', 0, 9, 1): 'memory', ('block_func-cd87e1af050cc5fe8a76a7dbd344defa', 0, 10, 0): 'memory', ('block_func-cd87e1af050cc5fe8a76a7dbd344defa', 0, 10, 9): 'memory', ('block_func-cd87e1af050cc5fe8a76a7dbd344defa', 0, 1, 6): 'memory', ('block_func-cd87e1af050cc5fe8a76a7dbd344defa', 0, 14, 0): 'memory', ('block_func-cd87e1af050cc5fe8a76a7dbd344defa', 0, 14, 9): 'memory', ('block_func-cd87e1af050cc5fe8a76a7dbd344defa', 0, 16, 6): 'memory', ('block_func-cd87e1af050cc5fe8a76a7dbd344defa', 0, 15, 8): 'memory', ('block_func-cd87e1af050cc5fe8a76a7dbd344defa', 0, 6, 5): 'memory', ('block_func-cd87e1af050cc5fe8a76a7dbd344defa', 0, 8, 2): 'memory', ('block_func-cd87e1af050cc5fe8a76a7dbd344defa', 0, 11, 1): 'memory', ('block_func-cd87e1af050cc5fe8a76a7dbd344defa', 0, 7, 3): 'memory', ('block_func-cd87e1af050cc5fe8a76a7dbd344defa', 0, 5, 6): 'memory', ('block_func-cd87e1af050cc5fe8a76a7dbd344defa', 0, 12, 2): 'memory', ('block_func-cd87e1af050cc5fe8a76a7dbd344defa', 0, 2, 10): 'memory', ('block_func-cd87e1af050cc5fe8a76a7dbd344defa', 0, 13, 10): 'memory', ('block_func-cd87e1af050cc5fe8a76a7dbd344defa', 0, 4, 7): 'memory', ('block_func-cd87e1af050cc5fe8a76a7dbd344defa', 0, 9, 3): 'memory', ('block_func-cd87e1af050cc5fe8a76a7dbd344defa', 0, 10, 2): 'memory', ('block_func-cd87e1af050cc5fe8a76a7dbd344defa', 0, 14, 2): 'memory', ('block_func-cd87e1af050cc5fe8a76a7dbd344defa', 0, 15, 1): 'memory', ('block_func-cd87e1af050cc5fe8a76a7dbd344defa', 0, 16, 8): 'memory', ('block_func-cd87e1af050cc5fe8a76a7dbd344defa', 0, 15, 10): 'memory', ('block_func-cd87e1af050cc5fe8a76a7dbd344defa', 0, 6, 7): 'memory', ('block_func-cd87e1af050cc5fe8a76a7dbd344defa', 0, 5, 8): 'memory', ('block_func-cd87e1af050cc5fe8a76a7dbd344defa', 0, 7, 5): 'memory', ('block_func-cd87e1af050cc5fe8a76a7dbd344defa', 0, 8, 4): 'memory', ('block_func-cd87e1af050cc5fe8a76a7dbd344defa', 0, 12, 4): 'memory', ('block_func-cd87e1af050cc5fe8a76a7dbd344defa', 0, 2, 3): 'memory', ('block_func-cd87e1af050cc5fe8a76a7dbd344defa', 0, 4, 0): 'memory', ('block_func-cd87e1af050cc5fe8a76a7dbd344defa', 0, 13, 3): 'memory', ('block_func-cd87e1af050cc5fe8a76a7dbd344defa', 0, 4, 9): 'memory', ('block_func-cd87e1af050cc5fe8a76a7dbd344defa', 0, 10, 4): 'memory', ('block_func-cd87e1af050cc5fe8a76a7dbd344defa', 0, 1, 1): 'memory', ('block_func-cd87e1af050cc5fe8a76a7dbd344defa', 0, 0, 5): 'memory', ('block_func-cd87e1af050cc5fe8a76a7dbd344defa', 0, 14, 4): 'memory', ('block_func-cd87e1af050cc5fe8a76a7dbd344defa', 0, 16, 1): 'memory', ('block_func-cd87e1af050cc5fe8a76a7dbd344defa', 0, 5, 1): 'memory', ('block_func-cd87e1af050cc5fe8a76a7dbd344defa', 0, 15, 3): 'memory', ('block_func-cd87e1af050cc5fe8a76a7dbd344defa', 0, 6, 0): 'memory', ('block_func-cd87e1af050cc5fe8a76a7dbd344defa', 0, 5, 10): 'memory', ('block_func-cd87e1af050cc5fe8a76a7dbd344defa', 0, 16, 10): 'memory', ('block_func-cd87e1af050cc5fe8a76a7dbd344defa', 0, 6, 9): 'memory', ('block_func-cd87e1af050cc5fe8a76a7dbd344defa', 0, 8, 6): 'memory', ('block_func-cd87e1af050cc5fe8a76a7dbd344defa', 0, 3, 10): 'memory', ('block_func-cd87e1af050cc5fe8a76a7dbd344defa', 0, 12, 6): 'memory', ('block_func-cd87e1af050cc5fe8a76a7dbd344defa', 0, 11, 8): 'memory', ('block_func-cd87e1af050cc5fe8a76a7dbd344defa', 0, 13, 5): 'memory', ('block_func-cd87e1af050cc5fe8a76a7dbd344defa', 0, 2, 5): 'memory', ('block_func-cd87e1af050cc5fe8a76a7dbd344defa', 0, 4, 2): 'memory', ('block_func-cd87e1af050cc5fe8a76a7dbd344defa', 0, 10, 6): 'memory', ('block_func-cd87e1af050cc5fe8a76a7dbd344defa', 0, 9, 10): 'memory', ('block_func-cd87e1af050cc5fe8a76a7dbd344defa', 0, 0, 7): 'memory', ('block_func-cd87e1af050cc5fe8a76a7dbd344defa', 0, 14, 6): 'memory', ('block_func-cd87e1af050cc5fe8a76a7dbd344defa', 0, 5, 3): 'memory', ('block_func-cd87e1af050cc5fe8a76a7dbd344defa', 0, 3, 3): 'memory', ('block_func-cd87e1af050cc5fe8a76a7dbd344defa', 0, 6, 2): 'memory', ('block_func-cd87e1af050cc5fe8a76a7dbd344defa', 0, 16, 3): 'memory', ('block_func-cd87e1af050cc5fe8a76a7dbd344defa', 0, 15, 5): 'memory', ('block_func-cd87e1af050cc5fe8a76a7dbd344defa', 0, 8, 8): 'memory', ('block_func-cd87e1af050cc5fe8a76a7dbd344defa', 0, 12, 8): 'memory', ('block_func-cd87e1af050cc5fe8a76a7dbd344defa', 0, 11, 10): 'memory', ('block_func-cd87e1af050cc5fe8a76a7dbd344defa', 0, 2, 7): 'memory', ('block_func-cd87e1af050cc5fe8a76a7dbd344defa', 0, 13, 7): 'memory', ('block_func-cd87e1af050cc5fe8a76a7dbd344defa', 0, 4, 4): 'memory', ('block_func-cd87e1af050cc5fe8a76a7dbd344defa', 0, 0, 0): 'memory', ('block_func-cd87e1af050cc5fe8a76a7dbd344defa', 0, 0, 9): 'memory', ('block_func-cd87e1af050cc5fe8a76a7dbd344defa', 0, 14, 8): 'memory', ('block_func-cd87e1af050cc5fe8a76a7dbd344defa', 0, 1, 8): 'memory', ('block_func-cd87e1af050cc5fe8a76a7dbd344defa', 0, 15, 7): 'memory', ('block_func-cd87e1af050cc5fe8a76a7dbd344defa', 0, 6, 4): 'memory', ('block_func-cd87e1af050cc5fe8a76a7dbd344defa', 0, 8, 1): 'memory', ('block_func-cd87e1af050cc5fe8a76a7dbd344defa', 0, 3, 5): 'memory', ('block_func-cd87e1af050cc5fe8a76a7dbd344defa', 0, 12, 1): 'memory', ('block_func-cd87e1af050cc5fe8a76a7dbd344defa', 0, 11, 3): 'memory', ('block_func-cd87e1af050cc5fe8a76a7dbd344defa', 0, 13, 0): 'memory', ('block_func-cd87e1af050cc5fe8a76a7dbd344defa', 0, 2, 0): 'memory', ('block_func-cd87e1af050cc5fe8a76a7dbd344defa', 0, 12, 10): 'memory', ('block_func-cd87e1af050cc5fe8a76a7dbd344defa', 0, 13, 9): 'memory', ('block_func-cd87e1af050cc5fe8a76a7dbd344defa', 0, 2, 9): 'memory', ('block_func-cd87e1af050cc5fe8a76a7dbd344defa', 0, 4, 6): 'memory', ('block_func-cd87e1af050cc5fe8a76a7dbd344defa', 0, 9, 5): 'memory', ('block_func-cd87e1af050cc5fe8a76a7dbd344defa', 0, 0, 2): 'memory', ('block_func-cd87e1af050cc5fe8a76a7dbd344defa', 0, 14, 1): 'memory', ('block_func-cd87e1af050cc5fe8a76a7dbd344defa', 0, 15, 0): 'memory', ('block_func-cd87e1af050cc5fe8a76a7dbd344defa', 0, 1, 10): 'memory', ('block_func-cd87e1af050cc5fe8a76a7dbd344defa', 0, 3, 7): 'memory', ('block_func-cd87e1af050cc5fe8a76a7dbd344defa', 0, 6, 6): 'memory', ('block_func-cd87e1af050cc5fe8a76a7dbd344defa', 0, 15, 9): 'memory', ('block_func-cd87e1af050cc5fe8a76a7dbd344defa', 0, 7, 7): 'memory', ('block_func-cd87e1af050cc5fe8a76a7dbd344defa', 0, 12, 3): 'memory', ('block_func-cd87e1af050cc5fe8a76a7dbd344defa', 0, 11, 5): 'memory', ('block_func-cd87e1af050cc5fe8a76a7dbd344defa', 0, 2, 2): 'memory', ('block_func-cd87e1af050cc5fe8a76a7dbd344defa', 0, 13, 2): 'memory', ('block_func-cd87e1af050cc5fe8a76a7dbd344defa', 0, 4, 8): 'memory', ('block_func-cd87e1af050cc5fe8a76a7dbd344defa', 0, 9, 7): 'memory', ('block_func-cd87e1af050cc5fe8a76a7dbd344defa', 0, 0, 4): 'memory', ('block_func-cd87e1af050cc5fe8a76a7dbd344defa', 0, 14, 3): 'memory', ('block_func-cd87e1af050cc5fe8a76a7dbd344defa', 0, 1, 3): 'memory', ('block_func-cd87e1af050cc5fe8a76a7dbd344defa', 0, 15, 2): 'memory', ('block_func-cd87e1af050cc5fe8a76a7dbd344defa', 0, 3, 0): 'memory', ('block_func-cd87e1af050cc5fe8a76a7dbd344defa', 0, 3, 9): 'memory', ('block_func-cd87e1af050cc5fe8a76a7dbd344defa', 0, 7, 0): 'memory', ('block_func-cd87e1af050cc5fe8a76a7dbd344defa', 0, 7, 9): 'memory', ('block_func-cd87e1af050cc5fe8a76a7dbd344defa', 0, 11, 7): 'memory', ('block_func-cd87e1af050cc5fe8a76a7dbd344defa', 0, 13, 4): 'memory', ('block_func-cd87e1af050cc5fe8a76a7dbd344defa', 0, 4, 1): 'memory', ('block_func-cd87e1af050cc5fe8a76a7dbd344defa', 0, 2, 4): 'memory', ('block_func-cd87e1af050cc5fe8a76a7dbd344defa', 0, 9, 0): 'memory', ('block_func-cd87e1af050cc5fe8a76a7dbd344defa', 0, 9, 9): 'memory', ('block_func-cd87e1af050cc5fe8a76a7dbd344defa', 0, 0, 6): 'memory', ('block_func-cd87e1af050cc5fe8a76a7dbd344defa', 0, 10, 8): 'memory', ('block_func-cd87e1af050cc5fe8a76a7dbd344defa', 0, 1, 5): 'memory', ('block_func-cd87e1af050cc5fe8a76a7dbd344defa', 0, 15, 4): 'memory', ('block_func-cd87e1af050cc5fe8a76a7dbd344defa', 0, 3, 2): 'memory', ('block_func-cd87e1af050cc5fe8a76a7dbd344defa', 0, 6, 1): 'memory', ('block_func-cd87e1af050cc5fe8a76a7dbd344defa', 0, 5, 5): 'memory', ('block_func-cd87e1af050cc5fe8a76a7dbd344defa', 0, 7, 2): 'memory', ('block_func-cd87e1af050cc5fe8a76a7dbd344defa', 0, 16, 5): 'memory', ('block_func-cd87e1af050cc5fe8a76a7dbd344defa', 0, 11, 0): 'memory', ('block_func-cd87e1af050cc5fe8a76a7dbd344defa', 0, 8, 10): 'memory', ('block_func-cd87e1af050cc5fe8a76a7dbd344defa', 0, 11, 9): 'memory', ('block_func-cd87e1af050cc5fe8a76a7dbd344defa', 0, 2, 6): 'memory', ('block_func-cd87e1af050cc5fe8a76a7dbd344defa', 0, 13, 6): 'memory', ('block_func-cd87e1af050cc5fe8a76a7dbd344defa', 0, 4, 3): 'memory', ('block_func-cd87e1af050cc5fe8a76a7dbd344defa', 0, 9, 2): 'memory', ('block_func-cd87e1af050cc5fe8a76a7dbd344defa', 0, 10, 1): 'memory', ('block_func-cd87e1af050cc5fe8a76a7dbd344defa', 0, 0, 8): 'memory', ('block_func-cd87e1af050cc5fe8a76a7dbd344defa', 0, 10, 10): 'memory', ('block_func-cd87e1af050cc5fe8a76a7dbd344defa', 0, 1, 7): 'memory', ('block_func-cd87e1af050cc5fe8a76a7dbd344defa', 0, 15, 6): 'memory', ('block_func-cd87e1af050cc5fe8a76a7dbd344defa', 0, 3, 4): 'memory', ('block_func-cd87e1af050cc5fe8a76a7dbd344defa', 0, 14, 10): 'memory', ('block_func-cd87e1af050cc5fe8a76a7dbd344defa', 0, 5, 7): 'memory', ('block_func-cd87e1af050cc5fe8a76a7dbd344defa', 0, 7, 4): 'memory', ('block_func-cd87e1af050cc5fe8a76a7dbd344defa', 0, 16, 7): 'memory', ('block_func-cd87e1af050cc5fe8a76a7dbd344defa', 0, 8, 3): 'memory', ('block_func-cd87e1af050cc5fe8a76a7dbd344defa', 0, 11, 2): 'memory', ('block_func-cd87e1af050cc5fe8a76a7dbd344defa', 0, 13, 8): 'memory', ('block_func-cd87e1af050cc5fe8a76a7dbd344defa', 0, 2, 8): 'memory', ('block_func-cd87e1af050cc5fe8a76a7dbd344defa', 0, 9, 4): 'memory', ('block_func-cd87e1af050cc5fe8a76a7dbd344defa', 0, 0, 1): 'memory', ('block_func-cd87e1af050cc5fe8a76a7dbd344defa', 0, 10, 3): 'memory', ('block_func-cd87e1af050cc5fe8a76a7dbd344defa', 0, 1, 0): 'memory', ('block_func-cd87e1af050cc5fe8a76a7dbd344defa', 0, 0, 10): 'memory', ('block_func-cd87e1af050cc5fe8a76a7dbd344defa', 0, 1, 9): 'memory', ('block_func-cd87e1af050cc5fe8a76a7dbd344defa', 0, 3, 6): 'memory', ('block_func-cd87e1af050cc5fe8a76a7dbd344defa', 0, 16, 0): 'memory', ('block_func-cd87e1af050cc5fe8a76a7dbd344defa', 0, 5, 0): 'memory', ('block_func-cd87e1af050cc5fe8a76a7dbd344defa', 0, 5, 9): 'memory', ('block_func-cd87e1af050cc5fe8a76a7dbd344defa', 0, 16, 9): 'memory', ('block_func-cd87e1af050cc5fe8a76a7dbd344defa', 0, 7, 6): 'memory', ('block_func-cd87e1af050cc5fe8a76a7dbd344defa', 0, 8, 5): 'memory', ('block_func-cd87e1af050cc5fe8a76a7dbd344defa', 0, 11, 4): 'memory', ('block_func-cd87e1af050cc5fe8a76a7dbd344defa', 0, 2, 1): 'memory', ('block_func-cd87e1af050cc5fe8a76a7dbd344defa', 0, 6, 8): 'memory', ('block_func-cd87e1af050cc5fe8a76a7dbd344defa', 0, 13, 1): 'memory', ('block_func-cd87e1af050cc5fe8a76a7dbd344defa', 0, 12, 5): 'memory', ('block_func-cd87e1af050cc5fe8a76a7dbd344defa', 0, 4, 10): 'memory', ('block_func-cd87e1af050cc5fe8a76a7dbd344defa', 0, 9, 6): 'memory', ('block_func-cd87e1af050cc5fe8a76a7dbd344defa', 0, 0, 3): 'memory', ('block_func-cd87e1af050cc5fe8a76a7dbd344defa', 0, 10, 5): 'memory', ('block_func-cd87e1af050cc5fe8a76a7dbd344defa', 0, 1, 2): 'memory', ('block_func-cd87e1af050cc5fe8a76a7dbd344defa', 0, 3, 8): 'memory', ('block_func-cd87e1af050cc5fe8a76a7dbd344defa', 0, 14, 5): 'memory', ('block_func-cd87e1af050cc5fe8a76a7dbd344defa', 0, 16, 2): 'memory', ('block_func-cd87e1af050cc5fe8a76a7dbd344defa', 0, 5, 2): 'memory', ('block_func-cd87e1af050cc5fe8a76a7dbd344defa', 0, 7, 8): 'memory', ('block_func-cd87e1af050cc5fe8a76a7dbd344defa', 0, 6, 10): 'memory', ('block_func-cd87e1af050cc5fe8a76a7dbd344defa', 0, 8, 7): 'memory', ('block_func-cd87e1af050cc5fe8a76a7dbd344defa', 0, 11, 6): 'memory', ('block_func-cd87e1af050cc5fe8a76a7dbd344defa', 0, 12, 7): 'memory'}\n",
      "2025-04-15 18:56:15,583 - distributed.worker - ERROR - failed during get data with tcp://127.0.0.1:49681 -> None\n",
      "Traceback (most recent call last):\n",
      "  File \"/Users/rwegener/miniconda3/envs/chesapeake_mhw/lib/python3.11/site-packages/tornado/iostream.py\", line 973, in _handle_write\n",
      "    num_bytes = self.write_to_fd(self._write_buffer.peek(size))\n",
      "                ^^^^^^^^^^^^^^^^^^^^^^^^^^^^^^^^^^^^^^^^^^^^^^^\n",
      "  File \"/Users/rwegener/miniconda3/envs/chesapeake_mhw/lib/python3.11/site-packages/tornado/iostream.py\", line 1146, in write_to_fd\n",
      "    return self.socket.send(data)  # type: ignore\n",
      "           ^^^^^^^^^^^^^^^^^^^^^^\n",
      "ConnectionResetError: [Errno 54] Connection reset by peer\n",
      "\n",
      "The above exception was the direct cause of the following exception:\n",
      "\n",
      "Traceback (most recent call last):\n",
      "  File \"/Users/rwegener/miniconda3/envs/chesapeake_mhw/lib/python3.11/site-packages/distributed/worker.py\", line 1783, in get_data\n",
      "    response = await comm.read(deserializers=serializers)\n",
      "               ^^^^^^^^^^^^^^^^^^^^^^^^^^^^^^^^^^^^^^^^^^\n",
      "  File \"/Users/rwegener/miniconda3/envs/chesapeake_mhw/lib/python3.11/site-packages/distributed/comm/tcp.py\", line 237, in read\n",
      "    convert_stream_closed_error(self, e)\n",
      "  File \"/Users/rwegener/miniconda3/envs/chesapeake_mhw/lib/python3.11/site-packages/distributed/comm/tcp.py\", line 140, in convert_stream_closed_error\n",
      "    raise CommClosedError(f\"in {obj}: {exc.__class__.__name__}: {exc}\") from exc\n",
      "distributed.comm.core.CommClosedError: in <TCP (closed)  local=tcp://127.0.0.1:49681 remote=tcp://127.0.0.1:49749>: ConnectionResetError: [Errno 54] Connection reset by peer\n",
      "2025-04-15 18:56:15,604 - distributed.client - WARNING - Couldn't gather 187 keys, rescheduling (('block_func-cd87e1af050cc5fe8a76a7dbd344defa', 0, 9, 8), ('block_func-cd87e1af050cc5fe8a76a7dbd344defa', 0, 10, 7), ('block_func-cd87e1af050cc5fe8a76a7dbd344defa', 0, 1, 4), ('block_func-cd87e1af050cc5fe8a76a7dbd344defa', 0, 3, 1), ('block_func-cd87e1af050cc5fe8a76a7dbd344defa', 0, 14, 7), ('block_func-cd87e1af050cc5fe8a76a7dbd344defa', 0, 16, 4), ('block_func-cd87e1af050cc5fe8a76a7dbd344defa', 0, 5, 4), ('block_func-cd87e1af050cc5fe8a76a7dbd344defa', 0, 6, 3), ('block_func-cd87e1af050cc5fe8a76a7dbd344defa', 0, 8, 0), ('block_func-cd87e1af050cc5fe8a76a7dbd344defa', 0, 7, 1), ('block_func-cd87e1af050cc5fe8a76a7dbd344defa', 0, 7, 10), ('block_func-cd87e1af050cc5fe8a76a7dbd344defa', 0, 8, 9), ('block_func-cd87e1af050cc5fe8a76a7dbd344defa', 0, 12, 0), ('block_func-cd87e1af050cc5fe8a76a7dbd344defa', 0, 12, 9), ('block_func-cd87e1af050cc5fe8a76a7dbd344defa', 0, 4, 5), ('block_func-cd87e1af050cc5fe8a76a7dbd344defa', 0, 9, 1), ('block_func-cd87e1af050cc5fe8a76a7dbd344defa', 0, 10, 0), ('block_func-cd87e1af050cc5fe8a76a7dbd344defa', 0, 10, 9), ('block_func-cd87e1af050cc5fe8a76a7dbd344defa', 0, 1, 6), ('block_func-cd87e1af050cc5fe8a76a7dbd344defa', 0, 14, 0), ('block_func-cd87e1af050cc5fe8a76a7dbd344defa', 0, 14, 9), ('block_func-cd87e1af050cc5fe8a76a7dbd344defa', 0, 16, 6), ('block_func-cd87e1af050cc5fe8a76a7dbd344defa', 0, 15, 8), ('block_func-cd87e1af050cc5fe8a76a7dbd344defa', 0, 6, 5), ('block_func-cd87e1af050cc5fe8a76a7dbd344defa', 0, 8, 2), ('block_func-cd87e1af050cc5fe8a76a7dbd344defa', 0, 11, 1), ('block_func-cd87e1af050cc5fe8a76a7dbd344defa', 0, 7, 3), ('block_func-cd87e1af050cc5fe8a76a7dbd344defa', 0, 5, 6), ('block_func-cd87e1af050cc5fe8a76a7dbd344defa', 0, 12, 2), ('block_func-cd87e1af050cc5fe8a76a7dbd344defa', 0, 2, 10), ('block_func-cd87e1af050cc5fe8a76a7dbd344defa', 0, 13, 10), ('block_func-cd87e1af050cc5fe8a76a7dbd344defa', 0, 4, 7), ('block_func-cd87e1af050cc5fe8a76a7dbd344defa', 0, 9, 3), ('block_func-cd87e1af050cc5fe8a76a7dbd344defa', 0, 10, 2), ('block_func-cd87e1af050cc5fe8a76a7dbd344defa', 0, 14, 2), ('block_func-cd87e1af050cc5fe8a76a7dbd344defa', 0, 15, 1), ('block_func-cd87e1af050cc5fe8a76a7dbd344defa', 0, 16, 8), ('block_func-cd87e1af050cc5fe8a76a7dbd344defa', 0, 15, 10), ('block_func-cd87e1af050cc5fe8a76a7dbd344defa', 0, 6, 7), ('block_func-cd87e1af050cc5fe8a76a7dbd344defa', 0, 5, 8), ('block_func-cd87e1af050cc5fe8a76a7dbd344defa', 0, 7, 5), ('block_func-cd87e1af050cc5fe8a76a7dbd344defa', 0, 8, 4), ('block_func-cd87e1af050cc5fe8a76a7dbd344defa', 0, 12, 4), ('block_func-cd87e1af050cc5fe8a76a7dbd344defa', 0, 2, 3), ('block_func-cd87e1af050cc5fe8a76a7dbd344defa', 0, 4, 0), ('block_func-cd87e1af050cc5fe8a76a7dbd344defa', 0, 13, 3), ('block_func-cd87e1af050cc5fe8a76a7dbd344defa', 0, 4, 9), ('block_func-cd87e1af050cc5fe8a76a7dbd344defa', 0, 10, 4), ('block_func-cd87e1af050cc5fe8a76a7dbd344defa', 0, 1, 1), ('block_func-cd87e1af050cc5fe8a76a7dbd344defa', 0, 0, 5), ('block_func-cd87e1af050cc5fe8a76a7dbd344defa', 0, 14, 4), ('block_func-cd87e1af050cc5fe8a76a7dbd344defa', 0, 16, 1), ('block_func-cd87e1af050cc5fe8a76a7dbd344defa', 0, 5, 1), ('block_func-cd87e1af050cc5fe8a76a7dbd344defa', 0, 15, 3), ('block_func-cd87e1af050cc5fe8a76a7dbd344defa', 0, 6, 0), ('block_func-cd87e1af050cc5fe8a76a7dbd344defa', 0, 5, 10), ('block_func-cd87e1af050cc5fe8a76a7dbd344defa', 0, 16, 10), ('block_func-cd87e1af050cc5fe8a76a7dbd344defa', 0, 6, 9), ('block_func-cd87e1af050cc5fe8a76a7dbd344defa', 0, 8, 6), ('block_func-cd87e1af050cc5fe8a76a7dbd344defa', 0, 3, 10), ('block_func-cd87e1af050cc5fe8a76a7dbd344defa', 0, 12, 6), ('block_func-cd87e1af050cc5fe8a76a7dbd344defa', 0, 11, 8), ('block_func-cd87e1af050cc5fe8a76a7dbd344defa', 0, 13, 5), ('block_func-cd87e1af050cc5fe8a76a7dbd344defa', 0, 2, 5), ('block_func-cd87e1af050cc5fe8a76a7dbd344defa', 0, 4, 2), ('block_func-cd87e1af050cc5fe8a76a7dbd344defa', 0, 10, 6), ('block_func-cd87e1af050cc5fe8a76a7dbd344defa', 0, 9, 10), ('block_func-cd87e1af050cc5fe8a76a7dbd344defa', 0, 0, 7), ('block_func-cd87e1af050cc5fe8a76a7dbd344defa', 0, 14, 6), ('block_func-cd87e1af050cc5fe8a76a7dbd344defa', 0, 5, 3), ('block_func-cd87e1af050cc5fe8a76a7dbd344defa', 0, 3, 3), ('block_func-cd87e1af050cc5fe8a76a7dbd344defa', 0, 6, 2), ('block_func-cd87e1af050cc5fe8a76a7dbd344defa', 0, 16, 3), ('block_func-cd87e1af050cc5fe8a76a7dbd344defa', 0, 15, 5), ('block_func-cd87e1af050cc5fe8a76a7dbd344defa', 0, 8, 8), ('block_func-cd87e1af050cc5fe8a76a7dbd344defa', 0, 12, 8), ('block_func-cd87e1af050cc5fe8a76a7dbd344defa', 0, 11, 10), ('block_func-cd87e1af050cc5fe8a76a7dbd344defa', 0, 2, 7), ('block_func-cd87e1af050cc5fe8a76a7dbd344defa', 0, 13, 7), ('block_func-cd87e1af050cc5fe8a76a7dbd344defa', 0, 4, 4), ('block_func-cd87e1af050cc5fe8a76a7dbd344defa', 0, 0, 0), ('block_func-cd87e1af050cc5fe8a76a7dbd344defa', 0, 0, 9), ('block_func-cd87e1af050cc5fe8a76a7dbd344defa', 0, 14, 8), ('block_func-cd87e1af050cc5fe8a76a7dbd344defa', 0, 1, 8), ('block_func-cd87e1af050cc5fe8a76a7dbd344defa', 0, 15, 7), ('block_func-cd87e1af050cc5fe8a76a7dbd344defa', 0, 6, 4), ('block_func-cd87e1af050cc5fe8a76a7dbd344defa', 0, 8, 1), ('block_func-cd87e1af050cc5fe8a76a7dbd344defa', 0, 3, 5), ('block_func-cd87e1af050cc5fe8a76a7dbd344defa', 0, 12, 1), ('block_func-cd87e1af050cc5fe8a76a7dbd344defa', 0, 11, 3), ('block_func-cd87e1af050cc5fe8a76a7dbd344defa', 0, 13, 0), ('block_func-cd87e1af050cc5fe8a76a7dbd344defa', 0, 2, 0), ('block_func-cd87e1af050cc5fe8a76a7dbd344defa', 0, 12, 10), ('block_func-cd87e1af050cc5fe8a76a7dbd344defa', 0, 13, 9), ('block_func-cd87e1af050cc5fe8a76a7dbd344defa', 0, 2, 9), ('block_func-cd87e1af050cc5fe8a76a7dbd344defa', 0, 4, 6), ('block_func-cd87e1af050cc5fe8a76a7dbd344defa', 0, 9, 5), ('block_func-cd87e1af050cc5fe8a76a7dbd344defa', 0, 0, 2), ('block_func-cd87e1af050cc5fe8a76a7dbd344defa', 0, 14, 1), ('block_func-cd87e1af050cc5fe8a76a7dbd344defa', 0, 15, 0), ('block_func-cd87e1af050cc5fe8a76a7dbd344defa', 0, 1, 10), ('block_func-cd87e1af050cc5fe8a76a7dbd344defa', 0, 3, 7), ('block_func-cd87e1af050cc5fe8a76a7dbd344defa', 0, 6, 6), ('block_func-cd87e1af050cc5fe8a76a7dbd344defa', 0, 15, 9), ('block_func-cd87e1af050cc5fe8a76a7dbd344defa', 0, 7, 7), ('block_func-cd87e1af050cc5fe8a76a7dbd344defa', 0, 12, 3), ('block_func-cd87e1af050cc5fe8a76a7dbd344defa', 0, 11, 5), ('block_func-cd87e1af050cc5fe8a76a7dbd344defa', 0, 2, 2), ('block_func-cd87e1af050cc5fe8a76a7dbd344defa', 0, 13, 2), ('block_func-cd87e1af050cc5fe8a76a7dbd344defa', 0, 4, 8), ('block_func-cd87e1af050cc5fe8a76a7dbd344defa', 0, 9, 7), ('block_func-cd87e1af050cc5fe8a76a7dbd344defa', 0, 0, 4), ('block_func-cd87e1af050cc5fe8a76a7dbd344defa', 0, 14, 3), ('block_func-cd87e1af050cc5fe8a76a7dbd344defa', 0, 1, 3), ('block_func-cd87e1af050cc5fe8a76a7dbd344defa', 0, 15, 2), ('block_func-cd87e1af050cc5fe8a76a7dbd344defa', 0, 3, 0), ('block_func-cd87e1af050cc5fe8a76a7dbd344defa', 0, 3, 9), ('block_func-cd87e1af050cc5fe8a76a7dbd344defa', 0, 7, 0), ('block_func-cd87e1af050cc5fe8a76a7dbd344defa', 0, 7, 9), ('block_func-cd87e1af050cc5fe8a76a7dbd344defa', 0, 11, 7), ('block_func-cd87e1af050cc5fe8a76a7dbd344defa', 0, 13, 4), ('block_func-cd87e1af050cc5fe8a76a7dbd344defa', 0, 4, 1), ('block_func-cd87e1af050cc5fe8a76a7dbd344defa', 0, 2, 4), ('block_func-cd87e1af050cc5fe8a76a7dbd344defa', 0, 9, 0), ('block_func-cd87e1af050cc5fe8a76a7dbd344defa', 0, 9, 9), ('block_func-cd87e1af050cc5fe8a76a7dbd344defa', 0, 0, 6), ('block_func-cd87e1af050cc5fe8a76a7dbd344defa', 0, 10, 8), ('block_func-cd87e1af050cc5fe8a76a7dbd344defa', 0, 1, 5), ('block_func-cd87e1af050cc5fe8a76a7dbd344defa', 0, 15, 4), ('block_func-cd87e1af050cc5fe8a76a7dbd344defa', 0, 3, 2), ('block_func-cd87e1af050cc5fe8a76a7dbd344defa', 0, 6, 1), ('block_func-cd87e1af050cc5fe8a76a7dbd344defa', 0, 5, 5), ('block_func-cd87e1af050cc5fe8a76a7dbd344defa', 0, 7, 2), ('block_func-cd87e1af050cc5fe8a76a7dbd344defa', 0, 16, 5), ('block_func-cd87e1af050cc5fe8a76a7dbd344defa', 0, 11, 0), ('block_func-cd87e1af050cc5fe8a76a7dbd344defa', 0, 8, 10), ('block_func-cd87e1af050cc5fe8a76a7dbd344defa', 0, 11, 9), ('block_func-cd87e1af050cc5fe8a76a7dbd344defa', 0, 2, 6), ('block_func-cd87e1af050cc5fe8a76a7dbd344defa', 0, 13, 6), ('block_func-cd87e1af050cc5fe8a76a7dbd344defa', 0, 4, 3), ('block_func-cd87e1af050cc5fe8a76a7dbd344defa', 0, 9, 2), ('block_func-cd87e1af050cc5fe8a76a7dbd344defa', 0, 10, 1), ('block_func-cd87e1af050cc5fe8a76a7dbd344defa', 0, 0, 8), ('block_func-cd87e1af050cc5fe8a76a7dbd344defa', 0, 10, 10), ('block_func-cd87e1af050cc5fe8a76a7dbd344defa', 0, 1, 7), ('block_func-cd87e1af050cc5fe8a76a7dbd344defa', 0, 15, 6), ('block_func-cd87e1af050cc5fe8a76a7dbd344defa', 0, 3, 4), ('block_func-cd87e1af050cc5fe8a76a7dbd344defa', 0, 14, 10), ('block_func-cd87e1af050cc5fe8a76a7dbd344defa', 0, 5, 7), ('block_func-cd87e1af050cc5fe8a76a7dbd344defa', 0, 7, 4), ('block_func-cd87e1af050cc5fe8a76a7dbd344defa', 0, 16, 7), ('block_func-cd87e1af050cc5fe8a76a7dbd344defa', 0, 8, 3), ('block_func-cd87e1af050cc5fe8a76a7dbd344defa', 0, 11, 2), ('block_func-cd87e1af050cc5fe8a76a7dbd344defa', 0, 13, 8), ('block_func-cd87e1af050cc5fe8a76a7dbd344defa', 0, 2, 8), ('block_func-cd87e1af050cc5fe8a76a7dbd344defa', 0, 9, 4), ('block_func-cd87e1af050cc5fe8a76a7dbd344defa', 0, 0, 1), ('block_func-cd87e1af050cc5fe8a76a7dbd344defa', 0, 10, 3), ('block_func-cd87e1af050cc5fe8a76a7dbd344defa', 0, 1, 0), ('block_func-cd87e1af050cc5fe8a76a7dbd344defa', 0, 0, 10), ('block_func-cd87e1af050cc5fe8a76a7dbd344defa', 0, 1, 9), ('block_func-cd87e1af050cc5fe8a76a7dbd344defa', 0, 3, 6), ('block_func-cd87e1af050cc5fe8a76a7dbd344defa', 0, 16, 0), ('block_func-cd87e1af050cc5fe8a76a7dbd344defa', 0, 5, 0), ('block_func-cd87e1af050cc5fe8a76a7dbd344defa', 0, 5, 9), ('block_func-cd87e1af050cc5fe8a76a7dbd344defa', 0, 16, 9), ('block_func-cd87e1af050cc5fe8a76a7dbd344defa', 0, 7, 6), ('block_func-cd87e1af050cc5fe8a76a7dbd344defa', 0, 8, 5), ('block_func-cd87e1af050cc5fe8a76a7dbd344defa', 0, 11, 4), ('block_func-cd87e1af050cc5fe8a76a7dbd344defa', 0, 2, 1), ('block_func-cd87e1af050cc5fe8a76a7dbd344defa', 0, 6, 8), ('block_func-cd87e1af050cc5fe8a76a7dbd344defa', 0, 13, 1), ('block_func-cd87e1af050cc5fe8a76a7dbd344defa', 0, 12, 5), ('block_func-cd87e1af050cc5fe8a76a7dbd344defa', 0, 4, 10), ('block_func-cd87e1af050cc5fe8a76a7dbd344defa', 0, 9, 6), ('block_func-cd87e1af050cc5fe8a76a7dbd344defa', 0, 0, 3), ('block_func-cd87e1af050cc5fe8a76a7dbd344defa', 0, 10, 5), ('block_func-cd87e1af050cc5fe8a76a7dbd344defa', 0, 1, 2), ('block_func-cd87e1af050cc5fe8a76a7dbd344defa', 0, 3, 8), ('block_func-cd87e1af050cc5fe8a76a7dbd344defa', 0, 14, 5), ('block_func-cd87e1af050cc5fe8a76a7dbd344defa', 0, 16, 2), ('block_func-cd87e1af050cc5fe8a76a7dbd344defa', 0, 5, 2), ('block_func-cd87e1af050cc5fe8a76a7dbd344defa', 0, 7, 8), ('block_func-cd87e1af050cc5fe8a76a7dbd344defa', 0, 6, 10), ('block_func-cd87e1af050cc5fe8a76a7dbd344defa', 0, 8, 7), ('block_func-cd87e1af050cc5fe8a76a7dbd344defa', 0, 11, 6), ('block_func-cd87e1af050cc5fe8a76a7dbd344defa', 0, 12, 7))\n",
      "2025-04-15 18:56:15,844 - distributed.worker - ERROR - failed during get data with tcp://127.0.0.1:49680 -> None\n",
      "Traceback (most recent call last):\n",
      "  File \"/Users/rwegener/miniconda3/envs/chesapeake_mhw/lib/python3.11/site-packages/tornado/iostream.py\", line 973, in _handle_write\n",
      "    num_bytes = self.write_to_fd(self._write_buffer.peek(size))\n",
      "                ^^^^^^^^^^^^^^^^^^^^^^^^^^^^^^^^^^^^^^^^^^^^^^^\n",
      "  File \"/Users/rwegener/miniconda3/envs/chesapeake_mhw/lib/python3.11/site-packages/tornado/iostream.py\", line 1146, in write_to_fd\n",
      "    return self.socket.send(data)  # type: ignore\n",
      "           ^^^^^^^^^^^^^^^^^^^^^^\n",
      "BrokenPipeError: [Errno 32] Broken pipe\n",
      "\n",
      "The above exception was the direct cause of the following exception:\n",
      "\n",
      "Traceback (most recent call last):\n",
      "  File \"/Users/rwegener/miniconda3/envs/chesapeake_mhw/lib/python3.11/site-packages/distributed/worker.py\", line 1783, in get_data\n",
      "    response = await comm.read(deserializers=serializers)\n",
      "               ^^^^^^^^^^^^^^^^^^^^^^^^^^^^^^^^^^^^^^^^^^\n",
      "  File \"/Users/rwegener/miniconda3/envs/chesapeake_mhw/lib/python3.11/site-packages/distributed/comm/tcp.py\", line 237, in read\n",
      "    convert_stream_closed_error(self, e)\n",
      "  File \"/Users/rwegener/miniconda3/envs/chesapeake_mhw/lib/python3.11/site-packages/distributed/comm/tcp.py\", line 140, in convert_stream_closed_error\n",
      "    raise CommClosedError(f\"in {obj}: {exc.__class__.__name__}: {exc}\") from exc\n",
      "distributed.comm.core.CommClosedError: in <TCP (closed)  local=tcp://127.0.0.1:49680 remote=tcp://127.0.0.1:49750>: BrokenPipeError: [Errno 32] Broken pipe\n",
      "2025-04-15 18:56:16,498 - distributed.worker.memory - WARNING - Worker is at 80% memory usage. Pausing worker.  Process memory: 1.51 GiB -- Worker memory limit: 1.86 GiB\n",
      "2025-04-15 18:56:16,547 - distributed.worker.memory - WARNING - Worker is at 81% memory usage. Pausing worker.  Process memory: 1.52 GiB -- Worker memory limit: 1.86 GiB\n",
      "2025-04-15 18:56:17,208 - distributed.worker.memory - WARNING - gc.collect() took 1.007s. This is usually a sign that some tasks handle too many Python objects at the same time. Rechunking the work into smaller tasks might help.\n",
      "2025-04-15 18:56:17,209 - distributed.worker.memory - WARNING - Worker is at 80% memory usage. Pausing worker.  Process memory: 1.51 GiB -- Worker memory limit: 1.86 GiB\n",
      "2025-04-15 18:56:18,267 - distributed.nanny.memory - WARNING - Worker tcp://127.0.0.1:49681 (pid=1024) exceeded 95% memory budget. Restarting...\n",
      "2025-04-15 18:56:18,897 - distributed.worker.memory - WARNING - Worker is at 82% memory usage. Pausing worker.  Process memory: 1.54 GiB -- Worker memory limit: 1.86 GiB\n",
      "2025-04-15 18:56:18,937 - distributed.nanny - WARNING - Restarting worker\n",
      "2025-04-15 18:56:19,366 - distributed.nanny.memory - WARNING - Worker tcp://127.0.0.1:49682 (pid=1025) exceeded 95% memory budget. Restarting...\n",
      "2025-04-15 18:56:19,988 - distributed.nanny - WARNING - Restarting worker\n",
      "2025-04-15 18:56:20,578 - distributed.nanny.memory - WARNING - Worker tcp://127.0.0.1:49687 (pid=1026) exceeded 95% memory budget. Restarting...\n",
      "2025-04-15 18:56:21,173 - distributed.nanny.memory - WARNING - Worker tcp://127.0.0.1:49680 (pid=1023) exceeded 95% memory budget. Restarting...\n",
      "2025-04-15 18:56:21,190 - distributed.nanny - WARNING - Restarting worker\n",
      "2025-04-15 18:56:21,606 - distributed.scheduler - ERROR - Couldn't gather keys: {('block_func-cd87e1af050cc5fe8a76a7dbd344defa', 0, 9, 8): 'waiting', ('block_func-cd87e1af050cc5fe8a76a7dbd344defa', 0, 10, 7): 'waiting', ('block_func-cd87e1af050cc5fe8a76a7dbd344defa', 0, 1, 4): 'waiting', ('block_func-cd87e1af050cc5fe8a76a7dbd344defa', 0, 3, 1): 'waiting', ('block_func-cd87e1af050cc5fe8a76a7dbd344defa', 0, 14, 7): 'waiting', ('block_func-cd87e1af050cc5fe8a76a7dbd344defa', 0, 16, 4): 'waiting', ('block_func-cd87e1af050cc5fe8a76a7dbd344defa', 0, 5, 4): 'waiting', ('block_func-cd87e1af050cc5fe8a76a7dbd344defa', 0, 6, 3): 'waiting', ('block_func-cd87e1af050cc5fe8a76a7dbd344defa', 0, 8, 0): 'waiting', ('block_func-cd87e1af050cc5fe8a76a7dbd344defa', 0, 7, 1): 'waiting', ('block_func-cd87e1af050cc5fe8a76a7dbd344defa', 0, 7, 10): 'waiting', ('block_func-cd87e1af050cc5fe8a76a7dbd344defa', 0, 8, 9): 'waiting', ('block_func-cd87e1af050cc5fe8a76a7dbd344defa', 0, 12, 0): 'waiting', ('block_func-cd87e1af050cc5fe8a76a7dbd344defa', 0, 12, 9): 'waiting', ('block_func-cd87e1af050cc5fe8a76a7dbd344defa', 0, 4, 5): 'waiting', ('block_func-cd87e1af050cc5fe8a76a7dbd344defa', 0, 9, 1): 'waiting', ('block_func-cd87e1af050cc5fe8a76a7dbd344defa', 0, 10, 0): 'waiting', ('block_func-cd87e1af050cc5fe8a76a7dbd344defa', 0, 10, 9): 'waiting', ('block_func-cd87e1af050cc5fe8a76a7dbd344defa', 0, 1, 6): 'waiting', ('block_func-cd87e1af050cc5fe8a76a7dbd344defa', 0, 14, 0): 'waiting', ('block_func-cd87e1af050cc5fe8a76a7dbd344defa', 0, 14, 9): 'waiting', ('block_func-cd87e1af050cc5fe8a76a7dbd344defa', 0, 16, 6): 'waiting', ('block_func-cd87e1af050cc5fe8a76a7dbd344defa', 0, 15, 8): 'waiting', ('block_func-cd87e1af050cc5fe8a76a7dbd344defa', 0, 6, 5): 'waiting', ('block_func-cd87e1af050cc5fe8a76a7dbd344defa', 0, 8, 2): 'waiting', ('block_func-cd87e1af050cc5fe8a76a7dbd344defa', 0, 11, 1): 'waiting', ('block_func-cd87e1af050cc5fe8a76a7dbd344defa', 0, 7, 3): 'waiting', ('block_func-cd87e1af050cc5fe8a76a7dbd344defa', 0, 5, 6): 'waiting', ('block_func-cd87e1af050cc5fe8a76a7dbd344defa', 0, 12, 2): 'waiting', ('block_func-cd87e1af050cc5fe8a76a7dbd344defa', 0, 2, 10): 'waiting', ('block_func-cd87e1af050cc5fe8a76a7dbd344defa', 0, 13, 10): 'waiting', ('block_func-cd87e1af050cc5fe8a76a7dbd344defa', 0, 4, 7): 'waiting', ('block_func-cd87e1af050cc5fe8a76a7dbd344defa', 0, 9, 3): 'waiting', ('block_func-cd87e1af050cc5fe8a76a7dbd344defa', 0, 10, 2): 'waiting', ('block_func-cd87e1af050cc5fe8a76a7dbd344defa', 0, 14, 2): 'waiting', ('block_func-cd87e1af050cc5fe8a76a7dbd344defa', 0, 15, 1): 'waiting', ('block_func-cd87e1af050cc5fe8a76a7dbd344defa', 0, 16, 8): 'waiting', ('block_func-cd87e1af050cc5fe8a76a7dbd344defa', 0, 15, 10): 'waiting', ('block_func-cd87e1af050cc5fe8a76a7dbd344defa', 0, 6, 7): 'waiting', ('block_func-cd87e1af050cc5fe8a76a7dbd344defa', 0, 5, 8): 'waiting', ('block_func-cd87e1af050cc5fe8a76a7dbd344defa', 0, 7, 5): 'waiting', ('block_func-cd87e1af050cc5fe8a76a7dbd344defa', 0, 8, 4): 'waiting', ('block_func-cd87e1af050cc5fe8a76a7dbd344defa', 0, 12, 4): 'waiting', ('block_func-cd87e1af050cc5fe8a76a7dbd344defa', 0, 2, 3): 'waiting', ('block_func-cd87e1af050cc5fe8a76a7dbd344defa', 0, 4, 0): 'waiting', ('block_func-cd87e1af050cc5fe8a76a7dbd344defa', 0, 13, 3): 'waiting', ('block_func-cd87e1af050cc5fe8a76a7dbd344defa', 0, 4, 9): 'waiting', ('block_func-cd87e1af050cc5fe8a76a7dbd344defa', 0, 10, 4): 'waiting', ('block_func-cd87e1af050cc5fe8a76a7dbd344defa', 0, 1, 1): 'waiting', ('block_func-cd87e1af050cc5fe8a76a7dbd344defa', 0, 0, 5): 'waiting', ('block_func-cd87e1af050cc5fe8a76a7dbd344defa', 0, 14, 4): 'waiting', ('block_func-cd87e1af050cc5fe8a76a7dbd344defa', 0, 16, 1): 'waiting', ('block_func-cd87e1af050cc5fe8a76a7dbd344defa', 0, 5, 1): 'waiting', ('block_func-cd87e1af050cc5fe8a76a7dbd344defa', 0, 15, 3): 'waiting', ('block_func-cd87e1af050cc5fe8a76a7dbd344defa', 0, 6, 0): 'waiting', ('block_func-cd87e1af050cc5fe8a76a7dbd344defa', 0, 5, 10): 'waiting', ('block_func-cd87e1af050cc5fe8a76a7dbd344defa', 0, 16, 10): 'waiting', ('block_func-cd87e1af050cc5fe8a76a7dbd344defa', 0, 6, 9): 'waiting', ('block_func-cd87e1af050cc5fe8a76a7dbd344defa', 0, 8, 6): 'waiting', ('block_func-cd87e1af050cc5fe8a76a7dbd344defa', 0, 3, 10): 'waiting', ('block_func-cd87e1af050cc5fe8a76a7dbd344defa', 0, 12, 6): 'waiting', ('block_func-cd87e1af050cc5fe8a76a7dbd344defa', 0, 11, 8): 'waiting', ('block_func-cd87e1af050cc5fe8a76a7dbd344defa', 0, 13, 5): 'waiting', ('block_func-cd87e1af050cc5fe8a76a7dbd344defa', 0, 2, 5): 'waiting', ('block_func-cd87e1af050cc5fe8a76a7dbd344defa', 0, 4, 2): 'waiting', ('block_func-cd87e1af050cc5fe8a76a7dbd344defa', 0, 10, 6): 'waiting', ('block_func-cd87e1af050cc5fe8a76a7dbd344defa', 0, 9, 10): 'waiting', ('block_func-cd87e1af050cc5fe8a76a7dbd344defa', 0, 0, 7): 'waiting', ('block_func-cd87e1af050cc5fe8a76a7dbd344defa', 0, 14, 6): 'waiting', ('block_func-cd87e1af050cc5fe8a76a7dbd344defa', 0, 5, 3): 'waiting', ('block_func-cd87e1af050cc5fe8a76a7dbd344defa', 0, 3, 3): 'waiting', ('block_func-cd87e1af050cc5fe8a76a7dbd344defa', 0, 6, 2): 'waiting', ('block_func-cd87e1af050cc5fe8a76a7dbd344defa', 0, 16, 3): 'waiting', ('block_func-cd87e1af050cc5fe8a76a7dbd344defa', 0, 15, 5): 'waiting', ('block_func-cd87e1af050cc5fe8a76a7dbd344defa', 0, 8, 8): 'waiting', ('block_func-cd87e1af050cc5fe8a76a7dbd344defa', 0, 12, 8): 'waiting', ('block_func-cd87e1af050cc5fe8a76a7dbd344defa', 0, 11, 10): 'waiting', ('block_func-cd87e1af050cc5fe8a76a7dbd344defa', 0, 2, 7): 'waiting', ('block_func-cd87e1af050cc5fe8a76a7dbd344defa', 0, 13, 7): 'waiting', ('block_func-cd87e1af050cc5fe8a76a7dbd344defa', 0, 4, 4): 'waiting', ('block_func-cd87e1af050cc5fe8a76a7dbd344defa', 0, 0, 0): 'processing', ('block_func-cd87e1af050cc5fe8a76a7dbd344defa', 0, 0, 9): 'waiting', ('block_func-cd87e1af050cc5fe8a76a7dbd344defa', 0, 14, 8): 'waiting', ('block_func-cd87e1af050cc5fe8a76a7dbd344defa', 0, 1, 8): 'waiting', ('block_func-cd87e1af050cc5fe8a76a7dbd344defa', 0, 15, 7): 'waiting', ('block_func-cd87e1af050cc5fe8a76a7dbd344defa', 0, 6, 4): 'waiting', ('block_func-cd87e1af050cc5fe8a76a7dbd344defa', 0, 8, 1): 'waiting', ('block_func-cd87e1af050cc5fe8a76a7dbd344defa', 0, 3, 5): 'waiting', ('block_func-cd87e1af050cc5fe8a76a7dbd344defa', 0, 12, 1): 'waiting', ('block_func-cd87e1af050cc5fe8a76a7dbd344defa', 0, 11, 3): 'waiting', ('block_func-cd87e1af050cc5fe8a76a7dbd344defa', 0, 13, 0): 'waiting', ('block_func-cd87e1af050cc5fe8a76a7dbd344defa', 0, 2, 0): 'waiting', ('block_func-cd87e1af050cc5fe8a76a7dbd344defa', 0, 12, 10): 'waiting', ('block_func-cd87e1af050cc5fe8a76a7dbd344defa', 0, 13, 9): 'waiting', ('block_func-cd87e1af050cc5fe8a76a7dbd344defa', 0, 2, 9): 'waiting', ('block_func-cd87e1af050cc5fe8a76a7dbd344defa', 0, 4, 6): 'waiting', ('block_func-cd87e1af050cc5fe8a76a7dbd344defa', 0, 9, 5): 'waiting', ('block_func-cd87e1af050cc5fe8a76a7dbd344defa', 0, 0, 2): 'processing', ('block_func-cd87e1af050cc5fe8a76a7dbd344defa', 0, 14, 1): 'waiting', ('block_func-cd87e1af050cc5fe8a76a7dbd344defa', 0, 15, 0): 'waiting', ('block_func-cd87e1af050cc5fe8a76a7dbd344defa', 0, 1, 10): 'waiting', ('block_func-cd87e1af050cc5fe8a76a7dbd344defa', 0, 3, 7): 'waiting', ('block_func-cd87e1af050cc5fe8a76a7dbd344defa', 0, 6, 6): 'waiting', ('block_func-cd87e1af050cc5fe8a76a7dbd344defa', 0, 15, 9): 'waiting', ('block_func-cd87e1af050cc5fe8a76a7dbd344defa', 0, 7, 7): 'waiting', ('block_func-cd87e1af050cc5fe8a76a7dbd344defa', 0, 12, 3): 'waiting', ('block_func-cd87e1af050cc5fe8a76a7dbd344defa', 0, 11, 5): 'waiting', ('block_func-cd87e1af050cc5fe8a76a7dbd344defa', 0, 2, 2): 'waiting', ('block_func-cd87e1af050cc5fe8a76a7dbd344defa', 0, 13, 2): 'waiting', ('block_func-cd87e1af050cc5fe8a76a7dbd344defa', 0, 4, 8): 'waiting', ('block_func-cd87e1af050cc5fe8a76a7dbd344defa', 0, 9, 7): 'waiting', ('block_func-cd87e1af050cc5fe8a76a7dbd344defa', 0, 0, 4): 'waiting', ('block_func-cd87e1af050cc5fe8a76a7dbd344defa', 0, 14, 3): 'waiting', ('block_func-cd87e1af050cc5fe8a76a7dbd344defa', 0, 1, 3): 'waiting', ('block_func-cd87e1af050cc5fe8a76a7dbd344defa', 0, 15, 2): 'waiting', ('block_func-cd87e1af050cc5fe8a76a7dbd344defa', 0, 3, 0): 'waiting', ('block_func-cd87e1af050cc5fe8a76a7dbd344defa', 0, 3, 9): 'waiting', ('block_func-cd87e1af050cc5fe8a76a7dbd344defa', 0, 7, 0): 'waiting', ('block_func-cd87e1af050cc5fe8a76a7dbd344defa', 0, 7, 9): 'waiting', ('block_func-cd87e1af050cc5fe8a76a7dbd344defa', 0, 11, 7): 'waiting', ('block_func-cd87e1af050cc5fe8a76a7dbd344defa', 0, 13, 4): 'waiting', ('block_func-cd87e1af050cc5fe8a76a7dbd344defa', 0, 4, 1): 'waiting', ('block_func-cd87e1af050cc5fe8a76a7dbd344defa', 0, 2, 4): 'waiting', ('block_func-cd87e1af050cc5fe8a76a7dbd344defa', 0, 9, 0): 'waiting', ('block_func-cd87e1af050cc5fe8a76a7dbd344defa', 0, 9, 9): 'waiting', ('block_func-cd87e1af050cc5fe8a76a7dbd344defa', 0, 0, 6): 'waiting', ('block_func-cd87e1af050cc5fe8a76a7dbd344defa', 0, 10, 8): 'waiting', ('block_func-cd87e1af050cc5fe8a76a7dbd344defa', 0, 1, 5): 'waiting', ('block_func-cd87e1af050cc5fe8a76a7dbd344defa', 0, 15, 4): 'waiting', ('block_func-cd87e1af050cc5fe8a76a7dbd344defa', 0, 3, 2): 'waiting', ('block_func-cd87e1af050cc5fe8a76a7dbd344defa', 0, 6, 1): 'waiting', ('block_func-cd87e1af050cc5fe8a76a7dbd344defa', 0, 5, 5): 'waiting', ('block_func-cd87e1af050cc5fe8a76a7dbd344defa', 0, 7, 2): 'waiting', ('block_func-cd87e1af050cc5fe8a76a7dbd344defa', 0, 16, 5): 'waiting', ('block_func-cd87e1af050cc5fe8a76a7dbd344defa', 0, 11, 0): 'waiting', ('block_func-cd87e1af050cc5fe8a76a7dbd344defa', 0, 8, 10): 'waiting', ('block_func-cd87e1af050cc5fe8a76a7dbd344defa', 0, 11, 9): 'waiting', ('block_func-cd87e1af050cc5fe8a76a7dbd344defa', 0, 2, 6): 'waiting', ('block_func-cd87e1af050cc5fe8a76a7dbd344defa', 0, 13, 6): 'waiting', ('block_func-cd87e1af050cc5fe8a76a7dbd344defa', 0, 4, 3): 'waiting', ('block_func-cd87e1af050cc5fe8a76a7dbd344defa', 0, 9, 2): 'waiting', ('block_func-cd87e1af050cc5fe8a76a7dbd344defa', 0, 10, 1): 'waiting', ('block_func-cd87e1af050cc5fe8a76a7dbd344defa', 0, 0, 8): 'waiting', ('block_func-cd87e1af050cc5fe8a76a7dbd344defa', 0, 10, 10): 'waiting', ('block_func-cd87e1af050cc5fe8a76a7dbd344defa', 0, 1, 7): 'waiting', ('block_func-cd87e1af050cc5fe8a76a7dbd344defa', 0, 15, 6): 'waiting', ('block_func-cd87e1af050cc5fe8a76a7dbd344defa', 0, 3, 4): 'waiting', ('block_func-cd87e1af050cc5fe8a76a7dbd344defa', 0, 14, 10): 'waiting', ('block_func-cd87e1af050cc5fe8a76a7dbd344defa', 0, 5, 7): 'waiting', ('block_func-cd87e1af050cc5fe8a76a7dbd344defa', 0, 7, 4): 'waiting', ('block_func-cd87e1af050cc5fe8a76a7dbd344defa', 0, 16, 7): 'waiting', ('block_func-cd87e1af050cc5fe8a76a7dbd344defa', 0, 8, 3): 'waiting', ('block_func-cd87e1af050cc5fe8a76a7dbd344defa', 0, 11, 2): 'waiting', ('block_func-cd87e1af050cc5fe8a76a7dbd344defa', 0, 13, 8): 'waiting', ('block_func-cd87e1af050cc5fe8a76a7dbd344defa', 0, 2, 8): 'waiting', ('block_func-cd87e1af050cc5fe8a76a7dbd344defa', 0, 9, 4): 'waiting', ('block_func-cd87e1af050cc5fe8a76a7dbd344defa', 0, 0, 1): 'waiting', ('block_func-cd87e1af050cc5fe8a76a7dbd344defa', 0, 10, 3): 'waiting', ('block_func-cd87e1af050cc5fe8a76a7dbd344defa', 0, 1, 0): 'waiting', ('block_func-cd87e1af050cc5fe8a76a7dbd344defa', 0, 0, 10): 'waiting', ('block_func-cd87e1af050cc5fe8a76a7dbd344defa', 0, 1, 9): 'waiting', ('block_func-cd87e1af050cc5fe8a76a7dbd344defa', 0, 3, 6): 'waiting', ('block_func-cd87e1af050cc5fe8a76a7dbd344defa', 0, 16, 0): 'waiting', ('block_func-cd87e1af050cc5fe8a76a7dbd344defa', 0, 5, 0): 'waiting', ('block_func-cd87e1af050cc5fe8a76a7dbd344defa', 0, 5, 9): 'waiting', ('block_func-cd87e1af050cc5fe8a76a7dbd344defa', 0, 16, 9): 'waiting', ('block_func-cd87e1af050cc5fe8a76a7dbd344defa', 0, 7, 6): 'waiting', ('block_func-cd87e1af050cc5fe8a76a7dbd344defa', 0, 8, 5): 'waiting', ('block_func-cd87e1af050cc5fe8a76a7dbd344defa', 0, 11, 4): 'waiting', ('block_func-cd87e1af050cc5fe8a76a7dbd344defa', 0, 2, 1): 'waiting', ('block_func-cd87e1af050cc5fe8a76a7dbd344defa', 0, 6, 8): 'waiting', ('block_func-cd87e1af050cc5fe8a76a7dbd344defa', 0, 13, 1): 'waiting', ('block_func-cd87e1af050cc5fe8a76a7dbd344defa', 0, 12, 5): 'waiting', ('block_func-cd87e1af050cc5fe8a76a7dbd344defa', 0, 4, 10): 'waiting', ('block_func-cd87e1af050cc5fe8a76a7dbd344defa', 0, 9, 6): 'waiting', ('block_func-cd87e1af050cc5fe8a76a7dbd344defa', 0, 0, 3): 'processing', ('block_func-cd87e1af050cc5fe8a76a7dbd344defa', 0, 10, 5): 'waiting', ('block_func-cd87e1af050cc5fe8a76a7dbd344defa', 0, 1, 2): 'waiting', ('block_func-cd87e1af050cc5fe8a76a7dbd344defa', 0, 3, 8): 'waiting', ('block_func-cd87e1af050cc5fe8a76a7dbd344defa', 0, 14, 5): 'waiting', ('block_func-cd87e1af050cc5fe8a76a7dbd344defa', 0, 16, 2): 'waiting', ('block_func-cd87e1af050cc5fe8a76a7dbd344defa', 0, 5, 2): 'waiting', ('block_func-cd87e1af050cc5fe8a76a7dbd344defa', 0, 7, 8): 'waiting', ('block_func-cd87e1af050cc5fe8a76a7dbd344defa', 0, 6, 10): 'waiting', ('block_func-cd87e1af050cc5fe8a76a7dbd344defa', 0, 8, 7): 'waiting', ('block_func-cd87e1af050cc5fe8a76a7dbd344defa', 0, 11, 6): 'waiting', ('block_func-cd87e1af050cc5fe8a76a7dbd344defa', 0, 12, 7): 'waiting'}\n",
      "2025-04-15 18:56:21,613 - distributed.client - WARNING - Couldn't gather 187 keys, rescheduling (('block_func-cd87e1af050cc5fe8a76a7dbd344defa', 0, 9, 8), ('block_func-cd87e1af050cc5fe8a76a7dbd344defa', 0, 10, 7), ('block_func-cd87e1af050cc5fe8a76a7dbd344defa', 0, 1, 4), ('block_func-cd87e1af050cc5fe8a76a7dbd344defa', 0, 3, 1), ('block_func-cd87e1af050cc5fe8a76a7dbd344defa', 0, 14, 7), ('block_func-cd87e1af050cc5fe8a76a7dbd344defa', 0, 16, 4), ('block_func-cd87e1af050cc5fe8a76a7dbd344defa', 0, 5, 4), ('block_func-cd87e1af050cc5fe8a76a7dbd344defa', 0, 6, 3), ('block_func-cd87e1af050cc5fe8a76a7dbd344defa', 0, 8, 0), ('block_func-cd87e1af050cc5fe8a76a7dbd344defa', 0, 7, 1), ('block_func-cd87e1af050cc5fe8a76a7dbd344defa', 0, 7, 10), ('block_func-cd87e1af050cc5fe8a76a7dbd344defa', 0, 8, 9), ('block_func-cd87e1af050cc5fe8a76a7dbd344defa', 0, 12, 0), ('block_func-cd87e1af050cc5fe8a76a7dbd344defa', 0, 12, 9), ('block_func-cd87e1af050cc5fe8a76a7dbd344defa', 0, 4, 5), ('block_func-cd87e1af050cc5fe8a76a7dbd344defa', 0, 9, 1), ('block_func-cd87e1af050cc5fe8a76a7dbd344defa', 0, 10, 0), ('block_func-cd87e1af050cc5fe8a76a7dbd344defa', 0, 10, 9), ('block_func-cd87e1af050cc5fe8a76a7dbd344defa', 0, 1, 6), ('block_func-cd87e1af050cc5fe8a76a7dbd344defa', 0, 14, 0), ('block_func-cd87e1af050cc5fe8a76a7dbd344defa', 0, 14, 9), ('block_func-cd87e1af050cc5fe8a76a7dbd344defa', 0, 16, 6), ('block_func-cd87e1af050cc5fe8a76a7dbd344defa', 0, 15, 8), ('block_func-cd87e1af050cc5fe8a76a7dbd344defa', 0, 6, 5), ('block_func-cd87e1af050cc5fe8a76a7dbd344defa', 0, 8, 2), ('block_func-cd87e1af050cc5fe8a76a7dbd344defa', 0, 11, 1), ('block_func-cd87e1af050cc5fe8a76a7dbd344defa', 0, 7, 3), ('block_func-cd87e1af050cc5fe8a76a7dbd344defa', 0, 5, 6), ('block_func-cd87e1af050cc5fe8a76a7dbd344defa', 0, 12, 2), ('block_func-cd87e1af050cc5fe8a76a7dbd344defa', 0, 2, 10), ('block_func-cd87e1af050cc5fe8a76a7dbd344defa', 0, 13, 10), ('block_func-cd87e1af050cc5fe8a76a7dbd344defa', 0, 4, 7), ('block_func-cd87e1af050cc5fe8a76a7dbd344defa', 0, 9, 3), ('block_func-cd87e1af050cc5fe8a76a7dbd344defa', 0, 10, 2), ('block_func-cd87e1af050cc5fe8a76a7dbd344defa', 0, 14, 2), ('block_func-cd87e1af050cc5fe8a76a7dbd344defa', 0, 15, 1), ('block_func-cd87e1af050cc5fe8a76a7dbd344defa', 0, 16, 8), ('block_func-cd87e1af050cc5fe8a76a7dbd344defa', 0, 15, 10), ('block_func-cd87e1af050cc5fe8a76a7dbd344defa', 0, 6, 7), ('block_func-cd87e1af050cc5fe8a76a7dbd344defa', 0, 5, 8), ('block_func-cd87e1af050cc5fe8a76a7dbd344defa', 0, 7, 5), ('block_func-cd87e1af050cc5fe8a76a7dbd344defa', 0, 8, 4), ('block_func-cd87e1af050cc5fe8a76a7dbd344defa', 0, 12, 4), ('block_func-cd87e1af050cc5fe8a76a7dbd344defa', 0, 2, 3), ('block_func-cd87e1af050cc5fe8a76a7dbd344defa', 0, 4, 0), ('block_func-cd87e1af050cc5fe8a76a7dbd344defa', 0, 13, 3), ('block_func-cd87e1af050cc5fe8a76a7dbd344defa', 0, 4, 9), ('block_func-cd87e1af050cc5fe8a76a7dbd344defa', 0, 10, 4), ('block_func-cd87e1af050cc5fe8a76a7dbd344defa', 0, 1, 1), ('block_func-cd87e1af050cc5fe8a76a7dbd344defa', 0, 0, 5), ('block_func-cd87e1af050cc5fe8a76a7dbd344defa', 0, 14, 4), ('block_func-cd87e1af050cc5fe8a76a7dbd344defa', 0, 16, 1), ('block_func-cd87e1af050cc5fe8a76a7dbd344defa', 0, 5, 1), ('block_func-cd87e1af050cc5fe8a76a7dbd344defa', 0, 15, 3), ('block_func-cd87e1af050cc5fe8a76a7dbd344defa', 0, 6, 0), ('block_func-cd87e1af050cc5fe8a76a7dbd344defa', 0, 5, 10), ('block_func-cd87e1af050cc5fe8a76a7dbd344defa', 0, 16, 10), ('block_func-cd87e1af050cc5fe8a76a7dbd344defa', 0, 6, 9), ('block_func-cd87e1af050cc5fe8a76a7dbd344defa', 0, 8, 6), ('block_func-cd87e1af050cc5fe8a76a7dbd344defa', 0, 3, 10), ('block_func-cd87e1af050cc5fe8a76a7dbd344defa', 0, 12, 6), ('block_func-cd87e1af050cc5fe8a76a7dbd344defa', 0, 11, 8), ('block_func-cd87e1af050cc5fe8a76a7dbd344defa', 0, 13, 5), ('block_func-cd87e1af050cc5fe8a76a7dbd344defa', 0, 2, 5), ('block_func-cd87e1af050cc5fe8a76a7dbd344defa', 0, 4, 2), ('block_func-cd87e1af050cc5fe8a76a7dbd344defa', 0, 10, 6), ('block_func-cd87e1af050cc5fe8a76a7dbd344defa', 0, 9, 10), ('block_func-cd87e1af050cc5fe8a76a7dbd344defa', 0, 0, 7), ('block_func-cd87e1af050cc5fe8a76a7dbd344defa', 0, 14, 6), ('block_func-cd87e1af050cc5fe8a76a7dbd344defa', 0, 5, 3), ('block_func-cd87e1af050cc5fe8a76a7dbd344defa', 0, 3, 3), ('block_func-cd87e1af050cc5fe8a76a7dbd344defa', 0, 6, 2), ('block_func-cd87e1af050cc5fe8a76a7dbd344defa', 0, 16, 3), ('block_func-cd87e1af050cc5fe8a76a7dbd344defa', 0, 15, 5), ('block_func-cd87e1af050cc5fe8a76a7dbd344defa', 0, 8, 8), ('block_func-cd87e1af050cc5fe8a76a7dbd344defa', 0, 12, 8), ('block_func-cd87e1af050cc5fe8a76a7dbd344defa', 0, 11, 10), ('block_func-cd87e1af050cc5fe8a76a7dbd344defa', 0, 2, 7), ('block_func-cd87e1af050cc5fe8a76a7dbd344defa', 0, 13, 7), ('block_func-cd87e1af050cc5fe8a76a7dbd344defa', 0, 4, 4), ('block_func-cd87e1af050cc5fe8a76a7dbd344defa', 0, 0, 0), ('block_func-cd87e1af050cc5fe8a76a7dbd344defa', 0, 0, 9), ('block_func-cd87e1af050cc5fe8a76a7dbd344defa', 0, 14, 8), ('block_func-cd87e1af050cc5fe8a76a7dbd344defa', 0, 1, 8), ('block_func-cd87e1af050cc5fe8a76a7dbd344defa', 0, 15, 7), ('block_func-cd87e1af050cc5fe8a76a7dbd344defa', 0, 6, 4), ('block_func-cd87e1af050cc5fe8a76a7dbd344defa', 0, 8, 1), ('block_func-cd87e1af050cc5fe8a76a7dbd344defa', 0, 3, 5), ('block_func-cd87e1af050cc5fe8a76a7dbd344defa', 0, 12, 1), ('block_func-cd87e1af050cc5fe8a76a7dbd344defa', 0, 11, 3), ('block_func-cd87e1af050cc5fe8a76a7dbd344defa', 0, 13, 0), ('block_func-cd87e1af050cc5fe8a76a7dbd344defa', 0, 2, 0), ('block_func-cd87e1af050cc5fe8a76a7dbd344defa', 0, 12, 10), ('block_func-cd87e1af050cc5fe8a76a7dbd344defa', 0, 13, 9), ('block_func-cd87e1af050cc5fe8a76a7dbd344defa', 0, 2, 9), ('block_func-cd87e1af050cc5fe8a76a7dbd344defa', 0, 4, 6), ('block_func-cd87e1af050cc5fe8a76a7dbd344defa', 0, 9, 5), ('block_func-cd87e1af050cc5fe8a76a7dbd344defa', 0, 0, 2), ('block_func-cd87e1af050cc5fe8a76a7dbd344defa', 0, 14, 1), ('block_func-cd87e1af050cc5fe8a76a7dbd344defa', 0, 15, 0), ('block_func-cd87e1af050cc5fe8a76a7dbd344defa', 0, 1, 10), ('block_func-cd87e1af050cc5fe8a76a7dbd344defa', 0, 3, 7), ('block_func-cd87e1af050cc5fe8a76a7dbd344defa', 0, 6, 6), ('block_func-cd87e1af050cc5fe8a76a7dbd344defa', 0, 15, 9), ('block_func-cd87e1af050cc5fe8a76a7dbd344defa', 0, 7, 7), ('block_func-cd87e1af050cc5fe8a76a7dbd344defa', 0, 12, 3), ('block_func-cd87e1af050cc5fe8a76a7dbd344defa', 0, 11, 5), ('block_func-cd87e1af050cc5fe8a76a7dbd344defa', 0, 2, 2), ('block_func-cd87e1af050cc5fe8a76a7dbd344defa', 0, 13, 2), ('block_func-cd87e1af050cc5fe8a76a7dbd344defa', 0, 4, 8), ('block_func-cd87e1af050cc5fe8a76a7dbd344defa', 0, 9, 7), ('block_func-cd87e1af050cc5fe8a76a7dbd344defa', 0, 0, 4), ('block_func-cd87e1af050cc5fe8a76a7dbd344defa', 0, 14, 3), ('block_func-cd87e1af050cc5fe8a76a7dbd344defa', 0, 1, 3), ('block_func-cd87e1af050cc5fe8a76a7dbd344defa', 0, 15, 2), ('block_func-cd87e1af050cc5fe8a76a7dbd344defa', 0, 3, 0), ('block_func-cd87e1af050cc5fe8a76a7dbd344defa', 0, 3, 9), ('block_func-cd87e1af050cc5fe8a76a7dbd344defa', 0, 7, 0), ('block_func-cd87e1af050cc5fe8a76a7dbd344defa', 0, 7, 9), ('block_func-cd87e1af050cc5fe8a76a7dbd344defa', 0, 11, 7), ('block_func-cd87e1af050cc5fe8a76a7dbd344defa', 0, 13, 4), ('block_func-cd87e1af050cc5fe8a76a7dbd344defa', 0, 4, 1), ('block_func-cd87e1af050cc5fe8a76a7dbd344defa', 0, 2, 4), ('block_func-cd87e1af050cc5fe8a76a7dbd344defa', 0, 9, 0), ('block_func-cd87e1af050cc5fe8a76a7dbd344defa', 0, 9, 9), ('block_func-cd87e1af050cc5fe8a76a7dbd344defa', 0, 0, 6), ('block_func-cd87e1af050cc5fe8a76a7dbd344defa', 0, 10, 8), ('block_func-cd87e1af050cc5fe8a76a7dbd344defa', 0, 1, 5), ('block_func-cd87e1af050cc5fe8a76a7dbd344defa', 0, 15, 4), ('block_func-cd87e1af050cc5fe8a76a7dbd344defa', 0, 3, 2), ('block_func-cd87e1af050cc5fe8a76a7dbd344defa', 0, 6, 1), ('block_func-cd87e1af050cc5fe8a76a7dbd344defa', 0, 5, 5), ('block_func-cd87e1af050cc5fe8a76a7dbd344defa', 0, 7, 2), ('block_func-cd87e1af050cc5fe8a76a7dbd344defa', 0, 16, 5), ('block_func-cd87e1af050cc5fe8a76a7dbd344defa', 0, 11, 0), ('block_func-cd87e1af050cc5fe8a76a7dbd344defa', 0, 8, 10), ('block_func-cd87e1af050cc5fe8a76a7dbd344defa', 0, 11, 9), ('block_func-cd87e1af050cc5fe8a76a7dbd344defa', 0, 2, 6), ('block_func-cd87e1af050cc5fe8a76a7dbd344defa', 0, 13, 6), ('block_func-cd87e1af050cc5fe8a76a7dbd344defa', 0, 4, 3), ('block_func-cd87e1af050cc5fe8a76a7dbd344defa', 0, 9, 2), ('block_func-cd87e1af050cc5fe8a76a7dbd344defa', 0, 10, 1), ('block_func-cd87e1af050cc5fe8a76a7dbd344defa', 0, 0, 8), ('block_func-cd87e1af050cc5fe8a76a7dbd344defa', 0, 10, 10), ('block_func-cd87e1af050cc5fe8a76a7dbd344defa', 0, 1, 7), ('block_func-cd87e1af050cc5fe8a76a7dbd344defa', 0, 15, 6), ('block_func-cd87e1af050cc5fe8a76a7dbd344defa', 0, 3, 4), ('block_func-cd87e1af050cc5fe8a76a7dbd344defa', 0, 14, 10), ('block_func-cd87e1af050cc5fe8a76a7dbd344defa', 0, 5, 7), ('block_func-cd87e1af050cc5fe8a76a7dbd344defa', 0, 7, 4), ('block_func-cd87e1af050cc5fe8a76a7dbd344defa', 0, 16, 7), ('block_func-cd87e1af050cc5fe8a76a7dbd344defa', 0, 8, 3), ('block_func-cd87e1af050cc5fe8a76a7dbd344defa', 0, 11, 2), ('block_func-cd87e1af050cc5fe8a76a7dbd344defa', 0, 13, 8), ('block_func-cd87e1af050cc5fe8a76a7dbd344defa', 0, 2, 8), ('block_func-cd87e1af050cc5fe8a76a7dbd344defa', 0, 9, 4), ('block_func-cd87e1af050cc5fe8a76a7dbd344defa', 0, 0, 1), ('block_func-cd87e1af050cc5fe8a76a7dbd344defa', 0, 10, 3), ('block_func-cd87e1af050cc5fe8a76a7dbd344defa', 0, 1, 0), ('block_func-cd87e1af050cc5fe8a76a7dbd344defa', 0, 0, 10), ('block_func-cd87e1af050cc5fe8a76a7dbd344defa', 0, 1, 9), ('block_func-cd87e1af050cc5fe8a76a7dbd344defa', 0, 3, 6), ('block_func-cd87e1af050cc5fe8a76a7dbd344defa', 0, 16, 0), ('block_func-cd87e1af050cc5fe8a76a7dbd344defa', 0, 5, 0), ('block_func-cd87e1af050cc5fe8a76a7dbd344defa', 0, 5, 9), ('block_func-cd87e1af050cc5fe8a76a7dbd344defa', 0, 16, 9), ('block_func-cd87e1af050cc5fe8a76a7dbd344defa', 0, 7, 6), ('block_func-cd87e1af050cc5fe8a76a7dbd344defa', 0, 8, 5), ('block_func-cd87e1af050cc5fe8a76a7dbd344defa', 0, 11, 4), ('block_func-cd87e1af050cc5fe8a76a7dbd344defa', 0, 2, 1), ('block_func-cd87e1af050cc5fe8a76a7dbd344defa', 0, 6, 8), ('block_func-cd87e1af050cc5fe8a76a7dbd344defa', 0, 13, 1), ('block_func-cd87e1af050cc5fe8a76a7dbd344defa', 0, 12, 5), ('block_func-cd87e1af050cc5fe8a76a7dbd344defa', 0, 4, 10), ('block_func-cd87e1af050cc5fe8a76a7dbd344defa', 0, 9, 6), ('block_func-cd87e1af050cc5fe8a76a7dbd344defa', 0, 0, 3), ('block_func-cd87e1af050cc5fe8a76a7dbd344defa', 0, 10, 5), ('block_func-cd87e1af050cc5fe8a76a7dbd344defa', 0, 1, 2), ('block_func-cd87e1af050cc5fe8a76a7dbd344defa', 0, 3, 8), ('block_func-cd87e1af050cc5fe8a76a7dbd344defa', 0, 14, 5), ('block_func-cd87e1af050cc5fe8a76a7dbd344defa', 0, 16, 2), ('block_func-cd87e1af050cc5fe8a76a7dbd344defa', 0, 5, 2), ('block_func-cd87e1af050cc5fe8a76a7dbd344defa', 0, 7, 8), ('block_func-cd87e1af050cc5fe8a76a7dbd344defa', 0, 6, 10), ('block_func-cd87e1af050cc5fe8a76a7dbd344defa', 0, 8, 7), ('block_func-cd87e1af050cc5fe8a76a7dbd344defa', 0, 11, 6), ('block_func-cd87e1af050cc5fe8a76a7dbd344defa', 0, 12, 7))\n",
      "2025-04-15 18:56:21,623 - distributed.nanny - WARNING - Restarting worker\n",
      "/Users/rwegener/repos/chesapeake_mhw/notebooks/01_intermediate_processing/marineHeatWaves.py:281: RuntimeWarning: Mean of empty slice\n",
      "  seas_climYear[d-1] = np.nanmean(tempClim[tt.astype(int)])\n",
      "/Users/rwegener/miniconda3/envs/chesapeake_mhw/lib/python3.11/site-packages/numpy/lib/nanfunctions.py:1556: RuntimeWarning: All-NaN slice encountered\n",
      "  return function_base._ureduce(a,\n",
      "/Users/rwegener/repos/chesapeake_mhw/notebooks/01_intermediate_processing/marineHeatWaves.py:281: RuntimeWarning: Mean of empty slice\n",
      "  seas_climYear[d-1] = np.nanmean(tempClim[tt.astype(int)])\n",
      "/Users/rwegener/miniconda3/envs/chesapeake_mhw/lib/python3.11/site-packages/numpy/lib/nanfunctions.py:1556: RuntimeWarning: All-NaN slice encountered\n",
      "  return function_base._ureduce(a,\n",
      "/Users/rwegener/repos/chesapeake_mhw/notebooks/01_intermediate_processing/marineHeatWaves.py:281: RuntimeWarning: Mean of empty slice\n",
      "  seas_climYear[d-1] = np.nanmean(tempClim[tt.astype(int)])\n",
      "/Users/rwegener/miniconda3/envs/chesapeake_mhw/lib/python3.11/site-packages/numpy/lib/nanfunctions.py:1556: RuntimeWarning: All-NaN slice encountered\n",
      "  return function_base._ureduce(a,\n",
      "/Users/rwegener/miniconda3/envs/chesapeake_mhw/lib/python3.11/site-packages/numpy/lib/nanfunctions.py:1556: RuntimeWarning: All-NaN slice encountered\n",
      "  return function_base._ureduce(a,\n",
      "/Users/rwegener/repos/chesapeake_mhw/notebooks/01_intermediate_processing/marineHeatWaves.py:281: RuntimeWarning: Mean of empty slice\n",
      "  seas_climYear[d-1] = np.nanmean(tempClim[tt.astype(int)])\n",
      "2025-04-15 18:59:12,738 - tornado.application - ERROR - Uncaught exception GET /status/ws (::1)\n",
      "HTTPServerRequest(protocol='http', host='localhost:8787', method='GET', uri='/status/ws', version='HTTP/1.1', remote_ip='::1')\n",
      "Traceback (most recent call last):\n",
      "  File \"/Users/rwegener/miniconda3/envs/chesapeake_mhw/lib/python3.11/site-packages/tornado/websocket.py\", line 942, in _accept_connection\n",
      "    open_result = handler.open(*handler.open_args, **handler.open_kwargs)\n",
      "                  ^^^^^^^^^^^^^^^^^^^^^^^^^^^^^^^^^^^^^^^^^^^^^^^^^^^^^^^\n",
      "  File \"/Users/rwegener/miniconda3/envs/chesapeake_mhw/lib/python3.11/site-packages/tornado/web.py\", line 3208, in wrapper\n",
      "    return method(self, *args, **kwargs)\n",
      "           ^^^^^^^^^^^^^^^^^^^^^^^^^^^^^\n",
      "  File \"/Users/rwegener/miniconda3/envs/chesapeake_mhw/lib/python3.11/site-packages/bokeh/server/views/ws.py\", line 149, in open\n",
      "    raise ProtocolError(\"Token is expired.\")\n",
      "bokeh.protocol.exceptions.ProtocolError: Token is expired.\n",
      "2025-04-15 20:33:12,264 - distributed.nanny.memory - WARNING - Worker tcp://127.0.0.1:49772 (pid=1466) exceeded 95% memory budget. Restarting...\n",
      "2025-04-15 20:33:12,727 - distributed.nanny - WARNING - Restarting worker\n",
      "2025-04-15 20:33:12,730 - distributed.nanny.memory - WARNING - Worker tcp://127.0.0.1:49764 (pid=1462) exceeded 95% memory budget. Restarting...\n",
      "2025-04-15 20:33:12,772 - distributed.nanny.memory - WARNING - Worker tcp://127.0.0.1:49761 (pid=1461) exceeded 95% memory budget. Restarting...\n",
      "2025-04-15 20:33:13,016 - distributed.nanny - WARNING - Restarting worker\n",
      "2025-04-15 20:33:13,022 - distributed.nanny - WARNING - Restarting worker\n",
      "2025-04-15 20:33:13,471 - distributed.nanny.memory - WARNING - Worker tcp://127.0.0.1:49769 (pid=1465) exceeded 95% memory budget. Restarting...\n",
      "2025-04-15 20:33:13,643 - distributed.scheduler - ERROR - Couldn't gather keys: {('block_func-cd87e1af050cc5fe8a76a7dbd344defa', 0, 9, 8): 'waiting', ('block_func-cd87e1af050cc5fe8a76a7dbd344defa', 0, 10, 7): 'waiting', ('block_func-cd87e1af050cc5fe8a76a7dbd344defa', 0, 1, 4): 'waiting', ('block_func-cd87e1af050cc5fe8a76a7dbd344defa', 0, 3, 1): 'waiting', ('block_func-cd87e1af050cc5fe8a76a7dbd344defa', 0, 14, 7): 'waiting', ('block_func-cd87e1af050cc5fe8a76a7dbd344defa', 0, 16, 4): 'waiting', ('block_func-cd87e1af050cc5fe8a76a7dbd344defa', 0, 5, 4): 'waiting', ('block_func-cd87e1af050cc5fe8a76a7dbd344defa', 0, 6, 3): 'waiting', ('block_func-cd87e1af050cc5fe8a76a7dbd344defa', 0, 8, 0): 'waiting', ('block_func-cd87e1af050cc5fe8a76a7dbd344defa', 0, 7, 1): 'waiting', ('block_func-cd87e1af050cc5fe8a76a7dbd344defa', 0, 7, 10): 'waiting', ('block_func-cd87e1af050cc5fe8a76a7dbd344defa', 0, 8, 9): 'waiting', ('block_func-cd87e1af050cc5fe8a76a7dbd344defa', 0, 12, 0): 'waiting', ('block_func-cd87e1af050cc5fe8a76a7dbd344defa', 0, 12, 9): 'waiting', ('block_func-cd87e1af050cc5fe8a76a7dbd344defa', 0, 4, 5): 'waiting', ('block_func-cd87e1af050cc5fe8a76a7dbd344defa', 0, 9, 1): 'waiting', ('block_func-cd87e1af050cc5fe8a76a7dbd344defa', 0, 10, 0): 'waiting', ('block_func-cd87e1af050cc5fe8a76a7dbd344defa', 0, 10, 9): 'waiting', ('block_func-cd87e1af050cc5fe8a76a7dbd344defa', 0, 1, 6): 'waiting', ('block_func-cd87e1af050cc5fe8a76a7dbd344defa', 0, 14, 0): 'waiting', ('block_func-cd87e1af050cc5fe8a76a7dbd344defa', 0, 14, 9): 'waiting', ('block_func-cd87e1af050cc5fe8a76a7dbd344defa', 0, 16, 6): 'waiting', ('block_func-cd87e1af050cc5fe8a76a7dbd344defa', 0, 15, 8): 'waiting', ('block_func-cd87e1af050cc5fe8a76a7dbd344defa', 0, 6, 5): 'waiting', ('block_func-cd87e1af050cc5fe8a76a7dbd344defa', 0, 8, 2): 'waiting', ('block_func-cd87e1af050cc5fe8a76a7dbd344defa', 0, 11, 1): 'waiting', ('block_func-cd87e1af050cc5fe8a76a7dbd344defa', 0, 7, 3): 'waiting', ('block_func-cd87e1af050cc5fe8a76a7dbd344defa', 0, 5, 6): 'waiting', ('block_func-cd87e1af050cc5fe8a76a7dbd344defa', 0, 12, 2): 'waiting', ('block_func-cd87e1af050cc5fe8a76a7dbd344defa', 0, 2, 10): 'waiting', ('block_func-cd87e1af050cc5fe8a76a7dbd344defa', 0, 13, 10): 'waiting', ('block_func-cd87e1af050cc5fe8a76a7dbd344defa', 0, 4, 7): 'waiting', ('block_func-cd87e1af050cc5fe8a76a7dbd344defa', 0, 9, 3): 'waiting', ('block_func-cd87e1af050cc5fe8a76a7dbd344defa', 0, 10, 2): 'waiting', ('block_func-cd87e1af050cc5fe8a76a7dbd344defa', 0, 14, 2): 'waiting', ('block_func-cd87e1af050cc5fe8a76a7dbd344defa', 0, 15, 1): 'waiting', ('block_func-cd87e1af050cc5fe8a76a7dbd344defa', 0, 16, 8): 'waiting', ('block_func-cd87e1af050cc5fe8a76a7dbd344defa', 0, 15, 10): 'waiting', ('block_func-cd87e1af050cc5fe8a76a7dbd344defa', 0, 6, 7): 'waiting', ('block_func-cd87e1af050cc5fe8a76a7dbd344defa', 0, 5, 8): 'waiting', ('block_func-cd87e1af050cc5fe8a76a7dbd344defa', 0, 7, 5): 'waiting', ('block_func-cd87e1af050cc5fe8a76a7dbd344defa', 0, 8, 4): 'waiting', ('block_func-cd87e1af050cc5fe8a76a7dbd344defa', 0, 12, 4): 'waiting', ('block_func-cd87e1af050cc5fe8a76a7dbd344defa', 0, 2, 3): 'waiting', ('block_func-cd87e1af050cc5fe8a76a7dbd344defa', 0, 4, 0): 'waiting', ('block_func-cd87e1af050cc5fe8a76a7dbd344defa', 0, 13, 3): 'waiting', ('block_func-cd87e1af050cc5fe8a76a7dbd344defa', 0, 4, 9): 'waiting', ('block_func-cd87e1af050cc5fe8a76a7dbd344defa', 0, 10, 4): 'waiting', ('block_func-cd87e1af050cc5fe8a76a7dbd344defa', 0, 1, 1): 'waiting', ('block_func-cd87e1af050cc5fe8a76a7dbd344defa', 0, 0, 5): 'waiting', ('block_func-cd87e1af050cc5fe8a76a7dbd344defa', 0, 14, 4): 'waiting', ('block_func-cd87e1af050cc5fe8a76a7dbd344defa', 0, 16, 1): 'waiting', ('block_func-cd87e1af050cc5fe8a76a7dbd344defa', 0, 5, 1): 'waiting', ('block_func-cd87e1af050cc5fe8a76a7dbd344defa', 0, 15, 3): 'waiting', ('block_func-cd87e1af050cc5fe8a76a7dbd344defa', 0, 6, 0): 'waiting', ('block_func-cd87e1af050cc5fe8a76a7dbd344defa', 0, 5, 10): 'waiting', ('block_func-cd87e1af050cc5fe8a76a7dbd344defa', 0, 16, 10): 'waiting', ('block_func-cd87e1af050cc5fe8a76a7dbd344defa', 0, 6, 9): 'waiting', ('block_func-cd87e1af050cc5fe8a76a7dbd344defa', 0, 8, 6): 'waiting', ('block_func-cd87e1af050cc5fe8a76a7dbd344defa', 0, 3, 10): 'waiting', ('block_func-cd87e1af050cc5fe8a76a7dbd344defa', 0, 12, 6): 'waiting', ('block_func-cd87e1af050cc5fe8a76a7dbd344defa', 0, 11, 8): 'waiting', ('block_func-cd87e1af050cc5fe8a76a7dbd344defa', 0, 13, 5): 'waiting', ('block_func-cd87e1af050cc5fe8a76a7dbd344defa', 0, 2, 5): 'waiting', ('block_func-cd87e1af050cc5fe8a76a7dbd344defa', 0, 4, 2): 'waiting', ('block_func-cd87e1af050cc5fe8a76a7dbd344defa', 0, 10, 6): 'waiting', ('block_func-cd87e1af050cc5fe8a76a7dbd344defa', 0, 9, 10): 'waiting', ('block_func-cd87e1af050cc5fe8a76a7dbd344defa', 0, 0, 7): 'waiting', ('block_func-cd87e1af050cc5fe8a76a7dbd344defa', 0, 14, 6): 'waiting', ('block_func-cd87e1af050cc5fe8a76a7dbd344defa', 0, 5, 3): 'waiting', ('block_func-cd87e1af050cc5fe8a76a7dbd344defa', 0, 3, 3): 'waiting', ('block_func-cd87e1af050cc5fe8a76a7dbd344defa', 0, 6, 2): 'waiting', ('block_func-cd87e1af050cc5fe8a76a7dbd344defa', 0, 16, 3): 'waiting', ('block_func-cd87e1af050cc5fe8a76a7dbd344defa', 0, 15, 5): 'waiting', ('block_func-cd87e1af050cc5fe8a76a7dbd344defa', 0, 8, 8): 'waiting', ('block_func-cd87e1af050cc5fe8a76a7dbd344defa', 0, 12, 8): 'waiting', ('block_func-cd87e1af050cc5fe8a76a7dbd344defa', 0, 11, 10): 'waiting', ('block_func-cd87e1af050cc5fe8a76a7dbd344defa', 0, 2, 7): 'waiting', ('block_func-cd87e1af050cc5fe8a76a7dbd344defa', 0, 13, 7): 'waiting', ('block_func-cd87e1af050cc5fe8a76a7dbd344defa', 0, 4, 4): 'waiting', ('block_func-cd87e1af050cc5fe8a76a7dbd344defa', 0, 0, 0): 'waiting', ('block_func-cd87e1af050cc5fe8a76a7dbd344defa', 0, 0, 9): 'waiting', ('block_func-cd87e1af050cc5fe8a76a7dbd344defa', 0, 14, 8): 'waiting', ('block_func-cd87e1af050cc5fe8a76a7dbd344defa', 0, 1, 8): 'waiting', ('block_func-cd87e1af050cc5fe8a76a7dbd344defa', 0, 15, 7): 'waiting', ('block_func-cd87e1af050cc5fe8a76a7dbd344defa', 0, 6, 4): 'waiting', ('block_func-cd87e1af050cc5fe8a76a7dbd344defa', 0, 8, 1): 'waiting', ('block_func-cd87e1af050cc5fe8a76a7dbd344defa', 0, 3, 5): 'waiting', ('block_func-cd87e1af050cc5fe8a76a7dbd344defa', 0, 12, 1): 'waiting', ('block_func-cd87e1af050cc5fe8a76a7dbd344defa', 0, 11, 3): 'waiting', ('block_func-cd87e1af050cc5fe8a76a7dbd344defa', 0, 13, 0): 'waiting', ('block_func-cd87e1af050cc5fe8a76a7dbd344defa', 0, 2, 0): 'waiting', ('block_func-cd87e1af050cc5fe8a76a7dbd344defa', 0, 12, 10): 'waiting', ('block_func-cd87e1af050cc5fe8a76a7dbd344defa', 0, 13, 9): 'waiting', ('block_func-cd87e1af050cc5fe8a76a7dbd344defa', 0, 2, 9): 'waiting', ('block_func-cd87e1af050cc5fe8a76a7dbd344defa', 0, 4, 6): 'waiting', ('block_func-cd87e1af050cc5fe8a76a7dbd344defa', 0, 9, 5): 'waiting', ('block_func-cd87e1af050cc5fe8a76a7dbd344defa', 0, 0, 2): 'waiting', ('block_func-cd87e1af050cc5fe8a76a7dbd344defa', 0, 14, 1): 'waiting', ('block_func-cd87e1af050cc5fe8a76a7dbd344defa', 0, 15, 0): 'waiting', ('block_func-cd87e1af050cc5fe8a76a7dbd344defa', 0, 1, 10): 'waiting', ('block_func-cd87e1af050cc5fe8a76a7dbd344defa', 0, 3, 7): 'waiting', ('block_func-cd87e1af050cc5fe8a76a7dbd344defa', 0, 6, 6): 'waiting', ('block_func-cd87e1af050cc5fe8a76a7dbd344defa', 0, 15, 9): 'waiting', ('block_func-cd87e1af050cc5fe8a76a7dbd344defa', 0, 7, 7): 'waiting', ('block_func-cd87e1af050cc5fe8a76a7dbd344defa', 0, 12, 3): 'waiting', ('block_func-cd87e1af050cc5fe8a76a7dbd344defa', 0, 11, 5): 'waiting', ('block_func-cd87e1af050cc5fe8a76a7dbd344defa', 0, 2, 2): 'waiting', ('block_func-cd87e1af050cc5fe8a76a7dbd344defa', 0, 13, 2): 'waiting', ('block_func-cd87e1af050cc5fe8a76a7dbd344defa', 0, 4, 8): 'waiting', ('block_func-cd87e1af050cc5fe8a76a7dbd344defa', 0, 9, 7): 'waiting', ('block_func-cd87e1af050cc5fe8a76a7dbd344defa', 0, 0, 4): 'waiting', ('block_func-cd87e1af050cc5fe8a76a7dbd344defa', 0, 14, 3): 'waiting', ('block_func-cd87e1af050cc5fe8a76a7dbd344defa', 0, 1, 3): 'waiting', ('block_func-cd87e1af050cc5fe8a76a7dbd344defa', 0, 15, 2): 'waiting', ('block_func-cd87e1af050cc5fe8a76a7dbd344defa', 0, 3, 0): 'waiting', ('block_func-cd87e1af050cc5fe8a76a7dbd344defa', 0, 3, 9): 'waiting', ('block_func-cd87e1af050cc5fe8a76a7dbd344defa', 0, 7, 0): 'waiting', ('block_func-cd87e1af050cc5fe8a76a7dbd344defa', 0, 7, 9): 'waiting', ('block_func-cd87e1af050cc5fe8a76a7dbd344defa', 0, 11, 7): 'waiting', ('block_func-cd87e1af050cc5fe8a76a7dbd344defa', 0, 13, 4): 'waiting', ('block_func-cd87e1af050cc5fe8a76a7dbd344defa', 0, 4, 1): 'waiting', ('block_func-cd87e1af050cc5fe8a76a7dbd344defa', 0, 2, 4): 'waiting', ('block_func-cd87e1af050cc5fe8a76a7dbd344defa', 0, 9, 0): 'waiting', ('block_func-cd87e1af050cc5fe8a76a7dbd344defa', 0, 9, 9): 'waiting', ('block_func-cd87e1af050cc5fe8a76a7dbd344defa', 0, 0, 6): 'waiting', ('block_func-cd87e1af050cc5fe8a76a7dbd344defa', 0, 10, 8): 'waiting', ('block_func-cd87e1af050cc5fe8a76a7dbd344defa', 0, 1, 5): 'waiting', ('block_func-cd87e1af050cc5fe8a76a7dbd344defa', 0, 15, 4): 'waiting', ('block_func-cd87e1af050cc5fe8a76a7dbd344defa', 0, 3, 2): 'waiting', ('block_func-cd87e1af050cc5fe8a76a7dbd344defa', 0, 6, 1): 'waiting', ('block_func-cd87e1af050cc5fe8a76a7dbd344defa', 0, 5, 5): 'waiting', ('block_func-cd87e1af050cc5fe8a76a7dbd344defa', 0, 7, 2): 'waiting', ('block_func-cd87e1af050cc5fe8a76a7dbd344defa', 0, 16, 5): 'waiting', ('block_func-cd87e1af050cc5fe8a76a7dbd344defa', 0, 11, 0): 'waiting', ('block_func-cd87e1af050cc5fe8a76a7dbd344defa', 0, 8, 10): 'waiting', ('block_func-cd87e1af050cc5fe8a76a7dbd344defa', 0, 11, 9): 'waiting', ('block_func-cd87e1af050cc5fe8a76a7dbd344defa', 0, 2, 6): 'waiting', ('block_func-cd87e1af050cc5fe8a76a7dbd344defa', 0, 13, 6): 'waiting', ('block_func-cd87e1af050cc5fe8a76a7dbd344defa', 0, 4, 3): 'waiting', ('block_func-cd87e1af050cc5fe8a76a7dbd344defa', 0, 9, 2): 'waiting', ('block_func-cd87e1af050cc5fe8a76a7dbd344defa', 0, 10, 1): 'waiting', ('block_func-cd87e1af050cc5fe8a76a7dbd344defa', 0, 0, 8): 'waiting', ('block_func-cd87e1af050cc5fe8a76a7dbd344defa', 0, 10, 10): 'waiting', ('block_func-cd87e1af050cc5fe8a76a7dbd344defa', 0, 1, 7): 'waiting', ('block_func-cd87e1af050cc5fe8a76a7dbd344defa', 0, 15, 6): 'waiting', ('block_func-cd87e1af050cc5fe8a76a7dbd344defa', 0, 3, 4): 'waiting', ('block_func-cd87e1af050cc5fe8a76a7dbd344defa', 0, 14, 10): 'waiting', ('block_func-cd87e1af050cc5fe8a76a7dbd344defa', 0, 5, 7): 'waiting', ('block_func-cd87e1af050cc5fe8a76a7dbd344defa', 0, 7, 4): 'waiting', ('block_func-cd87e1af050cc5fe8a76a7dbd344defa', 0, 16, 7): 'waiting', ('block_func-cd87e1af050cc5fe8a76a7dbd344defa', 0, 8, 3): 'waiting', ('block_func-cd87e1af050cc5fe8a76a7dbd344defa', 0, 11, 2): 'waiting', ('block_func-cd87e1af050cc5fe8a76a7dbd344defa', 0, 13, 8): 'waiting', ('block_func-cd87e1af050cc5fe8a76a7dbd344defa', 0, 2, 8): 'waiting', ('block_func-cd87e1af050cc5fe8a76a7dbd344defa', 0, 9, 4): 'waiting', ('block_func-cd87e1af050cc5fe8a76a7dbd344defa', 0, 0, 1): 'waiting', ('block_func-cd87e1af050cc5fe8a76a7dbd344defa', 0, 10, 3): 'waiting', ('block_func-cd87e1af050cc5fe8a76a7dbd344defa', 0, 1, 0): 'waiting', ('block_func-cd87e1af050cc5fe8a76a7dbd344defa', 0, 0, 10): 'waiting', ('block_func-cd87e1af050cc5fe8a76a7dbd344defa', 0, 1, 9): 'waiting', ('block_func-cd87e1af050cc5fe8a76a7dbd344defa', 0, 3, 6): 'waiting', ('block_func-cd87e1af050cc5fe8a76a7dbd344defa', 0, 16, 0): 'waiting', ('block_func-cd87e1af050cc5fe8a76a7dbd344defa', 0, 5, 0): 'waiting', ('block_func-cd87e1af050cc5fe8a76a7dbd344defa', 0, 5, 9): 'waiting', ('block_func-cd87e1af050cc5fe8a76a7dbd344defa', 0, 16, 9): 'waiting', ('block_func-cd87e1af050cc5fe8a76a7dbd344defa', 0, 7, 6): 'waiting', ('block_func-cd87e1af050cc5fe8a76a7dbd344defa', 0, 8, 5): 'waiting', ('block_func-cd87e1af050cc5fe8a76a7dbd344defa', 0, 11, 4): 'waiting', ('block_func-cd87e1af050cc5fe8a76a7dbd344defa', 0, 2, 1): 'waiting', ('block_func-cd87e1af050cc5fe8a76a7dbd344defa', 0, 6, 8): 'waiting', ('block_func-cd87e1af050cc5fe8a76a7dbd344defa', 0, 13, 1): 'waiting', ('block_func-cd87e1af050cc5fe8a76a7dbd344defa', 0, 12, 5): 'waiting', ('block_func-cd87e1af050cc5fe8a76a7dbd344defa', 0, 4, 10): 'waiting', ('block_func-cd87e1af050cc5fe8a76a7dbd344defa', 0, 9, 6): 'waiting', ('block_func-cd87e1af050cc5fe8a76a7dbd344defa', 0, 0, 3): 'waiting', ('block_func-cd87e1af050cc5fe8a76a7dbd344defa', 0, 10, 5): 'waiting', ('block_func-cd87e1af050cc5fe8a76a7dbd344defa', 0, 1, 2): 'waiting', ('block_func-cd87e1af050cc5fe8a76a7dbd344defa', 0, 3, 8): 'waiting', ('block_func-cd87e1af050cc5fe8a76a7dbd344defa', 0, 14, 5): 'waiting', ('block_func-cd87e1af050cc5fe8a76a7dbd344defa', 0, 16, 2): 'waiting', ('block_func-cd87e1af050cc5fe8a76a7dbd344defa', 0, 5, 2): 'waiting', ('block_func-cd87e1af050cc5fe8a76a7dbd344defa', 0, 7, 8): 'waiting', ('block_func-cd87e1af050cc5fe8a76a7dbd344defa', 0, 6, 10): 'waiting', ('block_func-cd87e1af050cc5fe8a76a7dbd344defa', 0, 8, 7): 'waiting', ('block_func-cd87e1af050cc5fe8a76a7dbd344defa', 0, 11, 6): 'waiting', ('block_func-cd87e1af050cc5fe8a76a7dbd344defa', 0, 12, 7): 'waiting'}\n",
      "2025-04-15 20:33:13,648 - distributed.client - WARNING - Couldn't gather 187 keys, rescheduling (('block_func-cd87e1af050cc5fe8a76a7dbd344defa', 0, 9, 8), ('block_func-cd87e1af050cc5fe8a76a7dbd344defa', 0, 10, 7), ('block_func-cd87e1af050cc5fe8a76a7dbd344defa', 0, 1, 4), ('block_func-cd87e1af050cc5fe8a76a7dbd344defa', 0, 3, 1), ('block_func-cd87e1af050cc5fe8a76a7dbd344defa', 0, 14, 7), ('block_func-cd87e1af050cc5fe8a76a7dbd344defa', 0, 16, 4), ('block_func-cd87e1af050cc5fe8a76a7dbd344defa', 0, 5, 4), ('block_func-cd87e1af050cc5fe8a76a7dbd344defa', 0, 6, 3), ('block_func-cd87e1af050cc5fe8a76a7dbd344defa', 0, 8, 0), ('block_func-cd87e1af050cc5fe8a76a7dbd344defa', 0, 7, 1), ('block_func-cd87e1af050cc5fe8a76a7dbd344defa', 0, 7, 10), ('block_func-cd87e1af050cc5fe8a76a7dbd344defa', 0, 8, 9), ('block_func-cd87e1af050cc5fe8a76a7dbd344defa', 0, 12, 0), ('block_func-cd87e1af050cc5fe8a76a7dbd344defa', 0, 12, 9), ('block_func-cd87e1af050cc5fe8a76a7dbd344defa', 0, 4, 5), ('block_func-cd87e1af050cc5fe8a76a7dbd344defa', 0, 9, 1), ('block_func-cd87e1af050cc5fe8a76a7dbd344defa', 0, 10, 0), ('block_func-cd87e1af050cc5fe8a76a7dbd344defa', 0, 10, 9), ('block_func-cd87e1af050cc5fe8a76a7dbd344defa', 0, 1, 6), ('block_func-cd87e1af050cc5fe8a76a7dbd344defa', 0, 14, 0), ('block_func-cd87e1af050cc5fe8a76a7dbd344defa', 0, 14, 9), ('block_func-cd87e1af050cc5fe8a76a7dbd344defa', 0, 16, 6), ('block_func-cd87e1af050cc5fe8a76a7dbd344defa', 0, 15, 8), ('block_func-cd87e1af050cc5fe8a76a7dbd344defa', 0, 6, 5), ('block_func-cd87e1af050cc5fe8a76a7dbd344defa', 0, 8, 2), ('block_func-cd87e1af050cc5fe8a76a7dbd344defa', 0, 11, 1), ('block_func-cd87e1af050cc5fe8a76a7dbd344defa', 0, 7, 3), ('block_func-cd87e1af050cc5fe8a76a7dbd344defa', 0, 5, 6), ('block_func-cd87e1af050cc5fe8a76a7dbd344defa', 0, 12, 2), ('block_func-cd87e1af050cc5fe8a76a7dbd344defa', 0, 2, 10), ('block_func-cd87e1af050cc5fe8a76a7dbd344defa', 0, 13, 10), ('block_func-cd87e1af050cc5fe8a76a7dbd344defa', 0, 4, 7), ('block_func-cd87e1af050cc5fe8a76a7dbd344defa', 0, 9, 3), ('block_func-cd87e1af050cc5fe8a76a7dbd344defa', 0, 10, 2), ('block_func-cd87e1af050cc5fe8a76a7dbd344defa', 0, 14, 2), ('block_func-cd87e1af050cc5fe8a76a7dbd344defa', 0, 15, 1), ('block_func-cd87e1af050cc5fe8a76a7dbd344defa', 0, 16, 8), ('block_func-cd87e1af050cc5fe8a76a7dbd344defa', 0, 15, 10), ('block_func-cd87e1af050cc5fe8a76a7dbd344defa', 0, 6, 7), ('block_func-cd87e1af050cc5fe8a76a7dbd344defa', 0, 5, 8), ('block_func-cd87e1af050cc5fe8a76a7dbd344defa', 0, 7, 5), ('block_func-cd87e1af050cc5fe8a76a7dbd344defa', 0, 8, 4), ('block_func-cd87e1af050cc5fe8a76a7dbd344defa', 0, 12, 4), ('block_func-cd87e1af050cc5fe8a76a7dbd344defa', 0, 2, 3), ('block_func-cd87e1af050cc5fe8a76a7dbd344defa', 0, 4, 0), ('block_func-cd87e1af050cc5fe8a76a7dbd344defa', 0, 13, 3), ('block_func-cd87e1af050cc5fe8a76a7dbd344defa', 0, 4, 9), ('block_func-cd87e1af050cc5fe8a76a7dbd344defa', 0, 10, 4), ('block_func-cd87e1af050cc5fe8a76a7dbd344defa', 0, 1, 1), ('block_func-cd87e1af050cc5fe8a76a7dbd344defa', 0, 0, 5), ('block_func-cd87e1af050cc5fe8a76a7dbd344defa', 0, 14, 4), ('block_func-cd87e1af050cc5fe8a76a7dbd344defa', 0, 16, 1), ('block_func-cd87e1af050cc5fe8a76a7dbd344defa', 0, 5, 1), ('block_func-cd87e1af050cc5fe8a76a7dbd344defa', 0, 15, 3), ('block_func-cd87e1af050cc5fe8a76a7dbd344defa', 0, 6, 0), ('block_func-cd87e1af050cc5fe8a76a7dbd344defa', 0, 5, 10), ('block_func-cd87e1af050cc5fe8a76a7dbd344defa', 0, 16, 10), ('block_func-cd87e1af050cc5fe8a76a7dbd344defa', 0, 6, 9), ('block_func-cd87e1af050cc5fe8a76a7dbd344defa', 0, 8, 6), ('block_func-cd87e1af050cc5fe8a76a7dbd344defa', 0, 3, 10), ('block_func-cd87e1af050cc5fe8a76a7dbd344defa', 0, 12, 6), ('block_func-cd87e1af050cc5fe8a76a7dbd344defa', 0, 11, 8), ('block_func-cd87e1af050cc5fe8a76a7dbd344defa', 0, 13, 5), ('block_func-cd87e1af050cc5fe8a76a7dbd344defa', 0, 2, 5), ('block_func-cd87e1af050cc5fe8a76a7dbd344defa', 0, 4, 2), ('block_func-cd87e1af050cc5fe8a76a7dbd344defa', 0, 10, 6), ('block_func-cd87e1af050cc5fe8a76a7dbd344defa', 0, 9, 10), ('block_func-cd87e1af050cc5fe8a76a7dbd344defa', 0, 0, 7), ('block_func-cd87e1af050cc5fe8a76a7dbd344defa', 0, 14, 6), ('block_func-cd87e1af050cc5fe8a76a7dbd344defa', 0, 5, 3), ('block_func-cd87e1af050cc5fe8a76a7dbd344defa', 0, 3, 3), ('block_func-cd87e1af050cc5fe8a76a7dbd344defa', 0, 6, 2), ('block_func-cd87e1af050cc5fe8a76a7dbd344defa', 0, 16, 3), ('block_func-cd87e1af050cc5fe8a76a7dbd344defa', 0, 15, 5), ('block_func-cd87e1af050cc5fe8a76a7dbd344defa', 0, 8, 8), ('block_func-cd87e1af050cc5fe8a76a7dbd344defa', 0, 12, 8), ('block_func-cd87e1af050cc5fe8a76a7dbd344defa', 0, 11, 10), ('block_func-cd87e1af050cc5fe8a76a7dbd344defa', 0, 2, 7), ('block_func-cd87e1af050cc5fe8a76a7dbd344defa', 0, 13, 7), ('block_func-cd87e1af050cc5fe8a76a7dbd344defa', 0, 4, 4), ('block_func-cd87e1af050cc5fe8a76a7dbd344defa', 0, 0, 0), ('block_func-cd87e1af050cc5fe8a76a7dbd344defa', 0, 0, 9), ('block_func-cd87e1af050cc5fe8a76a7dbd344defa', 0, 14, 8), ('block_func-cd87e1af050cc5fe8a76a7dbd344defa', 0, 1, 8), ('block_func-cd87e1af050cc5fe8a76a7dbd344defa', 0, 15, 7), ('block_func-cd87e1af050cc5fe8a76a7dbd344defa', 0, 6, 4), ('block_func-cd87e1af050cc5fe8a76a7dbd344defa', 0, 8, 1), ('block_func-cd87e1af050cc5fe8a76a7dbd344defa', 0, 3, 5), ('block_func-cd87e1af050cc5fe8a76a7dbd344defa', 0, 12, 1), ('block_func-cd87e1af050cc5fe8a76a7dbd344defa', 0, 11, 3), ('block_func-cd87e1af050cc5fe8a76a7dbd344defa', 0, 13, 0), ('block_func-cd87e1af050cc5fe8a76a7dbd344defa', 0, 2, 0), ('block_func-cd87e1af050cc5fe8a76a7dbd344defa', 0, 12, 10), ('block_func-cd87e1af050cc5fe8a76a7dbd344defa', 0, 13, 9), ('block_func-cd87e1af050cc5fe8a76a7dbd344defa', 0, 2, 9), ('block_func-cd87e1af050cc5fe8a76a7dbd344defa', 0, 4, 6), ('block_func-cd87e1af050cc5fe8a76a7dbd344defa', 0, 9, 5), ('block_func-cd87e1af050cc5fe8a76a7dbd344defa', 0, 0, 2), ('block_func-cd87e1af050cc5fe8a76a7dbd344defa', 0, 14, 1), ('block_func-cd87e1af050cc5fe8a76a7dbd344defa', 0, 15, 0), ('block_func-cd87e1af050cc5fe8a76a7dbd344defa', 0, 1, 10), ('block_func-cd87e1af050cc5fe8a76a7dbd344defa', 0, 3, 7), ('block_func-cd87e1af050cc5fe8a76a7dbd344defa', 0, 6, 6), ('block_func-cd87e1af050cc5fe8a76a7dbd344defa', 0, 15, 9), ('block_func-cd87e1af050cc5fe8a76a7dbd344defa', 0, 7, 7), ('block_func-cd87e1af050cc5fe8a76a7dbd344defa', 0, 12, 3), ('block_func-cd87e1af050cc5fe8a76a7dbd344defa', 0, 11, 5), ('block_func-cd87e1af050cc5fe8a76a7dbd344defa', 0, 2, 2), ('block_func-cd87e1af050cc5fe8a76a7dbd344defa', 0, 13, 2), ('block_func-cd87e1af050cc5fe8a76a7dbd344defa', 0, 4, 8), ('block_func-cd87e1af050cc5fe8a76a7dbd344defa', 0, 9, 7), ('block_func-cd87e1af050cc5fe8a76a7dbd344defa', 0, 0, 4), ('block_func-cd87e1af050cc5fe8a76a7dbd344defa', 0, 14, 3), ('block_func-cd87e1af050cc5fe8a76a7dbd344defa', 0, 1, 3), ('block_func-cd87e1af050cc5fe8a76a7dbd344defa', 0, 15, 2), ('block_func-cd87e1af050cc5fe8a76a7dbd344defa', 0, 3, 0), ('block_func-cd87e1af050cc5fe8a76a7dbd344defa', 0, 3, 9), ('block_func-cd87e1af050cc5fe8a76a7dbd344defa', 0, 7, 0), ('block_func-cd87e1af050cc5fe8a76a7dbd344defa', 0, 7, 9), ('block_func-cd87e1af050cc5fe8a76a7dbd344defa', 0, 11, 7), ('block_func-cd87e1af050cc5fe8a76a7dbd344defa', 0, 13, 4), ('block_func-cd87e1af050cc5fe8a76a7dbd344defa', 0, 4, 1), ('block_func-cd87e1af050cc5fe8a76a7dbd344defa', 0, 2, 4), ('block_func-cd87e1af050cc5fe8a76a7dbd344defa', 0, 9, 0), ('block_func-cd87e1af050cc5fe8a76a7dbd344defa', 0, 9, 9), ('block_func-cd87e1af050cc5fe8a76a7dbd344defa', 0, 0, 6), ('block_func-cd87e1af050cc5fe8a76a7dbd344defa', 0, 10, 8), ('block_func-cd87e1af050cc5fe8a76a7dbd344defa', 0, 1, 5), ('block_func-cd87e1af050cc5fe8a76a7dbd344defa', 0, 15, 4), ('block_func-cd87e1af050cc5fe8a76a7dbd344defa', 0, 3, 2), ('block_func-cd87e1af050cc5fe8a76a7dbd344defa', 0, 6, 1), ('block_func-cd87e1af050cc5fe8a76a7dbd344defa', 0, 5, 5), ('block_func-cd87e1af050cc5fe8a76a7dbd344defa', 0, 7, 2), ('block_func-cd87e1af050cc5fe8a76a7dbd344defa', 0, 16, 5), ('block_func-cd87e1af050cc5fe8a76a7dbd344defa', 0, 11, 0), ('block_func-cd87e1af050cc5fe8a76a7dbd344defa', 0, 8, 10), ('block_func-cd87e1af050cc5fe8a76a7dbd344defa', 0, 11, 9), ('block_func-cd87e1af050cc5fe8a76a7dbd344defa', 0, 2, 6), ('block_func-cd87e1af050cc5fe8a76a7dbd344defa', 0, 13, 6), ('block_func-cd87e1af050cc5fe8a76a7dbd344defa', 0, 4, 3), ('block_func-cd87e1af050cc5fe8a76a7dbd344defa', 0, 9, 2), ('block_func-cd87e1af050cc5fe8a76a7dbd344defa', 0, 10, 1), ('block_func-cd87e1af050cc5fe8a76a7dbd344defa', 0, 0, 8), ('block_func-cd87e1af050cc5fe8a76a7dbd344defa', 0, 10, 10), ('block_func-cd87e1af050cc5fe8a76a7dbd344defa', 0, 1, 7), ('block_func-cd87e1af050cc5fe8a76a7dbd344defa', 0, 15, 6), ('block_func-cd87e1af050cc5fe8a76a7dbd344defa', 0, 3, 4), ('block_func-cd87e1af050cc5fe8a76a7dbd344defa', 0, 14, 10), ('block_func-cd87e1af050cc5fe8a76a7dbd344defa', 0, 5, 7), ('block_func-cd87e1af050cc5fe8a76a7dbd344defa', 0, 7, 4), ('block_func-cd87e1af050cc5fe8a76a7dbd344defa', 0, 16, 7), ('block_func-cd87e1af050cc5fe8a76a7dbd344defa', 0, 8, 3), ('block_func-cd87e1af050cc5fe8a76a7dbd344defa', 0, 11, 2), ('block_func-cd87e1af050cc5fe8a76a7dbd344defa', 0, 13, 8), ('block_func-cd87e1af050cc5fe8a76a7dbd344defa', 0, 2, 8), ('block_func-cd87e1af050cc5fe8a76a7dbd344defa', 0, 9, 4), ('block_func-cd87e1af050cc5fe8a76a7dbd344defa', 0, 0, 1), ('block_func-cd87e1af050cc5fe8a76a7dbd344defa', 0, 10, 3), ('block_func-cd87e1af050cc5fe8a76a7dbd344defa', 0, 1, 0), ('block_func-cd87e1af050cc5fe8a76a7dbd344defa', 0, 0, 10), ('block_func-cd87e1af050cc5fe8a76a7dbd344defa', 0, 1, 9), ('block_func-cd87e1af050cc5fe8a76a7dbd344defa', 0, 3, 6), ('block_func-cd87e1af050cc5fe8a76a7dbd344defa', 0, 16, 0), ('block_func-cd87e1af050cc5fe8a76a7dbd344defa', 0, 5, 0), ('block_func-cd87e1af050cc5fe8a76a7dbd344defa', 0, 5, 9), ('block_func-cd87e1af050cc5fe8a76a7dbd344defa', 0, 16, 9), ('block_func-cd87e1af050cc5fe8a76a7dbd344defa', 0, 7, 6), ('block_func-cd87e1af050cc5fe8a76a7dbd344defa', 0, 8, 5), ('block_func-cd87e1af050cc5fe8a76a7dbd344defa', 0, 11, 4), ('block_func-cd87e1af050cc5fe8a76a7dbd344defa', 0, 2, 1), ('block_func-cd87e1af050cc5fe8a76a7dbd344defa', 0, 6, 8), ('block_func-cd87e1af050cc5fe8a76a7dbd344defa', 0, 13, 1), ('block_func-cd87e1af050cc5fe8a76a7dbd344defa', 0, 12, 5), ('block_func-cd87e1af050cc5fe8a76a7dbd344defa', 0, 4, 10), ('block_func-cd87e1af050cc5fe8a76a7dbd344defa', 0, 9, 6), ('block_func-cd87e1af050cc5fe8a76a7dbd344defa', 0, 0, 3), ('block_func-cd87e1af050cc5fe8a76a7dbd344defa', 0, 10, 5), ('block_func-cd87e1af050cc5fe8a76a7dbd344defa', 0, 1, 2), ('block_func-cd87e1af050cc5fe8a76a7dbd344defa', 0, 3, 8), ('block_func-cd87e1af050cc5fe8a76a7dbd344defa', 0, 14, 5), ('block_func-cd87e1af050cc5fe8a76a7dbd344defa', 0, 16, 2), ('block_func-cd87e1af050cc5fe8a76a7dbd344defa', 0, 5, 2), ('block_func-cd87e1af050cc5fe8a76a7dbd344defa', 0, 7, 8), ('block_func-cd87e1af050cc5fe8a76a7dbd344defa', 0, 6, 10), ('block_func-cd87e1af050cc5fe8a76a7dbd344defa', 0, 8, 7), ('block_func-cd87e1af050cc5fe8a76a7dbd344defa', 0, 11, 6), ('block_func-cd87e1af050cc5fe8a76a7dbd344defa', 0, 12, 7))\n",
      "2025-04-15 20:33:13,657 - distributed.nanny - WARNING - Restarting worker\n",
      "/Users/rwegener/miniconda3/envs/chesapeake_mhw/lib/python3.11/site-packages/numpy/lib/nanfunctions.py:1556: RuntimeWarning: All-NaN slice encountered\n",
      "  return function_base._ureduce(a,\n",
      "/Users/rwegener/repos/chesapeake_mhw/notebooks/01_intermediate_processing/marineHeatWaves.py:281: RuntimeWarning: Mean of empty slice\n",
      "  seas_climYear[d-1] = np.nanmean(tempClim[tt.astype(int)])\n",
      "/Users/rwegener/miniconda3/envs/chesapeake_mhw/lib/python3.11/site-packages/numpy/lib/nanfunctions.py:1556: RuntimeWarning: All-NaN slice encountered\n",
      "  return function_base._ureduce(a,\n",
      "/Users/rwegener/miniconda3/envs/chesapeake_mhw/lib/python3.11/site-packages/numpy/lib/nanfunctions.py:1556: RuntimeWarning: All-NaN slice encountered\n",
      "  return function_base._ureduce(a,\n",
      "/Users/rwegener/repos/chesapeake_mhw/notebooks/01_intermediate_processing/marineHeatWaves.py:281: RuntimeWarning: Mean of empty slice\n",
      "  seas_climYear[d-1] = np.nanmean(tempClim[tt.astype(int)])\n",
      "/Users/rwegener/repos/chesapeake_mhw/notebooks/01_intermediate_processing/marineHeatWaves.py:281: RuntimeWarning: Mean of empty slice\n",
      "  seas_climYear[d-1] = np.nanmean(tempClim[tt.astype(int)])\n",
      "/Users/rwegener/miniconda3/envs/chesapeake_mhw/lib/python3.11/site-packages/numpy/lib/nanfunctions.py:1556: RuntimeWarning: All-NaN slice encountered\n",
      "  return function_base._ureduce(a,\n",
      "/Users/rwegener/repos/chesapeake_mhw/notebooks/01_intermediate_processing/marineHeatWaves.py:281: RuntimeWarning: Mean of empty slice\n",
      "  seas_climYear[d-1] = np.nanmean(tempClim[tt.astype(int)])\n"
     ]
    }
   ],
   "source": [
    "%%time\n",
    "\n",
    "result = identify_marineheatwaves(sst_np, time_ordinal)"
   ]
  },
  {
   "cell_type": "code",
   "execution_count": null,
   "id": "e8613778-4394-4d8c-92f8-01b5815cd66d",
   "metadata": {
    "scrolled": true
   },
   "outputs": [],
   "source": [
    "clim_np, _ = extract_numpy_outputs(result, len(time_ordinal))\n",
    "# threshold output from MUR is ignored since it is not used"
   ]
  },
  {
   "cell_type": "markdown",
   "id": "510a2bba-5524-426c-9087-c2fe8a092585",
   "metadata": {},
   "source": [
    "Note that the output of this function is of the same length as time_ordinal. The daily climatological values are repeated multiple times to match length."
   ]
  },
  {
   "cell_type": "markdown",
   "id": "7aab90be-3fc6-4684-8ae4-589bae01f512",
   "metadata": {},
   "source": [
    "### Save climatological average"
   ]
  },
  {
   "cell_type": "code",
   "execution_count": null,
   "id": "e03aee44-d8ef-4054-9359-0ef55e5e4592",
   "metadata": {},
   "outputs": [],
   "source": [
    "# create xarray object from numpy output of mhw\n",
    "clim = xr.DataArray(clim_np, coords = mur.coords, dims=mur.dims)\n",
    "\n",
    "# rename variables\n",
    "clim = clim.rename('climatology')\n",
    "\n",
    "# add array attributes\n",
    "clim.attrs['comment'] = 'climatology computed using the marineHeatWave package. ' \\\n",
    "    'Uses all defaults from .detect() function - 5 day window half width, 31 day smoothing' \\\n",
    "\n",
    "clim.attrs['source_dataset'] = 'NASA MUR'\n",
    "clim.attrs['units'] = 'celsius'\n",
    "clim.attrs['processing_date'] = datetime.strftime(date.today(), '%Y-%m-%d')\n",
    "clim.rio.write_crs(4326, inplace=True)"
   ]
  },
  {
   "cell_type": "code",
   "execution_count": null,
   "id": "b895ddc0-4887-4108-8a8b-09dc8882e2f8",
   "metadata": {},
   "outputs": [],
   "source": [
    "clim.to_dataset().to_netcdf(OUTPUT_DIR / 'mur_climatology_chesapeakestem.nc')"
   ]
  },
  {
   "cell_type": "markdown",
   "id": "a0a816cb-91fc-47e4-bbe8-a4607ec3997f",
   "metadata": {},
   "source": [
    "## Calculate Marine Heatwaves using `marineHeatWaves` Package: **OSTIA SST**\n",
    "\n",
    "Restart kernel before running OSTIA"
   ]
  },
  {
   "cell_type": "markdown",
   "id": "7d2523d9-1e81-4a63-8894-2c81a31817cb",
   "metadata": {},
   "source": [
    "### Open OSTIA SST"
   ]
  },
  {
   "cell_type": "code",
   "execution_count": null,
   "id": "356ac347-3728-4cb9-89e3-df0bc0100209",
   "metadata": {},
   "outputs": [],
   "source": [
    "path = (\n",
    "    REPO_ROOT / 'data/01_raw' / \n",
    "    'METOFFICE-GLO-SST-L4-NRT-OBS-SST-V2_analysed_sst_CBstem_2007-01-01-2023-12-31.nc'\n",
    ")\n",
    "ostia = xr.open_dataset(path).analysed_sst"
   ]
  },
  {
   "cell_type": "code",
   "execution_count": null,
   "id": "85a5317b-7a69-4860-b3dd-2617b3b97e34",
   "metadata": {},
   "outputs": [],
   "source": [
    "# convert kelvin to celsius & update metadata\n",
    "ostia.values = ostia.values - 273.15\n",
    "ostia.attrs.update({\n",
    "    'units': 'celsius', \n",
    "})"
   ]
  },
  {
   "cell_type": "code",
   "execution_count": null,
   "id": "4e2d024b-41e9-4eb5-ad37-1d77168212a3",
   "metadata": {},
   "outputs": [],
   "source": [
    "ostia.isel(time=0).plot()"
   ]
  },
  {
   "cell_type": "markdown",
   "id": "f01f316a-a80c-4fd5-8643-5c8257757280",
   "metadata": {},
   "source": [
    "### Preprocessing"
   ]
  },
  {
   "cell_type": "code",
   "execution_count": null,
   "id": "ea412a96-b523-4c0b-b3ce-5f6513274b9d",
   "metadata": {},
   "outputs": [],
   "source": [
    "# Convert datetimes to ordinal time format\n",
    "time_ordinal = format_time(ostia.time.values)\n",
    "# Extract numpy array from xarray DataArray\n",
    "sst_np = ostia.values"
   ]
  },
  {
   "cell_type": "markdown",
   "id": "2e6d6e60-6abe-400d-9136-98701b4fea64",
   "metadata": {},
   "source": [
    "### Identify marine heatwaves with `mhw.detect()` (OSTIA)\n",
    "\n",
    "Identify marine heatwaves using the `mhw.detect()` function from the marineHeatWaves Python package. The marineHeatWaves package can only process one time series of temperature data at a time (ex. one pixel of data over a period of time). The `identify_marineheatwaves()` function here wraps `mhw.detect()` and applies it to all the pixels in a satellite image.\n",
    "\n",
    "`identify_marineheatwaves()` can take some time, depending on the size of the dataset. This step typically ran in 4 minutes on my computer."
   ]
  },
  {
   "cell_type": "code",
   "execution_count": null,
   "id": "7cb284bf-7d11-4f98-b5d9-7d8512686131",
   "metadata": {
    "scrolled": true,
    "tags": []
   },
   "outputs": [],
   "source": [
    "%%time\n",
    "\n",
    "result = identify_marineheatwaves(sst_np, time_ordinal)"
   ]
  },
  {
   "cell_type": "markdown",
   "id": "6b4096db-5086-43c4-9008-b45a3945b002",
   "metadata": {},
   "source": [
    "The `mhw.detect()` function returns two sets things:\n",
    "1. (index 0) The MHW event statistics for all the events\n",
    "2. (index 1) A dictionary containing the climatology (`seas`), threshold (`thresh`) and missing (`missing`) values from the array\n",
    "These two things are axis 0 and 1, respectively, of the `res` array that gets returned from the `.compute()` above. Each of these two outputs is produced for every pixel location of the array.\n",
    "\n",
    "Below we split these two pieces into different datasets to save them."
   ]
  },
  {
   "cell_type": "code",
   "execution_count": null,
   "id": "50146103-3aa9-4dd3-937c-9acca0dcfa03",
   "metadata": {
    "tags": []
   },
   "outputs": [],
   "source": [
    "event_statistics = result[0]"
   ]
  },
  {
   "cell_type": "code",
   "execution_count": null,
   "id": "8894cbd4-c054-4372-8983-a3853c0f48dc",
   "metadata": {},
   "outputs": [],
   "source": [
    "clim_np, _ = extract_numpy_outputs(result, len(time_ordinal))\n",
    "# threshold output from OSTIA is ignored since it is not used"
   ]
  },
  {
   "cell_type": "markdown",
   "id": "452598c4-39da-4928-a97e-acbc8f8106e2",
   "metadata": {},
   "source": [
    "Note that the output of this function is of the same length as time_ordinal. The daily climatological values are repeated multiple times to match length."
   ]
  },
  {
   "cell_type": "markdown",
   "id": "89312ce7-8665-4f76-859e-b2e10c614ae6",
   "metadata": {},
   "source": [
    "### Save climatological average"
   ]
  },
  {
   "cell_type": "code",
   "execution_count": null,
   "id": "7f9e97cb-01e3-4aae-b5e4-20e56449eb33",
   "metadata": {},
   "outputs": [],
   "source": [
    "# create xarray object from numpy output of mhw\n",
    "clim = xr.DataArray(clim_np, coords = ostia.coords, dims=ostia.dims)\n",
    "clim = clim.rename({'latitude': 'lat', 'longitude': 'lon'})\n",
    "\n",
    "# rename variables\n",
    "clim = clim.rename('climatology')\n",
    "\n",
    "# add array attributes\n",
    "clim.attrs['comment'] = 'climatology computed using the marineHeatWave package. ' \\\n",
    "    'Uses all defaults from .detect() function - 5 day window half width, 31 day smoothing' \\\n",
    "\n",
    "clim.attrs['source_dataset'] = 'Copernicus OSTIA'\n",
    "clim.attrs['units'] = 'celsius'\n",
    "clim.attrs['processing_date'] = datetime.strftime(date.today(), '%Y-%m-%d')\n",
    "clim.rio.write_crs(4326, inplace=True)"
   ]
  },
  {
   "cell_type": "code",
   "execution_count": null,
   "id": "f4f6ed41-d8fd-4cec-9a37-be4c220caff3",
   "metadata": {},
   "outputs": [],
   "source": [
    "clim.to_dataset().to_netcdf(OUTPUT_DIR / 'ostia_climatology_chesapeakestem.nc')"
   ]
  },
  {
   "cell_type": "code",
   "execution_count": null,
   "id": "92020bac-47a6-4320-894c-a0eae6bc3603",
   "metadata": {},
   "outputs": [],
   "source": []
  }
 ],
 "metadata": {
  "kernelspec": {
   "display_name": "Python [conda env:chesapeake_mhw]",
   "language": "python",
   "name": "conda-env-chesapeake_mhw-py"
  },
  "language_info": {
   "codemirror_mode": {
    "name": "ipython",
    "version": 3
   },
   "file_extension": ".py",
   "mimetype": "text/x-python",
   "name": "python",
   "nbconvert_exporter": "python",
   "pygments_lexer": "ipython3",
   "version": "3.11.0"
  }
 },
 "nbformat": 4,
 "nbformat_minor": 5
}
