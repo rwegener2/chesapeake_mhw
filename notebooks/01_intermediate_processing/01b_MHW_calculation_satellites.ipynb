{
 "cells": [
  {
   "cell_type": "markdown",
   "id": "ed55cd61-28d9-4c56-918f-501e725da3d6",
   "metadata": {},
   "source": [
    "# MHW Calculation and Satellite Climatology\n",
    "\n",
    "This notebook computes the MHW event statistics as a Python dictionary. It also generates a netcdf of the climtology and threshold values for each of the pixels in the CBay.\n",
    "\n",
    "- Geo-Polar\n",
    "- MUR\n",
    "- OSTIA\n",
    "\n",
    "- All: identify MHW, save climatology output\n",
    "- Extras for just Geo-Polar: save event statistics, save threshold output, compute detrended sst and use to identify MHW\n",
    "\n",
    "Explain dask -- uncomment dask lines (ex. Client()) to use dask backend. Not needed for small datasets, but should speed up processing."
   ]
  },
  {
   "cell_type": "markdown",
   "id": "432497ae-7c6d-40e2-935d-ffc30309b74d",
   "metadata": {},
   "source": [
    "**QUESTION** do we ever use the threshold information? Maybe it doesn't need to be saved (probably not for MUR/OSTIA, but maybe not for geopolar, either?)"
   ]
  },
  {
   "cell_type": "code",
   "execution_count": 1,
   "id": "c72e2985-e6a2-432a-84c4-2552287559d5",
   "metadata": {},
   "outputs": [],
   "source": [
    "import os\n",
    "import pickle\n",
    "from typing import Union\n",
    "import collections\n",
    "from datetime import datetime, date\n",
    "\n",
    "import xarray as xr\n",
    "import numpy as np\n",
    "from scipy import stats\n",
    "import pandas as pd\n",
    "import dask.array as da\n",
    "from dask.distributed import Client\n",
    "import marineHeatWaves as mhw"
   ]
  },
  {
   "cell_type": "code",
   "execution_count": 2,
   "id": "791ce888-3c7a-49ec-9d49-8b024289eab7",
   "metadata": {},
   "outputs": [],
   "source": [
    "REPO_ROOT = os.getenv('REPO_ROOT', '/Users/rwegener/repos/chesapeake_mhw')"
   ]
  },
  {
   "cell_type": "code",
   "execution_count": 3,
   "id": "4ade3d62-008d-4993-8bbd-8d7d04e04691",
   "metadata": {},
   "outputs": [],
   "source": [
    "# Folder in which to store processed climatologies and thresholds\n",
    "OUTPUT_DIR = os.path.join(REPO_ROOT, 'data/interim')"
   ]
  },
  {
   "cell_type": "code",
   "execution_count": 4,
   "id": "5686680b-1fd2-450b-b1d8-01a428db9dad",
   "metadata": {},
   "outputs": [],
   "source": [
    "# dask.config.set({'temporary_directory':'/Users/rwegener/repos/'})\n",
    "\n",
    "client = Client()"
   ]
  },
  {
   "cell_type": "code",
   "execution_count": 5,
   "id": "5f636381-6b49-4c49-ba04-98af8642419e",
   "metadata": {},
   "outputs": [
    {
     "data": {
      "text/html": [
       "<div>\n",
       "    <div style=\"width: 24px; height: 24px; background-color: #e1e1e1; border: 3px solid #9D9D9D; border-radius: 5px; position: absolute;\"> </div>\n",
       "    <div style=\"margin-left: 48px;\">\n",
       "        <h3 style=\"margin-bottom: 0px;\">Client</h3>\n",
       "        <p style=\"color: #9D9D9D; margin-bottom: 0px;\">Client-2829f4d2-d50c-11ef-968c-acde48001122</p>\n",
       "        <table style=\"width: 100%; text-align: left;\">\n",
       "\n",
       "        <tr>\n",
       "        \n",
       "            <td style=\"text-align: left;\"><strong>Connection method:</strong> Cluster object</td>\n",
       "            <td style=\"text-align: left;\"><strong>Cluster type:</strong> distributed.LocalCluster</td>\n",
       "        \n",
       "        </tr>\n",
       "\n",
       "        \n",
       "            <tr>\n",
       "                <td style=\"text-align: left;\">\n",
       "                    <strong>Dashboard: </strong> <a href=\"http://127.0.0.1:8787/status\" target=\"_blank\">http://127.0.0.1:8787/status</a>\n",
       "                </td>\n",
       "                <td style=\"text-align: left;\"></td>\n",
       "            </tr>\n",
       "        \n",
       "\n",
       "        </table>\n",
       "\n",
       "        \n",
       "            <details>\n",
       "            <summary style=\"margin-bottom: 20px;\"><h3 style=\"display: inline;\">Cluster Info</h3></summary>\n",
       "            <div class=\"jp-RenderedHTMLCommon jp-RenderedHTML jp-mod-trusted jp-OutputArea-output\">\n",
       "    <div style=\"width: 24px; height: 24px; background-color: #e1e1e1; border: 3px solid #9D9D9D; border-radius: 5px; position: absolute;\">\n",
       "    </div>\n",
       "    <div style=\"margin-left: 48px;\">\n",
       "        <h3 style=\"margin-bottom: 0px; margin-top: 0px;\">LocalCluster</h3>\n",
       "        <p style=\"color: #9D9D9D; margin-bottom: 0px;\">c91751df</p>\n",
       "        <table style=\"width: 100%; text-align: left;\">\n",
       "            <tr>\n",
       "                <td style=\"text-align: left;\">\n",
       "                    <strong>Dashboard:</strong> <a href=\"http://127.0.0.1:8787/status\" target=\"_blank\">http://127.0.0.1:8787/status</a>\n",
       "                </td>\n",
       "                <td style=\"text-align: left;\">\n",
       "                    <strong>Workers:</strong> 4\n",
       "                </td>\n",
       "            </tr>\n",
       "            <tr>\n",
       "                <td style=\"text-align: left;\">\n",
       "                    <strong>Total threads:</strong> 8\n",
       "                </td>\n",
       "                <td style=\"text-align: left;\">\n",
       "                    <strong>Total memory:</strong> 16.00 GiB\n",
       "                </td>\n",
       "            </tr>\n",
       "            \n",
       "            <tr>\n",
       "    <td style=\"text-align: left;\"><strong>Status:</strong> running</td>\n",
       "    <td style=\"text-align: left;\"><strong>Using processes:</strong> True</td>\n",
       "</tr>\n",
       "\n",
       "            \n",
       "        </table>\n",
       "\n",
       "        <details>\n",
       "            <summary style=\"margin-bottom: 20px;\">\n",
       "                <h3 style=\"display: inline;\">Scheduler Info</h3>\n",
       "            </summary>\n",
       "\n",
       "            <div style=\"\">\n",
       "    <div>\n",
       "        <div style=\"width: 24px; height: 24px; background-color: #FFF7E5; border: 3px solid #FF6132; border-radius: 5px; position: absolute;\"> </div>\n",
       "        <div style=\"margin-left: 48px;\">\n",
       "            <h3 style=\"margin-bottom: 0px;\">Scheduler</h3>\n",
       "            <p style=\"color: #9D9D9D; margin-bottom: 0px;\">Scheduler-81c5b1a0-d7ff-4149-bb68-ca82d4985419</p>\n",
       "            <table style=\"width: 100%; text-align: left;\">\n",
       "                <tr>\n",
       "                    <td style=\"text-align: left;\">\n",
       "                        <strong>Comm:</strong> tcp://127.0.0.1:54502\n",
       "                    </td>\n",
       "                    <td style=\"text-align: left;\">\n",
       "                        <strong>Workers:</strong> 4\n",
       "                    </td>\n",
       "                </tr>\n",
       "                <tr>\n",
       "                    <td style=\"text-align: left;\">\n",
       "                        <strong>Dashboard:</strong> <a href=\"http://127.0.0.1:8787/status\" target=\"_blank\">http://127.0.0.1:8787/status</a>\n",
       "                    </td>\n",
       "                    <td style=\"text-align: left;\">\n",
       "                        <strong>Total threads:</strong> 8\n",
       "                    </td>\n",
       "                </tr>\n",
       "                <tr>\n",
       "                    <td style=\"text-align: left;\">\n",
       "                        <strong>Started:</strong> Just now\n",
       "                    </td>\n",
       "                    <td style=\"text-align: left;\">\n",
       "                        <strong>Total memory:</strong> 16.00 GiB\n",
       "                    </td>\n",
       "                </tr>\n",
       "            </table>\n",
       "        </div>\n",
       "    </div>\n",
       "\n",
       "    <details style=\"margin-left: 48px;\">\n",
       "        <summary style=\"margin-bottom: 20px;\">\n",
       "            <h3 style=\"display: inline;\">Workers</h3>\n",
       "        </summary>\n",
       "\n",
       "        \n",
       "        <div style=\"margin-bottom: 20px;\">\n",
       "            <div style=\"width: 24px; height: 24px; background-color: #DBF5FF; border: 3px solid #4CC9FF; border-radius: 5px; position: absolute;\"> </div>\n",
       "            <div style=\"margin-left: 48px;\">\n",
       "            <details>\n",
       "                <summary>\n",
       "                    <h4 style=\"margin-bottom: 0px; display: inline;\">Worker: 0</h4>\n",
       "                </summary>\n",
       "                <table style=\"width: 100%; text-align: left;\">\n",
       "                    <tr>\n",
       "                        <td style=\"text-align: left;\">\n",
       "                            <strong>Comm: </strong> tcp://127.0.0.1:54514\n",
       "                        </td>\n",
       "                        <td style=\"text-align: left;\">\n",
       "                            <strong>Total threads: </strong> 2\n",
       "                        </td>\n",
       "                    </tr>\n",
       "                    <tr>\n",
       "                        <td style=\"text-align: left;\">\n",
       "                            <strong>Dashboard: </strong> <a href=\"http://127.0.0.1:54515/status\" target=\"_blank\">http://127.0.0.1:54515/status</a>\n",
       "                        </td>\n",
       "                        <td style=\"text-align: left;\">\n",
       "                            <strong>Memory: </strong> 4.00 GiB\n",
       "                        </td>\n",
       "                    </tr>\n",
       "                    <tr>\n",
       "                        <td style=\"text-align: left;\">\n",
       "                            <strong>Nanny: </strong> tcp://127.0.0.1:54506\n",
       "                        </td>\n",
       "                        <td style=\"text-align: left;\"></td>\n",
       "                    </tr>\n",
       "                    <tr>\n",
       "                        <td colspan=\"2\" style=\"text-align: left;\">\n",
       "                            <strong>Local directory: </strong> /Users/rwegener/repos/chesapeake_mhw/notebooks/01_intermediate_processing/dask-worker-space/worker-cd9qxkri\n",
       "                        </td>\n",
       "                    </tr>\n",
       "\n",
       "                    \n",
       "\n",
       "                    \n",
       "\n",
       "                </table>\n",
       "            </details>\n",
       "            </div>\n",
       "        </div>\n",
       "        \n",
       "        <div style=\"margin-bottom: 20px;\">\n",
       "            <div style=\"width: 24px; height: 24px; background-color: #DBF5FF; border: 3px solid #4CC9FF; border-radius: 5px; position: absolute;\"> </div>\n",
       "            <div style=\"margin-left: 48px;\">\n",
       "            <details>\n",
       "                <summary>\n",
       "                    <h4 style=\"margin-bottom: 0px; display: inline;\">Worker: 1</h4>\n",
       "                </summary>\n",
       "                <table style=\"width: 100%; text-align: left;\">\n",
       "                    <tr>\n",
       "                        <td style=\"text-align: left;\">\n",
       "                            <strong>Comm: </strong> tcp://127.0.0.1:54519\n",
       "                        </td>\n",
       "                        <td style=\"text-align: left;\">\n",
       "                            <strong>Total threads: </strong> 2\n",
       "                        </td>\n",
       "                    </tr>\n",
       "                    <tr>\n",
       "                        <td style=\"text-align: left;\">\n",
       "                            <strong>Dashboard: </strong> <a href=\"http://127.0.0.1:54521/status\" target=\"_blank\">http://127.0.0.1:54521/status</a>\n",
       "                        </td>\n",
       "                        <td style=\"text-align: left;\">\n",
       "                            <strong>Memory: </strong> 4.00 GiB\n",
       "                        </td>\n",
       "                    </tr>\n",
       "                    <tr>\n",
       "                        <td style=\"text-align: left;\">\n",
       "                            <strong>Nanny: </strong> tcp://127.0.0.1:54508\n",
       "                        </td>\n",
       "                        <td style=\"text-align: left;\"></td>\n",
       "                    </tr>\n",
       "                    <tr>\n",
       "                        <td colspan=\"2\" style=\"text-align: left;\">\n",
       "                            <strong>Local directory: </strong> /Users/rwegener/repos/chesapeake_mhw/notebooks/01_intermediate_processing/dask-worker-space/worker-aaf9ysve\n",
       "                        </td>\n",
       "                    </tr>\n",
       "\n",
       "                    \n",
       "\n",
       "                    \n",
       "\n",
       "                </table>\n",
       "            </details>\n",
       "            </div>\n",
       "        </div>\n",
       "        \n",
       "        <div style=\"margin-bottom: 20px;\">\n",
       "            <div style=\"width: 24px; height: 24px; background-color: #DBF5FF; border: 3px solid #4CC9FF; border-radius: 5px; position: absolute;\"> </div>\n",
       "            <div style=\"margin-left: 48px;\">\n",
       "            <details>\n",
       "                <summary>\n",
       "                    <h4 style=\"margin-bottom: 0px; display: inline;\">Worker: 2</h4>\n",
       "                </summary>\n",
       "                <table style=\"width: 100%; text-align: left;\">\n",
       "                    <tr>\n",
       "                        <td style=\"text-align: left;\">\n",
       "                            <strong>Comm: </strong> tcp://127.0.0.1:54513\n",
       "                        </td>\n",
       "                        <td style=\"text-align: left;\">\n",
       "                            <strong>Total threads: </strong> 2\n",
       "                        </td>\n",
       "                    </tr>\n",
       "                    <tr>\n",
       "                        <td style=\"text-align: left;\">\n",
       "                            <strong>Dashboard: </strong> <a href=\"http://127.0.0.1:54516/status\" target=\"_blank\">http://127.0.0.1:54516/status</a>\n",
       "                        </td>\n",
       "                        <td style=\"text-align: left;\">\n",
       "                            <strong>Memory: </strong> 4.00 GiB\n",
       "                        </td>\n",
       "                    </tr>\n",
       "                    <tr>\n",
       "                        <td style=\"text-align: left;\">\n",
       "                            <strong>Nanny: </strong> tcp://127.0.0.1:54505\n",
       "                        </td>\n",
       "                        <td style=\"text-align: left;\"></td>\n",
       "                    </tr>\n",
       "                    <tr>\n",
       "                        <td colspan=\"2\" style=\"text-align: left;\">\n",
       "                            <strong>Local directory: </strong> /Users/rwegener/repos/chesapeake_mhw/notebooks/01_intermediate_processing/dask-worker-space/worker-ycawdm8n\n",
       "                        </td>\n",
       "                    </tr>\n",
       "\n",
       "                    \n",
       "\n",
       "                    \n",
       "\n",
       "                </table>\n",
       "            </details>\n",
       "            </div>\n",
       "        </div>\n",
       "        \n",
       "        <div style=\"margin-bottom: 20px;\">\n",
       "            <div style=\"width: 24px; height: 24px; background-color: #DBF5FF; border: 3px solid #4CC9FF; border-radius: 5px; position: absolute;\"> </div>\n",
       "            <div style=\"margin-left: 48px;\">\n",
       "            <details>\n",
       "                <summary>\n",
       "                    <h4 style=\"margin-bottom: 0px; display: inline;\">Worker: 3</h4>\n",
       "                </summary>\n",
       "                <table style=\"width: 100%; text-align: left;\">\n",
       "                    <tr>\n",
       "                        <td style=\"text-align: left;\">\n",
       "                            <strong>Comm: </strong> tcp://127.0.0.1:54520\n",
       "                        </td>\n",
       "                        <td style=\"text-align: left;\">\n",
       "                            <strong>Total threads: </strong> 2\n",
       "                        </td>\n",
       "                    </tr>\n",
       "                    <tr>\n",
       "                        <td style=\"text-align: left;\">\n",
       "                            <strong>Dashboard: </strong> <a href=\"http://127.0.0.1:54523/status\" target=\"_blank\">http://127.0.0.1:54523/status</a>\n",
       "                        </td>\n",
       "                        <td style=\"text-align: left;\">\n",
       "                            <strong>Memory: </strong> 4.00 GiB\n",
       "                        </td>\n",
       "                    </tr>\n",
       "                    <tr>\n",
       "                        <td style=\"text-align: left;\">\n",
       "                            <strong>Nanny: </strong> tcp://127.0.0.1:54507\n",
       "                        </td>\n",
       "                        <td style=\"text-align: left;\"></td>\n",
       "                    </tr>\n",
       "                    <tr>\n",
       "                        <td colspan=\"2\" style=\"text-align: left;\">\n",
       "                            <strong>Local directory: </strong> /Users/rwegener/repos/chesapeake_mhw/notebooks/01_intermediate_processing/dask-worker-space/worker-gehahbmw\n",
       "                        </td>\n",
       "                    </tr>\n",
       "\n",
       "                    \n",
       "\n",
       "                    \n",
       "\n",
       "                </table>\n",
       "            </details>\n",
       "            </div>\n",
       "        </div>\n",
       "        \n",
       "\n",
       "    </details>\n",
       "</div>\n",
       "\n",
       "        </details>\n",
       "    </div>\n",
       "</div>\n",
       "            </details>\n",
       "        \n",
       "\n",
       "    </div>\n",
       "</div>"
      ],
      "text/plain": [
       "<Client: 'tcp://127.0.0.1:54502' processes=4 threads=8, memory=16.00 GiB>"
      ]
     },
     "execution_count": 5,
     "metadata": {},
     "output_type": "execute_result"
    }
   ],
   "source": [
    "client"
   ]
  },
  {
   "cell_type": "markdown",
   "id": "74dacff2-9e8e-4b41-85fa-1d64c3f6af43",
   "metadata": {},
   "source": [
    "### Helper functions\n",
    "\n",
    "The processing in these functions is repeated several times throughout the notebook. That code has been consolidated here and given descriptive names to make reading the notebook easier."
   ]
  },
  {
   "cell_type": "code",
   "execution_count": 6,
   "id": "55de9384-a0ac-49f4-ae80-4d4c32481a7c",
   "metadata": {},
   "outputs": [],
   "source": [
    "def format_time(time_np: collections.abc.Iterable[Union[datetime, str]]) -> np.ndarray[int]:\n",
    "    \"\"\"\n",
    "    This function converts a datetime string to an ordinal datetime. Ordinal dates\n",
    "    are required for processing in the marineHeatWaves library.\n",
    "    Args:\n",
    "        time_np: an array of datetime strings of the format %Y-%m-%dT%H:%M:%S.000000000\n",
    "\n",
    "    Returns:\n",
    "        an array of ordinal dates (ex. 2005156)\n",
    "    \"\"\"\n",
    "    time_dt_list = [datetime.strptime(str(time), '%Y-%m-%dT%H:%M:%S.000000000') \n",
    "                    for time in time_np]\n",
    "    return np.array([time.toordinal() for time in time_dt_list])"
   ]
  },
  {
   "cell_type": "code",
   "execution_count": 7,
   "id": "c7539702-82e4-4cf3-86ce-7d221826c492",
   "metadata": {},
   "outputs": [],
   "source": [
    "def identify_marineheatwaves(sst_np: np.ndarray, time_ordinal: np.ndarray):\n",
    "    \"\"\"\n",
    "    This function uses the marineHeatWave package mhw.detect() and applies it\n",
    "    to all the pixels in a satellite data image. The output is numpy array of\n",
    "    the dictionaries that are returned from the mhw.detect() function.\n",
    "\n",
    "    Args:\n",
    "        sst_np: a 3D numpy array which gives SST values for a region. Axis 0 should\n",
    "        be the time axis\n",
    "        time_ordinal: a 1D numpy array which gives time values corresponding to\n",
    "        sst_np in ordinal format\n",
    "\n",
    "    Returns:\n",
    "        result: A list with two items containing 1) a numpy array with a dictionary\n",
    "        of marine heatwave statistics for each pixel and 2) a numpy array with the\n",
    "        climatological and threshold SST for each pixel\n",
    "    \"\"\"\n",
    "    sst_da = da.from_array(sst_np, chunks=(-1, 20, 20))\n",
    "\n",
    "    # define a wrapper to rearrange arguments\n",
    "    def func1d(arr, time):\n",
    "        return mhw.detect(time, arr)\n",
    "    \n",
    "    def block_func(block, **kwargs):\n",
    "        return np.apply_along_axis(func1d, 0, block, **kwargs)\n",
    "    \n",
    "    result = sst_da.map_blocks(block_func, meta=sst_da, time=time_ordinal)\n",
    "    result = result.compute()\n",
    "    return result"
   ]
  },
  {
   "cell_type": "code",
   "execution_count": 8,
   "id": "e950cfa8-a0a0-4fc6-bc2d-926248715601",
   "metadata": {},
   "outputs": [],
   "source": [
    "def extract_numpy_outputs(result: np.ndarray, time_length: int):\n",
    "    \"\"\"\n",
    "    The output from mhw.detect() provides a dictionary which holds the\n",
    "    climatological and threshold values for each day of the year as 1D arrays.\n",
    "    This function reshapes the data from this format to a 3D numpy array of shape\n",
    "    (time, lat, lon) for both climatological and threshold values.\n",
    "\n",
    "    Args:\n",
    "        result: output from a marineHeatWaves mhw.detect() function\n",
    "        time_length: the number of time steps in the time series\n",
    "\n",
    "    Result:\n",
    "        two numpy arrays of shape (time, lat, lon), one containing the climatological\n",
    "        SST values and the other containing the threshold SST values\n",
    "    \"\"\"\n",
    "    # Create 2D empty output arrays\n",
    "    lat_length, lon_length = result[1].shape\n",
    "    climatology = np.empty((time_length, lat_length, lon_length))\n",
    "    threshold = np.empty((time_length, lat_length, lon_length))\n",
    "\n",
    "    for i in range(result[1].shape[0]):\n",
    "        for j in range(result[1].shape[1]):\n",
    "            climatology[:, i, j] = result[1, i, j]['seas']\n",
    "            threshold[:, i, j] = result[1, i, j]['thresh']\n",
    "\n",
    "    return climatology, threshold"
   ]
  },
  {
   "cell_type": "code",
   "execution_count": 9,
   "id": "9cfd68d4-8fda-4ab7-8f1a-4bc20f36255b",
   "metadata": {},
   "outputs": [],
   "source": [
    "def detrend_sst(sst_np: np.ndarray, time_ordinal: np.ndarray) -> np.ndarray:\n",
    "    \"\"\"\n",
    "    Given a 3D numpy array of SST values this function returns a SST array with\n",
    "    the long term warming signal. Long term warming is assumed to be linear.\n",
    "    \"\"\"\n",
    "    sst_da = da.from_array(sst_np, chunks=(-1, 20, 20))\n",
    "\n",
    "    # define a wrapper to rearrange arguments\n",
    "    def func1d(arr, time):\n",
    "        def mxplusb(x, m, b):\n",
    "            return m*x + b\n",
    "        \n",
    "        res = stats.linregress(time, arr)\n",
    "        starting_temp = mxplusb(time[0], res.slope, res.intercept)\n",
    "        return arr - mxplusb(time, res.slope, res.intercept) + starting_temp\n",
    "    \n",
    "    def block_func(block, **kwargs):\n",
    "        return np.apply_along_axis(func1d, 0, block, **kwargs)\n",
    "    \n",
    "    detrended_sst = sst_da.map_blocks(block_func, meta=sst_da, time=time_ordinal)\n",
    "    detrended_sst = detrended_sst.compute()\n",
    "    return detrended_sst"
   ]
  },
  {
   "cell_type": "markdown",
   "id": "f9d1eda1-a73d-421c-8bf4-7485becd0065",
   "metadata": {},
   "source": [
    "## Calculate Marine Heatwaves using `marineHeatWaves` Package: **Geo-Polar SST**"
   ]
  },
  {
   "cell_type": "markdown",
   "id": "8abcd346-ef85-470d-87b3-125a7adeb6c4",
   "metadata": {},
   "source": [
    "### Open Geo-Polar SST"
   ]
  },
  {
   "cell_type": "code",
   "execution_count": 10,
   "id": "a9bb9a0b-6ef9-4c0d-abc3-7e79ca6b7ff1",
   "metadata": {},
   "outputs": [],
   "source": [
    "path = os.path.join(\n",
    "    REPO_ROOT, 'data/raw', \n",
    "    'L4_GHRSST-SSTfnd-Geo_Polar_Blended_Night-GLOB-v02.0-fv01.0_CB_20020901_20230831.nc'\n",
    ")\n",
    "geopolar = xr.open_dataset(path).analysed_sst"
   ]
  },
  {
   "cell_type": "code",
   "execution_count": 11,
   "id": "cb198e6b-c303-42a6-b324-3a6df69108eb",
   "metadata": {},
   "outputs": [],
   "source": [
    "# convert kelvin to celsius & update metadata\n",
    "geopolar.values = geopolar.values - 273.15\n",
    "geopolar.attrs.update({\n",
    "    'units': 'celsius',\n",
    "})"
   ]
  },
  {
   "cell_type": "code",
   "execution_count": 12,
   "id": "63cdce98-896c-46ec-9ddd-06a62a72e59f",
   "metadata": {},
   "outputs": [
    {
     "data": {
      "text/html": [
       "<div><svg style=\"position: absolute; width: 0; height: 0; overflow: hidden\">\n",
       "<defs>\n",
       "<symbol id=\"icon-database\" viewBox=\"0 0 32 32\">\n",
       "<path d=\"M16 0c-8.837 0-16 2.239-16 5v4c0 2.761 7.163 5 16 5s16-2.239 16-5v-4c0-2.761-7.163-5-16-5z\"></path>\n",
       "<path d=\"M16 17c-8.837 0-16-2.239-16-5v6c0 2.761 7.163 5 16 5s16-2.239 16-5v-6c0 2.761-7.163 5-16 5z\"></path>\n",
       "<path d=\"M16 26c-8.837 0-16-2.239-16-5v6c0 2.761 7.163 5 16 5s16-2.239 16-5v-6c0 2.761-7.163 5-16 5z\"></path>\n",
       "</symbol>\n",
       "<symbol id=\"icon-file-text2\" viewBox=\"0 0 32 32\">\n",
       "<path d=\"M28.681 7.159c-0.694-0.947-1.662-2.053-2.724-3.116s-2.169-2.030-3.116-2.724c-1.612-1.182-2.393-1.319-2.841-1.319h-15.5c-1.378 0-2.5 1.121-2.5 2.5v27c0 1.378 1.122 2.5 2.5 2.5h23c1.378 0 2.5-1.122 2.5-2.5v-19.5c0-0.448-0.137-1.23-1.319-2.841zM24.543 5.457c0.959 0.959 1.712 1.825 2.268 2.543h-4.811v-4.811c0.718 0.556 1.584 1.309 2.543 2.268zM28 29.5c0 0.271-0.229 0.5-0.5 0.5h-23c-0.271 0-0.5-0.229-0.5-0.5v-27c0-0.271 0.229-0.5 0.5-0.5 0 0 15.499-0 15.5 0v7c0 0.552 0.448 1 1 1h7v19.5z\"></path>\n",
       "<path d=\"M23 26h-14c-0.552 0-1-0.448-1-1s0.448-1 1-1h14c0.552 0 1 0.448 1 1s-0.448 1-1 1z\"></path>\n",
       "<path d=\"M23 22h-14c-0.552 0-1-0.448-1-1s0.448-1 1-1h14c0.552 0 1 0.448 1 1s-0.448 1-1 1z\"></path>\n",
       "<path d=\"M23 18h-14c-0.552 0-1-0.448-1-1s0.448-1 1-1h14c0.552 0 1 0.448 1 1s-0.448 1-1 1z\"></path>\n",
       "</symbol>\n",
       "</defs>\n",
       "</svg>\n",
       "<style>/* CSS stylesheet for displaying xarray objects in jupyterlab.\n",
       " *\n",
       " */\n",
       "\n",
       ":root {\n",
       "  --xr-font-color0: var(--jp-content-font-color0, rgba(0, 0, 0, 1));\n",
       "  --xr-font-color2: var(--jp-content-font-color2, rgba(0, 0, 0, 0.54));\n",
       "  --xr-font-color3: var(--jp-content-font-color3, rgba(0, 0, 0, 0.38));\n",
       "  --xr-border-color: var(--jp-border-color2, #e0e0e0);\n",
       "  --xr-disabled-color: var(--jp-layout-color3, #bdbdbd);\n",
       "  --xr-background-color: var(--jp-layout-color0, white);\n",
       "  --xr-background-color-row-even: var(--jp-layout-color1, white);\n",
       "  --xr-background-color-row-odd: var(--jp-layout-color2, #eeeeee);\n",
       "}\n",
       "\n",
       "html[theme=dark],\n",
       "body[data-theme=dark],\n",
       "body.vscode-dark {\n",
       "  --xr-font-color0: rgba(255, 255, 255, 1);\n",
       "  --xr-font-color2: rgba(255, 255, 255, 0.54);\n",
       "  --xr-font-color3: rgba(255, 255, 255, 0.38);\n",
       "  --xr-border-color: #1F1F1F;\n",
       "  --xr-disabled-color: #515151;\n",
       "  --xr-background-color: #111111;\n",
       "  --xr-background-color-row-even: #111111;\n",
       "  --xr-background-color-row-odd: #313131;\n",
       "}\n",
       "\n",
       ".xr-wrap {\n",
       "  display: block !important;\n",
       "  min-width: 300px;\n",
       "  max-width: 700px;\n",
       "}\n",
       "\n",
       ".xr-text-repr-fallback {\n",
       "  /* fallback to plain text repr when CSS is not injected (untrusted notebook) */\n",
       "  display: none;\n",
       "}\n",
       "\n",
       ".xr-header {\n",
       "  padding-top: 6px;\n",
       "  padding-bottom: 6px;\n",
       "  margin-bottom: 4px;\n",
       "  border-bottom: solid 1px var(--xr-border-color);\n",
       "}\n",
       "\n",
       ".xr-header > div,\n",
       ".xr-header > ul {\n",
       "  display: inline;\n",
       "  margin-top: 0;\n",
       "  margin-bottom: 0;\n",
       "}\n",
       "\n",
       ".xr-obj-type,\n",
       ".xr-array-name {\n",
       "  margin-left: 2px;\n",
       "  margin-right: 10px;\n",
       "}\n",
       "\n",
       ".xr-obj-type {\n",
       "  color: var(--xr-font-color2);\n",
       "}\n",
       "\n",
       ".xr-sections {\n",
       "  padding-left: 0 !important;\n",
       "  display: grid;\n",
       "  grid-template-columns: 150px auto auto 1fr 20px 20px;\n",
       "}\n",
       "\n",
       ".xr-section-item {\n",
       "  display: contents;\n",
       "}\n",
       "\n",
       ".xr-section-item input {\n",
       "  display: none;\n",
       "}\n",
       "\n",
       ".xr-section-item input + label {\n",
       "  color: var(--xr-disabled-color);\n",
       "}\n",
       "\n",
       ".xr-section-item input:enabled + label {\n",
       "  cursor: pointer;\n",
       "  color: var(--xr-font-color2);\n",
       "}\n",
       "\n",
       ".xr-section-item input:enabled + label:hover {\n",
       "  color: var(--xr-font-color0);\n",
       "}\n",
       "\n",
       ".xr-section-summary {\n",
       "  grid-column: 1;\n",
       "  color: var(--xr-font-color2);\n",
       "  font-weight: 500;\n",
       "}\n",
       "\n",
       ".xr-section-summary > span {\n",
       "  display: inline-block;\n",
       "  padding-left: 0.5em;\n",
       "}\n",
       "\n",
       ".xr-section-summary-in:disabled + label {\n",
       "  color: var(--xr-font-color2);\n",
       "}\n",
       "\n",
       ".xr-section-summary-in + label:before {\n",
       "  display: inline-block;\n",
       "  content: '►';\n",
       "  font-size: 11px;\n",
       "  width: 15px;\n",
       "  text-align: center;\n",
       "}\n",
       "\n",
       ".xr-section-summary-in:disabled + label:before {\n",
       "  color: var(--xr-disabled-color);\n",
       "}\n",
       "\n",
       ".xr-section-summary-in:checked + label:before {\n",
       "  content: '▼';\n",
       "}\n",
       "\n",
       ".xr-section-summary-in:checked + label > span {\n",
       "  display: none;\n",
       "}\n",
       "\n",
       ".xr-section-summary,\n",
       ".xr-section-inline-details {\n",
       "  padding-top: 4px;\n",
       "  padding-bottom: 4px;\n",
       "}\n",
       "\n",
       ".xr-section-inline-details {\n",
       "  grid-column: 2 / -1;\n",
       "}\n",
       "\n",
       ".xr-section-details {\n",
       "  display: none;\n",
       "  grid-column: 1 / -1;\n",
       "  margin-bottom: 5px;\n",
       "}\n",
       "\n",
       ".xr-section-summary-in:checked ~ .xr-section-details {\n",
       "  display: contents;\n",
       "}\n",
       "\n",
       ".xr-array-wrap {\n",
       "  grid-column: 1 / -1;\n",
       "  display: grid;\n",
       "  grid-template-columns: 20px auto;\n",
       "}\n",
       "\n",
       ".xr-array-wrap > label {\n",
       "  grid-column: 1;\n",
       "  vertical-align: top;\n",
       "}\n",
       "\n",
       ".xr-preview {\n",
       "  color: var(--xr-font-color3);\n",
       "}\n",
       "\n",
       ".xr-array-preview,\n",
       ".xr-array-data {\n",
       "  padding: 0 5px !important;\n",
       "  grid-column: 2;\n",
       "}\n",
       "\n",
       ".xr-array-data,\n",
       ".xr-array-in:checked ~ .xr-array-preview {\n",
       "  display: none;\n",
       "}\n",
       "\n",
       ".xr-array-in:checked ~ .xr-array-data,\n",
       ".xr-array-preview {\n",
       "  display: inline-block;\n",
       "}\n",
       "\n",
       ".xr-dim-list {\n",
       "  display: inline-block !important;\n",
       "  list-style: none;\n",
       "  padding: 0 !important;\n",
       "  margin: 0;\n",
       "}\n",
       "\n",
       ".xr-dim-list li {\n",
       "  display: inline-block;\n",
       "  padding: 0;\n",
       "  margin: 0;\n",
       "}\n",
       "\n",
       ".xr-dim-list:before {\n",
       "  content: '(';\n",
       "}\n",
       "\n",
       ".xr-dim-list:after {\n",
       "  content: ')';\n",
       "}\n",
       "\n",
       ".xr-dim-list li:not(:last-child):after {\n",
       "  content: ',';\n",
       "  padding-right: 5px;\n",
       "}\n",
       "\n",
       ".xr-has-index {\n",
       "  font-weight: bold;\n",
       "}\n",
       "\n",
       ".xr-var-list,\n",
       ".xr-var-item {\n",
       "  display: contents;\n",
       "}\n",
       "\n",
       ".xr-var-item > div,\n",
       ".xr-var-item label,\n",
       ".xr-var-item > .xr-var-name span {\n",
       "  background-color: var(--xr-background-color-row-even);\n",
       "  margin-bottom: 0;\n",
       "}\n",
       "\n",
       ".xr-var-item > .xr-var-name:hover span {\n",
       "  padding-right: 5px;\n",
       "}\n",
       "\n",
       ".xr-var-list > li:nth-child(odd) > div,\n",
       ".xr-var-list > li:nth-child(odd) > label,\n",
       ".xr-var-list > li:nth-child(odd) > .xr-var-name span {\n",
       "  background-color: var(--xr-background-color-row-odd);\n",
       "}\n",
       "\n",
       ".xr-var-name {\n",
       "  grid-column: 1;\n",
       "}\n",
       "\n",
       ".xr-var-dims {\n",
       "  grid-column: 2;\n",
       "}\n",
       "\n",
       ".xr-var-dtype {\n",
       "  grid-column: 3;\n",
       "  text-align: right;\n",
       "  color: var(--xr-font-color2);\n",
       "}\n",
       "\n",
       ".xr-var-preview {\n",
       "  grid-column: 4;\n",
       "}\n",
       "\n",
       ".xr-index-preview {\n",
       "  grid-column: 2 / 5;\n",
       "  color: var(--xr-font-color2);\n",
       "}\n",
       "\n",
       ".xr-var-name,\n",
       ".xr-var-dims,\n",
       ".xr-var-dtype,\n",
       ".xr-preview,\n",
       ".xr-attrs dt {\n",
       "  white-space: nowrap;\n",
       "  overflow: hidden;\n",
       "  text-overflow: ellipsis;\n",
       "  padding-right: 10px;\n",
       "}\n",
       "\n",
       ".xr-var-name:hover,\n",
       ".xr-var-dims:hover,\n",
       ".xr-var-dtype:hover,\n",
       ".xr-attrs dt:hover {\n",
       "  overflow: visible;\n",
       "  width: auto;\n",
       "  z-index: 1;\n",
       "}\n",
       "\n",
       ".xr-var-attrs,\n",
       ".xr-var-data,\n",
       ".xr-index-data {\n",
       "  display: none;\n",
       "  background-color: var(--xr-background-color) !important;\n",
       "  padding-bottom: 5px !important;\n",
       "}\n",
       "\n",
       ".xr-var-attrs-in:checked ~ .xr-var-attrs,\n",
       ".xr-var-data-in:checked ~ .xr-var-data,\n",
       ".xr-index-data-in:checked ~ .xr-index-data {\n",
       "  display: block;\n",
       "}\n",
       "\n",
       ".xr-var-data > table {\n",
       "  float: right;\n",
       "}\n",
       "\n",
       ".xr-var-name span,\n",
       ".xr-var-data,\n",
       ".xr-index-name div,\n",
       ".xr-index-data,\n",
       ".xr-attrs {\n",
       "  padding-left: 25px !important;\n",
       "}\n",
       "\n",
       ".xr-attrs,\n",
       ".xr-var-attrs,\n",
       ".xr-var-data,\n",
       ".xr-index-data {\n",
       "  grid-column: 1 / -1;\n",
       "}\n",
       "\n",
       "dl.xr-attrs {\n",
       "  padding: 0;\n",
       "  margin: 0;\n",
       "  display: grid;\n",
       "  grid-template-columns: 125px auto;\n",
       "}\n",
       "\n",
       ".xr-attrs dt,\n",
       ".xr-attrs dd {\n",
       "  padding: 0;\n",
       "  margin: 0;\n",
       "  float: left;\n",
       "  padding-right: 10px;\n",
       "  width: auto;\n",
       "}\n",
       "\n",
       ".xr-attrs dt {\n",
       "  font-weight: normal;\n",
       "  grid-column: 1;\n",
       "}\n",
       "\n",
       ".xr-attrs dt:hover span {\n",
       "  display: inline-block;\n",
       "  background: var(--xr-background-color);\n",
       "  padding-right: 10px;\n",
       "}\n",
       "\n",
       ".xr-attrs dd {\n",
       "  grid-column: 2;\n",
       "  white-space: pre-wrap;\n",
       "  word-break: break-all;\n",
       "}\n",
       "\n",
       ".xr-icon-database,\n",
       ".xr-icon-file-text2,\n",
       ".xr-no-icon {\n",
       "  display: inline-block;\n",
       "  vertical-align: middle;\n",
       "  width: 1em;\n",
       "  height: 1.5em !important;\n",
       "  stroke-width: 0;\n",
       "  stroke: currentColor;\n",
       "  fill: currentColor;\n",
       "}\n",
       "</style><pre class='xr-text-repr-fallback'>&lt;xarray.DataArray &#x27;analysed_sst&#x27; (time: 7710, lat: 65, lon: 40)&gt;\n",
       "array([[[      nan,       nan,       nan, ..., 24.73999 , 24.700012,\n",
       "         24.660004],\n",
       "        [      nan,       nan,       nan, ..., 24.690002, 24.649994,\n",
       "         24.609985],\n",
       "        [      nan,       nan,       nan, ..., 24.639984, 24.600006,\n",
       "         24.570007],\n",
       "        ...,\n",
       "        [      nan,       nan,       nan, ...,       nan,       nan,\n",
       "               nan],\n",
       "        [      nan,       nan,       nan, ...,       nan,       nan,\n",
       "               nan],\n",
       "        [      nan,       nan,       nan, ...,       nan,       nan,\n",
       "               nan]],\n",
       "\n",
       "       [[      nan,       nan,       nan, ..., 24.380005, 24.350006,\n",
       "         24.329987],\n",
       "        [      nan,       nan,       nan, ..., 24.339996, 24.309998,\n",
       "         24.299988],\n",
       "        [      nan,       nan,       nan, ..., 24.320007, 24.290009,\n",
       "         24.269989],\n",
       "...\n",
       "        [      nan,       nan,       nan, ...,       nan,       nan,\n",
       "               nan],\n",
       "        [      nan,       nan,       nan, ...,       nan,       nan,\n",
       "               nan],\n",
       "        [      nan,       nan,       nan, ...,       nan,       nan,\n",
       "               nan]],\n",
       "\n",
       "       [[      nan,       nan,       nan, ..., 19.420013, 19.329987,\n",
       "         19.26001 ],\n",
       "        [      nan,       nan,       nan, ..., 19.359985, 19.269989,\n",
       "         19.200012],\n",
       "        [      nan,       nan,       nan, ..., 19.299988, 19.220001,\n",
       "         19.160004],\n",
       "        ...,\n",
       "        [      nan,       nan,       nan, ...,       nan,       nan,\n",
       "               nan],\n",
       "        [      nan,       nan,       nan, ...,       nan,       nan,\n",
       "               nan],\n",
       "        [      nan,       nan,       nan, ...,       nan,       nan,\n",
       "               nan]]], dtype=float32)\n",
       "Coordinates:\n",
       "  * time     (time) datetime64[ns] 2002-09-01T12:00:00 ... 2023-10-17T12:00:00\n",
       "  * lat      (lat) float32 36.78 36.83 36.88 36.92 ... 39.83 39.88 39.92 39.97\n",
       "  * lon      (lon) float32 -77.47 -77.43 -77.38 -77.32 ... -75.62 -75.57 -75.53\n",
       "Attributes:\n",
       "    long_name:      analysed sea surface temperature\n",
       "    standard_name:  sea_surface_foundation_temperature\n",
       "    units:          celsius\n",
       "    valid_min:      -200\n",
       "    valid_max:      4000\n",
       "    reference:      Fieguth,P.W. et al. &quot;Mapping Mediterranean altimeter data...\n",
       "    source:         STAR-ACSPO_GAC, STAR-ACSPO_H-8, STAR-Geo_SST, UKMO-OSTIA\n",
       "    comment:        Analysed SST for each ocean grid point\n",
       "    grid_mapping:   spatial_ref</pre><div class='xr-wrap' style='display:none'><div class='xr-header'><div class='xr-obj-type'>xarray.DataArray</div><div class='xr-array-name'>'analysed_sst'</div><ul class='xr-dim-list'><li><span class='xr-has-index'>time</span>: 7710</li><li><span class='xr-has-index'>lat</span>: 65</li><li><span class='xr-has-index'>lon</span>: 40</li></ul></div><ul class='xr-sections'><li class='xr-section-item'><div class='xr-array-wrap'><input id='section-9f9a678d-75d7-4192-b366-91393a843670' class='xr-array-in' type='checkbox' checked><label for='section-9f9a678d-75d7-4192-b366-91393a843670' title='Show/hide data repr'><svg class='icon xr-icon-database'><use xlink:href='#icon-database'></use></svg></label><div class='xr-array-preview xr-preview'><span>nan nan nan nan nan nan nan nan ... nan nan nan nan nan nan nan nan</span></div><div class='xr-array-data'><pre>array([[[      nan,       nan,       nan, ..., 24.73999 , 24.700012,\n",
       "         24.660004],\n",
       "        [      nan,       nan,       nan, ..., 24.690002, 24.649994,\n",
       "         24.609985],\n",
       "        [      nan,       nan,       nan, ..., 24.639984, 24.600006,\n",
       "         24.570007],\n",
       "        ...,\n",
       "        [      nan,       nan,       nan, ...,       nan,       nan,\n",
       "               nan],\n",
       "        [      nan,       nan,       nan, ...,       nan,       nan,\n",
       "               nan],\n",
       "        [      nan,       nan,       nan, ...,       nan,       nan,\n",
       "               nan]],\n",
       "\n",
       "       [[      nan,       nan,       nan, ..., 24.380005, 24.350006,\n",
       "         24.329987],\n",
       "        [      nan,       nan,       nan, ..., 24.339996, 24.309998,\n",
       "         24.299988],\n",
       "        [      nan,       nan,       nan, ..., 24.320007, 24.290009,\n",
       "         24.269989],\n",
       "...\n",
       "        [      nan,       nan,       nan, ...,       nan,       nan,\n",
       "               nan],\n",
       "        [      nan,       nan,       nan, ...,       nan,       nan,\n",
       "               nan],\n",
       "        [      nan,       nan,       nan, ...,       nan,       nan,\n",
       "               nan]],\n",
       "\n",
       "       [[      nan,       nan,       nan, ..., 19.420013, 19.329987,\n",
       "         19.26001 ],\n",
       "        [      nan,       nan,       nan, ..., 19.359985, 19.269989,\n",
       "         19.200012],\n",
       "        [      nan,       nan,       nan, ..., 19.299988, 19.220001,\n",
       "         19.160004],\n",
       "        ...,\n",
       "        [      nan,       nan,       nan, ...,       nan,       nan,\n",
       "               nan],\n",
       "        [      nan,       nan,       nan, ...,       nan,       nan,\n",
       "               nan],\n",
       "        [      nan,       nan,       nan, ...,       nan,       nan,\n",
       "               nan]]], dtype=float32)</pre></div></div></li><li class='xr-section-item'><input id='section-724c6006-1162-47fb-9b41-945790b95471' class='xr-section-summary-in' type='checkbox'  checked><label for='section-724c6006-1162-47fb-9b41-945790b95471' class='xr-section-summary' >Coordinates: <span>(3)</span></label><div class='xr-section-inline-details'></div><div class='xr-section-details'><ul class='xr-var-list'><li class='xr-var-item'><div class='xr-var-name'><span class='xr-has-index'>time</span></div><div class='xr-var-dims'>(time)</div><div class='xr-var-dtype'>datetime64[ns]</div><div class='xr-var-preview xr-preview'>2002-09-01T12:00:00 ... 2023-10-...</div><input id='attrs-6273d12f-cdc0-4154-8c9f-dd13c4f7f373' class='xr-var-attrs-in' type='checkbox' ><label for='attrs-6273d12f-cdc0-4154-8c9f-dd13c4f7f373' title='Show/Hide attributes'><svg class='icon xr-icon-file-text2'><use xlink:href='#icon-file-text2'></use></svg></label><input id='data-e7edebaf-b14f-4bc6-812f-b0decf088229' class='xr-var-data-in' type='checkbox'><label for='data-e7edebaf-b14f-4bc6-812f-b0decf088229' title='Show/Hide data repr'><svg class='icon xr-icon-database'><use xlink:href='#icon-database'></use></svg></label><div class='xr-var-attrs'><dl class='xr-attrs'><dt><span>long_name :</span></dt><dd>reference time of sst field</dd><dt><span>standard_name :</span></dt><dd>time</dd><dt><span>axis :</span></dt><dd>T</dd><dt><span>comment :</span></dt><dd>Nominal time of Level 4 analysis</dd></dl></div><div class='xr-var-data'><pre>array([&#x27;2002-09-01T12:00:00.000000000&#x27;, &#x27;2002-09-02T12:00:00.000000000&#x27;,\n",
       "       &#x27;2002-09-03T12:00:00.000000000&#x27;, ..., &#x27;2023-10-15T12:00:00.000000000&#x27;,\n",
       "       &#x27;2023-10-16T12:00:00.000000000&#x27;, &#x27;2023-10-17T12:00:00.000000000&#x27;],\n",
       "      dtype=&#x27;datetime64[ns]&#x27;)</pre></div></li><li class='xr-var-item'><div class='xr-var-name'><span class='xr-has-index'>lat</span></div><div class='xr-var-dims'>(lat)</div><div class='xr-var-dtype'>float32</div><div class='xr-var-preview xr-preview'>36.78 36.83 36.88 ... 39.92 39.97</div><input id='attrs-0a79ea93-574d-4376-b480-d7d834070efb' class='xr-var-attrs-in' type='checkbox' ><label for='attrs-0a79ea93-574d-4376-b480-d7d834070efb' title='Show/Hide attributes'><svg class='icon xr-icon-file-text2'><use xlink:href='#icon-file-text2'></use></svg></label><input id='data-f9aaed5b-962d-45b0-8c1f-b36e17b728bd' class='xr-var-data-in' type='checkbox'><label for='data-f9aaed5b-962d-45b0-8c1f-b36e17b728bd' title='Show/Hide data repr'><svg class='icon xr-icon-database'><use xlink:href='#icon-database'></use></svg></label><div class='xr-var-attrs'><dl class='xr-attrs'><dt><span>long_name :</span></dt><dd>latitude</dd><dt><span>standard_name :</span></dt><dd>latitude</dd><dt><span>units :</span></dt><dd>degrees_north</dd><dt><span>axis :</span></dt><dd>Y</dd><dt><span>valid_min :</span></dt><dd>-90.0</dd><dt><span>valid_max :</span></dt><dd>90.0</dd><dt><span>comment :</span></dt><dd>equirectangular projection</dd></dl></div><div class='xr-var-data'><pre>array([36.775, 36.825, 36.875, 36.925, 36.975, 37.025, 37.075, 37.125, 37.175,\n",
       "       37.225, 37.275, 37.325, 37.375, 37.425, 37.475, 37.525, 37.575, 37.625,\n",
       "       37.675, 37.725, 37.775, 37.825, 37.875, 37.925, 37.975, 38.025, 38.075,\n",
       "       38.125, 38.175, 38.225, 38.275, 38.325, 38.375, 38.425, 38.475, 38.525,\n",
       "       38.575, 38.625, 38.675, 38.725, 38.775, 38.825, 38.875, 38.925, 38.975,\n",
       "       39.025, 39.075, 39.125, 39.175, 39.225, 39.275, 39.325, 39.375, 39.425,\n",
       "       39.475, 39.525, 39.575, 39.625, 39.675, 39.725, 39.775, 39.825, 39.875,\n",
       "       39.925, 39.975], dtype=float32)</pre></div></li><li class='xr-var-item'><div class='xr-var-name'><span class='xr-has-index'>lon</span></div><div class='xr-var-dims'>(lon)</div><div class='xr-var-dtype'>float32</div><div class='xr-var-preview xr-preview'>-77.47 -77.43 ... -75.57 -75.53</div><input id='attrs-03c163ff-1a33-4e84-94b7-abf8a012dfb8' class='xr-var-attrs-in' type='checkbox' ><label for='attrs-03c163ff-1a33-4e84-94b7-abf8a012dfb8' title='Show/Hide attributes'><svg class='icon xr-icon-file-text2'><use xlink:href='#icon-file-text2'></use></svg></label><input id='data-424c4ec9-1646-4469-9a51-d60e6b2324c4' class='xr-var-data-in' type='checkbox'><label for='data-424c4ec9-1646-4469-9a51-d60e6b2324c4' title='Show/Hide data repr'><svg class='icon xr-icon-database'><use xlink:href='#icon-database'></use></svg></label><div class='xr-var-attrs'><dl class='xr-attrs'><dt><span>long_name :</span></dt><dd>longitude</dd><dt><span>standard_name :</span></dt><dd>longitude</dd><dt><span>units :</span></dt><dd>degrees_east</dd><dt><span>axis :</span></dt><dd>X</dd><dt><span>valid_min :</span></dt><dd>-180.0</dd><dt><span>valid_max :</span></dt><dd>180.0</dd><dt><span>comment :</span></dt><dd>equirectangular projection</dd></dl></div><div class='xr-var-data'><pre>array([-77.475, -77.425, -77.375, -77.325, -77.275, -77.225, -77.175, -77.125,\n",
       "       -77.075, -77.025, -76.975, -76.925, -76.875, -76.825, -76.775, -76.725,\n",
       "       -76.675, -76.625, -76.575, -76.525, -76.475, -76.425, -76.375, -76.325,\n",
       "       -76.275, -76.225, -76.175, -76.125, -76.075, -76.025, -75.975, -75.925,\n",
       "       -75.875, -75.825, -75.775, -75.725, -75.675, -75.625, -75.575, -75.525],\n",
       "      dtype=float32)</pre></div></li></ul></div></li><li class='xr-section-item'><input id='section-c43be8c1-1f0e-4251-8efe-ef6c987a4bd8' class='xr-section-summary-in' type='checkbox'  ><label for='section-c43be8c1-1f0e-4251-8efe-ef6c987a4bd8' class='xr-section-summary' >Indexes: <span>(3)</span></label><div class='xr-section-inline-details'></div><div class='xr-section-details'><ul class='xr-var-list'><li class='xr-var-item'><div class='xr-index-name'><div>time</div></div><div class='xr-index-preview'>PandasIndex</div><div></div><input id='index-604095b9-8fe1-435f-a47a-1e729e33cc65' class='xr-index-data-in' type='checkbox'/><label for='index-604095b9-8fe1-435f-a47a-1e729e33cc65' title='Show/Hide index repr'><svg class='icon xr-icon-database'><use xlink:href='#icon-database'></use></svg></label><div class='xr-index-data'><pre>PandasIndex(DatetimeIndex([&#x27;2002-09-01 12:00:00&#x27;, &#x27;2002-09-02 12:00:00&#x27;,\n",
       "               &#x27;2002-09-03 12:00:00&#x27;, &#x27;2002-09-04 12:00:00&#x27;,\n",
       "               &#x27;2002-09-05 12:00:00&#x27;, &#x27;2002-09-06 12:00:00&#x27;,\n",
       "               &#x27;2002-09-07 12:00:00&#x27;, &#x27;2002-09-08 12:00:00&#x27;,\n",
       "               &#x27;2002-09-09 12:00:00&#x27;, &#x27;2002-09-10 12:00:00&#x27;,\n",
       "               ...\n",
       "               &#x27;2023-10-08 12:00:00&#x27;, &#x27;2023-10-09 12:00:00&#x27;,\n",
       "               &#x27;2023-10-10 12:00:00&#x27;, &#x27;2023-10-11 12:00:00&#x27;,\n",
       "               &#x27;2023-10-12 12:00:00&#x27;, &#x27;2023-10-13 12:00:00&#x27;,\n",
       "               &#x27;2023-10-14 12:00:00&#x27;, &#x27;2023-10-15 12:00:00&#x27;,\n",
       "               &#x27;2023-10-16 12:00:00&#x27;, &#x27;2023-10-17 12:00:00&#x27;],\n",
       "              dtype=&#x27;datetime64[ns]&#x27;, name=&#x27;time&#x27;, length=7710, freq=None))</pre></div></li><li class='xr-var-item'><div class='xr-index-name'><div>lat</div></div><div class='xr-index-preview'>PandasIndex</div><div></div><input id='index-a0f4fe05-9f99-4cdd-a440-ffc608c4a396' class='xr-index-data-in' type='checkbox'/><label for='index-a0f4fe05-9f99-4cdd-a440-ffc608c4a396' title='Show/Hide index repr'><svg class='icon xr-icon-database'><use xlink:href='#icon-database'></use></svg></label><div class='xr-index-data'><pre>PandasIndex(Float64Index([36.775001525878906,  36.82500076293945,             36.875,\n",
       "               36.92499923706055, 36.974998474121094, 37.025001525878906,\n",
       "               37.07500076293945,             37.125,  37.17499923706055,\n",
       "              37.224998474121094, 37.275001525878906,  37.32500076293945,\n",
       "                          37.375,  37.42499923706055, 37.474998474121094,\n",
       "              37.525001525878906,  37.57500076293945,             37.625,\n",
       "               37.67499923706055, 37.724998474121094, 37.775001525878906,\n",
       "               37.82500076293945,             37.875,  37.92499923706055,\n",
       "              37.974998474121094, 38.025001525878906,  38.07500076293945,\n",
       "                          38.125,  38.17499923706055, 38.224998474121094,\n",
       "              38.275001525878906,  38.32500076293945,             38.375,\n",
       "               38.42499923706055, 38.474998474121094, 38.525001525878906,\n",
       "               38.57500076293945,             38.625,  38.67499923706055,\n",
       "              38.724998474121094, 38.775001525878906,  38.82500076293945,\n",
       "                          38.875,  38.92499923706055, 38.974998474121094,\n",
       "              39.025001525878906,  39.07500076293945,             39.125,\n",
       "               39.17499923706055, 39.224998474121094, 39.275001525878906,\n",
       "               39.32500076293945,             39.375,  39.42499923706055,\n",
       "              39.474998474121094, 39.525001525878906,  39.57500076293945,\n",
       "                          39.625,  39.67499923706055, 39.724998474121094,\n",
       "              39.775001525878906,  39.82500076293945,             39.875,\n",
       "               39.92499923706055, 39.974998474121094],\n",
       "             dtype=&#x27;float64&#x27;, name=&#x27;lat&#x27;))</pre></div></li><li class='xr-var-item'><div class='xr-index-name'><div>lon</div></div><div class='xr-index-preview'>PandasIndex</div><div></div><input id='index-284f8d4f-d421-473b-8244-3e3d6a9803dc' class='xr-index-data-in' type='checkbox'/><label for='index-284f8d4f-d421-473b-8244-3e3d6a9803dc' title='Show/Hide index repr'><svg class='icon xr-icon-database'><use xlink:href='#icon-database'></use></svg></label><div class='xr-index-data'><pre>PandasIndex(Float64Index([ -77.4749984741211, -77.42500305175781,            -77.375,\n",
       "              -77.32499694824219,  -77.2750015258789,  -77.2249984741211,\n",
       "              -77.17500305175781,            -77.125, -77.07499694824219,\n",
       "               -77.0250015258789,  -76.9749984741211, -76.92500305175781,\n",
       "                         -76.875, -76.82499694824219,  -76.7750015258789,\n",
       "               -76.7249984741211, -76.67500305175781,            -76.625,\n",
       "              -76.57499694824219,  -76.5250015258789,  -76.4749984741211,\n",
       "              -76.42500305175781,            -76.375, -76.32499694824219,\n",
       "               -76.2750015258789,  -76.2249984741211, -76.17500305175781,\n",
       "                         -76.125, -76.07499694824219,  -76.0250015258789,\n",
       "               -75.9749984741211, -75.92500305175781,            -75.875,\n",
       "              -75.82499694824219,  -75.7750015258789,  -75.7249984741211,\n",
       "              -75.67500305175781,            -75.625, -75.57499694824219,\n",
       "               -75.5250015258789],\n",
       "             dtype=&#x27;float64&#x27;, name=&#x27;lon&#x27;))</pre></div></li></ul></div></li><li class='xr-section-item'><input id='section-3dc713a5-fd4f-4576-889d-94fab720f18e' class='xr-section-summary-in' type='checkbox'  checked><label for='section-3dc713a5-fd4f-4576-889d-94fab720f18e' class='xr-section-summary' >Attributes: <span>(9)</span></label><div class='xr-section-inline-details'></div><div class='xr-section-details'><dl class='xr-attrs'><dt><span>long_name :</span></dt><dd>analysed sea surface temperature</dd><dt><span>standard_name :</span></dt><dd>sea_surface_foundation_temperature</dd><dt><span>units :</span></dt><dd>celsius</dd><dt><span>valid_min :</span></dt><dd>-200</dd><dt><span>valid_max :</span></dt><dd>4000</dd><dt><span>reference :</span></dt><dd>Fieguth,P.W. et al. &quot;Mapping Mediterranean altimeter data with a multiresolution optimal interpolation algorithm&quot;, J. Atmos. Ocean Tech, 15 (2): 535-546, 1998.     Fieguth, P. Multiply-Rooted Multiscale Models for Large-Scale Estimation, IEEE Image Processing, 10(11), 1676-1686, 2001.     Khellah, F., P.W. Fieguth, M.J. Murray and M.R. Allen, &quot;Statistical Processing of Large Image Sequences&quot;, IEEE Transactions on Geoscience and Remote Sensing, 12 (1), 80-93, 2005.     Maturi, E., A. Harris, J. Mittaz, J. Sapper, G. Wick, X. Zhu, P. Dash, P. Koner, &quot;A New High-Resolution Sea Surface Temperature Blended Analysis&quot;, Bulleting of the American Meteorological Society, 98 (5), 1015-1026, 2017.</dd><dt><span>source :</span></dt><dd>STAR-ACSPO_GAC, STAR-ACSPO_H-8, STAR-Geo_SST, UKMO-OSTIA</dd><dt><span>comment :</span></dt><dd>Analysed SST for each ocean grid point</dd><dt><span>grid_mapping :</span></dt><dd>spatial_ref</dd></dl></div></li></ul></div></div>"
      ],
      "text/plain": [
       "<xarray.DataArray 'analysed_sst' (time: 7710, lat: 65, lon: 40)>\n",
       "array([[[      nan,       nan,       nan, ..., 24.73999 , 24.700012,\n",
       "         24.660004],\n",
       "        [      nan,       nan,       nan, ..., 24.690002, 24.649994,\n",
       "         24.609985],\n",
       "        [      nan,       nan,       nan, ..., 24.639984, 24.600006,\n",
       "         24.570007],\n",
       "        ...,\n",
       "        [      nan,       nan,       nan, ...,       nan,       nan,\n",
       "               nan],\n",
       "        [      nan,       nan,       nan, ...,       nan,       nan,\n",
       "               nan],\n",
       "        [      nan,       nan,       nan, ...,       nan,       nan,\n",
       "               nan]],\n",
       "\n",
       "       [[      nan,       nan,       nan, ..., 24.380005, 24.350006,\n",
       "         24.329987],\n",
       "        [      nan,       nan,       nan, ..., 24.339996, 24.309998,\n",
       "         24.299988],\n",
       "        [      nan,       nan,       nan, ..., 24.320007, 24.290009,\n",
       "         24.269989],\n",
       "...\n",
       "        [      nan,       nan,       nan, ...,       nan,       nan,\n",
       "               nan],\n",
       "        [      nan,       nan,       nan, ...,       nan,       nan,\n",
       "               nan],\n",
       "        [      nan,       nan,       nan, ...,       nan,       nan,\n",
       "               nan]],\n",
       "\n",
       "       [[      nan,       nan,       nan, ..., 19.420013, 19.329987,\n",
       "         19.26001 ],\n",
       "        [      nan,       nan,       nan, ..., 19.359985, 19.269989,\n",
       "         19.200012],\n",
       "        [      nan,       nan,       nan, ..., 19.299988, 19.220001,\n",
       "         19.160004],\n",
       "        ...,\n",
       "        [      nan,       nan,       nan, ...,       nan,       nan,\n",
       "               nan],\n",
       "        [      nan,       nan,       nan, ...,       nan,       nan,\n",
       "               nan],\n",
       "        [      nan,       nan,       nan, ...,       nan,       nan,\n",
       "               nan]]], dtype=float32)\n",
       "Coordinates:\n",
       "  * time     (time) datetime64[ns] 2002-09-01T12:00:00 ... 2023-10-17T12:00:00\n",
       "  * lat      (lat) float32 36.78 36.83 36.88 36.92 ... 39.83 39.88 39.92 39.97\n",
       "  * lon      (lon) float32 -77.47 -77.43 -77.38 -77.32 ... -75.62 -75.57 -75.53\n",
       "Attributes:\n",
       "    long_name:      analysed sea surface temperature\n",
       "    standard_name:  sea_surface_foundation_temperature\n",
       "    units:          celsius\n",
       "    valid_min:      -200\n",
       "    valid_max:      4000\n",
       "    reference:      Fieguth,P.W. et al. \"Mapping Mediterranean altimeter data...\n",
       "    source:         STAR-ACSPO_GAC, STAR-ACSPO_H-8, STAR-Geo_SST, UKMO-OSTIA\n",
       "    comment:        Analysed SST for each ocean grid point\n",
       "    grid_mapping:   spatial_ref"
      ]
     },
     "execution_count": 12,
     "metadata": {},
     "output_type": "execute_result"
    }
   ],
   "source": [
    "geopolar"
   ]
  },
  {
   "cell_type": "code",
   "execution_count": 13,
   "id": "01f9050c-90e0-497b-8847-8c8bff87a118",
   "metadata": {},
   "outputs": [
    {
     "data": {
      "text/plain": [
       "<matplotlib.collections.QuadMesh at 0x15f682d30>"
      ]
     },
     "execution_count": 13,
     "metadata": {},
     "output_type": "execute_result"
    },
    {
     "data": {
      "image/png": "[encoded data removed]",
      "text/plain": [
       "<Figure size 640x480 with 2 Axes>"
      ]
     },
     "metadata": {},
     "output_type": "display_data"
    }
   ],
   "source": [
    "geopolar.isel(time=0).plot()"
   ]
  },
  {
   "cell_type": "markdown",
   "id": "fbec8b79-0f68-4533-a80f-93edadaa0d10",
   "metadata": {},
   "source": [
    "### Preprocessing"
   ]
  },
  {
   "cell_type": "code",
   "execution_count": 14,
   "id": "df9a3428-433f-47ce-a901-a8371c8fa998",
   "metadata": {},
   "outputs": [],
   "source": [
    "# Convert datetimes to ordinal time format\n",
    "time_ordinal = format_time(geopolar.time.values)\n",
    "# Extract numpy array from xarray DataArray\n",
    "sst_np = geopolar.values"
   ]
  },
  {
   "cell_type": "markdown",
   "id": "93994228-e7dd-4bad-97c3-d200f265ceb2",
   "metadata": {},
   "source": [
    "### Identify marine heatwaves with `mhw.detect()` (Geo-Polar)"
   ]
  },
  {
   "cell_type": "markdown",
   "id": "456fd8fd-09c6-4ab6-8b4f-d365c5fde3c9",
   "metadata": {},
   "source": [
    "Identify marine heatwaves using the `mhw.detect()` function from the marineHeatWaves Python package. The marineHeatWaves package can only process one time series of temperature data at a time (ex. one pixel of data over a period of time). The `identify_marineheatwaves()` function here wraps `mhw.detect()` and applies it to all the pixels in a satellite image.\n",
    "\n",
    "`identify_marineheatwaves()` can take some time, depending on the size of the dataset. This step typically ran in ~4 minutes on my computer."
   ]
  },
  {
   "cell_type": "code",
   "execution_count": 15,
   "id": "a150d5bf-f24b-4ff1-ba2f-d05b8d10473a",
   "metadata": {
    "tags": []
   },
   "outputs": [
    {
     "name": "stderr",
     "output_type": "stream",
     "text": [
      "/Users/rwegener/miniconda3/envs/chesapeake_mhw_2021dask/lib/python3.9/site-packages/numpy/lib/nanfunctions.py:1556: RuntimeWarning: All-NaN slice encountered\n",
      "  return function_base._ureduce(a,\n",
      "/Users/rwegener/repos/chesapeake_mhw/notebooks/01_intermediate_processing/marineHeatWaves.py:281: RuntimeWarning: Mean of empty slice\n",
      "  seas_climYear[d-1] = np.nanmean(tempClim[tt.astype(int)])\n",
      "/Users/rwegener/miniconda3/envs/chesapeake_mhw_2021dask/lib/python3.9/site-packages/numpy/lib/nanfunctions.py:1556: RuntimeWarning: All-NaN slice encountered\n",
      "  return function_base._ureduce(a,\n",
      "/Users/rwegener/repos/chesapeake_mhw/notebooks/01_intermediate_processing/marineHeatWaves.py:281: RuntimeWarning: Mean of empty slice\n",
      "  seas_climYear[d-1] = np.nanmean(tempClim[tt.astype(int)])\n",
      "/Users/rwegener/repos/chesapeake_mhw/notebooks/01_intermediate_processing/marineHeatWaves.py:281: RuntimeWarning: Mean of empty slice\n",
      "  seas_climYear[d-1] = np.nanmean(tempClim[tt.astype(int)])\n",
      "/Users/rwegener/miniconda3/envs/chesapeake_mhw_2021dask/lib/python3.9/site-packages/numpy/lib/nanfunctions.py:1556: RuntimeWarning: All-NaN slice encountered\n",
      "  return function_base._ureduce(a,\n",
      "/Users/rwegener/repos/chesapeake_mhw/notebooks/01_intermediate_processing/marineHeatWaves.py:281: RuntimeWarning: Mean of empty slice\n",
      "  seas_climYear[d-1] = np.nanmean(tempClim[tt.astype(int)])\n",
      "/Users/rwegener/miniconda3/envs/chesapeake_mhw_2021dask/lib/python3.9/site-packages/numpy/lib/nanfunctions.py:1556: RuntimeWarning: All-NaN slice encountered\n",
      "  return function_base._ureduce(a,\n"
     ]
    },
    {
     "name": "stdout",
     "output_type": "stream",
     "text": [
      "CPU times: user 10.9 s, sys: 3.75 s, total: 14.6 s\n",
      "Wall time: 4min 3s\n"
     ]
    }
   ],
   "source": [
    "%%time\n",
    "\n",
    "result = identify_marineheatwaves(sst_np, time_ordinal)"
   ]
  },
  {
   "cell_type": "markdown",
   "id": "1d334799-da23-4033-8536-4284801aed34",
   "metadata": {},
   "source": [
    "The `mhw.detect()` function returns two sets things:\n",
    "1. (index 0) The MHW event statistics for all the events\n",
    "2. (index 1) A dictionary containing the climatology (`seas`), threshold (`thresh`) and missing (`missing`) values from the array\n",
    "These two things are axis 0 and 1, respectively, of the `res` array that gets returned from the `.compute()` above. Each of these two outputs is produced for every pixel location of the array.\n",
    "\n",
    "Below we split these two pieces into different datasets to save them."
   ]
  },
  {
   "cell_type": "code",
   "execution_count": 16,
   "id": "62b1d003-f49c-477d-b242-5044ceffcd94",
   "metadata": {
    "tags": []
   },
   "outputs": [],
   "source": [
    "event_statistics = result[0]"
   ]
  },
  {
   "cell_type": "code",
   "execution_count": 17,
   "id": "0e1ff7d2-a620-4d0c-8826-4e2382407a8b",
   "metadata": {},
   "outputs": [],
   "source": [
    "clim_np, thresh_np = extract_numpy_outputs(result, len(time_ordinal))"
   ]
  },
  {
   "cell_type": "markdown",
   "id": "2d4f41c7-d33a-4c21-a400-140004fb2ff8",
   "metadata": {},
   "source": [
    "Note that the output of this function is of the same length as time_ordinal. The daily climatological values are repeated multiple times to match length."
   ]
  },
  {
   "cell_type": "markdown",
   "id": "bdb4ec6b-3042-40d4-a0c4-8432f8930446",
   "metadata": {},
   "source": [
    "### Save Climatological average and 90th percentile threshold"
   ]
  },
  {
   "cell_type": "markdown",
   "id": "faae5f31-e03d-409a-b55c-7e7d95610868",
   "metadata": {},
   "source": [
    "Create an xarray DataArray for the climatology data using numpy output from the MHW calculation"
   ]
  },
  {
   "cell_type": "code",
   "execution_count": 18,
   "id": "b2ecb390-0eb1-4386-8416-ad251b217bf7",
   "metadata": {},
   "outputs": [],
   "source": [
    "# create xarray object from numpy output of mhw\n",
    "clim = xr.DataArray(clim_np, coords=geopolar.coords, dims=geopolar.dims)\n",
    "\n",
    "# rename variables\n",
    "clim = clim.rename('climatology')\n",
    "\n",
    "# add array attributes\n",
    "clim.attrs['comment'] = 'climatology computed using the marineHeatWave package. ' \\\n",
    "    'Uses all defaults from .detect() function - 5 day window half width, 31 day smoothing' \\\n",
    "\n",
    "clim.attrs['source_dataset'] = 'NOAA Geopolar'\n",
    "clim.attrs['units'] = 'celsius'\n",
    "clim.attrs['processing_date'] = datetime.strftime(date.today(), '%Y-%m-%d')"
   ]
  },
  {
   "cell_type": "code",
   "execution_count": 19,
   "id": "d6cadf85-2e31-4141-81b9-689006a22fe6",
   "metadata": {},
   "outputs": [],
   "source": [
    "clim.to_dataset().to_netcdf(os.path.join(OUTPUT_DIR, 'geopolar_climatology_chesapeake.nc'))"
   ]
  },
  {
   "cell_type": "markdown",
   "id": "f57cc761-c1c9-4275-a90a-d777e61204c4",
   "metadata": {},
   "source": [
    "Create an xarray DataArray for the threshold data using numpy output from the MHW calculation"
   ]
  },
  {
   "cell_type": "code",
   "execution_count": 20,
   "id": "735e05ce-05d6-43a1-b6cc-c4fb717d258f",
   "metadata": {},
   "outputs": [],
   "source": [
    "thresh = xr.DataArray(thresh_np, coords=geopolar.coords, dims=geopolar.dims)\n",
    "\n",
    "# rename variables\n",
    "thresh = thresh.rename('threshold')\n",
    "\n",
    "# add array attributes\n",
    "thresh.attrs['comment'] = '90th percentile treshold values computed using the ' \\\n",
    "    'marineHeatWave package. Uses all defaults from .detect() function - 5 day window' \\\n",
    "    ' half width, 31 day smoothing'\n",
    "thresh.attrs['source_dataset'] = 'NOAA Geopolar'\n",
    "thresh.attrs['units'] = 'celsius'\n",
    "thresh.attrs['processing_date'] = datetime.strftime(date.today(), '%Y-%m-%d')"
   ]
  },
  {
   "cell_type": "code",
   "execution_count": 21,
   "id": "37173569-8d50-49a2-a90b-5f0ccc03c88d",
   "metadata": {},
   "outputs": [],
   "source": [
    "thresh.to_dataset().to_netcdf(os.path.join(OUTPUT_DIR, 'geopolar_threshold_chesapeake.nc'))"
   ]
  },
  {
   "cell_type": "markdown",
   "id": "3b3bb89b-e2da-4117-a285-f729b4e6c57a",
   "metadata": {},
   "source": [
    "### Save the event statistics as a byte stream (pickle) for later processing"
   ]
  },
  {
   "cell_type": "code",
   "execution_count": 22,
   "id": "36debd27-9dc4-480f-b122-23a880def878",
   "metadata": {},
   "outputs": [],
   "source": [
    "path = os.path.join(OUTPUT_DIR, 'mhw_eventstats_dict.pickle')\n",
    "with open(path, 'wb') as handle:\n",
    "    pickle.dump(event_statistics, handle, protocol=pickle.HIGHEST_PROTOCOL)"
   ]
  },
  {
   "cell_type": "markdown",
   "id": "30455671-c140-43b0-9121-159e03291144",
   "metadata": {},
   "source": [
    "## Calculate Marine Heatwaves using `marineHeatWaves` Package: **Linearly Detrended Geo-Polar SST**"
   ]
  },
  {
   "cell_type": "markdown",
   "id": "6f884e91-9d3d-4424-aa77-c726c025c8b2",
   "metadata": {},
   "source": [
    "### Open Geo-Polar SST"
   ]
  },
  {
   "cell_type": "code",
   "execution_count": 23,
   "id": "6807f3d1-3bdc-484e-8559-92b0353bea5b",
   "metadata": {},
   "outputs": [],
   "source": [
    "path = os.path.join(\n",
    "    REPO_ROOT, 'data/raw', \n",
    "    'L4_GHRSST-SSTfnd-Geo_Polar_Blended_Night-GLOB-v02.0-fv01.0_CB_20020901_20230831.nc'\n",
    ")\n",
    "geopolar = xr.open_dataset(path).analysed_sst"
   ]
  },
  {
   "cell_type": "code",
   "execution_count": 24,
   "id": "e13f9588-34ae-41e8-9a2d-0f52d1fd92ed",
   "metadata": {},
   "outputs": [],
   "source": [
    "# convert kelvin to celsius & update metadata\n",
    "geopolar.values = geopolar.values - 273.15\n",
    "geopolar.attrs.update({\n",
    "    'units': 'celsius', \n",
    "    'valid_min': geopolar.attrs['valid_min'] - 273.15,\n",
    "    'valid_max': geopolar.attrs['valid_max'] - 273.15,\n",
    "})"
   ]
  },
  {
   "cell_type": "code",
   "execution_count": 25,
   "id": "f1991d57-ae94-4c69-92c5-e5e8d867a07e",
   "metadata": {},
   "outputs": [
    {
     "data": {
      "text/plain": [
       "<matplotlib.collections.QuadMesh at 0x168048250>"
      ]
     },
     "execution_count": 25,
     "metadata": {},
     "output_type": "execute_result"
    },
    {
     "data": {
      "image/png": "[encoded data removed]",
      "text/plain": [
       "<Figure size 640x480 with 2 Axes>"
      ]
     },
     "metadata": {},
     "output_type": "display_data"
    }
   ],
   "source": [
    "geopolar.isel(time=0).plot()"
   ]
  },
  {
   "cell_type": "markdown",
   "id": "79885c17-0056-4b4f-8b25-bc9f5a4e9daf",
   "metadata": {},
   "source": [
    "### Preprocessing"
   ]
  },
  {
   "cell_type": "code",
   "execution_count": 26,
   "id": "bb2854d3-4c6a-461c-9e3f-316d53f65b4b",
   "metadata": {},
   "outputs": [],
   "source": [
    "# Convert datetimes to ordinal time format\n",
    "time_ordinal = format_time(geopolar.time.values)\n",
    "# Extract numpy array from xarray DataArray\n",
    "sst_np = geopolar.values"
   ]
  },
  {
   "cell_type": "markdown",
   "id": "cdb0f4c1-9363-415c-a5fe-7ed59b3ed12e",
   "metadata": {},
   "source": [
    "### Detrend the SST data to remove long term warming"
   ]
  },
  {
   "cell_type": "code",
   "execution_count": 27,
   "id": "d4ab4bc0-9c62-4cbd-93b5-a77324873788",
   "metadata": {
    "scrolled": true
   },
   "outputs": [
    {
     "name": "stdout",
     "output_type": "stream",
     "text": [
      "CPU times: user 483 ms, sys: 426 ms, total: 909 ms\n",
      "Wall time: 1.58 s\n"
     ]
    }
   ],
   "source": [
    "%%time\n",
    "\n",
    "detrended_sst_np = detrend_sst(sst_np, time_ordinal)"
   ]
  },
  {
   "cell_type": "code",
   "execution_count": 28,
   "id": "a52f78f4-eb9b-40c1-bb29-f0d01639fc65",
   "metadata": {},
   "outputs": [
    {
     "data": {
      "text/plain": [
       "(7710, 65, 40)"
      ]
     },
     "execution_count": 28,
     "metadata": {},
     "output_type": "execute_result"
    }
   ],
   "source": [
    "detrended_sst_np.shape"
   ]
  },
  {
   "cell_type": "markdown",
   "id": "95177ce2-6ebc-4c72-b033-85c2ae6fead7",
   "metadata": {},
   "source": [
    "### Identify marine heatwaves with `mhw.detect()` (Linearly detrended Geo-Polar)"
   ]
  },
  {
   "cell_type": "markdown",
   "id": "bee33025-ecce-4df2-a92d-a0545cc3a999",
   "metadata": {},
   "source": [
    "Identify marine heatwaves using the `mhw.detect()` function from the marineHeatWaves Python package. The marineHeatWaves package can only process one time series of temperature data at a time (ex. one pixel of data over a period of time). The `identify_marineheatwaves()` function here wraps `mhw.detect()` and applies it to all the pixels in a satellite image.\n",
    "\n",
    "`identify_marineheatwaves()` can take some time, depending on the size of the dataset. This step typically ran in ~3 minutes on my computer."
   ]
  },
  {
   "cell_type": "code",
   "execution_count": 29,
   "id": "db59fcef-9ad6-43fd-885a-6ce41505807c",
   "metadata": {
    "tags": []
   },
   "outputs": [
    {
     "name": "stdout",
     "output_type": "stream",
     "text": [
      "CPU times: user 11.1 s, sys: 3.82 s, total: 15 s\n",
      "Wall time: 4min 2s\n"
     ]
    }
   ],
   "source": [
    "%%time\n",
    "\n",
    "result = identify_marineheatwaves(detrended_sst_np, time_ordinal)"
   ]
  },
  {
   "cell_type": "markdown",
   "id": "11e57052-0e6e-4f54-be89-85bd7949aeb7",
   "metadata": {},
   "source": [
    "The `mhw.detect()` function returns two sets things:\n",
    "1. (index 0) The MHW event statistics for all the events\n",
    "2. (index 1) A dictionary containing the climatology (`seas`), threshold (`thresh`) and missing (`missing`) values from the array\n",
    "These two things are axis 0 and 1, respectively, of the `res` array that gets returned from the `.compute()` above. Each of these two outputs is produced for every pixel location of the array.\n",
    "\n",
    "Below we split these two pieces into different datasets to save them."
   ]
  },
  {
   "cell_type": "code",
   "execution_count": 30,
   "id": "c016c7bb-a09d-4e71-8a4b-d16aa304cbd3",
   "metadata": {
    "tags": []
   },
   "outputs": [],
   "source": [
    "event_statistics = result[0]"
   ]
  },
  {
   "cell_type": "code",
   "execution_count": 31,
   "id": "8252bc9b-182b-414e-8173-24b5083cd4c4",
   "metadata": {},
   "outputs": [],
   "source": [
    "clim_np, _ = extract_numpy_outputs(result, len(time_ordinal))"
   ]
  },
  {
   "cell_type": "markdown",
   "id": "0f835c36-39e9-453c-b31e-40c5a4be237b",
   "metadata": {},
   "source": [
    "Note that the output of this function is of the same length as time_ordinal. The daily climatological values are repeated multiple times to match length."
   ]
  },
  {
   "cell_type": "markdown",
   "id": "1818098a-f118-4f12-aa7d-1d4d1ec5b1bf",
   "metadata": {},
   "source": [
    "### Save Climatological average and 90th percentile threshold"
   ]
  },
  {
   "cell_type": "markdown",
   "id": "21d266a5-643d-45a0-92a1-b7df642aa0c7",
   "metadata": {},
   "source": [
    "Create an xarray DataArray for the climatology data using numpy output from the MHW calculation"
   ]
  },
  {
   "cell_type": "code",
   "execution_count": 32,
   "id": "cc7cb641-1c1b-444c-9edf-e2bfe20d9b99",
   "metadata": {},
   "outputs": [],
   "source": [
    "# create xarray objects from numpy output of mhw\n",
    "clim = xr.DataArray(clim_np, coords = geopolar.coords, dims=geopolar.dims)\n",
    "\n",
    "# rename variables\n",
    "clim = clim.rename('climatology')\n",
    "\n",
    "# add array attributes\n",
    "clim.attrs['comment'] = 'climatology computed using the marineHeatWave package. ' \\\n",
    "    'Uses all defaults from .detect() function - 5 day window half width, 31 day smoothing.' \\\n",
    "    'Input SST was linearly detrended to remove long term warming.'\n",
    "\n",
    "clim.attrs['source_dataset'] = 'NOAA Geopolar'\n",
    "clim.attrs['units'] = 'celsius'\n",
    "clim.attrs['processing_date'] = datetime.strftime(date.today(), '%Y-%m-%d')"
   ]
  },
  {
   "cell_type": "code",
   "execution_count": 33,
   "id": "1fe173ee-f153-498c-be4e-423b08b7d30a",
   "metadata": {},
   "outputs": [],
   "source": [
    "clim.to_dataset().to_netcdf(os.path.join(OUTPUT_DIR, 'geopolar_climatology_chesapeake_detrended.nc'))"
   ]
  },
  {
   "cell_type": "markdown",
   "id": "65f1fd7f-e33f-4843-9bd1-04dcd4ab180c",
   "metadata": {},
   "source": [
    "## Calculate Marine Heatwaves using `marineHeatWaves` Package: **MUR SST**"
   ]
  },
  {
   "cell_type": "markdown",
   "id": "14fb8ea0-dae5-496b-acd7-e4d442e34825",
   "metadata": {},
   "source": [
    "### Open MUR SST"
   ]
  },
  {
   "cell_type": "code",
   "execution_count": 34,
   "id": "08d9e7fe-0256-402d-9d87-641816762d33",
   "metadata": {},
   "outputs": [],
   "source": [
    "path = os.path.join(\n",
    "    REPO_ROOT, 'data/raw', \n",
    "    'MUR-JPL-L4_GHRSST-SSTfnd-GLOB-v02.0-fv04.1-20020901_20230831.nc'\n",
    ")\n",
    "mur = xr.open_dataset(path).analysed_sst"
   ]
  },
  {
   "cell_type": "code",
   "execution_count": 35,
   "id": "73bb98d1-f29c-4ec3-b3b6-551969256ada",
   "metadata": {},
   "outputs": [],
   "source": [
    "# convert kelvin to celsius & update metadata\n",
    "mur.values = mur.values - 273.15\n",
    "mur.attrs.update({\n",
    "    'units': 'celsius', \n",
    "})"
   ]
  },
  {
   "cell_type": "code",
   "execution_count": 36,
   "id": "df09fa7b-1c6f-459d-a445-c853656c352f",
   "metadata": {},
   "outputs": [
    {
     "data": {
      "text/plain": [
       "<matplotlib.collections.QuadMesh at 0x1637ac280>"
      ]
     },
     "execution_count": 36,
     "metadata": {},
     "output_type": "execute_result"
    },
    {
     "data": {
      "image/png": "[encoded data removed]",
      "text/plain": [
       "<Figure size 640x480 with 2 Axes>"
      ]
     },
     "metadata": {},
     "output_type": "display_data"
    }
   ],
   "source": [
    "mur.isel(time=0).plot()"
   ]
  },
  {
   "cell_type": "markdown",
   "id": "df736b9a-754c-4d71-bd27-1aa3e50bd6d7",
   "metadata": {},
   "source": [
    "### Preprocessing"
   ]
  },
  {
   "cell_type": "code",
   "execution_count": 37,
   "id": "82eddfef-146f-4b07-a939-7e9d566a567a",
   "metadata": {},
   "outputs": [],
   "source": [
    "# Convert datetimes to ordinal time format\n",
    "time_ordinal = format_time(mur.time.values)\n",
    "# Extract numpy array from xarray DataArray\n",
    "sst_np = mur.values"
   ]
  },
  {
   "cell_type": "markdown",
   "id": "cbabf6b1-d0be-4743-a92c-80031722cb08",
   "metadata": {},
   "source": [
    "### Identify marine heatwaves with `mhw.detect()` (MUR)\n",
    "\n",
    "Identify marine heatwaves using the `mhw.detect()` function from the marineHeatWaves Python package. The marineHeatWaves package can only process one time series of temperature data at a time (ex. one pixel of data over a period of time). The `identify_marineheatwaves()` function here wraps `mhw.detect()` and applies it to all the pixels in a satellite image\n",
    "\n",
    "`identify_marineheatwaves()` can take some time, depending on the size of the dataset. This step typically ran in **XXX** minutes on my computer."
   ]
  },
  {
   "cell_type": "markdown",
   "id": "b9138fc7-7e2a-4c2f-83a3-6bee577fb723",
   "metadata": {},
   "source": [
    "Oh my gosh this took 1 hour and 20 minutes to run for MUR. Good grief.\n",
    "\n",
    "I guess it is about a linear scale from the Geopolar. 3min for geopolar * 25 times as many grid cells."
   ]
  },
  {
   "cell_type": "code",
   "execution_count": 38,
   "id": "cf5da82f-1152-4156-b796-29998cfe4260",
   "metadata": {},
   "outputs": [
    {
     "name": "stdout",
     "output_type": "stream",
     "text": [
      "CPU times: user 10min 43s, sys: 3min 1s, total: 13min 44s\n",
      "Wall time: 1h 29min 21s\n"
     ]
    }
   ],
   "source": [
    "%%time\n",
    "\n",
    "result = identify_marineheatwaves(sst_np, time_ordinal)"
   ]
  },
  {
   "cell_type": "code",
   "execution_count": 39,
   "id": "e8613778-4394-4d8c-92f8-01b5815cd66d",
   "metadata": {
    "scrolled": true
   },
   "outputs": [],
   "source": [
    "clim_np, _ = extract_numpy_outputs(result, len(time_ordinal))\n",
    "# threshold output from MUR is ignored since it is not used"
   ]
  },
  {
   "cell_type": "markdown",
   "id": "510a2bba-5524-426c-9087-c2fe8a092585",
   "metadata": {},
   "source": [
    "Note that the output of this function is of the same length as time_ordinal. The daily climatological values are repeated multiple times to match length."
   ]
  },
  {
   "cell_type": "markdown",
   "id": "7aab90be-3fc6-4684-8ae4-589bae01f512",
   "metadata": {},
   "source": [
    "### Save climatological average"
   ]
  },
  {
   "cell_type": "code",
   "execution_count": null,
   "id": "e03aee44-d8ef-4054-9359-0ef55e5e4592",
   "metadata": {},
   "outputs": [],
   "source": [
    "# create xarray object from numpy output of mhw\n",
    "clim = xr.DataArray(clim_np, coords = mur.coords, dims=mur.dims)\n",
    "\n",
    "# rename variables\n",
    "clim = clim.rename('climatology')\n",
    "\n",
    "# add array attributes\n",
    "clim.attrs['comment'] = 'climatology computed using the marineHeatWave package. ' \\\n",
    "    'Uses all defaults from .detect() function - 5 day window half width, 31 day smoothing' \\\n",
    "\n",
    "clim.attrs['source_dataset'] = 'NASA MUR'\n",
    "clim.attrs['units'] = 'celsius'\n",
    "clim.attrs['processing_date'] = datetime.strftime(date.today(), '%Y-%m-%d')"
   ]
  },
  {
   "cell_type": "code",
   "execution_count": null,
   "id": "b895ddc0-4887-4108-8a8b-09dc8882e2f8",
   "metadata": {},
   "outputs": [],
   "source": [
    "path = os.path.join(OUTPUT_DIR, 'mur_climatology_chesapeake.nc')\n",
    "clim.to_dataset().to_netcdf(path)"
   ]
  },
  {
   "cell_type": "markdown",
   "id": "a0a816cb-91fc-47e4-bbe8-a4607ec3997f",
   "metadata": {},
   "source": [
    "## Calculate Marine Heatwaves using `marineHeatWaves` Package: **OSTIA SST**"
   ]
  },
  {
   "cell_type": "markdown",
   "id": "7d2523d9-1e81-4a63-8894-2c81a31817cb",
   "metadata": {},
   "source": [
    "### Open OSTIA SST"
   ]
  },
  {
   "cell_type": "code",
   "execution_count": null,
   "id": "356ac347-3728-4cb9-89e3-df0bc0100209",
   "metadata": {},
   "outputs": [],
   "source": [
    "path = os.path.join(\n",
    "    REPO_ROOT, 'data/raw', \n",
    "    'METOFFICE-GLO-SST-L4-NRT-OBS-SST-V2_analysed_sst_77.47W-75.53W_36.78N-39.97N_2007-01-01-2023-09-01.nc'\n",
    ")\n",
    "ostia = xr.open_dataset(path).analysed_sst"
   ]
  },
  {
   "cell_type": "code",
   "execution_count": null,
   "id": "85a5317b-7a69-4860-b3dd-2617b3b97e34",
   "metadata": {},
   "outputs": [],
   "source": [
    "# convert kelvin to celsius & update metadata\n",
    "ostia.values = ostia.values - 273.15\n",
    "ostia.attrs.update({\n",
    "    'units': 'celsius', \n",
    "})"
   ]
  },
  {
   "cell_type": "code",
   "execution_count": null,
   "id": "4e2d024b-41e9-4eb5-ad37-1d77168212a3",
   "metadata": {},
   "outputs": [],
   "source": [
    "ostia.isel(time=0).plot()"
   ]
  },
  {
   "cell_type": "markdown",
   "id": "f01f316a-a80c-4fd5-8643-5c8257757280",
   "metadata": {},
   "source": [
    "### Preprocessing"
   ]
  },
  {
   "cell_type": "code",
   "execution_count": null,
   "id": "ea412a96-b523-4c0b-b3ce-5f6513274b9d",
   "metadata": {},
   "outputs": [],
   "source": [
    "# Convert datetimes to ordinal time format\n",
    "time_ordinal = format_time(ostia.time.values)\n",
    "# Extract numpy array from xarray DataArray\n",
    "sst_np = ostia.values"
   ]
  },
  {
   "cell_type": "markdown",
   "id": "2e6d6e60-6abe-400d-9136-98701b4fea64",
   "metadata": {},
   "source": [
    "### Identify marine heatwaves with `mhw.detect()` (OSTIA)\n",
    "\n",
    "Identify marine heatwaves using the `mhw.detect()` function from the marineHeatWaves Python package. The marineHeatWaves package can only process one time series of temperature data at a time (ex. one pixel of data over a period of time). The `identify_marineheatwaves()` function here wraps `mhw.detect()` and applies it to all the pixels in a satellite image.\n",
    "\n",
    "`identify_marineheatwaves()` can take some time, depending on the size of the dataset. This step typically ran in 4 minutes on my computer."
   ]
  },
  {
   "cell_type": "code",
   "execution_count": null,
   "id": "7cb284bf-7d11-4f98-b5d9-7d8512686131",
   "metadata": {
    "tags": []
   },
   "outputs": [],
   "source": [
    "%%time\n",
    "\n",
    "result = identify_marineheatwaves(sst_np, time_ordinal)"
   ]
  },
  {
   "cell_type": "markdown",
   "id": "6b4096db-5086-43c4-9008-b45a3945b002",
   "metadata": {},
   "source": [
    "The `mhw.detect()` function returns two sets things:\n",
    "1. (index 0) The MHW event statistics for all the events\n",
    "2. (index 1) A dictionary containing the climatology (`seas`), threshold (`thresh`) and missing (`missing`) values from the array\n",
    "These two things are axis 0 and 1, respectively, of the `res` array that gets returned from the `.compute()` above. Each of these two outputs is produced for every pixel location of the array.\n",
    "\n",
    "Below we split these two pieces into different datasets to save them."
   ]
  },
  {
   "cell_type": "code",
   "execution_count": null,
   "id": "50146103-3aa9-4dd3-937c-9acca0dcfa03",
   "metadata": {
    "tags": []
   },
   "outputs": [],
   "source": [
    "event_statistics = result[0]"
   ]
  },
  {
   "cell_type": "code",
   "execution_count": null,
   "id": "8894cbd4-c054-4372-8983-a3853c0f48dc",
   "metadata": {},
   "outputs": [],
   "source": [
    "clim_np, _ = extract_numpy_outputs(result, len(time_ordinal))\n",
    "# threshold output from OSTIA is ignored since it is not used"
   ]
  },
  {
   "cell_type": "markdown",
   "id": "452598c4-39da-4928-a97e-acbc8f8106e2",
   "metadata": {},
   "source": [
    "Note that the output of this function is of the same length as time_ordinal. The daily climatological values are repeated multiple times to match length."
   ]
  },
  {
   "cell_type": "markdown",
   "id": "89312ce7-8665-4f76-859e-b2e10c614ae6",
   "metadata": {},
   "source": [
    "### Save climatological average"
   ]
  },
  {
   "cell_type": "code",
   "execution_count": null,
   "id": "7f9e97cb-01e3-4aae-b5e4-20e56449eb33",
   "metadata": {},
   "outputs": [],
   "source": [
    "# create xarray object from numpy output of mhw\n",
    "clim = xr.DataArray(clim_np, coords = ostia.coords, dims=ostia.dims)\n",
    "clim = clim.rename({'latitude': 'lat', 'longitude': 'lon'})\n",
    "\n",
    "# rename variables\n",
    "clim = clim.rename('climatology')\n",
    "\n",
    "# add array attributes\n",
    "clim.attrs['comment'] = 'climatology computed using the marineHeatWave package. ' \\\n",
    "    'Uses all defaults from .detect() function - 5 day window half width, 31 day smoothing' \\\n",
    "\n",
    "clim.attrs['source_dataset'] = 'Copernicus OSTIA'\n",
    "clim.attrs['units'] = 'celsius'\n",
    "clim.attrs['processing_date'] = datetime.strftime(date.today(), '%Y-%m-%d')"
   ]
  },
  {
   "cell_type": "code",
   "execution_count": null,
   "id": "f4f6ed41-d8fd-4cec-9a37-be4c220caff3",
   "metadata": {},
   "outputs": [],
   "source": [
    "clim.to_dataset().to_netcdf(os.path.join(OUTPUT_DIR, 'ostia_climatology_chesapeake.nc'))"
   ]
  },
  {
   "cell_type": "code",
   "execution_count": null,
   "id": "92020bac-47a6-4320-894c-a0eae6bc3603",
   "metadata": {},
   "outputs": [],
   "source": []
  }
 ],
 "metadata": {
  "kernelspec": {
   "display_name": "Python [conda env:chesapeake_mhw_2021dask]",
   "language": "python",
   "name": "conda-env-chesapeake_mhw_2021dask-py"
  },
  "language_info": {
   "codemirror_mode": {
    "name": "ipython",
    "version": 3
   },
   "file_extension": ".py",
   "mimetype": "text/x-python",
   "name": "python",
   "nbconvert_exporter": "python",
   "pygments_lexer": "ipython3",
   "version": "3.9.16"
  }
 },
 "nbformat": 4,
 "nbformat_minor": 5
}
