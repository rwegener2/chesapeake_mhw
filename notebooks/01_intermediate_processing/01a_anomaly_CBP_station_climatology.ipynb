{
 "cells": [
  {
   "cell_type": "markdown",
   "id": "7b61bd1c-ea19-4f7a-ace5-a03bf7ff8248",
   "metadata": {},
   "source": [
    "# Calculating the Climatological and Anomaly Values for Selected CBP Stations"
   ]
  },
  {
   "cell_type": "markdown",
   "id": "907de6a3-4e93-499e-8cb8-99b48013291a",
   "metadata": {
    "jp-MarkdownHeadingCollapsed": true
   },
   "source": [
    "## Notebook Overview\n",
    "- Select Chesapeake Bay Program (CBP) stations with sufficient SST observation temporal coverage at the appropriate depths to compute a climatology.\n",
    "- Extract one SST value at each location and day, if there are observations at multiple depths.\n",
    "- Compute the seasonal climatology of the mixed layer from the chosen stations.\n",
    "- Compute the observed SST anomalies.\n",
    "- Save the observed SST values, the climatological value, and the observed SST anomaly for location and observation day.\n",
    "\n",
    "### Supplemental information\n",
    "- [Chesapeake Bay Program station names](https://d18lev1ok5leia.cloudfront.net/chesapeakebay/documents/map_of_mainstem_and_tributary_monitoring_stations.pdf)\n",
    "- [Chesapeake Bay Program data guide](https://d18lev1ok5leia.cloudfront.net/chesapeakebay/documents/cbwqdb2004_rb.pdf)"
   ]
  },
  {
   "cell_type": "markdown",
   "id": "fcd9cb14-1453-4aa0-90d1-898b0784f044",
   "metadata": {},
   "source": [
    "## Analysis"
   ]
  },
  {
   "cell_type": "code",
   "execution_count": 1,
   "id": "c63a1b35-4295-4b68-98b4-18cc2204126e",
   "metadata": {
    "tags": []
   },
   "outputs": [],
   "source": [
    "import os\n",
    "from pathlib import Path\n",
    "\n",
    "import pandas as pd\n",
    "import matplotlib.pyplot as plt\n",
    "import geopandas as gpd\n",
    "import cartopy.crs as ccrs\n",
    "import cartopy.feature as cfeature\n",
    "import seaborn as sns"
   ]
  },
  {
   "cell_type": "markdown",
   "id": "2a726e9c-f7e6-4eb4-9ea7-64df2027c6d9",
   "metadata": {},
   "source": [
    "Update the `REPO_ROOT` to the location of the `chesapeake_mhw` folder on your machine."
   ]
  },
  {
   "cell_type": "code",
   "execution_count": 2,
   "id": "c8a3b869-25d8-4dc8-80ad-5f931aff1ea1",
   "metadata": {},
   "outputs": [],
   "source": [
    "SAVE_FIGS = False\n",
    "REPO_ROOT = Path('/Users/rwegener/repos/chesapeake_mhw')"
   ]
  },
  {
   "cell_type": "markdown",
   "id": "f284c2b5-f258-4dbd-b132-52a6f8593ae3",
   "metadata": {},
   "source": [
    "### Read Data"
   ]
  },
  {
   "cell_type": "code",
   "execution_count": 3,
   "id": "0218c5b6-a137-40e7-b628-4565dc67152e",
   "metadata": {},
   "outputs": [],
   "source": [
    "# Read the csv into a pandas dataframe\n",
    "cols = ['EventId', 'Station', 'SampleDate', 'SampleTime', 'Unit',\n",
    "        'Depth', 'Layer','MeasureValue', 'Latitude', 'Longitude']\n",
    "path = REPO_ROOT / 'data/raw/WaterQuality_ChesapeakeBayProgram_20030101_20221231.csv'\n",
    "wq = pd.read_csv(path, usecols=cols, parse_dates=[2])"
   ]
  },
  {
   "cell_type": "markdown",
   "id": "e17406a2-f9d9-47b3-98f4-b26e1dc3d5c8",
   "metadata": {},
   "source": [
    "### Filter, Average, and Save Raw SST Observations"
   ]
  },
  {
   "cell_type": "code",
   "execution_count": 4,
   "id": "5de6d041-1fa1-452e-aca6-c77ad552a742",
   "metadata": {},
   "outputs": [],
   "source": [
    "# Only consider measurements between 1 and 3 meters depth\n",
    "wq_stations = wq[(wq.Depth > 1) & (wq.Depth < 3)]"
   ]
  },
  {
   "cell_type": "code",
   "execution_count": 5,
   "id": "434c1c88-08e9-4868-b1ff-28736dcaddf7",
   "metadata": {
    "scrolled": true
   },
   "outputs": [],
   "source": [
    "# Take average value of observations at those depths\n",
    "wq_stations = wq_stations.groupby(['Station', 'SampleDate']).mean(numeric_only=True).reset_index()"
   ]
  },
  {
   "cell_type": "code",
   "execution_count": 6,
   "id": "c601f71b-ff74-41e1-b648-ce0ce717db77",
   "metadata": {},
   "outputs": [],
   "source": [
    "# Clean un-needed columns\n",
    "wq_stations = wq_stations.drop(['EventId', 'Depth'], axis=1)\n",
    "wq_stations = wq_stations.rename(columns={'MeasureValue': 'sst_cbp'})"
   ]
  },
  {
   "cell_type": "markdown",
   "id": "74b17939-0b05-4cae-8a23-03e2f1466a35",
   "metadata": {},
   "source": [
    "File has one SST value per lat/lon/date. Values are the average of all the observations between 1m and 3m depth."
   ]
  },
  {
   "cell_type": "code",
   "execution_count": 7,
   "id": "628fd74c-8eab-4f32-9423-99afcb4b8a53",
   "metadata": {},
   "outputs": [
    {
     "data": {
      "text/html": [
       "<div>\n",
       "<style scoped>\n",
       "    .dataframe tbody tr th:only-of-type {\n",
       "        vertical-align: middle;\n",
       "    }\n",
       "\n",
       "    .dataframe tbody tr th {\n",
       "        vertical-align: top;\n",
       "    }\n",
       "\n",
       "    .dataframe thead th {\n",
       "        text-align: right;\n",
       "    }\n",
       "</style>\n",
       "<table border=\"1\" class=\"dataframe\">\n",
       "  <thead>\n",
       "    <tr style=\"text-align: right;\">\n",
       "      <th></th>\n",
       "      <th>Station</th>\n",
       "      <th>SampleDate</th>\n",
       "      <th>sst_cbp</th>\n",
       "      <th>Latitude</th>\n",
       "      <th>Longitude</th>\n",
       "    </tr>\n",
       "  </thead>\n",
       "  <tbody>\n",
       "    <tr>\n",
       "      <th>0</th>\n",
       "      <td>1AAUA001.39</td>\n",
       "      <td>2007-03-22</td>\n",
       "      <td>8.3</td>\n",
       "      <td>38.4000</td>\n",
       "      <td>-77.3200</td>\n",
       "    </tr>\n",
       "    <tr>\n",
       "      <th>1</th>\n",
       "      <td>1AAUA001.39</td>\n",
       "      <td>2007-06-18</td>\n",
       "      <td>26.2</td>\n",
       "      <td>38.4000</td>\n",
       "      <td>-77.3200</td>\n",
       "    </tr>\n",
       "    <tr>\n",
       "      <th>2</th>\n",
       "      <td>1AAUA001.39</td>\n",
       "      <td>2007-10-29</td>\n",
       "      <td>14.5</td>\n",
       "      <td>38.4000</td>\n",
       "      <td>-77.3200</td>\n",
       "    </tr>\n",
       "    <tr>\n",
       "      <th>3</th>\n",
       "      <td>1AAUA001.39</td>\n",
       "      <td>2007-12-10</td>\n",
       "      <td>5.2</td>\n",
       "      <td>38.4000</td>\n",
       "      <td>-77.3200</td>\n",
       "    </tr>\n",
       "    <tr>\n",
       "      <th>4</th>\n",
       "      <td>1AAUA001.39</td>\n",
       "      <td>2008-02-04</td>\n",
       "      <td>4.9</td>\n",
       "      <td>38.4000</td>\n",
       "      <td>-77.3200</td>\n",
       "    </tr>\n",
       "    <tr>\n",
       "      <th>...</th>\n",
       "      <td>...</td>\n",
       "      <td>...</td>\n",
       "      <td>...</td>\n",
       "      <td>...</td>\n",
       "      <td>...</td>\n",
       "    </tr>\n",
       "    <tr>\n",
       "      <th>51139</th>\n",
       "      <td>ZDM0003</td>\n",
       "      <td>2004-07-08</td>\n",
       "      <td>27.7</td>\n",
       "      <td>38.9362</td>\n",
       "      <td>-76.5067</td>\n",
       "    </tr>\n",
       "    <tr>\n",
       "      <th>51140</th>\n",
       "      <td>ZDM0003</td>\n",
       "      <td>2004-08-05</td>\n",
       "      <td>29.0</td>\n",
       "      <td>38.9362</td>\n",
       "      <td>-76.5067</td>\n",
       "    </tr>\n",
       "    <tr>\n",
       "      <th>51141</th>\n",
       "      <td>ZDM0003</td>\n",
       "      <td>2004-08-19</td>\n",
       "      <td>26.4</td>\n",
       "      <td>38.9362</td>\n",
       "      <td>-76.5067</td>\n",
       "    </tr>\n",
       "    <tr>\n",
       "      <th>51142</th>\n",
       "      <td>ZDM0003</td>\n",
       "      <td>2004-09-15</td>\n",
       "      <td>24.5</td>\n",
       "      <td>38.9362</td>\n",
       "      <td>-76.5067</td>\n",
       "    </tr>\n",
       "    <tr>\n",
       "      <th>51143</th>\n",
       "      <td>ZDM0003</td>\n",
       "      <td>2004-10-13</td>\n",
       "      <td>17.0</td>\n",
       "      <td>38.9362</td>\n",
       "      <td>-76.5067</td>\n",
       "    </tr>\n",
       "  </tbody>\n",
       "</table>\n",
       "<p>51144 rows × 5 columns</p>\n",
       "</div>"
      ],
      "text/plain": [
       "           Station SampleDate  sst_cbp  Latitude  Longitude\n",
       "0      1AAUA001.39 2007-03-22      8.3   38.4000   -77.3200\n",
       "1      1AAUA001.39 2007-06-18     26.2   38.4000   -77.3200\n",
       "2      1AAUA001.39 2007-10-29     14.5   38.4000   -77.3200\n",
       "3      1AAUA001.39 2007-12-10      5.2   38.4000   -77.3200\n",
       "4      1AAUA001.39 2008-02-04      4.9   38.4000   -77.3200\n",
       "...            ...        ...      ...       ...        ...\n",
       "51139      ZDM0003 2004-07-08     27.7   38.9362   -76.5067\n",
       "51140      ZDM0003 2004-08-05     29.0   38.9362   -76.5067\n",
       "51141      ZDM0003 2004-08-19     26.4   38.9362   -76.5067\n",
       "51142      ZDM0003 2004-09-15     24.5   38.9362   -76.5067\n",
       "51143      ZDM0003 2004-10-13     17.0   38.9362   -76.5067\n",
       "\n",
       "[51144 rows x 5 columns]"
      ]
     },
     "execution_count": 7,
     "metadata": {},
     "output_type": "execute_result"
    }
   ],
   "source": [
    "wq_stations"
   ]
  },
  {
   "cell_type": "code",
   "execution_count": 10,
   "id": "698589bd-8838-43a7-b7ed-ac2c591d664f",
   "metadata": {},
   "outputs": [],
   "source": [
    "# Save output\n",
    "path = REPO_ROOT / 'data/interim' / \n",
    "    # NEW NAME -- 'selected_cbp_stations_sst.csv'\n",
    "    'cbp_stations_climatology_raw_filtered.csv' # TODO rename this. It isn't a clim and filtered\n",
    "    # is pretty vague\n",
    ")\n",
    "wq_stations.to_csv(path, index=False)"
   ]
  },
  {
   "cell_type": "markdown",
   "id": "8a32ac44-9c8a-475b-86e6-1b1fbf7fe5d2",
   "metadata": {},
   "source": [
    "### Preprocessing"
   ]
  },
  {
   "cell_type": "code",
   "execution_count": 8,
   "id": "cedbaa83-ae73-4619-a146-d6a7fa83f268",
   "metadata": {},
   "outputs": [],
   "source": [
    "# Create a list of all the station names\n",
    "stations = wq_stations.groupby('Station').count().index"
   ]
  },
  {
   "cell_type": "code",
   "execution_count": 9,
   "id": "44e347ba-2ef8-4930-90da-2e5ae4567199",
   "metadata": {},
   "outputs": [],
   "source": [
    "# Create a dataframe with the number of observations per station and month\n",
    "counts = wq_stations.groupby(['Station', wq_stations.SampleDate.dt.year, wq_stations.SampleDate.dt.month]).count()['sst_cbp']\n",
    "# Format the dataframe more clearly\n",
    "counts = pd.DataFrame(counts)\n",
    "counts = counts.rename(columns={'sst_cbp': 'ObsCount'})\n",
    "counts.index = counts.index.set_names(['Station', 'year', 'month'])"
   ]
  },
  {
   "cell_type": "markdown",
   "id": "8af57144-d1a3-4e67-a412-c4fbeba84345",
   "metadata": {},
   "source": [
    "### Create a list of stations that have enough data to compute a climatology"
   ]
  },
  {
   "cell_type": "markdown",
   "id": "0e822e45-13e7-4dbb-92f5-727096d24039",
   "metadata": {},
   "source": [
    "Create a filtered list of stations that have at least 12 years of observations in all months and 18 observations in 10 of the months."
   ]
  },
  {
   "cell_type": "code",
   "execution_count": 10,
   "id": "9b64e26a-4793-43f1-9625-ccb31d7c58f4",
   "metadata": {
    "tags": []
   },
   "outputs": [
    {
     "name": "stdout",
     "output_type": "stream",
     "text": [
      "48 stations identified.\n"
     ]
    }
   ],
   "source": [
    "stations_filtered = []  # TODO rename to clim_elibigle_stations\n",
    "completeness_df = pd.DataFrame(\n",
    "    columns = ['Jan', 'Feb', 'Mar', 'Apr', 'May', 'Jun', 'Jul', 'Aug', 'Sep', 'Oct', \n",
    "               'Nov', 'Dec']\n",
    ")\n",
    "\n",
    "for station in stations:\n",
    "    # extract station\n",
    "    df = counts.loc[station]\n",
    "    # preprocessing\n",
    "    df = df.reset_index()\n",
    "    matrix = df.pivot(index='year', columns='month')\n",
    "    \n",
    "    # Add to filtered stations if it meets the condition\n",
    "    if (matrix.sum() < 12).sum() > 0:\n",
    "        # If any month does not have at least 12 years with an obs (60% coverage)\n",
    "        # do not consider it\n",
    "        continue\n",
    "    # Check that there are at least 18 months with obs (90% coverage) in 10 of the months\n",
    "    if ((~matrix.isna()).sum() >= 18).sum() >= 10:\n",
    "        stations_filtered.append(station)\n",
    "        # optional - plot a heatmap for the individual station\n",
    "        # sns.heatmap(matrix)\n",
    "        # plt.title(station)\n",
    "        # plt.show()\n",
    "        # plt.close()\n",
    "        completeness_df.loc[station] = (~matrix.isna()).sum().values\n",
    "\n",
    "print(len(stations_filtered), 'stations identified.')"
   ]
  },
  {
   "cell_type": "markdown",
   "id": "aad99232-eaf3-4901-85e5-0283cd2e79ba",
   "metadata": {},
   "source": [
    "### Filter stations list to only include climatology-eligible stations"
   ]
  },
  {
   "cell_type": "code",
   "execution_count": 11,
   "id": "35bbb454-7f06-4a19-9861-308c28985f0e",
   "metadata": {},
   "outputs": [],
   "source": [
    "wq_stations = wq_stations[wq_stations.Station.isin(stations_filtered)]"
   ]
  },
  {
   "cell_type": "markdown",
   "id": "2348cfeb-0192-455e-ad89-f3c2d371f29d",
   "metadata": {},
   "source": [
    "### Plot location of the climatology stations"
   ]
  },
  {
   "cell_type": "code",
   "execution_count": 12,
   "id": "623a9828-0f8e-43d7-a09a-22fda2efca34",
   "metadata": {},
   "outputs": [],
   "source": [
    "wq_counts = wq_stations.groupby('Station').mean(numeric_only=True)[['Latitude', 'Longitude']]\n",
    "wq_counts['Count'] = wq_stations.groupby('Station').count()['sst_cbp']"
   ]
  },
  {
   "cell_type": "code",
   "execution_count": 13,
   "id": "c5eb0167-0d51-4f2d-862c-fb071d632266",
   "metadata": {},
   "outputs": [],
   "source": [
    "geoWQ = gpd.GeoDataFrame(\n",
    "    wq_counts, geometry=gpd.points_from_xy(wq_counts['Longitude'], wq_counts['Latitude']), \n",
    "    crs='epsg:4326')"
   ]
  },
  {
   "cell_type": "code",
   "execution_count": 14,
   "id": "2e33dda5-8c3a-426c-86e0-90b67543988a",
   "metadata": {
    "tags": []
   },
   "outputs": [
    {
     "data": {
      "image/png": "[encoded data removed]",
      "text/plain": [
       "<Figure size 1000x700 with 4 Axes>"
      ]
     },
     "metadata": {},
     "output_type": "display_data"
    }
   ],
   "source": [
    "# ax1 = plt.subplot(121)\n",
    "# ax2 = plt.subplot(122, projection=ccrs.PlateCarree())\n",
    "fig, axes = plt.subplots(1, 2, subplot_kw={'projection': ccrs.PlateCarree()}, \n",
    "                         # gridspec_kw={'width_ratios':[5, 2]}, \n",
    "                         figsize=(10, 7))\n",
    "                        # gridspec_kw={'width_ratios':[2, 1]})  # , 'height_ratios':[2,1]})\n",
    "fig.suptitle('Selected In Situ Validation Stations')\n",
    "\n",
    "# fig.set_size_inches(9, 6)\n",
    "# fig.suptitle('Locations of most frequently sampled in situ locations')\n",
    "\n",
    "# Add background features\n",
    "axes[1].add_feature(cfeature.COASTLINE, alpha=0.3)\n",
    "axes[1].add_feature(cfeature.BORDERS, linestyle=':')\n",
    "axes[1].add_feature(cfeature.RIVERS)\n",
    "# ax.coastlines()\n",
    "\n",
    "axes[1].set_extent([-77.5, -75.4, 36.6, 39.7])\n",
    "\n",
    "# Add and format gridlines. Remove top and right labels\n",
    "gl = axes[1].gridlines(crs=ccrs.PlateCarree(), draw_labels=True,\n",
    "                  linewidth=1, color='gray', alpha=0.2, linestyle='--')\n",
    "gl.top_labels, gl.right_labels = False, False\n",
    "\n",
    "# Add seasonal distribution\n",
    "# attempted and failed to make colorbar discrete\n",
    "# making colorbar discrete is fine; struggling with label location\n",
    "# cmap = plt.get_cmap('inferno_r', np.max(completeness_df.values) - np.min(completeness_df.values) + 1)\n",
    "axes[0].set_title('Seasonal distribution of in situ observations')\n",
    "sns.heatmap(completeness_df, ax=axes[0], cmap='inferno_r',\n",
    "                   # linewidths=0.2,\n",
    "            cbar_kws={'label': 'Number of years with at least 1 observation'})\n",
    "axes[0].set_ylabel('Monitoring Station Name')\n",
    "axes[0].set_xlabel('Month')\n",
    "axes[0].set_xticks([0.5, 2.5, 4.5, 6.5, 8.5, 10.5])\n",
    "axes[0].set_xticklabels(['Jan','Mar','May','Jul', 'Sep', 'Nov'])\n",
    "\n",
    "# Plot in situ locations\n",
    "axes[1].set_title('Spatial distribution of in situ observations')\n",
    "geoWQ.plot(ax=axes[1], column='Count', legend=True, legend_kwds={'label': \"Total # of observations\"})\n",
    "# Add upper / middle / lower locations\n",
    "axes[1].plot([-76.8, -76.0], [39.17, 38.84], color='#bd2b20')  # upper/mid\n",
    "axes[1].plot([-76.6, -75.5], [37.82, 38], color='#bd2b20')  # mid/lower\n",
    "axes[1].text(-76.9, 39.45, 'Upper Bay', color='#bd2b20', size=12)\n",
    "axes[1].text(-77.4, 38.8, 'Middle Bay', color='#bd2b20', size=12)\n",
    "axes[1].text(-77.0, 37.5, 'Lower Bay', color='#bd2b20', size=12)\n",
    "\n",
    "\n",
    "plt.tight_layout()\n",
    "\n",
    "if SAVE_FIGS: \n",
    "    plt.savefig('../../figures/insitu_distribution.png', dpi=400, \n",
    "            bbox_inches='tight')"
   ]
  },
  {
   "cell_type": "markdown",
   "id": "e89372a9-4ba6-45c2-a104-87796cfbc841",
   "metadata": {},
   "source": [
    "**Most sampled stations from several areas of the bay**\n",
    "\n",
    "- CB5.1 -- main stem outside the Patuxent River\n",
    "- RET2.4 -- up the Potomac River\n",
    "- CB7.2 -- main stem near the exit of the Bay"
   ]
  },
  {
   "cell_type": "code",
   "execution_count": 27,
   "id": "5bc5e6fe-ba18-4673-85e6-b6166dcd7713",
   "metadata": {},
   "outputs": [
    {
     "data": {
      "text/plain": [
       "48"
      ]
     },
     "execution_count": 27,
     "metadata": {},
     "output_type": "execute_result"
    }
   ],
   "source": [
    "len(stations_filtered)"
   ]
  },
  {
   "cell_type": "markdown",
   "id": "e18262ba-dad8-4d28-9bd0-d045aff32663",
   "metadata": {},
   "source": [
    "## Compute the Climatologial Value for each Depth and Location"
   ]
  },
  {
   "cell_type": "markdown",
   "id": "0a8dfc62-35a3-450d-9a6a-93a3b4063c0a",
   "metadata": {},
   "source": [
    "It's possible this observation count isn't strictly necessary for the process, it was something I did while just trying to get a handle on how many values there were."
   ]
  },
  {
   "cell_type": "code",
   "execution_count": 17,
   "id": "f464af66-4685-4053-b731-de8f5d8a584d",
   "metadata": {},
   "outputs": [
    {
     "data": {
      "text/html": [
       "<div>\n",
       "<style scoped>\n",
       "    .dataframe tbody tr th:only-of-type {\n",
       "        vertical-align: middle;\n",
       "    }\n",
       "\n",
       "    .dataframe tbody tr th {\n",
       "        vertical-align: top;\n",
       "    }\n",
       "\n",
       "    .dataframe thead th {\n",
       "        text-align: right;\n",
       "    }\n",
       "</style>\n",
       "<table border=\"1\" class=\"dataframe\">\n",
       "  <thead>\n",
       "    <tr style=\"text-align: right;\">\n",
       "      <th></th>\n",
       "      <th>Station</th>\n",
       "      <th>SampleDate</th>\n",
       "      <th>sst_cbp</th>\n",
       "      <th>Latitude</th>\n",
       "      <th>Longitude</th>\n",
       "    </tr>\n",
       "  </thead>\n",
       "  <tbody>\n",
       "    <tr>\n",
       "      <th>1623</th>\n",
       "      <td>CB2.1</td>\n",
       "      <td>2003-01-15</td>\n",
       "      <td>1.10</td>\n",
       "      <td>39.44149</td>\n",
       "      <td>-76.02599</td>\n",
       "    </tr>\n",
       "    <tr>\n",
       "      <th>1624</th>\n",
       "      <td>CB2.1</td>\n",
       "      <td>2003-03-12</td>\n",
       "      <td>2.00</td>\n",
       "      <td>39.44149</td>\n",
       "      <td>-76.02599</td>\n",
       "    </tr>\n",
       "    <tr>\n",
       "      <th>1625</th>\n",
       "      <td>CB2.1</td>\n",
       "      <td>2003-04-09</td>\n",
       "      <td>6.80</td>\n",
       "      <td>39.44149</td>\n",
       "      <td>-76.02599</td>\n",
       "    </tr>\n",
       "    <tr>\n",
       "      <th>1626</th>\n",
       "      <td>CB2.1</td>\n",
       "      <td>2003-04-23</td>\n",
       "      <td>13.00</td>\n",
       "      <td>39.44149</td>\n",
       "      <td>-76.02599</td>\n",
       "    </tr>\n",
       "    <tr>\n",
       "      <th>1627</th>\n",
       "      <td>CB2.1</td>\n",
       "      <td>2003-05-07</td>\n",
       "      <td>15.70</td>\n",
       "      <td>39.44149</td>\n",
       "      <td>-76.02599</td>\n",
       "    </tr>\n",
       "    <tr>\n",
       "      <th>...</th>\n",
       "      <td>...</td>\n",
       "      <td>...</td>\n",
       "      <td>...</td>\n",
       "      <td>...</td>\n",
       "      <td>...</td>\n",
       "    </tr>\n",
       "    <tr>\n",
       "      <th>40539</th>\n",
       "      <td>WT8.3</td>\n",
       "      <td>2022-08-09</td>\n",
       "      <td>29.40</td>\n",
       "      <td>38.84250</td>\n",
       "      <td>-76.53410</td>\n",
       "    </tr>\n",
       "    <tr>\n",
       "      <th>40540</th>\n",
       "      <td>WT8.3</td>\n",
       "      <td>2022-09-13</td>\n",
       "      <td>25.65</td>\n",
       "      <td>38.84250</td>\n",
       "      <td>-76.53410</td>\n",
       "    </tr>\n",
       "    <tr>\n",
       "      <th>40541</th>\n",
       "      <td>WT8.3</td>\n",
       "      <td>2022-10-12</td>\n",
       "      <td>16.75</td>\n",
       "      <td>38.84250</td>\n",
       "      <td>-76.53410</td>\n",
       "    </tr>\n",
       "    <tr>\n",
       "      <th>40542</th>\n",
       "      <td>WT8.3</td>\n",
       "      <td>2022-11-14</td>\n",
       "      <td>12.75</td>\n",
       "      <td>38.84250</td>\n",
       "      <td>-76.53410</td>\n",
       "    </tr>\n",
       "    <tr>\n",
       "      <th>40543</th>\n",
       "      <td>WT8.3</td>\n",
       "      <td>2022-12-13</td>\n",
       "      <td>6.85</td>\n",
       "      <td>38.84250</td>\n",
       "      <td>-76.53410</td>\n",
       "    </tr>\n",
       "  </tbody>\n",
       "</table>\n",
       "<p>13162 rows × 5 columns</p>\n",
       "</div>"
      ],
      "text/plain": [
       "      Station SampleDate  sst_cbp  Latitude  Longitude\n",
       "1623    CB2.1 2003-01-15     1.10  39.44149  -76.02599\n",
       "1624    CB2.1 2003-03-12     2.00  39.44149  -76.02599\n",
       "1625    CB2.1 2003-04-09     6.80  39.44149  -76.02599\n",
       "1626    CB2.1 2003-04-23    13.00  39.44149  -76.02599\n",
       "1627    CB2.1 2003-05-07    15.70  39.44149  -76.02599\n",
       "...       ...        ...      ...       ...        ...\n",
       "40539   WT8.3 2022-08-09    29.40  38.84250  -76.53410\n",
       "40540   WT8.3 2022-09-13    25.65  38.84250  -76.53410\n",
       "40541   WT8.3 2022-10-12    16.75  38.84250  -76.53410\n",
       "40542   WT8.3 2022-11-14    12.75  38.84250  -76.53410\n",
       "40543   WT8.3 2022-12-13     6.85  38.84250  -76.53410\n",
       "\n",
       "[13162 rows x 5 columns]"
      ]
     },
     "execution_count": 17,
     "metadata": {},
     "output_type": "execute_result"
    }
   ],
   "source": [
    "wq_stations.sort_values(['Station', 'SampleDate'])"
   ]
  },
  {
   "cell_type": "code",
   "execution_count": 33,
   "id": "4a232313-7c54-4251-8515-6afc58551791",
   "metadata": {},
   "outputs": [],
   "source": [
    "# Determine how many observations there are for each station in each month/year\n",
    "counts = wq_stations.groupby(\n",
    "    ['Station', wq_stations.SampleDate.dt.year, wq_stations.SampleDate.dt.month]\n",
    ").count()['sst_cbp']\n",
    "counts = pd.DataFrame(counts)\n",
    "counts = counts.rename({'sst_cbp': 'ObsCount'}, axis=1)\n",
    "counts.index = counts.index.set_names(['Station', 'year', 'month'])"
   ]
  },
  {
   "cell_type": "code",
   "execution_count": 19,
   "id": "fc600db0-d9f6-44aa-a7b5-09de6489d7f4",
   "metadata": {},
   "outputs": [],
   "source": [
    "# not used?\n",
    "# counts['avg_sst'] = wq_stations.groupby(\n",
    "#     ['Station', wq_stations.SampleDate.dt.month]\n",
    "# )['sst_cbp'].mean()"
   ]
  },
  {
   "cell_type": "code",
   "execution_count": 26,
   "id": "d1f61439-27b8-4b91-a390-0a95dafef407",
   "metadata": {},
   "outputs": [
    {
     "data": {
      "text/html": [
       "<div>\n",
       "<style scoped>\n",
       "    .dataframe tbody tr th:only-of-type {\n",
       "        vertical-align: middle;\n",
       "    }\n",
       "\n",
       "    .dataframe tbody tr th {\n",
       "        vertical-align: top;\n",
       "    }\n",
       "\n",
       "    .dataframe thead th {\n",
       "        text-align: right;\n",
       "    }\n",
       "</style>\n",
       "<table border=\"1\" class=\"dataframe\">\n",
       "  <thead>\n",
       "    <tr style=\"text-align: right;\">\n",
       "      <th></th>\n",
       "      <th></th>\n",
       "      <th></th>\n",
       "      <th>ObsCount</th>\n",
       "      <th>avg_sst</th>\n",
       "    </tr>\n",
       "    <tr>\n",
       "      <th>Station</th>\n",
       "      <th>year</th>\n",
       "      <th>month</th>\n",
       "      <th></th>\n",
       "      <th></th>\n",
       "    </tr>\n",
       "  </thead>\n",
       "  <tbody>\n",
       "    <tr>\n",
       "      <th rowspan=\"5\" valign=\"top\">1AAUA001.39</th>\n",
       "      <th rowspan=\"4\" valign=\"top\">2007</th>\n",
       "      <th>3</th>\n",
       "      <td>1</td>\n",
       "      <td>NaN</td>\n",
       "    </tr>\n",
       "    <tr>\n",
       "      <th>6</th>\n",
       "      <td>1</td>\n",
       "      <td>NaN</td>\n",
       "    </tr>\n",
       "    <tr>\n",
       "      <th>10</th>\n",
       "      <td>1</td>\n",
       "      <td>NaN</td>\n",
       "    </tr>\n",
       "    <tr>\n",
       "      <th>12</th>\n",
       "      <td>1</td>\n",
       "      <td>NaN</td>\n",
       "    </tr>\n",
       "    <tr>\n",
       "      <th>2008</th>\n",
       "      <th>2</th>\n",
       "      <td>1</td>\n",
       "      <td>NaN</td>\n",
       "    </tr>\n",
       "    <tr>\n",
       "      <th>...</th>\n",
       "      <th>...</th>\n",
       "      <th>...</th>\n",
       "      <td>...</td>\n",
       "      <td>...</td>\n",
       "    </tr>\n",
       "    <tr>\n",
       "      <th rowspan=\"5\" valign=\"top\">ZDM0003</th>\n",
       "      <th rowspan=\"5\" valign=\"top\">2004</th>\n",
       "      <th>6</th>\n",
       "      <td>1</td>\n",
       "      <td>NaN</td>\n",
       "    </tr>\n",
       "    <tr>\n",
       "      <th>7</th>\n",
       "      <td>1</td>\n",
       "      <td>NaN</td>\n",
       "    </tr>\n",
       "    <tr>\n",
       "      <th>8</th>\n",
       "      <td>2</td>\n",
       "      <td>NaN</td>\n",
       "    </tr>\n",
       "    <tr>\n",
       "      <th>9</th>\n",
       "      <td>1</td>\n",
       "      <td>NaN</td>\n",
       "    </tr>\n",
       "    <tr>\n",
       "      <th>10</th>\n",
       "      <td>1</td>\n",
       "      <td>NaN</td>\n",
       "    </tr>\n",
       "  </tbody>\n",
       "</table>\n",
       "<p>41858 rows × 2 columns</p>\n",
       "</div>"
      ],
      "text/plain": [
       "                        ObsCount  avg_sst\n",
       "Station     year month                   \n",
       "1AAUA001.39 2007 3             1      NaN\n",
       "                 6             1      NaN\n",
       "                 10            1      NaN\n",
       "                 12            1      NaN\n",
       "            2008 2             1      NaN\n",
       "...                          ...      ...\n",
       "ZDM0003     2004 6             1      NaN\n",
       "                 7             1      NaN\n",
       "                 8             2      NaN\n",
       "                 9             1      NaN\n",
       "                 10            1      NaN\n",
       "\n",
       "[41858 rows x 2 columns]"
      ]
     },
     "execution_count": 26,
     "metadata": {},
     "output_type": "execute_result"
    }
   ],
   "source": [
    "counts"
   ]
  },
  {
   "cell_type": "code",
   "execution_count": 22,
   "id": "d34516ed-28b6-42a1-bf53-49abbbe2ac0a",
   "metadata": {},
   "outputs": [],
   "source": [
    "wq_clim = wq_stations.groupby(\n",
    "    ['Station', wq_stations.SampleDate.dt.month]\n",
    ")['sst_cbp'].mean(numeric_only=True)"
   ]
  },
  {
   "cell_type": "code",
   "execution_count": 24,
   "id": "02bc7c3b-7e5c-468e-a2cb-b4cf73184d12",
   "metadata": {},
   "outputs": [],
   "source": [
    "wq_clim = wq_clim.dropna().sort_index().reset_index()  \\\n",
    "    .rename(columns={'SampleDate': 'Month', 'sst_cbp': 'clim_cbp'})"
   ]
  },
  {
   "cell_type": "markdown",
   "id": "d3ab7d11-0140-40a0-9d43-9e8915f3d8d0",
   "metadata": {},
   "source": [
    "## Compute Anomalies"
   ]
  },
  {
   "cell_type": "code",
   "execution_count": 30,
   "id": "8b238df0-d926-4c87-90f1-a7b0dc22e880",
   "metadata": {},
   "outputs": [
    {
     "name": "stderr",
     "output_type": "stream",
     "text": [
      "/var/folders/nb/y7dp0ct55_58hrhrhlz5vbkm0000gn/T/ipykernel_2107/987881273.py:1: SettingWithCopyWarning: \n",
      "A value is trying to be set on a copy of a slice from a DataFrame.\n",
      "Try using .loc[row_indexer,col_indexer] = value instead\n",
      "\n",
      "See the caveats in the documentation: https://pandas.pydata.org/pandas-docs/stable/user_guide/indexing.html#returning-a-view-versus-a-copy\n",
      "  wq_stations['Month'] = wq_stations.SampleDate.dt.month\n"
     ]
    }
   ],
   "source": [
    "wq_stations['Month'] = wq_stations.SampleDate.dt.month"
   ]
  },
  {
   "cell_type": "code",
   "execution_count": 35,
   "id": "8658d540-1a40-4a8a-82b7-d4cb22ab04cc",
   "metadata": {},
   "outputs": [
    {
     "data": {
      "text/html": [
       "<div>\n",
       "<style scoped>\n",
       "    .dataframe tbody tr th:only-of-type {\n",
       "        vertical-align: middle;\n",
       "    }\n",
       "\n",
       "    .dataframe tbody tr th {\n",
       "        vertical-align: top;\n",
       "    }\n",
       "\n",
       "    .dataframe thead th {\n",
       "        text-align: right;\n",
       "    }\n",
       "</style>\n",
       "<table border=\"1\" class=\"dataframe\">\n",
       "  <thead>\n",
       "    <tr style=\"text-align: right;\">\n",
       "      <th></th>\n",
       "      <th>Station</th>\n",
       "      <th>SampleDate</th>\n",
       "      <th>sst_cbp</th>\n",
       "      <th>Latitude</th>\n",
       "      <th>Longitude</th>\n",
       "      <th>clim_cbp</th>\n",
       "      <th>anom_cbp</th>\n",
       "    </tr>\n",
       "  </thead>\n",
       "  <tbody>\n",
       "    <tr>\n",
       "      <th>0</th>\n",
       "      <td>CB2.1</td>\n",
       "      <td>2003-01-15</td>\n",
       "      <td>1.10</td>\n",
       "      <td>39.44149</td>\n",
       "      <td>-76.02599</td>\n",
       "      <td>3.138462</td>\n",
       "      <td>-2.038462</td>\n",
       "    </tr>\n",
       "    <tr>\n",
       "      <th>13</th>\n",
       "      <td>CB2.1</td>\n",
       "      <td>2003-03-12</td>\n",
       "      <td>2.00</td>\n",
       "      <td>39.44149</td>\n",
       "      <td>-76.02599</td>\n",
       "      <td>6.000000</td>\n",
       "      <td>-4.000000</td>\n",
       "    </tr>\n",
       "    <tr>\n",
       "      <th>32</th>\n",
       "      <td>CB2.1</td>\n",
       "      <td>2003-04-09</td>\n",
       "      <td>6.80</td>\n",
       "      <td>39.44149</td>\n",
       "      <td>-76.02599</td>\n",
       "      <td>12.712000</td>\n",
       "      <td>-5.912000</td>\n",
       "    </tr>\n",
       "    <tr>\n",
       "      <th>33</th>\n",
       "      <td>CB2.1</td>\n",
       "      <td>2003-04-23</td>\n",
       "      <td>13.00</td>\n",
       "      <td>39.44149</td>\n",
       "      <td>-76.02599</td>\n",
       "      <td>12.712000</td>\n",
       "      <td>0.288000</td>\n",
       "    </tr>\n",
       "    <tr>\n",
       "      <th>57</th>\n",
       "      <td>CB2.1</td>\n",
       "      <td>2003-05-07</td>\n",
       "      <td>15.70</td>\n",
       "      <td>39.44149</td>\n",
       "      <td>-76.02599</td>\n",
       "      <td>18.592593</td>\n",
       "      <td>-2.892593</td>\n",
       "    </tr>\n",
       "    <tr>\n",
       "      <th>...</th>\n",
       "      <td>...</td>\n",
       "      <td>...</td>\n",
       "      <td>...</td>\n",
       "      <td>...</td>\n",
       "      <td>...</td>\n",
       "      <td>...</td>\n",
       "      <td>...</td>\n",
       "    </tr>\n",
       "    <tr>\n",
       "      <th>13041</th>\n",
       "      <td>WT8.3</td>\n",
       "      <td>2022-08-09</td>\n",
       "      <td>29.40</td>\n",
       "      <td>38.84250</td>\n",
       "      <td>-76.53410</td>\n",
       "      <td>27.182609</td>\n",
       "      <td>2.217391</td>\n",
       "    </tr>\n",
       "    <tr>\n",
       "      <th>13063</th>\n",
       "      <td>WT8.3</td>\n",
       "      <td>2022-09-13</td>\n",
       "      <td>25.65</td>\n",
       "      <td>38.84250</td>\n",
       "      <td>-76.53410</td>\n",
       "      <td>23.529545</td>\n",
       "      <td>2.120455</td>\n",
       "    </tr>\n",
       "    <tr>\n",
       "      <th>13086</th>\n",
       "      <td>WT8.3</td>\n",
       "      <td>2022-10-12</td>\n",
       "      <td>16.75</td>\n",
       "      <td>38.84250</td>\n",
       "      <td>-76.53410</td>\n",
       "      <td>17.276087</td>\n",
       "      <td>-0.526087</td>\n",
       "    </tr>\n",
       "    <tr>\n",
       "      <th>13106</th>\n",
       "      <td>WT8.3</td>\n",
       "      <td>2022-11-14</td>\n",
       "      <td>12.75</td>\n",
       "      <td>38.84250</td>\n",
       "      <td>-76.53410</td>\n",
       "      <td>10.955000</td>\n",
       "      <td>1.795000</td>\n",
       "    </tr>\n",
       "    <tr>\n",
       "      <th>13126</th>\n",
       "      <td>WT8.3</td>\n",
       "      <td>2022-12-13</td>\n",
       "      <td>6.85</td>\n",
       "      <td>38.84250</td>\n",
       "      <td>-76.53410</td>\n",
       "      <td>6.632500</td>\n",
       "      <td>0.217500</td>\n",
       "    </tr>\n",
       "  </tbody>\n",
       "</table>\n",
       "<p>13162 rows × 7 columns</p>\n",
       "</div>"
      ],
      "text/plain": [
       "      Station SampleDate  sst_cbp  Latitude  Longitude   clim_cbp  anom_cbp\n",
       "0       CB2.1 2003-01-15     1.10  39.44149  -76.02599   3.138462 -2.038462\n",
       "13      CB2.1 2003-03-12     2.00  39.44149  -76.02599   6.000000 -4.000000\n",
       "32      CB2.1 2003-04-09     6.80  39.44149  -76.02599  12.712000 -5.912000\n",
       "33      CB2.1 2003-04-23    13.00  39.44149  -76.02599  12.712000  0.288000\n",
       "57      CB2.1 2003-05-07    15.70  39.44149  -76.02599  18.592593 -2.892593\n",
       "...       ...        ...      ...       ...        ...        ...       ...\n",
       "13041   WT8.3 2022-08-09    29.40  38.84250  -76.53410  27.182609  2.217391\n",
       "13063   WT8.3 2022-09-13    25.65  38.84250  -76.53410  23.529545  2.120455\n",
       "13086   WT8.3 2022-10-12    16.75  38.84250  -76.53410  17.276087 -0.526087\n",
       "13106   WT8.3 2022-11-14    12.75  38.84250  -76.53410  10.955000  1.795000\n",
       "13126   WT8.3 2022-12-13     6.85  38.84250  -76.53410   6.632500  0.217500\n",
       "\n",
       "[13162 rows x 7 columns]"
      ]
     },
     "execution_count": 35,
     "metadata": {},
     "output_type": "execute_result"
    }
   ],
   "source": [
    "wq.sort_values(['Station', 'SampleDate'])"
   ]
  },
  {
   "cell_type": "code",
   "execution_count": 32,
   "id": "592aefca-3344-4449-acf7-b9391b71d5bb",
   "metadata": {},
   "outputs": [],
   "source": [
    "wq = pd.merge(wq_stations, wq_clim, on=['Station', 'Month'])  \\\n",
    "    .drop(columns=['Month'])"
   ]
  },
  {
   "cell_type": "code",
   "execution_count": 33,
   "id": "6bfee16c-980d-4be4-bd54-024faa5554a4",
   "metadata": {},
   "outputs": [],
   "source": [
    "wq['anom_cbp'] = wq['sst_cbp'] - wq['clim_cbp']"
   ]
  },
  {
   "cell_type": "code",
   "execution_count": 40,
   "id": "3dac6325-408a-43fe-9580-022abcd343b7",
   "metadata": {},
   "outputs": [],
   "source": [
    "# Rearrange columns for neatness\n",
    "anom_cbp = wq.pop('anom_cbp')\n",
    "wq.insert(3, anom_cbp.name, anom_cbp)"
   ]
  },
  {
   "cell_type": "code",
   "execution_count": 41,
   "id": "1f478e2a-ba35-4dd3-aa90-f52665c5698b",
   "metadata": {},
   "outputs": [
    {
     "data": {
      "text/html": [
       "<div>\n",
       "<style scoped>\n",
       "    .dataframe tbody tr th:only-of-type {\n",
       "        vertical-align: middle;\n",
       "    }\n",
       "\n",
       "    .dataframe tbody tr th {\n",
       "        vertical-align: top;\n",
       "    }\n",
       "\n",
       "    .dataframe thead th {\n",
       "        text-align: right;\n",
       "    }\n",
       "</style>\n",
       "<table border=\"1\" class=\"dataframe\">\n",
       "  <thead>\n",
       "    <tr style=\"text-align: right;\">\n",
       "      <th></th>\n",
       "      <th>Station</th>\n",
       "      <th>SampleDate</th>\n",
       "      <th>sst_cbp</th>\n",
       "      <th>anom_cbp</th>\n",
       "      <th>Latitude</th>\n",
       "      <th>Longitude</th>\n",
       "      <th>clim_cbp</th>\n",
       "    </tr>\n",
       "  </thead>\n",
       "  <tbody>\n",
       "    <tr>\n",
       "      <th>0</th>\n",
       "      <td>CB2.1</td>\n",
       "      <td>2003-01-15</td>\n",
       "      <td>1.10</td>\n",
       "      <td>-2.038462</td>\n",
       "      <td>39.44149</td>\n",
       "      <td>-76.02599</td>\n",
       "      <td>3.138462</td>\n",
       "    </tr>\n",
       "    <tr>\n",
       "      <th>1</th>\n",
       "      <td>CB2.1</td>\n",
       "      <td>2004-01-14</td>\n",
       "      <td>0.30</td>\n",
       "      <td>-2.838462</td>\n",
       "      <td>39.44149</td>\n",
       "      <td>-76.02599</td>\n",
       "      <td>3.138462</td>\n",
       "    </tr>\n",
       "    <tr>\n",
       "      <th>2</th>\n",
       "      <td>CB2.1</td>\n",
       "      <td>2005-01-13</td>\n",
       "      <td>4.90</td>\n",
       "      <td>1.761538</td>\n",
       "      <td>39.44149</td>\n",
       "      <td>-76.02599</td>\n",
       "      <td>3.138462</td>\n",
       "    </tr>\n",
       "    <tr>\n",
       "      <th>3</th>\n",
       "      <td>CB2.1</td>\n",
       "      <td>2006-01-12</td>\n",
       "      <td>4.60</td>\n",
       "      <td>1.461538</td>\n",
       "      <td>39.44149</td>\n",
       "      <td>-76.02599</td>\n",
       "      <td>3.138462</td>\n",
       "    </tr>\n",
       "    <tr>\n",
       "      <th>4</th>\n",
       "      <td>CB2.1</td>\n",
       "      <td>2007-01-12</td>\n",
       "      <td>5.30</td>\n",
       "      <td>2.161538</td>\n",
       "      <td>39.44149</td>\n",
       "      <td>-76.02599</td>\n",
       "      <td>3.138462</td>\n",
       "    </tr>\n",
       "    <tr>\n",
       "      <th>...</th>\n",
       "      <td>...</td>\n",
       "      <td>...</td>\n",
       "      <td>...</td>\n",
       "      <td>...</td>\n",
       "      <td>...</td>\n",
       "      <td>...</td>\n",
       "      <td>...</td>\n",
       "    </tr>\n",
       "    <tr>\n",
       "      <th>13157</th>\n",
       "      <td>WT8.3</td>\n",
       "      <td>2018-02-15</td>\n",
       "      <td>3.60</td>\n",
       "      <td>-0.273684</td>\n",
       "      <td>38.84250</td>\n",
       "      <td>-76.53410</td>\n",
       "      <td>3.873684</td>\n",
       "    </tr>\n",
       "    <tr>\n",
       "      <th>13158</th>\n",
       "      <td>WT8.3</td>\n",
       "      <td>2019-02-11</td>\n",
       "      <td>3.90</td>\n",
       "      <td>0.026316</td>\n",
       "      <td>38.84250</td>\n",
       "      <td>-76.53410</td>\n",
       "      <td>3.873684</td>\n",
       "    </tr>\n",
       "    <tr>\n",
       "      <th>13159</th>\n",
       "      <td>WT8.3</td>\n",
       "      <td>2020-02-13</td>\n",
       "      <td>7.00</td>\n",
       "      <td>3.126316</td>\n",
       "      <td>38.84250</td>\n",
       "      <td>-76.53410</td>\n",
       "      <td>3.873684</td>\n",
       "    </tr>\n",
       "    <tr>\n",
       "      <th>13160</th>\n",
       "      <td>WT8.3</td>\n",
       "      <td>2021-02-08</td>\n",
       "      <td>3.30</td>\n",
       "      <td>-0.573684</td>\n",
       "      <td>38.84250</td>\n",
       "      <td>-76.53410</td>\n",
       "      <td>3.873684</td>\n",
       "    </tr>\n",
       "    <tr>\n",
       "      <th>13161</th>\n",
       "      <td>WT8.3</td>\n",
       "      <td>2022-02-09</td>\n",
       "      <td>3.15</td>\n",
       "      <td>-0.723684</td>\n",
       "      <td>38.84250</td>\n",
       "      <td>-76.53410</td>\n",
       "      <td>3.873684</td>\n",
       "    </tr>\n",
       "  </tbody>\n",
       "</table>\n",
       "<p>13162 rows × 7 columns</p>\n",
       "</div>"
      ],
      "text/plain": [
       "      Station SampleDate  sst_cbp  anom_cbp  Latitude  Longitude  clim_cbp\n",
       "0       CB2.1 2003-01-15     1.10 -2.038462  39.44149  -76.02599  3.138462\n",
       "1       CB2.1 2004-01-14     0.30 -2.838462  39.44149  -76.02599  3.138462\n",
       "2       CB2.1 2005-01-13     4.90  1.761538  39.44149  -76.02599  3.138462\n",
       "3       CB2.1 2006-01-12     4.60  1.461538  39.44149  -76.02599  3.138462\n",
       "4       CB2.1 2007-01-12     5.30  2.161538  39.44149  -76.02599  3.138462\n",
       "...       ...        ...      ...       ...       ...        ...       ...\n",
       "13157   WT8.3 2018-02-15     3.60 -0.273684  38.84250  -76.53410  3.873684\n",
       "13158   WT8.3 2019-02-11     3.90  0.026316  38.84250  -76.53410  3.873684\n",
       "13159   WT8.3 2020-02-13     7.00  3.126316  38.84250  -76.53410  3.873684\n",
       "13160   WT8.3 2021-02-08     3.30 -0.573684  38.84250  -76.53410  3.873684\n",
       "13161   WT8.3 2022-02-09     3.15 -0.723684  38.84250  -76.53410  3.873684\n",
       "\n",
       "[13162 rows x 7 columns]"
      ]
     },
     "execution_count": 41,
     "metadata": {},
     "output_type": "execute_result"
    }
   ],
   "source": [
    "wq"
   ]
  },
  {
   "cell_type": "code",
   "execution_count": 49,
   "id": "3e56480e-85bc-4427-a6c9-15d030a2d3ef",
   "metadata": {
    "editable": true,
    "slideshow": {
     "slide_type": ""
    },
    "tags": []
   },
   "outputs": [],
   "source": [
    "# NEW NAMING CONVENTION\n",
    "path = REPO_ROOT / \n",
    "    'data/interim' /  \n",
    "    'cbp_temps_selected_stations_with_climatology.csv'\n",
    ")\n",
    "wq.to_csv(path, index=False)"
   ]
  },
  {
   "cell_type": "code",
   "execution_count": null,
   "id": "730b86de-8bd9-4d91-bfed-fe293266bb9f",
   "metadata": {},
   "outputs": [],
   "source": []
  },
  {
   "cell_type": "code",
   "execution_count": null,
   "id": "70f214d4-8fcd-45e9-bf1e-31c6ea8f684f",
   "metadata": {},
   "outputs": [],
   "source": []
  },
  {
   "cell_type": "code",
   "execution_count": null,
   "id": "ea1fc25a-23e8-481c-888a-092f61272bb6",
   "metadata": {},
   "outputs": [],
   "source": []
  },
  {
   "cell_type": "code",
   "execution_count": 47,
   "id": "108edb5d-1627-476f-bd5a-4e3e42b01a32",
   "metadata": {},
   "outputs": [],
   "source": [
    "# OLD NAMING CONVENTION\n",
    "path = REPO_ROOT /  \n",
    "    'data/interim' /  \n",
    "    'cbp_stations_climatology_anomaly_filtered_1-3m.csv'\n",
    "    # TODO I don't think this is the filename I want -- remove 1-3m part\n",
    ")\n",
    "wq.to_csv(path, index=False)"
   ]
  },
  {
   "cell_type": "code",
   "execution_count": 48,
   "id": "a0e159cb-7f42-47da-ba7c-5fc0e6b312d6",
   "metadata": {},
   "outputs": [
    {
     "data": {
      "text/html": [
       "<div>\n",
       "<style scoped>\n",
       "    .dataframe tbody tr th:only-of-type {\n",
       "        vertical-align: middle;\n",
       "    }\n",
       "\n",
       "    .dataframe tbody tr th {\n",
       "        vertical-align: top;\n",
       "    }\n",
       "\n",
       "    .dataframe thead th {\n",
       "        text-align: right;\n",
       "    }\n",
       "</style>\n",
       "<table border=\"1\" class=\"dataframe\">\n",
       "  <thead>\n",
       "    <tr style=\"text-align: right;\">\n",
       "      <th></th>\n",
       "      <th>Station</th>\n",
       "      <th>SampleDate</th>\n",
       "      <th>sst_cbp</th>\n",
       "      <th>Latitude</th>\n",
       "      <th>Longitude</th>\n",
       "      <th>clim_cbp</th>\n",
       "      <th>anom_cbp</th>\n",
       "    </tr>\n",
       "  </thead>\n",
       "  <tbody>\n",
       "    <tr>\n",
       "      <th>0</th>\n",
       "      <td>CB2.1</td>\n",
       "      <td>2003-01-15</td>\n",
       "      <td>1.10</td>\n",
       "      <td>39.44149</td>\n",
       "      <td>-76.02599</td>\n",
       "      <td>3.138462</td>\n",
       "      <td>-2.038462</td>\n",
       "    </tr>\n",
       "    <tr>\n",
       "      <th>1</th>\n",
       "      <td>CB2.1</td>\n",
       "      <td>2004-01-14</td>\n",
       "      <td>0.30</td>\n",
       "      <td>39.44149</td>\n",
       "      <td>-76.02599</td>\n",
       "      <td>3.138462</td>\n",
       "      <td>-2.838462</td>\n",
       "    </tr>\n",
       "    <tr>\n",
       "      <th>2</th>\n",
       "      <td>CB2.1</td>\n",
       "      <td>2005-01-13</td>\n",
       "      <td>4.90</td>\n",
       "      <td>39.44149</td>\n",
       "      <td>-76.02599</td>\n",
       "      <td>3.138462</td>\n",
       "      <td>1.761538</td>\n",
       "    </tr>\n",
       "    <tr>\n",
       "      <th>3</th>\n",
       "      <td>CB2.1</td>\n",
       "      <td>2006-01-12</td>\n",
       "      <td>4.60</td>\n",
       "      <td>39.44149</td>\n",
       "      <td>-76.02599</td>\n",
       "      <td>3.138462</td>\n",
       "      <td>1.461538</td>\n",
       "    </tr>\n",
       "    <tr>\n",
       "      <th>4</th>\n",
       "      <td>CB2.1</td>\n",
       "      <td>2007-01-12</td>\n",
       "      <td>5.30</td>\n",
       "      <td>39.44149</td>\n",
       "      <td>-76.02599</td>\n",
       "      <td>3.138462</td>\n",
       "      <td>2.161538</td>\n",
       "    </tr>\n",
       "    <tr>\n",
       "      <th>...</th>\n",
       "      <td>...</td>\n",
       "      <td>...</td>\n",
       "      <td>...</td>\n",
       "      <td>...</td>\n",
       "      <td>...</td>\n",
       "      <td>...</td>\n",
       "      <td>...</td>\n",
       "    </tr>\n",
       "    <tr>\n",
       "      <th>13157</th>\n",
       "      <td>WT8.3</td>\n",
       "      <td>2018-02-15</td>\n",
       "      <td>3.60</td>\n",
       "      <td>38.84250</td>\n",
       "      <td>-76.53410</td>\n",
       "      <td>3.873684</td>\n",
       "      <td>-0.273684</td>\n",
       "    </tr>\n",
       "    <tr>\n",
       "      <th>13158</th>\n",
       "      <td>WT8.3</td>\n",
       "      <td>2019-02-11</td>\n",
       "      <td>3.90</td>\n",
       "      <td>38.84250</td>\n",
       "      <td>-76.53410</td>\n",
       "      <td>3.873684</td>\n",
       "      <td>0.026316</td>\n",
       "    </tr>\n",
       "    <tr>\n",
       "      <th>13159</th>\n",
       "      <td>WT8.3</td>\n",
       "      <td>2020-02-13</td>\n",
       "      <td>7.00</td>\n",
       "      <td>38.84250</td>\n",
       "      <td>-76.53410</td>\n",
       "      <td>3.873684</td>\n",
       "      <td>3.126316</td>\n",
       "    </tr>\n",
       "    <tr>\n",
       "      <th>13160</th>\n",
       "      <td>WT8.3</td>\n",
       "      <td>2021-02-08</td>\n",
       "      <td>3.30</td>\n",
       "      <td>38.84250</td>\n",
       "      <td>-76.53410</td>\n",
       "      <td>3.873684</td>\n",
       "      <td>-0.573684</td>\n",
       "    </tr>\n",
       "    <tr>\n",
       "      <th>13161</th>\n",
       "      <td>WT8.3</td>\n",
       "      <td>2022-02-09</td>\n",
       "      <td>3.15</td>\n",
       "      <td>38.84250</td>\n",
       "      <td>-76.53410</td>\n",
       "      <td>3.873684</td>\n",
       "      <td>-0.723684</td>\n",
       "    </tr>\n",
       "  </tbody>\n",
       "</table>\n",
       "<p>13162 rows × 7 columns</p>\n",
       "</div>"
      ],
      "text/plain": [
       "      Station SampleDate  sst_cbp  Latitude  Longitude  clim_cbp  anom_cbp\n",
       "0       CB2.1 2003-01-15     1.10  39.44149  -76.02599  3.138462 -2.038462\n",
       "1       CB2.1 2004-01-14     0.30  39.44149  -76.02599  3.138462 -2.838462\n",
       "2       CB2.1 2005-01-13     4.90  39.44149  -76.02599  3.138462  1.761538\n",
       "3       CB2.1 2006-01-12     4.60  39.44149  -76.02599  3.138462  1.461538\n",
       "4       CB2.1 2007-01-12     5.30  39.44149  -76.02599  3.138462  2.161538\n",
       "...       ...        ...      ...       ...        ...       ...       ...\n",
       "13157   WT8.3 2018-02-15     3.60  38.84250  -76.53410  3.873684 -0.273684\n",
       "13158   WT8.3 2019-02-11     3.90  38.84250  -76.53410  3.873684  0.026316\n",
       "13159   WT8.3 2020-02-13     7.00  38.84250  -76.53410  3.873684  3.126316\n",
       "13160   WT8.3 2021-02-08     3.30  38.84250  -76.53410  3.873684 -0.573684\n",
       "13161   WT8.3 2022-02-09     3.15  38.84250  -76.53410  3.873684 -0.723684\n",
       "\n",
       "[13162 rows x 7 columns]"
      ]
     },
     "execution_count": 48,
     "metadata": {},
     "output_type": "execute_result"
    }
   ],
   "source": [
    "wq"
   ]
  },
  {
   "cell_type": "code",
   "execution_count": null,
   "id": "b4a74ed8-0d9d-4034-aaa6-7b5e8718d786",
   "metadata": {},
   "outputs": [],
   "source": []
  },
  {
   "cell_type": "code",
   "execution_count": null,
   "id": "117db8ef-e235-45dd-8203-03d47b53019f",
   "metadata": {},
   "outputs": [],
   "source": []
  },
  {
   "cell_type": "code",
   "execution_count": null,
   "id": "9c3eb3e6-8b14-47f3-b10c-baf1eb83ecaa",
   "metadata": {},
   "outputs": [],
   "source": []
  },
  {
   "cell_type": "code",
   "execution_count": null,
   "id": "19f256ac-350f-40b9-8fe5-7f7473bee195",
   "metadata": {},
   "outputs": [],
   "source": []
  },
  {
   "cell_type": "markdown",
   "id": "62fa9754-c219-4a48-85b0-5b87a2562349",
   "metadata": {},
   "source": [
    "### Isolating just one depth observation per location --- Switch back to this?\n",
    "\n",
    "Select one measurement for each location and time, in each case selecting the measurement closest to 2 meters depth."
   ]
  },
  {
   "cell_type": "code",
   "execution_count": null,
   "id": "658234a2-ca3a-4c63-8caf-60cc72cf423b",
   "metadata": {},
   "outputs": [],
   "source": [
    "def find_correct_depth(df):\n",
    "    if len(df) > 1:\n",
    "        # Get the row with the depth closest to 2 meters\n",
    "        df = df.iloc[(df['Depth']-2).abs().argsort()[:1]]\n",
    "    # if there was only 1 row to begin with, just return that one\n",
    "    return df"
   ]
  },
  {
   "cell_type": "code",
   "execution_count": null,
   "id": "e8b0f5d2-81ae-4f1e-bf2f-3599916ef36d",
   "metadata": {},
   "outputs": [],
   "source": [
    "wq = wq.groupby(['Station', 'SampleDate', 'SampleTime']) \\\n",
    "                .apply(find_correct_depth)"
   ]
  },
  {
   "cell_type": "code",
   "execution_count": null,
   "id": "36d13bd7-f016-4da1-b14d-dcd5cb89ec17",
   "metadata": {},
   "outputs": [],
   "source": [
    "# wq.Depth.unique()"
   ]
  },
  {
   "cell_type": "code",
   "execution_count": null,
   "id": "66f26655-408a-48e8-bd93-892b0c9c985e",
   "metadata": {},
   "outputs": [],
   "source": []
  },
  {
   "cell_type": "code",
   "execution_count": null,
   "id": "c49b3e1b-0187-47da-b794-533430f7d5e7",
   "metadata": {},
   "outputs": [],
   "source": []
  },
  {
   "cell_type": "code",
   "execution_count": null,
   "id": "4a5f1546-b428-45a2-9442-7ff22c5b6a8f",
   "metadata": {},
   "outputs": [],
   "source": []
  },
  {
   "cell_type": "code",
   "execution_count": null,
   "id": "f209177d-8481-403e-82e1-5e83cc15db94",
   "metadata": {},
   "outputs": [],
   "source": []
  },
  {
   "cell_type": "code",
   "execution_count": null,
   "id": "26177b58-c16b-4202-be51-f551d3ccbf6c",
   "metadata": {},
   "outputs": [],
   "source": []
  },
  {
   "cell_type": "code",
   "execution_count": null,
   "id": "2866caf6-5fd9-49c3-9759-34589392a532",
   "metadata": {},
   "outputs": [],
   "source": []
  },
  {
   "cell_type": "code",
   "execution_count": null,
   "id": "c9e17cf2-37f1-4bcb-b2b7-383200591dbb",
   "metadata": {},
   "outputs": [],
   "source": []
  },
  {
   "cell_type": "code",
   "execution_count": null,
   "id": "2467ec84-6986-4af1-92a2-62a57812a896",
   "metadata": {},
   "outputs": [],
   "source": []
  },
  {
   "cell_type": "code",
   "execution_count": null,
   "id": "bc9c719b-899e-4832-b469-cee6e9bd099f",
   "metadata": {},
   "outputs": [],
   "source": []
  },
  {
   "cell_type": "code",
   "execution_count": null,
   "id": "fb38c6b2-2b06-4044-814f-9c63faf679a8",
   "metadata": {},
   "outputs": [],
   "source": []
  },
  {
   "cell_type": "code",
   "execution_count": null,
   "id": "a52e0fa4-378d-458b-9957-db969440d89f",
   "metadata": {},
   "outputs": [],
   "source": []
  },
  {
   "cell_type": "code",
   "execution_count": null,
   "id": "52827f81-b6da-4cc2-9bce-d3e79c159d2d",
   "metadata": {},
   "outputs": [],
   "source": []
  },
  {
   "cell_type": "code",
   "execution_count": null,
   "id": "5eed806a-6518-4bf8-8ebf-04c510da6746",
   "metadata": {},
   "outputs": [],
   "source": []
  },
  {
   "cell_type": "code",
   "execution_count": null,
   "id": "7c21f529-3f60-47ff-87a7-6a6389035a28",
   "metadata": {},
   "outputs": [],
   "source": []
  },
  {
   "cell_type": "code",
   "execution_count": null,
   "id": "636897fa-cee5-4568-8121-8cdaf10c0dbf",
   "metadata": {},
   "outputs": [],
   "source": []
  },
  {
   "cell_type": "code",
   "execution_count": null,
   "id": "2be9ac7f-72bb-4aa5-b71a-da75e6f507c4",
   "metadata": {},
   "outputs": [],
   "source": []
  },
  {
   "cell_type": "code",
   "execution_count": null,
   "id": "b1db0b92-0b26-40e3-9249-9f64834b75c0",
   "metadata": {},
   "outputs": [],
   "source": []
  },
  {
   "cell_type": "markdown",
   "id": "58cdb576-dc6d-4552-aee3-8097c6d7f694",
   "metadata": {},
   "source": [
    "## Exploring Feasibility of creating a climatology"
   ]
  },
  {
   "cell_type": "code",
   "execution_count": null,
   "id": "559f4d30-4c23-42e1-9423-ee9ba34aface",
   "metadata": {},
   "outputs": [],
   "source": [
    "cb51 = wq_clim[wq_clim.Station == 'CB5.1'].reset_index()\n",
    "cb72 = wq_clim[wq_clim.Station == 'CB7.2'].reset_index()"
   ]
  },
  {
   "cell_type": "code",
   "execution_count": null,
   "id": "13abc59c-fe0d-49b4-92f3-16c597a02674",
   "metadata": {},
   "outputs": [],
   "source": [
    "cb51.SampleDate.hist(bins=20)"
   ]
  },
  {
   "cell_type": "markdown",
   "id": "90af2ed9-df41-44c9-94bb-7503d9a907c6",
   "metadata": {},
   "source": [
    "Seems to be one station per month. Exact dates do not repeat exactly. We can get monthly climatologies, then. To compare to the sst I could either\n",
    "1. average a month together\n",
    "2. pick out specifically the same days as the in situ\n",
    "\n",
    "I'm leaning toward no. 2, because it feels like a more similar comparison"
   ]
  },
  {
   "cell_type": "code",
   "execution_count": null,
   "id": "af3d6f2b-7b6c-4496-a137-4a432b07228a",
   "metadata": {},
   "outputs": [],
   "source": [
    "cb51.groupby([cb51.SampleDate.dt.month, 'Depth']).count()"
   ]
  },
  {
   "cell_type": "markdown",
   "id": "8a3e8321-cd5a-48f7-9ca0-b7f0377c1241",
   "metadata": {},
   "source": [
    "Honestly at least between these two the depths are more standard than I gave them credit for. I can probably avoid interpolation, but I will still drop depths with fewer than a certain number of points."
   ]
  },
  {
   "cell_type": "code",
   "execution_count": null,
   "id": "741f6797-8cc9-4587-9c53-246a25ae0173",
   "metadata": {},
   "outputs": [],
   "source": [
    "depths_cb72 = cb72.Depth.unique()"
   ]
  },
  {
   "cell_type": "code",
   "execution_count": null,
   "id": "8c8d54d8-a5fb-443d-b600-9fa4423befb2",
   "metadata": {},
   "outputs": [],
   "source": [
    "depths_cb72"
   ]
  },
  {
   "cell_type": "code",
   "execution_count": null,
   "id": "1e14fbf0-21bf-47e6-8f54-d7b92cbd4056",
   "metadata": {},
   "outputs": [],
   "source": [
    "depths = cb51.Depth.unique()"
   ]
  },
  {
   "cell_type": "code",
   "execution_count": null,
   "id": "de5b0731-d5ab-49df-9872-0ba59baa3bf1",
   "metadata": {},
   "outputs": [],
   "source": [
    "depths"
   ]
  },
  {
   "cell_type": "markdown",
   "id": "f8c291b3-8864-486b-ab9a-1da8658dda02",
   "metadata": {},
   "source": [
    "This is the function that is going to have to get more complex. Need to check counts, for example."
   ]
  },
  {
   "cell_type": "code",
   "execution_count": null,
   "id": "c7502efd-4355-4a81-90a9-7bb0625aea4d",
   "metadata": {},
   "outputs": [],
   "source": []
  },
  {
   "cell_type": "code",
   "execution_count": null,
   "id": "8d570193-58aa-48f1-b1bf-4e5562d0913d",
   "metadata": {},
   "outputs": [],
   "source": []
  },
  {
   "cell_type": "code",
   "execution_count": null,
   "id": "028463e3-57d7-43b6-bf2f-7ce5602ee5af",
   "metadata": {},
   "outputs": [],
   "source": []
  },
  {
   "cell_type": "markdown",
   "id": "4e54d764-60fc-4787-86c4-c5b603a37e3f",
   "metadata": {},
   "source": [
    "## Plotting Climatologies"
   ]
  },
  {
   "cell_type": "markdown",
   "id": "cfe7f901-179c-4651-8518-d3cbcf4d9939",
   "metadata": {},
   "source": [
    "### Preprocessing"
   ]
  },
  {
   "cell_type": "markdown",
   "id": "8d3d2d5f-121b-49c2-8621-3bfcde8e64dd",
   "metadata": {},
   "source": [
    "1 - adding relevant datetime columns"
   ]
  },
  {
   "cell_type": "code",
   "execution_count": null,
   "id": "3b4c6645-fa6e-4953-a3b1-d58bd58aa0fa",
   "metadata": {},
   "outputs": [],
   "source": [
    "wq['month'] = wq['SampleDate'].dt.month\n",
    "wq['day'] = wq['SampleDate'].dt.day"
   ]
  },
  {
   "cell_type": "markdown",
   "id": "d7c215aa-f303-429b-ad3c-1c1acd7ed48a",
   "metadata": {},
   "source": [
    "2 - sorting into each station"
   ]
  },
  {
   "cell_type": "code",
   "execution_count": null,
   "id": "e1b33029-bfa1-462a-b968-80e66238eea0",
   "metadata": {},
   "outputs": [],
   "source": [
    "cb51 = wq[wq.Station == 'CB5.1'].reset_index()\n",
    "ret24 = wq[wq.Station == 'RET2.4'].reset_index()\n",
    "cb72 = wq[wq.Station == 'CB7.2'].reset_index()"
   ]
  },
  {
   "cell_type": "markdown",
   "id": "0018f305-a0c4-4965-a405-6da7e8a969ec",
   "metadata": {},
   "source": [
    "### Compute means"
   ]
  },
  {
   "cell_type": "code",
   "execution_count": null,
   "id": "96079a3a-d3c8-4424-95bf-f4935d38d35d",
   "metadata": {},
   "outputs": [],
   "source": [
    "cb51_grouped = cb51.groupby(['month', 'Depth']) \\\n",
    "    .mean(numeric_only=True)['MeasureValue'].reset_index()"
   ]
  },
  {
   "cell_type": "markdown",
   "id": "b83ecea3-1c24-4ccb-8a28-ec21c580bdb6",
   "metadata": {},
   "source": [
    "### Plot"
   ]
  },
  {
   "cell_type": "code",
   "execution_count": null,
   "id": "87315d7d-c30f-4f4f-a8e5-b6820a3bdd11",
   "metadata": {},
   "outputs": [],
   "source": [
    "fig, ax = plt.subplots(1,1)\n",
    "cb51_grouped[cb51_grouped.month == 1].plot.scatter(ax=ax, x='MeasureValue', y='Depth', color='yellow')\n",
    "cb51_grouped[cb51_grouped.month == 2].plot.scatter(ax=ax, x='MeasureValue', y='Depth', color='orange')\n",
    "cb51_grouped[cb51_grouped.month == 3].plot.scatter(ax=ax, x='MeasureValue', y='Depth', color='red')\n",
    "cb51_grouped[cb51_grouped.month == 4].plot.scatter(ax=ax, x='MeasureValue', y='Depth', color='pink')\n",
    "cb51_grouped[cb51_grouped.month == 5].plot.scatter(ax=ax, x='MeasureValue', y='Depth', color='lavender')\n",
    "cb51_grouped[cb51_grouped.month == 6].plot.scatter(ax=ax, x='MeasureValue', y='Depth', color='purple')\n",
    "cb51_grouped[cb51_grouped.month == 7].plot.scatter(ax=ax, x='MeasureValue', y='Depth', color='darkcyan')\n",
    "cb51_grouped[cb51_grouped.month == 8].plot.scatter(ax=ax, x='MeasureValue', y='Depth', color='blue')\n",
    "cb51_grouped[cb51_grouped.month == 9].plot.scatter(ax=ax, x='MeasureValue', y='Depth', color='green')\n",
    "cb51_grouped[cb51_grouped.month == 10].plot.scatter(ax=ax, x='MeasureValue', y='Depth', color='darkgreen')\n",
    "cb51_grouped[cb51_grouped.month == 11].plot.scatter(ax=ax, x='MeasureValue', y='Depth', color='grey')\n",
    "cb51_grouped[cb51_grouped.month == 12].plot.scatter(ax=ax, x='MeasureValue', y='Depth', color='black')"
   ]
  },
  {
   "cell_type": "code",
   "execution_count": null,
   "id": "4d282ee3-58dd-48fe-bfac-9abe9c9e2bbd",
   "metadata": {
    "tags": []
   },
   "outputs": [],
   "source": [
    "cb51_grouped.pivot(index='MeasureValue', columns='month', values='Depth')"
   ]
  },
  {
   "cell_type": "markdown",
   "id": "db912e03-5cd1-4140-b11d-4cb9f5b725ec",
   "metadata": {},
   "source": [
    "### Plot"
   ]
  },
  {
   "cell_type": "code",
   "execution_count": null,
   "id": "6380ac12-4eee-470e-975f-36d9f96ac927",
   "metadata": {},
   "outputs": [],
   "source": [
    "df = cb51_grouped.reset_index().pivot(index='month', \n",
    "                                      columns='Depth', values='MeasureValue')"
   ]
  },
  {
   "cell_type": "code",
   "execution_count": null,
   "id": "198a3670-6c76-4c4a-b5d6-7c150dfbfd85",
   "metadata": {},
   "outputs": [],
   "source": [
    "df.plot()"
   ]
  },
  {
   "cell_type": "code",
   "execution_count": null,
   "id": "61ac65e4-50b3-4e52-a84e-c508f24b88b9",
   "metadata": {},
   "outputs": [],
   "source": [
    "df = pd.DataFrame([['red', 0, 0], ['red', 1, 1], ['red', 2, 2], ['red', 3, 3], ['red', 4, 4], ['red', 5, 5], ['red', 6, 6], ['red', 7, 7], ['red', 8, 8], ['red', 9, 9], ['blue', 0, 0], ['blue', 1, 1], ['blue', 2, 4], ['blue', 3, 9], ['blue', 4, 16], ['blue', 5, 25], ['blue', 6, 36], ['blue', 7, 49], ['blue', 8, 64], ['blue', 9, 81]],\n",
    "                  columns=['color', 'x', 'y'])\n",
    "df"
   ]
  },
  {
   "cell_type": "code",
   "execution_count": null,
   "id": "e52b5dd9-018e-4ca2-bdab-f1eee46860d1",
   "metadata": {},
   "outputs": [],
   "source": [
    "# pivot the data into the correct shape\n",
    "df = df.pivot(index='x', columns='color', values='y')\n",
    "df"
   ]
  },
  {
   "cell_type": "code",
   "execution_count": null,
   "id": "802ca2b0-4944-41ea-9aec-e5fe56aeb4f2",
   "metadata": {},
   "outputs": [],
   "source": [
    "# plot the pivoted dataframe; if the column names aren't colors, remove color=df.columns\n",
    "df.plot(color=df.columns, figsize=(5, 3))"
   ]
  },
  {
   "cell_type": "code",
   "execution_count": null,
   "id": "b3f9f092-ef90-4c4f-a80a-56d6dfce1861",
   "metadata": {},
   "outputs": [],
   "source": []
  },
  {
   "cell_type": "code",
   "execution_count": null,
   "id": "4caefd50-ed5d-4c24-bff9-edc00dbf9bed",
   "metadata": {},
   "outputs": [],
   "source": [
    "ts = pd.Series(np.random.randn(1000), index=pd.date_range(\"1/1/2000\", periods=1000))\n",
    "df = pd.DataFrame(np.random.randn(1000, 4), index=ts.index, columns=list(\"ABCD\"))\n",
    "\n",
    "df = df.cumsum()\n",
    "df"
   ]
  },
  {
   "cell_type": "code",
   "execution_count": null,
   "id": "174a90d3-6bfb-4ed6-8cd7-8b4259947f8e",
   "metadata": {},
   "outputs": [],
   "source": []
  },
  {
   "cell_type": "code",
   "execution_count": null,
   "id": "68b5322b-dac1-47ea-bb3f-f1729cc497b4",
   "metadata": {},
   "outputs": [],
   "source": []
  },
  {
   "cell_type": "markdown",
   "id": "7c4180ca-f55f-4211-b545-88515869560d",
   "metadata": {
    "tags": []
   },
   "source": [
    "## Monthly Climatology Plot for One Station"
   ]
  },
  {
   "cell_type": "markdown",
   "id": "c2c35410-fb18-46b3-935a-40fb2046ca66",
   "metadata": {},
   "source": [
    "### Calculate"
   ]
  },
  {
   "cell_type": "code",
   "execution_count": null,
   "id": "5cd4ddf0-3dd7-4388-9a70-2143cbaee40c",
   "metadata": {},
   "outputs": [],
   "source": [
    "cb51 = wq_stations[wq_stations.Station == 'CB5.1'].reset_index()"
   ]
  },
  {
   "cell_type": "code",
   "execution_count": null,
   "id": "67f5e4d8-a6a0-4840-9edf-9130987f6e16",
   "metadata": {},
   "outputs": [],
   "source": [
    "def filter_mean(df):\n",
    "    # 19 years of data right now\n",
    "    if len(df) < 18:\n",
    "        # print('fewer than 15 points. Dropping month', df.SampleDate.dt.month.iloc[0],\n",
    "        #       'at depth', df.Depth.iloc[0])\n",
    "        val = np.nan\n",
    "    else:\n",
    "        val = np.mean(df.MeasureValue)\n",
    "    return val"
   ]
  },
  {
   "cell_type": "code",
   "execution_count": null,
   "id": "8ed17769-8e65-4d8c-beb0-7a11d0609edc",
   "metadata": {
    "tags": []
   },
   "outputs": [],
   "source": [
    "# Group the point by month and depth and average points\n",
    "cb51_clim = cb51.drop(['index', 'EventId'], axis=1) \\\n",
    "    .groupby([cb51.SampleDate.dt.month, 'Depth']).apply(filter_mean)\n",
    "# Reformat\n",
    "cb51_clim = cb51_clim.dropna().sort_index().reset_index(name='MeasureValue')"
   ]
  },
  {
   "cell_type": "markdown",
   "id": "4e6c0bd0-1646-40d9-a095-e3ca0ea046d6",
   "metadata": {},
   "source": [
    "### Plot the Climatology for one station"
   ]
  },
  {
   "cell_type": "code",
   "execution_count": null,
   "id": "5ebb063f-9160-4ca4-8513-cf034fa18ffb",
   "metadata": {},
   "outputs": [],
   "source": [
    "# Make months easier to read\n",
    "# TODO is this guaranteed to keep its order?\n",
    "months_mapping = {\n",
    "    1: 'Jan', 2: 'Feb', 3: 'Mar', 4: 'Apr', 5: 'May', 6: 'Jun', 7: 'Jul', 8: 'Aug', \n",
    "    9: 'Sep', 10: 'Oct', 11: 'Nov', 12: 'Dec'\n",
    "}\n",
    "cb51_clim = cb51_clim.replace({'SampleDate': months_mapping})"
   ]
  },
  {
   "cell_type": "code",
   "execution_count": null,
   "id": "5aebed53-0b4f-4220-ae9f-f649e5642bcd",
   "metadata": {},
   "outputs": [],
   "source": [
    "fig, ax = plt.subplots()\n",
    "fig.set_size_inches(10, 5)\n",
    "fig.suptitle('Monthly Climtological Temperatures for Station CB5.1 (main stem outside Patuxent)')\n",
    "\n",
    "# Format the colorbar\n",
    "cmap = plt.cm.twilight\n",
    "norm = matplotlib.colors.BoundaryNorm(range(1, 15), cmap.N)\n",
    "sm = plt.cm.ScalarMappable(norm=norm, cmap=cmap)\n",
    "# Assign a color to each month\n",
    "color_dict = {}\n",
    "months = months_mapping.values()\n",
    "for i, month in enumerate(months):\n",
    "    color_dict[month] = sm.to_rgba(i+1)\n",
    "\n",
    "# Plot the data\n",
    "cb51_clim.plot.scatter(ax=ax,x='MeasureValue', y='Depth', \n",
    "                       color = [color_dict[i] for i in cb51_clim['SampleDate']])\n",
    "\n",
    "# Format the axes and lables\n",
    "ax.invert_yaxis()\n",
    "ax.tick_params(top=True, labeltop=True, bottom=False, labelbottom=False)\n",
    "ax.set_xlabel('Observed Temperature ($^o$C)', loc='center')\n",
    "ax.set_ylabel('Depth (m)')\n",
    "ax.xaxis.set_label_position('top')\n",
    "\n",
    "fig.colorbar(sm, orientation='horizontal', label=\"Month\")\n",
    "\n",
    "plt.tight_layout()"
   ]
  },
  {
   "cell_type": "code",
   "execution_count": null,
   "id": "e7079a5e-89cd-4b1e-b768-b8a80131850d",
   "metadata": {},
   "outputs": [],
   "source": []
  }
 ],
 "metadata": {
  "kernelspec": {
   "display_name": "Python [conda env:chesapeake_mhw]",
   "language": "python",
   "name": "conda-env-chesapeake_mhw-py"
  },
  "language_info": {
   "codemirror_mode": {
    "name": "ipython",
    "version": 3
   },
   "file_extension": ".py",
   "mimetype": "text/x-python",
   "name": "python",
   "nbconvert_exporter": "python",
   "pygments_lexer": "ipython3",
   "version": "3.11.0"
  }
 },
 "nbformat": 4,
 "nbformat_minor": 5
}
