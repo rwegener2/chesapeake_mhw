{
 "cells": [
  {
   "cell_type": "markdown",
   "id": "e910d609-ba07-4b95-ba5d-a3fef83af487",
   "metadata": {},
   "source": [
    "# Download Chesapeake Bay Program Water Quality Dataset\n",
    "\n",
    "### Summary \n",
    "This notebook uses Python to ping the Chesapeake Bay Program (CBP) API and download temperature data.\n",
    "\n",
    "### Outputs\n",
    "* A csv file with the raw CBP data\n",
    "\n",
    "### Notes\n",
    "* URL for temperature, salinity, and dissolved oxygen: https://datahub.chesapeakebay.net/api.Tab/WaterQuality/WaterQuality/12-8-2018/12-8-2023/0/2,4,6/12,13,15,35,36,2,3,7,33,34,23,24/HUC8/2,4,6,7,8,9,12,13,14,15,16,17,18,19,20,21,22,23,24,25,26,27,28,29,30,31,32,33,34,35,36,37,38,39,40,41,42,43,44,45,46,47,48,49,50,51,52,53,54,55,56,60/31,123,83"
   ]
  },
  {
   "cell_type": "code",
   "execution_count": 1,
   "id": "44ceea48-e72c-40bd-949e-2a33e8cc4577",
   "metadata": {},
   "outputs": [],
   "source": [
    "import os\n",
    "import requests\n",
    "import tempfile\n",
    "from pathlib import Path\n",
    "from datetime import datetime\n",
    "\n",
    "import pandas as pd"
   ]
  },
  {
   "cell_type": "code",
   "execution_count": 2,
   "id": "82fd0a27-bda9-4ef5-bb8a-391ffe42c462",
   "metadata": {},
   "outputs": [],
   "source": [
    "REPO_ROOT = Path('/Users/rwegener/repos/chesapeake_mhw/')\n",
    "\n",
    "start_date = datetime(2003, 1, 1)\n",
    "end_date = datetime(2023, 12, 31)"
   ]
  },
  {
   "cell_type": "code",
   "execution_count": 3,
   "id": "8afb8417-7123-4c5f-a86e-0af43966f47a",
   "metadata": {},
   "outputs": [],
   "source": [
    "def format_request_temponly(start, end):\n",
    "    '''\n",
    "    Creating URL string for requesting water quality data from the Chesapeake Bay \n",
    "    Program.\n",
    "    \n",
    "    Start and end date formatted as `month-day-year`, or '%m-%d-%Y' \n",
    "    using https://strftime.org/\n",
    "    '''\n",
    "    return (\n",
    "        'https://datahub.chesapeakebay.net/api.CSV/WaterQuality/WaterQuality/'\n",
    "        f'{start}/{end}/0/2,4,6/12,13,15,35,36,2,3,7,33,34,23,24/HUC8/'\n",
    "        '2,4,6,7,8,9,12,13,14,15,16,17,18,19,20,21,22,23,24,25,26,27,28,29,30,31'\n",
    "        ',32,33,34,35,36,37,38,39,40,41,42,43,44,45,46,47,48,49,50,51,52,53,54,55,56,60/123'\n",
    "    )\n",
    "\n",
    "def format_request_tempDOsal(start, end):\n",
    "    '''\n",
    "    Creating URL string for requesting water quality data from the Chesapeake Bay \n",
    "    Program.\n",
    "    \n",
    "    Start and end date formatted as `month-day-year`, or '%m-%d-%Y' \n",
    "    using https://strftime.org/\n",
    "    '''\n",
    "    return (\n",
    "        'https://datahub.chesapeakebay.net/api.CSV/WaterQuality/WaterQuality/'\n",
    "        f'{start}/{end}/0/2,4,6/12,13,15,35,36,2,3,7,33,34,23,24/HUC8/'\n",
    "        '2,4,6,7,8,9,12,13,14,15,16,17,18,19,20,21,22,23,24,25,26,27,28,29,30,31'\n",
    "        ',32,33,34,35,36,37,38,39,40,41,42,43,44,45,46,47,48,49,50,51,52,53,54,55,56,60/31,123,83'\n",
    "    )\n",
    "\n",
    "format_request = format_request_temponly\n",
    "# The API seems to get overwhelmed when requesting the full 20 years of data at once.\n",
    "# The request is instead split into one request per ~6-7 years and the data frames are merged.\n",
    "\n",
    "# Create temporary filepaths\n",
    "scratch_dir = tempfile.TemporaryDirectory()\n",
    "set1_path = os.path.join(scratch_dir.name, 'set1.csv')\n",
    "set2_path = os.path.join(scratch_dir.name, 'set2.csv')\n",
    "set3_path = os.path.join(scratch_dir.name, 'set3.csv')\n",
    "\n",
    "# Request #1 -- ~2003-2008\n",
    "response = requests.get(format_request(start_date.strftime('%m-%d-%Y'), '12-31-2008'))\n",
    "response.raise_for_status() # ensure we notice bad responses\n",
    "with open(set1_path, \"w\") as f:\n",
    "    f.write(response.text)\n",
    "\n",
    "# Request #2 -- ~2009-2015\n",
    "response = requests.get(format_request('01-01-2009', '12-31-2015'))\n",
    "response.raise_for_status() # ensure we notice bad responses\n",
    "with open(set2_path, \"w\") as f:\n",
    "    f.write(response.text)\n",
    "\n",
    "# Request #3 -- ~2016-2023\n",
    "response = requests.get(format_request('01-01-2016', end_date.strftime('%m-%d-%Y')))\n",
    "response.raise_for_status() # ensure we notice bad responses\n",
    "with open(set3_path, \"w\") as f:\n",
    "    f.write(response.text)"
   ]
  },
  {
   "cell_type": "code",
   "execution_count": 4,
   "id": "e2332486-bd0b-47f1-a86e-25bd3112191d",
   "metadata": {},
   "outputs": [
    {
     "name": "stderr",
     "output_type": "stream",
     "text": [
      "/var/folders/nb/y7dp0ct55_58hrhrhlz5vbkm0000gn/T/ipykernel_10380/428631517.py:2: DtypeWarning: Columns (0,22,23,26) have mixed types. Specify dtype option on import or set low_memory=False.\n",
      "  set1_df = pd.read_csv(set1_path)\n",
      "/var/folders/nb/y7dp0ct55_58hrhrhlz5vbkm0000gn/T/ipykernel_10380/428631517.py:3: DtypeWarning: Columns (0,18,23) have mixed types. Specify dtype option on import or set low_memory=False.\n",
      "  set2_df = pd.read_csv(set2_path)\n",
      "/var/folders/nb/y7dp0ct55_58hrhrhlz5vbkm0000gn/T/ipykernel_10380/428631517.py:4: DtypeWarning: Columns (0,18,22) have mixed types. Specify dtype option on import or set low_memory=False.\n",
      "  set3_df = pd.read_csv(set3_path)\n"
     ]
    }
   ],
   "source": [
    "# Open the csvs using pandas\n",
    "set1_df = pd.read_csv(set1_path)\n",
    "set2_df = pd.read_csv(set2_path)\n",
    "set3_df = pd.read_csv(set3_path)\n",
    "\n",
    "# Combine the datasets\n",
    "full_df = pd.concat([set1_df, set2_df, set3_df])\n",
    "\n",
    "# Sort by date and reset the index\n",
    "full_df.SampleDate = pd.to_datetime(full_df.SampleDate)\n",
    "full_df = full_df.sort_values('SampleDate').reset_index(drop=True)\n",
    "\n",
    "# Remove rows with null temperature values\n",
    "full_df = full_df[~full_df.MeasureValue.isnull()]"
   ]
  },
  {
   "cell_type": "code",
   "execution_count": 6,
   "id": "43befcfe-bd3c-44d9-b2bc-2594d2e323a1",
   "metadata": {},
   "outputs": [],
   "source": [
    "# Save to the raw data folder\n",
    "filename = (\n",
    "    'WaterQuality_ChesapeakeBayProgram_{}_{}_Temp.csv'\n",
    "    ).format(start_date.strftime('%Y%m%d'), end_date.strftime('%Y%m%d'))\n",
    "output_path = os.path.join(REPO_ROOT, 'data/01_raw', filename)\n",
    "\n",
    "full_df.to_csv(output_path, index=False)"
   ]
  },
  {
   "cell_type": "code",
   "execution_count": 7,
   "id": "a7156584-6cdb-4101-ab10-25fac6f0ebae",
   "metadata": {},
   "outputs": [],
   "source": [
    "# Delete the temporary directory\n",
    "scratch_dir.cleanup()"
   ]
  },
  {
   "cell_type": "code",
   "execution_count": null,
   "id": "26b7ae94-8f17-4a94-a652-f8b2130fb2b9",
   "metadata": {},
   "outputs": [],
   "source": []
  }
 ],
 "metadata": {
  "kernelspec": {
   "display_name": "Python [conda env:chesapeake_mhw]",
   "language": "python",
   "name": "conda-env-chesapeake_mhw-py"
  },
  "language_info": {
   "codemirror_mode": {
    "name": "ipython",
    "version": 3
   },
   "file_extension": ".py",
   "mimetype": "text/x-python",
   "name": "python",
   "nbconvert_exporter": "python",
   "pygments_lexer": "ipython3",
   "version": "3.11.0"
  }
 },
 "nbformat": 4,
 "nbformat_minor": 5
}
