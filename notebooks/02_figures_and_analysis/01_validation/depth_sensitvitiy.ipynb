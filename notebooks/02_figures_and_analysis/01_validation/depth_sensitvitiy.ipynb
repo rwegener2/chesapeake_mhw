{
 "cells": [
  {
   "cell_type": "code",
   "execution_count": null,
   "id": "5a7afd1e-9c92-45a7-a619-6da635b1f637",
   "metadata": {},
   "outputs": [],
   "source": []
  },
  {
   "cell_type": "markdown",
   "id": "3418a18d-1e1b-4774-a3a5-50859fb8af6c",
   "metadata": {},
   "source": [
    "## For Depth Sensitivity (RMSE) (delete this? or move to another file?) NOTE wq_sst should now be wq_anom if revisiting this (name was changed above)\n",
    "\n",
    "Computing RMSE here so I don't have to read in file in another notebook\n",
    "\n",
    "1/17/25 update: this was copied from 02a, but left there as well so I could see the previous cell output"
   ]
  },
  {
   "cell_type": "code",
   "execution_count": null,
   "id": "ae6521b7-aeb9-4fac-a3a8-c3ccee6a6ebb",
   "metadata": {},
   "outputs": [],
   "source": [
    "wq_sst['geopolar_diff'] = wq_sst['geopolar_anom'] - wq_sst['MeasureAnomaly']\n",
    "wq_sst['mur_diff'] = wq_sst['mur_anom'] - wq_sst['MeasureAnomaly']"
   ]
  },
  {
   "cell_type": "code",
   "execution_count": null,
   "id": "db208ca2-abe7-42de-9e53-b508ca0bcadd",
   "metadata": {},
   "outputs": [],
   "source": [
    "N = len(wq_sst[~wq_sst['geopolar_diff'].isnull()])\n",
    "\n",
    "rmse_geopolar = np.sqrt((wq_sst['geopolar_diff']**2).sum() / N)\n",
    "print('rmse geopolar: ', rmse_geopolar)\n",
    "\n",
    "N = len(wq_sst[~wq_sst['mur_diff'].isnull()])\n",
    "\n",
    "rmse_mur = np.sqrt((wq_sst['mur_diff']**2).sum() / N)\n",
    "print('rmse mur: ', rmse_mur)"
   ]
  }
 ],
 "metadata": {
  "kernelspec": {
   "display_name": "Python [conda env:chesapeake_mhw]",
   "language": "python",
   "name": "conda-env-chesapeake_mhw-py"
  },
  "language_info": {
   "codemirror_mode": {
    "name": "ipython",
    "version": 3
   },
   "file_extension": ".py",
   "mimetype": "text/x-python",
   "name": "python",
   "nbconvert_exporter": "python",
   "pygments_lexer": "ipython3",
   "version": "3.11.0"
  }
 },
 "nbformat": 4,
 "nbformat_minor": 5
}
