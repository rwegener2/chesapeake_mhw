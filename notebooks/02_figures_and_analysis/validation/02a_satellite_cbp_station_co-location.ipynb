{
 "cells": [
  {
   "cell_type": "markdown",
   "id": "0a1c6909-e4a9-4323-9ac6-b217292f5821",
   "metadata": {},
   "source": [
    "# Co-locating Temperature Anomaly Values between CBP Monitoring Stations and Satellite SST"
   ]
  },
  {
   "cell_type": "markdown",
   "id": "a4af8a78-2d31-4477-8bc7-a6170ceba42c",
   "metadata": {},
   "source": [
    "## Notebook Overview\n",
    "### Tasks\n",
    "- Select satellite SST and SST anomaly values for each location and date in which there is an in situ observation from the Chesapeake Bay Program\n",
    "- Save two csvs of the results: one csv for in situ and satellite SSTs and a second csv for the in situ and satellite SST anomalies"
   ]
  },
  {
   "cell_type": "markdown",
   "id": "d24a0b76-1421-496e-b866-440f9cde6638",
   "metadata": {},
   "source": [
    "This script creates a csv which holds the corresponding validation data points from both Chesapeake Bay Program's (CBP) Water Quality dataset and the two satellite datasets. The csv contains one row for each day and pixel in which there was a CBP validation point, and either a MUR or a Geopolar satellite pixel.\n",
    "Output: csv of temperature values that can be observed in the satellite SST datasets and the in situ CBP data"
   ]
  },
  {
   "cell_type": "markdown",
   "id": "36a7b574-e782-4617-8bdc-5290e28504b8",
   "metadata": {},
   "source": [
    "## Analysis"
   ]
  },
  {
   "cell_type": "code",
   "execution_count": 1,
   "id": "f567369a-ef3f-4241-bfaa-b08607710133",
   "metadata": {},
   "outputs": [],
   "source": [
    "import os\n",
    "import warnings\n",
    "\n",
    "import xarray as xr\n",
    "import pandas as pd\n",
    "import numpy as np"
   ]
  },
  {
   "cell_type": "code",
   "execution_count": 2,
   "id": "ee8a3d4c-9adf-4df8-b419-383e0d56581c",
   "metadata": {},
   "outputs": [],
   "source": [
    "REPO_ROOT = '/Users/rwegener/repos/chesapeake_mhw'\n",
    "SAVE_FIGS = False"
   ]
  },
  {
   "cell_type": "markdown",
   "id": "c318d4c1-5708-49c3-a528-77e7c7717387",
   "metadata": {
    "tags": []
   },
   "source": [
    "## Read CBay Program In Situ Anomaly Data"
   ]
  },
  {
   "cell_type": "code",
   "execution_count": 3,
   "id": "a27e8902-8ee5-4fdc-8b92-2c0347967107",
   "metadata": {},
   "outputs": [],
   "source": [
    "# OLD NAMING CONVENTION:\n",
    "# path = os.path.join(REPO_ROOT, 'data/interim', 'cbp_stations_climatology_anomaly_filtered.csv')\n",
    "# NEW NAMING CONVENTION: 'cbp_temps_selected_stations_with_climatology.csv'\n",
    "path_anom = os.path.join(REPO_ROOT, 'data/interim', 'cbp_temps_selected_stations_with_climatology.csv')\n",
    "anom_raw = pd.read_csv(path_anom, parse_dates=[1])"
   ]
  },
  {
   "cell_type": "code",
   "execution_count": 4,
   "id": "b3a24080-ca47-4876-bac1-dda2dcc119e9",
   "metadata": {},
   "outputs": [],
   "source": [
    "path_sst = os.path.join(REPO_ROOT, 'data/interim', 'cbp_stations_climatology_raw_filtered.csv')\n",
    "sst_raw = pd.read_csv(path_sst, parse_dates=[1])"
   ]
  },
  {
   "cell_type": "markdown",
   "id": "5d9654ec-e05d-46c7-9e44-53cf1c5f6b76",
   "metadata": {},
   "source": [
    "## Helper Functions\n",
    "\n",
    "Creating functions for repeated tasks"
   ]
  },
  {
   "cell_type": "code",
   "execution_count": 5,
   "id": "6f8a70ea-0c07-48c9-a1fe-46785cae1ea0",
   "metadata": {
    "tags": []
   },
   "outputs": [],
   "source": [
    "def get_satellite_sst(full_sst, lat, lon, time):\n",
    "    '''\n",
    "    For a given latitude, longitude, and time extract the SST value at that location\n",
    "    in the give satellite dataset.\n",
    "    '''\n",
    "    # time does NOT have nearest interpolation because we do not want adjacent days to\n",
    "    # be selected\n",
    "    try:\n",
    "        matching_array = full_sst.sel(lat=lat, lon=lon, \n",
    "                                      method='nearest').sel(time=time.strftime('%Y-%m-%d')).values\n",
    "        if matching_array.size == 1:\n",
    "            matching_sst = matching_array[0]\n",
    "        else:\n",
    "            matching_sst = np.nan\n",
    "            warnings.warn('Matching array length is not 1. Date is likely missing (?)' + time.strftime('%Y-%m-%d'))\n",
    "    except KeyError:\n",
    "        # If a key error was raised the corresponding date was not found. Return nan for that sample location\n",
    "        matching_sst = np.nan\n",
    "    # print('returning ', matching_sst)\n",
    "    return matching_sst"
   ]
  },
  {
   "cell_type": "code",
   "execution_count": 8,
   "id": "d1e3b1ac-bdde-4dc3-87ff-cd83dcbc40e6",
   "metadata": {},
   "outputs": [
    {
     "data": {
      "text/plain": [
       "Index(['Station', 'SampleDate', 'MeasureValue', 'Latitude', 'Longitude'], dtype='object')"
      ]
     },
     "execution_count": 8,
     "metadata": {},
     "output_type": "execute_result"
    }
   ],
   "source": [
    "sst_raw.columns"
   ]
  },
  {
   "cell_type": "code",
   "execution_count": 9,
   "id": "8901e885-a098-4c37-9f6c-8dbc53d75c1c",
   "metadata": {},
   "outputs": [
    {
     "data": {
      "text/plain": [
       "Index(['Station', 'SampleDate', 'sst_cbp', 'Latitude', 'Longitude', 'clim_cbp',\n",
       "       'anom_cbp'],\n",
       "      dtype='object')"
      ]
     },
     "execution_count": 9,
     "metadata": {},
     "output_type": "execute_result"
    }
   ],
   "source": [
    "anom_raw.columns"
   ]
  },
  {
   "cell_type": "markdown",
   "id": "e2bf5b69-784f-4395-8d62-ac50e86ea22e",
   "metadata": {},
   "source": [
    "## Initialize the output dataframe"
   ]
  },
  {
   "cell_type": "code",
   "execution_count": 10,
   "id": "ad05c074-58c7-4f11-a50d-3fd90ef8cf62",
   "metadata": {},
   "outputs": [],
   "source": [
    "anom_raw = anom_raw[['Station', 'Latitude', 'Longitude', 'SampleDate', 'anom_cbp']]\n",
    "wq_anom = anom_raw.copy()\n",
    "wq_anom['anom_geopolar'] = -999\n",
    "wq_anom['anom_mur'] = -999\n",
    "wq_anom['anom_ostia'] = -999"
   ]
  },
  {
   "cell_type": "code",
   "execution_count": 11,
   "id": "f268c585-7c39-405d-9254-f5bda05700bf",
   "metadata": {},
   "outputs": [],
   "source": [
    "sst_raw = sst_raw[['Station', 'Latitude', 'Longitude', 'SampleDate', 'MeasureValue']]\n",
    "wq_sst = sst_raw.copy()\n",
    "wq_sst['geopolar'] = -999\n",
    "wq_sst['mur'] = -999\n",
    "wq_sst['ostia'] = -999"
   ]
  },
  {
   "cell_type": "markdown",
   "id": "0ac26eb6-dfa3-45aa-80ce-e50ccc8ce5e7",
   "metadata": {},
   "source": [
    "## Extract SST value corresponding to CBP In situ observations"
   ]
  },
  {
   "cell_type": "markdown",
   "id": "1f62eab8-648e-4c6b-9796-a8a2c4fa14b1",
   "metadata": {},
   "source": [
    "### Geo-Polar SST"
   ]
  },
  {
   "cell_type": "code",
   "execution_count": 12,
   "id": "526943a1-1b7e-4568-891f-129c6e6db820",
   "metadata": {},
   "outputs": [],
   "source": [
    "# Open raw SST\n",
    "path = os.path.join(\n",
    "    REPO_ROOT, 'data/raw', \n",
    "    'L4_GHRSST-SSTfnd-Geo_Polar_Blended_Night-GLOB-v02.0-fv01.0_CB_20020901_20230831.nc'\n",
    ")\n",
    "geopolar = xr.open_dataset(path).analysed_sst\n",
    "# convert kelvin to celsius & update metadata\n",
    "geopolar.values = geopolar.values - 273.15\n",
    "geopolar.attrs.update({'units': 'celsius',})\n",
    "\n",
    "# Open calculated climatological SST\n",
    "path = os.path.join(REPO_ROOT, 'data/interim', 'geopolar_climatology_chesapeake.nc')\n",
    "geopolar_clim = xr.open_dataset(path).climatology\n",
    "\n",
    "# Compute SST anomaly\n",
    "geopolar_anom = geopolar - geopolar_clim"
   ]
  },
  {
   "cell_type": "markdown",
   "id": "3c816843-69ef-46c5-b4f3-a1a303eca20f",
   "metadata": {},
   "source": [
    "Timing Notes\n",
    "\n",
    "Feb 1: ~22,000 rows: ~50 seconds\n"
   ]
  },
  {
   "cell_type": "code",
   "execution_count": 13,
   "id": "04610115-afc2-4586-ac68-b82b18cd034d",
   "metadata": {
    "scrolled": true,
    "tags": []
   },
   "outputs": [
    {
     "name": "stderr",
     "output_type": "stream",
     "text": [
      "/var/folders/nb/y7dp0ct55_58hrhrhlz5vbkm0000gn/T/ipykernel_780/2577563597.py:15: UserWarning: Matching array length is not 1. Date is likely missing (?)2018-03-12\n",
      "  warnings.warn('Matching array length is not 1. Date is likely missing (?)' + time.strftime('%Y-%m-%d'))\n",
      "/var/folders/nb/y7dp0ct55_58hrhrhlz5vbkm0000gn/T/ipykernel_780/2577563597.py:15: UserWarning: Matching array length is not 1. Date is likely missing (?)2018-03-12\n",
      "  warnings.warn('Matching array length is not 1. Date is likely missing (?)' + time.strftime('%Y-%m-%d'))\n",
      "/var/folders/nb/y7dp0ct55_58hrhrhlz5vbkm0000gn/T/ipykernel_780/2577563597.py:15: UserWarning: Matching array length is not 1. Date is likely missing (?)2018-03-12\n",
      "  warnings.warn('Matching array length is not 1. Date is likely missing (?)' + time.strftime('%Y-%m-%d'))\n",
      "/var/folders/nb/y7dp0ct55_58hrhrhlz5vbkm0000gn/T/ipykernel_780/2577563597.py:15: UserWarning: Matching array length is not 1. Date is likely missing (?)2018-03-12\n",
      "  warnings.warn('Matching array length is not 1. Date is likely missing (?)' + time.strftime('%Y-%m-%d'))\n",
      "/var/folders/nb/y7dp0ct55_58hrhrhlz5vbkm0000gn/T/ipykernel_780/2577563597.py:15: UserWarning: Matching array length is not 1. Date is likely missing (?)2018-03-12\n",
      "  warnings.warn('Matching array length is not 1. Date is likely missing (?)' + time.strftime('%Y-%m-%d'))\n",
      "/var/folders/nb/y7dp0ct55_58hrhrhlz5vbkm0000gn/T/ipykernel_780/2577563597.py:15: UserWarning: Matching array length is not 1. Date is likely missing (?)2018-03-12\n",
      "  warnings.warn('Matching array length is not 1. Date is likely missing (?)' + time.strftime('%Y-%m-%d'))\n"
     ]
    },
    {
     "name": "stdout",
     "output_type": "stream",
     "text": [
      "CPU times: user 22.5 s, sys: 498 ms, total: 23 s\n",
      "Wall time: 23 s\n"
     ]
    }
   ],
   "source": [
    "%%time\n",
    "\n",
    "# Create a new column of the wq dataframe containing the corresponding geopolar sst value\n",
    "wq_anom['anom_geopolar'] = wq_anom.apply(lambda x: get_satellite_sst(geopolar_anom, x.Latitude, x.Longitude, x.SampleDate), \n",
    "                                                axis=1)"
   ]
  },
  {
   "cell_type": "code",
   "execution_count": 14,
   "id": "c5f233c5-69fc-4f37-8f72-36b842c89dcd",
   "metadata": {
    "scrolled": true
   },
   "outputs": [
    {
     "name": "stderr",
     "output_type": "stream",
     "text": [
      "/var/folders/nb/y7dp0ct55_58hrhrhlz5vbkm0000gn/T/ipykernel_780/2577563597.py:15: UserWarning: Matching array length is not 1. Date is likely missing (?)2017-02-01\n",
      "  warnings.warn('Matching array length is not 1. Date is likely missing (?)' + time.strftime('%Y-%m-%d'))\n",
      "/var/folders/nb/y7dp0ct55_58hrhrhlz5vbkm0000gn/T/ipykernel_780/2577563597.py:15: UserWarning: Matching array length is not 1. Date is likely missing (?)2017-02-01\n",
      "  warnings.warn('Matching array length is not 1. Date is likely missing (?)' + time.strftime('%Y-%m-%d'))\n",
      "/var/folders/nb/y7dp0ct55_58hrhrhlz5vbkm0000gn/T/ipykernel_780/2577563597.py:15: UserWarning: Matching array length is not 1. Date is likely missing (?)2017-02-01\n",
      "  warnings.warn('Matching array length is not 1. Date is likely missing (?)' + time.strftime('%Y-%m-%d'))\n",
      "/var/folders/nb/y7dp0ct55_58hrhrhlz5vbkm0000gn/T/ipykernel_780/2577563597.py:15: UserWarning: Matching array length is not 1. Date is likely missing (?)2017-02-01\n",
      "  warnings.warn('Matching array length is not 1. Date is likely missing (?)' + time.strftime('%Y-%m-%d'))\n",
      "/var/folders/nb/y7dp0ct55_58hrhrhlz5vbkm0000gn/T/ipykernel_780/2577563597.py:15: UserWarning: Matching array length is not 1. Date is likely missing (?)2017-02-01\n",
      "  warnings.warn('Matching array length is not 1. Date is likely missing (?)' + time.strftime('%Y-%m-%d'))\n",
      "/var/folders/nb/y7dp0ct55_58hrhrhlz5vbkm0000gn/T/ipykernel_780/2577563597.py:15: UserWarning: Matching array length is not 1. Date is likely missing (?)2018-03-06\n",
      "  warnings.warn('Matching array length is not 1. Date is likely missing (?)' + time.strftime('%Y-%m-%d'))\n",
      "/var/folders/nb/y7dp0ct55_58hrhrhlz5vbkm0000gn/T/ipykernel_780/2577563597.py:15: UserWarning: Matching array length is not 1. Date is likely missing (?)2018-03-06\n",
      "  warnings.warn('Matching array length is not 1. Date is likely missing (?)' + time.strftime('%Y-%m-%d'))\n",
      "/var/folders/nb/y7dp0ct55_58hrhrhlz5vbkm0000gn/T/ipykernel_780/2577563597.py:15: UserWarning: Matching array length is not 1. Date is likely missing (?)2017-02-01\n",
      "  warnings.warn('Matching array length is not 1. Date is likely missing (?)' + time.strftime('%Y-%m-%d'))\n",
      "/var/folders/nb/y7dp0ct55_58hrhrhlz5vbkm0000gn/T/ipykernel_780/2577563597.py:15: UserWarning: Matching array length is not 1. Date is likely missing (?)2018-03-06\n",
      "  warnings.warn('Matching array length is not 1. Date is likely missing (?)' + time.strftime('%Y-%m-%d'))\n",
      "/var/folders/nb/y7dp0ct55_58hrhrhlz5vbkm0000gn/T/ipykernel_780/2577563597.py:15: UserWarning: Matching array length is not 1. Date is likely missing (?)2018-03-06\n",
      "  warnings.warn('Matching array length is not 1. Date is likely missing (?)' + time.strftime('%Y-%m-%d'))\n",
      "/var/folders/nb/y7dp0ct55_58hrhrhlz5vbkm0000gn/T/ipykernel_780/2577563597.py:15: UserWarning: Matching array length is not 1. Date is likely missing (?)2018-03-06\n",
      "  warnings.warn('Matching array length is not 1. Date is likely missing (?)' + time.strftime('%Y-%m-%d'))\n",
      "/var/folders/nb/y7dp0ct55_58hrhrhlz5vbkm0000gn/T/ipykernel_780/2577563597.py:15: UserWarning: Matching array length is not 1. Date is likely missing (?)2018-03-06\n",
      "  warnings.warn('Matching array length is not 1. Date is likely missing (?)' + time.strftime('%Y-%m-%d'))\n",
      "/var/folders/nb/y7dp0ct55_58hrhrhlz5vbkm0000gn/T/ipykernel_780/2577563597.py:15: UserWarning: Matching array length is not 1. Date is likely missing (?)2021-05-25\n",
      "  warnings.warn('Matching array length is not 1. Date is likely missing (?)' + time.strftime('%Y-%m-%d'))\n",
      "/var/folders/nb/y7dp0ct55_58hrhrhlz5vbkm0000gn/T/ipykernel_780/2577563597.py:15: UserWarning: Matching array length is not 1. Date is likely missing (?)2021-05-25\n",
      "  warnings.warn('Matching array length is not 1. Date is likely missing (?)' + time.strftime('%Y-%m-%d'))\n",
      "/var/folders/nb/y7dp0ct55_58hrhrhlz5vbkm0000gn/T/ipykernel_780/2577563597.py:15: UserWarning: Matching array length is not 1. Date is likely missing (?)2021-05-26\n",
      "  warnings.warn('Matching array length is not 1. Date is likely missing (?)' + time.strftime('%Y-%m-%d'))\n",
      "/var/folders/nb/y7dp0ct55_58hrhrhlz5vbkm0000gn/T/ipykernel_780/2577563597.py:15: UserWarning: Matching array length is not 1. Date is likely missing (?)2017-02-01\n",
      "  warnings.warn('Matching array length is not 1. Date is likely missing (?)' + time.strftime('%Y-%m-%d'))\n",
      "/var/folders/nb/y7dp0ct55_58hrhrhlz5vbkm0000gn/T/ipykernel_780/2577563597.py:15: UserWarning: Matching array length is not 1. Date is likely missing (?)2017-02-01\n",
      "  warnings.warn('Matching array length is not 1. Date is likely missing (?)' + time.strftime('%Y-%m-%d'))\n",
      "/var/folders/nb/y7dp0ct55_58hrhrhlz5vbkm0000gn/T/ipykernel_780/2577563597.py:15: UserWarning: Matching array length is not 1. Date is likely missing (?)2021-05-26\n",
      "  warnings.warn('Matching array length is not 1. Date is likely missing (?)' + time.strftime('%Y-%m-%d'))\n",
      "/var/folders/nb/y7dp0ct55_58hrhrhlz5vbkm0000gn/T/ipykernel_780/2577563597.py:15: UserWarning: Matching array length is not 1. Date is likely missing (?)2021-05-25\n",
      "  warnings.warn('Matching array length is not 1. Date is likely missing (?)' + time.strftime('%Y-%m-%d'))\n",
      "/var/folders/nb/y7dp0ct55_58hrhrhlz5vbkm0000gn/T/ipykernel_780/2577563597.py:15: UserWarning: Matching array length is not 1. Date is likely missing (?)2021-05-26\n",
      "  warnings.warn('Matching array length is not 1. Date is likely missing (?)' + time.strftime('%Y-%m-%d'))\n",
      "/var/folders/nb/y7dp0ct55_58hrhrhlz5vbkm0000gn/T/ipykernel_780/2577563597.py:15: UserWarning: Matching array length is not 1. Date is likely missing (?)2018-03-12\n",
      "  warnings.warn('Matching array length is not 1. Date is likely missing (?)' + time.strftime('%Y-%m-%d'))\n",
      "/var/folders/nb/y7dp0ct55_58hrhrhlz5vbkm0000gn/T/ipykernel_780/2577563597.py:15: UserWarning: Matching array length is not 1. Date is likely missing (?)2018-03-12\n",
      "  warnings.warn('Matching array length is not 1. Date is likely missing (?)' + time.strftime('%Y-%m-%d'))\n",
      "/var/folders/nb/y7dp0ct55_58hrhrhlz5vbkm0000gn/T/ipykernel_780/2577563597.py:15: UserWarning: Matching array length is not 1. Date is likely missing (?)2018-03-12\n",
      "  warnings.warn('Matching array length is not 1. Date is likely missing (?)' + time.strftime('%Y-%m-%d'))\n",
      "/var/folders/nb/y7dp0ct55_58hrhrhlz5vbkm0000gn/T/ipykernel_780/2577563597.py:15: UserWarning: Matching array length is not 1. Date is likely missing (?)2017-02-01\n",
      "  warnings.warn('Matching array length is not 1. Date is likely missing (?)' + time.strftime('%Y-%m-%d'))\n",
      "/var/folders/nb/y7dp0ct55_58hrhrhlz5vbkm0000gn/T/ipykernel_780/2577563597.py:15: UserWarning: Matching array length is not 1. Date is likely missing (?)2018-03-06\n",
      "  warnings.warn('Matching array length is not 1. Date is likely missing (?)' + time.strftime('%Y-%m-%d'))\n",
      "/var/folders/nb/y7dp0ct55_58hrhrhlz5vbkm0000gn/T/ipykernel_780/2577563597.py:15: UserWarning: Matching array length is not 1. Date is likely missing (?)2017-02-01\n",
      "  warnings.warn('Matching array length is not 1. Date is likely missing (?)' + time.strftime('%Y-%m-%d'))\n",
      "/var/folders/nb/y7dp0ct55_58hrhrhlz5vbkm0000gn/T/ipykernel_780/2577563597.py:15: UserWarning: Matching array length is not 1. Date is likely missing (?)2018-03-06\n",
      "  warnings.warn('Matching array length is not 1. Date is likely missing (?)' + time.strftime('%Y-%m-%d'))\n",
      "/var/folders/nb/y7dp0ct55_58hrhrhlz5vbkm0000gn/T/ipykernel_780/2577563597.py:15: UserWarning: Matching array length is not 1. Date is likely missing (?)2017-02-01\n",
      "  warnings.warn('Matching array length is not 1. Date is likely missing (?)' + time.strftime('%Y-%m-%d'))\n",
      "/var/folders/nb/y7dp0ct55_58hrhrhlz5vbkm0000gn/T/ipykernel_780/2577563597.py:15: UserWarning: Matching array length is not 1. Date is likely missing (?)2018-03-06\n",
      "  warnings.warn('Matching array length is not 1. Date is likely missing (?)' + time.strftime('%Y-%m-%d'))\n",
      "/var/folders/nb/y7dp0ct55_58hrhrhlz5vbkm0000gn/T/ipykernel_780/2577563597.py:15: UserWarning: Matching array length is not 1. Date is likely missing (?)2017-02-01\n",
      "  warnings.warn('Matching array length is not 1. Date is likely missing (?)' + time.strftime('%Y-%m-%d'))\n",
      "/var/folders/nb/y7dp0ct55_58hrhrhlz5vbkm0000gn/T/ipykernel_780/2577563597.py:15: UserWarning: Matching array length is not 1. Date is likely missing (?)2018-03-06\n",
      "  warnings.warn('Matching array length is not 1. Date is likely missing (?)' + time.strftime('%Y-%m-%d'))\n",
      "/var/folders/nb/y7dp0ct55_58hrhrhlz5vbkm0000gn/T/ipykernel_780/2577563597.py:15: UserWarning: Matching array length is not 1. Date is likely missing (?)2021-05-26\n",
      "  warnings.warn('Matching array length is not 1. Date is likely missing (?)' + time.strftime('%Y-%m-%d'))\n",
      "/var/folders/nb/y7dp0ct55_58hrhrhlz5vbkm0000gn/T/ipykernel_780/2577563597.py:15: UserWarning: Matching array length is not 1. Date is likely missing (?)2021-05-26\n",
      "  warnings.warn('Matching array length is not 1. Date is likely missing (?)' + time.strftime('%Y-%m-%d'))\n",
      "/var/folders/nb/y7dp0ct55_58hrhrhlz5vbkm0000gn/T/ipykernel_780/2577563597.py:15: UserWarning: Matching array length is not 1. Date is likely missing (?)2021-05-26\n",
      "  warnings.warn('Matching array length is not 1. Date is likely missing (?)' + time.strftime('%Y-%m-%d'))\n",
      "/var/folders/nb/y7dp0ct55_58hrhrhlz5vbkm0000gn/T/ipykernel_780/2577563597.py:15: UserWarning: Matching array length is not 1. Date is likely missing (?)2021-05-26\n",
      "  warnings.warn('Matching array length is not 1. Date is likely missing (?)' + time.strftime('%Y-%m-%d'))\n",
      "/var/folders/nb/y7dp0ct55_58hrhrhlz5vbkm0000gn/T/ipykernel_780/2577563597.py:15: UserWarning: Matching array length is not 1. Date is likely missing (?)2018-03-06\n",
      "  warnings.warn('Matching array length is not 1. Date is likely missing (?)' + time.strftime('%Y-%m-%d'))\n",
      "/var/folders/nb/y7dp0ct55_58hrhrhlz5vbkm0000gn/T/ipykernel_780/2577563597.py:15: UserWarning: Matching array length is not 1. Date is likely missing (?)2017-02-01\n",
      "  warnings.warn('Matching array length is not 1. Date is likely missing (?)' + time.strftime('%Y-%m-%d'))\n",
      "/var/folders/nb/y7dp0ct55_58hrhrhlz5vbkm0000gn/T/ipykernel_780/2577563597.py:15: UserWarning: Matching array length is not 1. Date is likely missing (?)2018-03-12\n",
      "  warnings.warn('Matching array length is not 1. Date is likely missing (?)' + time.strftime('%Y-%m-%d'))\n",
      "/var/folders/nb/y7dp0ct55_58hrhrhlz5vbkm0000gn/T/ipykernel_780/2577563597.py:15: UserWarning: Matching array length is not 1. Date is likely missing (?)2018-03-12\n",
      "  warnings.warn('Matching array length is not 1. Date is likely missing (?)' + time.strftime('%Y-%m-%d'))\n",
      "/var/folders/nb/y7dp0ct55_58hrhrhlz5vbkm0000gn/T/ipykernel_780/2577563597.py:15: UserWarning: Matching array length is not 1. Date is likely missing (?)2017-02-01\n",
      "  warnings.warn('Matching array length is not 1. Date is likely missing (?)' + time.strftime('%Y-%m-%d'))\n",
      "/var/folders/nb/y7dp0ct55_58hrhrhlz5vbkm0000gn/T/ipykernel_780/2577563597.py:15: UserWarning: Matching array length is not 1. Date is likely missing (?)2018-03-06\n",
      "  warnings.warn('Matching array length is not 1. Date is likely missing (?)' + time.strftime('%Y-%m-%d'))\n",
      "/var/folders/nb/y7dp0ct55_58hrhrhlz5vbkm0000gn/T/ipykernel_780/2577563597.py:15: UserWarning: Matching array length is not 1. Date is likely missing (?)2017-02-01\n",
      "  warnings.warn('Matching array length is not 1. Date is likely missing (?)' + time.strftime('%Y-%m-%d'))\n",
      "/var/folders/nb/y7dp0ct55_58hrhrhlz5vbkm0000gn/T/ipykernel_780/2577563597.py:15: UserWarning: Matching array length is not 1. Date is likely missing (?)2018-03-06\n",
      "  warnings.warn('Matching array length is not 1. Date is likely missing (?)' + time.strftime('%Y-%m-%d'))\n",
      "/var/folders/nb/y7dp0ct55_58hrhrhlz5vbkm0000gn/T/ipykernel_780/2577563597.py:15: UserWarning: Matching array length is not 1. Date is likely missing (?)2021-05-25\n",
      "  warnings.warn('Matching array length is not 1. Date is likely missing (?)' + time.strftime('%Y-%m-%d'))\n",
      "/var/folders/nb/y7dp0ct55_58hrhrhlz5vbkm0000gn/T/ipykernel_780/2577563597.py:15: UserWarning: Matching array length is not 1. Date is likely missing (?)2021-05-25\n",
      "  warnings.warn('Matching array length is not 1. Date is likely missing (?)' + time.strftime('%Y-%m-%d'))\n",
      "/var/folders/nb/y7dp0ct55_58hrhrhlz5vbkm0000gn/T/ipykernel_780/2577563597.py:15: UserWarning: Matching array length is not 1. Date is likely missing (?)2018-03-12\n",
      "  warnings.warn('Matching array length is not 1. Date is likely missing (?)' + time.strftime('%Y-%m-%d'))\n",
      "/var/folders/nb/y7dp0ct55_58hrhrhlz5vbkm0000gn/T/ipykernel_780/2577563597.py:15: UserWarning: Matching array length is not 1. Date is likely missing (?)2017-02-01\n",
      "  warnings.warn('Matching array length is not 1. Date is likely missing (?)' + time.strftime('%Y-%m-%d'))\n",
      "/var/folders/nb/y7dp0ct55_58hrhrhlz5vbkm0000gn/T/ipykernel_780/2577563597.py:15: UserWarning: Matching array length is not 1. Date is likely missing (?)2018-03-06\n",
      "  warnings.warn('Matching array length is not 1. Date is likely missing (?)' + time.strftime('%Y-%m-%d'))\n",
      "/var/folders/nb/y7dp0ct55_58hrhrhlz5vbkm0000gn/T/ipykernel_780/2577563597.py:15: UserWarning: Matching array length is not 1. Date is likely missing (?)2017-02-01\n",
      "  warnings.warn('Matching array length is not 1. Date is likely missing (?)' + time.strftime('%Y-%m-%d'))\n",
      "/var/folders/nb/y7dp0ct55_58hrhrhlz5vbkm0000gn/T/ipykernel_780/2577563597.py:15: UserWarning: Matching array length is not 1. Date is likely missing (?)2018-03-06\n",
      "  warnings.warn('Matching array length is not 1. Date is likely missing (?)' + time.strftime('%Y-%m-%d'))\n",
      "/var/folders/nb/y7dp0ct55_58hrhrhlz5vbkm0000gn/T/ipykernel_780/2577563597.py:15: UserWarning: Matching array length is not 1. Date is likely missing (?)2017-02-01\n",
      "  warnings.warn('Matching array length is not 1. Date is likely missing (?)' + time.strftime('%Y-%m-%d'))\n",
      "/var/folders/nb/y7dp0ct55_58hrhrhlz5vbkm0000gn/T/ipykernel_780/2577563597.py:15: UserWarning: Matching array length is not 1. Date is likely missing (?)2018-03-06\n",
      "  warnings.warn('Matching array length is not 1. Date is likely missing (?)' + time.strftime('%Y-%m-%d'))\n",
      "/var/folders/nb/y7dp0ct55_58hrhrhlz5vbkm0000gn/T/ipykernel_780/2577563597.py:15: UserWarning: Matching array length is not 1. Date is likely missing (?)2017-02-01\n",
      "  warnings.warn('Matching array length is not 1. Date is likely missing (?)' + time.strftime('%Y-%m-%d'))\n",
      "/var/folders/nb/y7dp0ct55_58hrhrhlz5vbkm0000gn/T/ipykernel_780/2577563597.py:15: UserWarning: Matching array length is not 1. Date is likely missing (?)2018-03-06\n",
      "  warnings.warn('Matching array length is not 1. Date is likely missing (?)' + time.strftime('%Y-%m-%d'))\n",
      "/var/folders/nb/y7dp0ct55_58hrhrhlz5vbkm0000gn/T/ipykernel_780/2577563597.py:15: UserWarning: Matching array length is not 1. Date is likely missing (?)2017-02-01\n",
      "  warnings.warn('Matching array length is not 1. Date is likely missing (?)' + time.strftime('%Y-%m-%d'))\n",
      "/var/folders/nb/y7dp0ct55_58hrhrhlz5vbkm0000gn/T/ipykernel_780/2577563597.py:15: UserWarning: Matching array length is not 1. Date is likely missing (?)2018-03-06\n",
      "  warnings.warn('Matching array length is not 1. Date is likely missing (?)' + time.strftime('%Y-%m-%d'))\n",
      "/var/folders/nb/y7dp0ct55_58hrhrhlz5vbkm0000gn/T/ipykernel_780/2577563597.py:15: UserWarning: Matching array length is not 1. Date is likely missing (?)2017-02-01\n",
      "  warnings.warn('Matching array length is not 1. Date is likely missing (?)' + time.strftime('%Y-%m-%d'))\n",
      "/var/folders/nb/y7dp0ct55_58hrhrhlz5vbkm0000gn/T/ipykernel_780/2577563597.py:15: UserWarning: Matching array length is not 1. Date is likely missing (?)2018-03-06\n",
      "  warnings.warn('Matching array length is not 1. Date is likely missing (?)' + time.strftime('%Y-%m-%d'))\n",
      "/var/folders/nb/y7dp0ct55_58hrhrhlz5vbkm0000gn/T/ipykernel_780/2577563597.py:15: UserWarning: Matching array length is not 1. Date is likely missing (?)2018-03-06\n",
      "  warnings.warn('Matching array length is not 1. Date is likely missing (?)' + time.strftime('%Y-%m-%d'))\n",
      "/var/folders/nb/y7dp0ct55_58hrhrhlz5vbkm0000gn/T/ipykernel_780/2577563597.py:15: UserWarning: Matching array length is not 1. Date is likely missing (?)2021-05-26\n",
      "  warnings.warn('Matching array length is not 1. Date is likely missing (?)' + time.strftime('%Y-%m-%d'))\n",
      "/var/folders/nb/y7dp0ct55_58hrhrhlz5vbkm0000gn/T/ipykernel_780/2577563597.py:15: UserWarning: Matching array length is not 1. Date is likely missing (?)2021-05-26\n",
      "  warnings.warn('Matching array length is not 1. Date is likely missing (?)' + time.strftime('%Y-%m-%d'))\n",
      "/var/folders/nb/y7dp0ct55_58hrhrhlz5vbkm0000gn/T/ipykernel_780/2577563597.py:15: UserWarning: Matching array length is not 1. Date is likely missing (?)2021-05-26\n",
      "  warnings.warn('Matching array length is not 1. Date is likely missing (?)' + time.strftime('%Y-%m-%d'))\n",
      "/var/folders/nb/y7dp0ct55_58hrhrhlz5vbkm0000gn/T/ipykernel_780/2577563597.py:15: UserWarning: Matching array length is not 1. Date is likely missing (?)2017-02-01\n",
      "  warnings.warn('Matching array length is not 1. Date is likely missing (?)' + time.strftime('%Y-%m-%d'))\n",
      "/var/folders/nb/y7dp0ct55_58hrhrhlz5vbkm0000gn/T/ipykernel_780/2577563597.py:15: UserWarning: Matching array length is not 1. Date is likely missing (?)2018-03-06\n",
      "  warnings.warn('Matching array length is not 1. Date is likely missing (?)' + time.strftime('%Y-%m-%d'))\n",
      "/var/folders/nb/y7dp0ct55_58hrhrhlz5vbkm0000gn/T/ipykernel_780/2577563597.py:15: UserWarning: Matching array length is not 1. Date is likely missing (?)2018-02-08\n",
      "  warnings.warn('Matching array length is not 1. Date is likely missing (?)' + time.strftime('%Y-%m-%d'))\n",
      "/var/folders/nb/y7dp0ct55_58hrhrhlz5vbkm0000gn/T/ipykernel_780/2577563597.py:15: UserWarning: Matching array length is not 1. Date is likely missing (?)2018-02-08\n",
      "  warnings.warn('Matching array length is not 1. Date is likely missing (?)' + time.strftime('%Y-%m-%d'))\n",
      "/var/folders/nb/y7dp0ct55_58hrhrhlz5vbkm0000gn/T/ipykernel_780/2577563597.py:15: UserWarning: Matching array length is not 1. Date is likely missing (?)2018-02-08\n",
      "  warnings.warn('Matching array length is not 1. Date is likely missing (?)' + time.strftime('%Y-%m-%d'))\n",
      "/var/folders/nb/y7dp0ct55_58hrhrhlz5vbkm0000gn/T/ipykernel_780/2577563597.py:15: UserWarning: Matching array length is not 1. Date is likely missing (?)2017-02-01\n",
      "  warnings.warn('Matching array length is not 1. Date is likely missing (?)' + time.strftime('%Y-%m-%d'))\n",
      "/var/folders/nb/y7dp0ct55_58hrhrhlz5vbkm0000gn/T/ipykernel_780/2577563597.py:15: UserWarning: Matching array length is not 1. Date is likely missing (?)2017-02-01\n",
      "  warnings.warn('Matching array length is not 1. Date is likely missing (?)' + time.strftime('%Y-%m-%d'))\n"
     ]
    }
   ],
   "source": [
    "# Create a new column of the wq dataframe containing the corresponding geopolar sst value\n",
    "wq_sst['geopolar'] = wq_sst.apply(lambda x: get_satellite_sst(geopolar, x.Latitude, x.Longitude, x.SampleDate), \n",
    "                                                axis=1)"
   ]
  },
  {
   "cell_type": "markdown",
   "id": "dd80ff89-bd7a-482a-ab62-ec8ee18cd8d3",
   "metadata": {},
   "source": [
    "### MUR SST"
   ]
  },
  {
   "cell_type": "code",
   "execution_count": 10,
   "id": "40ef06a9-4c28-44ab-a8d8-68c1f8b44bdd",
   "metadata": {},
   "outputs": [],
   "source": [
    "# Open raw SST\n",
    "path = os.path.join(\n",
    "    REPO_ROOT, 'data/raw', \n",
    "    'MUR-JPL-L4_GHRSST-SSTfnd-GLOB-v02.0-fv04.1-20020901_20230831.nc'\n",
    ")\n",
    "mur = xr.open_dataset(path).analysed_sst\n",
    "# convert kelvin to celsius & update metadata\n",
    "mur.values = mur.values - 273.15\n",
    "mur.attrs.update({'units': 'celsius',})\n",
    "\n",
    "# Open calculated climatological SST\n",
    "path = os.path.join(REPO_ROOT, 'data/interim', 'mur_climatology_chesapeake.nc')\n",
    "mur_clim = xr.open_dataset(path).climatology\n",
    "\n",
    "# Compute SST anomaly\n",
    "mur_anom = mur - mur_clim"
   ]
  },
  {
   "cell_type": "code",
   "execution_count": 11,
   "id": "e7e64d36-41e3-4ca4-9a90-1227e13de666",
   "metadata": {
    "scrolled": true,
    "tags": []
   },
   "outputs": [
    {
     "name": "stderr",
     "output_type": "stream",
     "text": [
      "/var/folders/nb/y7dp0ct55_58hrhrhlz5vbkm0000gn/T/ipykernel_5423/2577563597.py:15: UserWarning: Matching array length is not 1. Date is likely missing (?)2022-11-09\n",
      "  warnings.warn('Matching array length is not 1. Date is likely missing (?)' + time.strftime('%Y-%m-%d'))\n",
      "/var/folders/nb/y7dp0ct55_58hrhrhlz5vbkm0000gn/T/ipykernel_5423/2577563597.py:15: UserWarning: Matching array length is not 1. Date is likely missing (?)2022-11-09\n",
      "  warnings.warn('Matching array length is not 1. Date is likely missing (?)' + time.strftime('%Y-%m-%d'))\n",
      "/var/folders/nb/y7dp0ct55_58hrhrhlz5vbkm0000gn/T/ipykernel_5423/2577563597.py:15: UserWarning: Matching array length is not 1. Date is likely missing (?)2022-11-09\n",
      "  warnings.warn('Matching array length is not 1. Date is likely missing (?)' + time.strftime('%Y-%m-%d'))\n",
      "/var/folders/nb/y7dp0ct55_58hrhrhlz5vbkm0000gn/T/ipykernel_5423/2577563597.py:15: UserWarning: Matching array length is not 1. Date is likely missing (?)2022-11-09\n",
      "  warnings.warn('Matching array length is not 1. Date is likely missing (?)' + time.strftime('%Y-%m-%d'))\n",
      "/var/folders/nb/y7dp0ct55_58hrhrhlz5vbkm0000gn/T/ipykernel_5423/2577563597.py:15: UserWarning: Matching array length is not 1. Date is likely missing (?)2022-11-09\n",
      "  warnings.warn('Matching array length is not 1. Date is likely missing (?)' + time.strftime('%Y-%m-%d'))\n",
      "/var/folders/nb/y7dp0ct55_58hrhrhlz5vbkm0000gn/T/ipykernel_5423/2577563597.py:15: UserWarning: Matching array length is not 1. Date is likely missing (?)2022-11-09\n",
      "  warnings.warn('Matching array length is not 1. Date is likely missing (?)' + time.strftime('%Y-%m-%d'))\n"
     ]
    },
    {
     "name": "stdout",
     "output_type": "stream",
     "text": [
      "CPU times: user 22.1 s, sys: 533 ms, total: 22.6 s\n",
      "Wall time: 22.8 s\n"
     ]
    }
   ],
   "source": [
    "%%time\n",
    "\n",
    "# Create a new column of the wq dataframe containing the corresponding geopolar sst value\n",
    "wq_anom['anom_mur'] = wq_anom.apply(lambda x: get_satellite_sst(mur_anom, x.Latitude, x.Longitude, x.SampleDate), \n",
    "                                                axis=1)"
   ]
  },
  {
   "cell_type": "code",
   "execution_count": 20,
   "id": "c080667e-851a-4da8-b59b-67c51821a11e",
   "metadata": {},
   "outputs": [
    {
     "name": "stderr",
     "output_type": "stream",
     "text": [
      "/var/folders/nb/y7dp0ct55_58hrhrhlz5vbkm0000gn/T/ipykernel_5423/2577563597.py:15: UserWarning: Matching array length is not 1. Date is likely missing (?)2022-11-09\n",
      "  warnings.warn('Matching array length is not 1. Date is likely missing (?)' + time.strftime('%Y-%m-%d'))\n",
      "/var/folders/nb/y7dp0ct55_58hrhrhlz5vbkm0000gn/T/ipykernel_5423/2577563597.py:15: UserWarning: Matching array length is not 1. Date is likely missing (?)2022-11-09\n",
      "  warnings.warn('Matching array length is not 1. Date is likely missing (?)' + time.strftime('%Y-%m-%d'))\n",
      "/var/folders/nb/y7dp0ct55_58hrhrhlz5vbkm0000gn/T/ipykernel_5423/2577563597.py:15: UserWarning: Matching array length is not 1. Date is likely missing (?)2022-11-09\n",
      "  warnings.warn('Matching array length is not 1. Date is likely missing (?)' + time.strftime('%Y-%m-%d'))\n",
      "/var/folders/nb/y7dp0ct55_58hrhrhlz5vbkm0000gn/T/ipykernel_5423/2577563597.py:15: UserWarning: Matching array length is not 1. Date is likely missing (?)2022-11-09\n",
      "  warnings.warn('Matching array length is not 1. Date is likely missing (?)' + time.strftime('%Y-%m-%d'))\n",
      "/var/folders/nb/y7dp0ct55_58hrhrhlz5vbkm0000gn/T/ipykernel_5423/2577563597.py:15: UserWarning: Matching array length is not 1. Date is likely missing (?)2022-11-09\n",
      "  warnings.warn('Matching array length is not 1. Date is likely missing (?)' + time.strftime('%Y-%m-%d'))\n",
      "/var/folders/nb/y7dp0ct55_58hrhrhlz5vbkm0000gn/T/ipykernel_5423/2577563597.py:15: UserWarning: Matching array length is not 1. Date is likely missing (?)2022-11-09\n",
      "  warnings.warn('Matching array length is not 1. Date is likely missing (?)' + time.strftime('%Y-%m-%d'))\n",
      "/var/folders/nb/y7dp0ct55_58hrhrhlz5vbkm0000gn/T/ipykernel_5423/2577563597.py:15: UserWarning: Matching array length is not 1. Date is likely missing (?)2022-11-09\n",
      "  warnings.warn('Matching array length is not 1. Date is likely missing (?)' + time.strftime('%Y-%m-%d'))\n",
      "/var/folders/nb/y7dp0ct55_58hrhrhlz5vbkm0000gn/T/ipykernel_5423/2577563597.py:15: UserWarning: Matching array length is not 1. Date is likely missing (?)2022-11-09\n",
      "  warnings.warn('Matching array length is not 1. Date is likely missing (?)' + time.strftime('%Y-%m-%d'))\n",
      "/var/folders/nb/y7dp0ct55_58hrhrhlz5vbkm0000gn/T/ipykernel_5423/2577563597.py:15: UserWarning: Matching array length is not 1. Date is likely missing (?)2022-11-09\n",
      "  warnings.warn('Matching array length is not 1. Date is likely missing (?)' + time.strftime('%Y-%m-%d'))\n",
      "/var/folders/nb/y7dp0ct55_58hrhrhlz5vbkm0000gn/T/ipykernel_5423/2577563597.py:15: UserWarning: Matching array length is not 1. Date is likely missing (?)2022-11-09\n",
      "  warnings.warn('Matching array length is not 1. Date is likely missing (?)' + time.strftime('%Y-%m-%d'))\n",
      "/var/folders/nb/y7dp0ct55_58hrhrhlz5vbkm0000gn/T/ipykernel_5423/2577563597.py:15: UserWarning: Matching array length is not 1. Date is likely missing (?)2022-11-09\n",
      "  warnings.warn('Matching array length is not 1. Date is likely missing (?)' + time.strftime('%Y-%m-%d'))\n",
      "/var/folders/nb/y7dp0ct55_58hrhrhlz5vbkm0000gn/T/ipykernel_5423/2577563597.py:15: UserWarning: Matching array length is not 1. Date is likely missing (?)2022-11-09\n",
      "  warnings.warn('Matching array length is not 1. Date is likely missing (?)' + time.strftime('%Y-%m-%d'))\n"
     ]
    }
   ],
   "source": [
    "# Create a new column of the wq dataframe containing the corresponding geopolar sst value\n",
    "wq_sst['mur'] = wq_sst.apply(lambda x: get_satellite_sst(mur, x.Latitude, x.Longitude, x.SampleDate), \n",
    "                                                axis=1)"
   ]
  },
  {
   "cell_type": "markdown",
   "id": "1fd24a5e-d504-4006-9121-75734d2ee787",
   "metadata": {},
   "source": [
    "### OSTIA SST\n",
    "\n",
    "TODO -- kernel dies when I add this step. Come back and address this."
   ]
  },
  {
   "cell_type": "code",
   "execution_count": null,
   "id": "506e75e3-3ff4-4c8d-9335-1964fb307158",
   "metadata": {
    "editable": true,
    "slideshow": {
     "slide_type": ""
    },
    "tags": []
   },
   "outputs": [],
   "source": [
    "# Open raw SST\n",
    "path = os.path.join(\n",
    "    REPO_ROOT, 'data/raw', \n",
    "    'METOFFICE-GLO-SST-L4-NRT-OBS-SST-V2_analysed_sst_77.47W-75.53W_36.78N-39.97N_2007-01-01-2023-09-01.nc'\n",
    ")\n",
    "ostia = xr.open_dataset(path).analysed_sst\n",
    "ostia = ostia.rename({'latitude': 'lat', 'longitude': 'lon'})\n",
    "# convert kelvin to celsius & update metadata\n",
    "ostia.values = ostia.values - 273.15\n",
    "ostia.attrs.update({'units': 'celsius',})\n",
    "\n",
    "# Open calculated climatological SST\n",
    "path = os.path.join(REPO_ROOT, 'data/interim', 'ostia_climatology_chesapeake.nc')\n",
    "ostia_clim = xr.open_dataset(path).climatology\n",
    "\n",
    "# Compute SST anomaly\n",
    "ostia_anom = ostia - ostia_clim"
   ]
  },
  {
   "cell_type": "code",
   "execution_count": null,
   "id": "641d1017-72f9-41ba-8569-f10b9bb80fc0",
   "metadata": {},
   "outputs": [],
   "source": [
    "ostia"
   ]
  },
  {
   "cell_type": "code",
   "execution_count": null,
   "id": "c229a3e4-0027-40dd-9a8a-42021f504541",
   "metadata": {
    "scrolled": true,
    "tags": []
   },
   "outputs": [],
   "source": [
    "# %%time\n",
    "\n",
    "# # Create a new column of the wq dataframe containing the corresponding geopolar sst value\n",
    "wq_anom['anom_ostia'] = wq_anom.apply(lambda x: get_satellite_sst(ostia_anom, x.Latitude, x.Longitude, x.SampleDate), \n",
    "                                                axis=1)"
   ]
  },
  {
   "cell_type": "markdown",
   "id": "3fdd5e2a-462f-41f0-ba16-9c64690a8a46",
   "metadata": {
    "editable": true,
    "slideshow": {
     "slide_type": ""
    },
    "tags": []
   },
   "source": [
    "### Cleaning Output"
   ]
  },
  {
   "cell_type": "markdown",
   "id": "62a90ac4-415f-4c89-ba09-7703d9bf2ecc",
   "metadata": {},
   "source": [
    "Remove rows that don't have corresponding observations from any of the satellites."
   ]
  },
  {
   "cell_type": "code",
   "execution_count": 12,
   "id": "909f68bb-3061-4418-b53e-c383724be872",
   "metadata": {
    "scrolled": true
   },
   "outputs": [
    {
     "data": {
      "text/plain": [
       "Index(['Latitude', 'Longitude', 'SampleDate', 'anom_cbp', 'anom_geopolar',\n",
       "       'anom_mur', 'anom_ostia'],\n",
       "      dtype='object')"
      ]
     },
     "execution_count": 12,
     "metadata": {},
     "output_type": "execute_result"
    }
   ],
   "source": [
    "wq_anom.columns"
   ]
  },
  {
   "cell_type": "code",
   "execution_count": 21,
   "id": "c8816ed4-f5ee-4522-9798-f71440ef797a",
   "metadata": {},
   "outputs": [
    {
     "data": {
      "text/plain": [
       "Index(['MeasureValue', 'Latitude', 'Longitude', 'SampleDate', 'geopolar',\n",
       "       'mur', 'ostia'],\n",
       "      dtype='object')"
      ]
     },
     "execution_count": 21,
     "metadata": {},
     "output_type": "execute_result"
    }
   ],
   "source": [
    "wq_sst.columns"
   ]
  },
  {
   "cell_type": "code",
   "execution_count": 13,
   "id": "7c933c1e-d861-4d31-b068-87774d89d70a",
   "metadata": {},
   "outputs": [],
   "source": [
    "wq_anom = wq_anom[(~wq_anom['anom_mur'].isnull()) | (~wq_anom['anom_geopolar'].isnull()) | \\\n",
    "                (~wq_anom['anom_ostia'].isnull())]"
   ]
  },
  {
   "cell_type": "code",
   "execution_count": 15,
   "id": "52a8eb97-256a-4d1d-8cd6-7b7998eb863b",
   "metadata": {
    "scrolled": true
   },
   "outputs": [
    {
     "data": {
      "text/html": [
       "<div>\n",
       "<style scoped>\n",
       "    .dataframe tbody tr th:only-of-type {\n",
       "        vertical-align: middle;\n",
       "    }\n",
       "\n",
       "    .dataframe tbody tr th {\n",
       "        vertical-align: top;\n",
       "    }\n",
       "\n",
       "    .dataframe thead th {\n",
       "        text-align: right;\n",
       "    }\n",
       "</style>\n",
       "<table border=\"1\" class=\"dataframe\">\n",
       "  <thead>\n",
       "    <tr style=\"text-align: right;\">\n",
       "      <th></th>\n",
       "      <th>Latitude</th>\n",
       "      <th>Longitude</th>\n",
       "      <th>SampleDate</th>\n",
       "      <th>anom_cbp</th>\n",
       "      <th>anom_geopolar</th>\n",
       "      <th>anom_mur</th>\n",
       "      <th>anom_ostia</th>\n",
       "    </tr>\n",
       "  </thead>\n",
       "  <tbody>\n",
       "    <tr>\n",
       "      <th>0</th>\n",
       "      <td>39.44149</td>\n",
       "      <td>-76.02599</td>\n",
       "      <td>2003-01-15</td>\n",
       "      <td>-2.038462</td>\n",
       "      <td>-0.813166</td>\n",
       "      <td>-0.803528</td>\n",
       "      <td>-999</td>\n",
       "    </tr>\n",
       "    <tr>\n",
       "      <th>1</th>\n",
       "      <td>39.44149</td>\n",
       "      <td>-76.02599</td>\n",
       "      <td>2004-01-14</td>\n",
       "      <td>-2.838462</td>\n",
       "      <td>-1.020229</td>\n",
       "      <td>-0.585965</td>\n",
       "      <td>-999</td>\n",
       "    </tr>\n",
       "    <tr>\n",
       "      <th>2</th>\n",
       "      <td>39.44149</td>\n",
       "      <td>-76.02599</td>\n",
       "      <td>2005-01-13</td>\n",
       "      <td>1.761538</td>\n",
       "      <td>0.318968</td>\n",
       "      <td>1.116807</td>\n",
       "      <td>-999</td>\n",
       "    </tr>\n",
       "    <tr>\n",
       "      <th>3</th>\n",
       "      <td>39.44149</td>\n",
       "      <td>-76.02599</td>\n",
       "      <td>2006-01-12</td>\n",
       "      <td>1.461538</td>\n",
       "      <td>1.184868</td>\n",
       "      <td>-1.978795</td>\n",
       "      <td>-999</td>\n",
       "    </tr>\n",
       "    <tr>\n",
       "      <th>4</th>\n",
       "      <td>39.44149</td>\n",
       "      <td>-76.02599</td>\n",
       "      <td>2007-01-12</td>\n",
       "      <td>2.161538</td>\n",
       "      <td>1.744897</td>\n",
       "      <td>3.050197</td>\n",
       "      <td>-999</td>\n",
       "    </tr>\n",
       "    <tr>\n",
       "      <th>...</th>\n",
       "      <td>...</td>\n",
       "      <td>...</td>\n",
       "      <td>...</td>\n",
       "      <td>...</td>\n",
       "      <td>...</td>\n",
       "      <td>...</td>\n",
       "      <td>...</td>\n",
       "    </tr>\n",
       "    <tr>\n",
       "      <th>13157</th>\n",
       "      <td>38.84250</td>\n",
       "      <td>-76.53410</td>\n",
       "      <td>2018-02-15</td>\n",
       "      <td>-0.273684</td>\n",
       "      <td>0.177036</td>\n",
       "      <td>NaN</td>\n",
       "      <td>-999</td>\n",
       "    </tr>\n",
       "    <tr>\n",
       "      <th>13158</th>\n",
       "      <td>38.84250</td>\n",
       "      <td>-76.53410</td>\n",
       "      <td>2019-02-11</td>\n",
       "      <td>0.026316</td>\n",
       "      <td>-0.566096</td>\n",
       "      <td>NaN</td>\n",
       "      <td>-999</td>\n",
       "    </tr>\n",
       "    <tr>\n",
       "      <th>13159</th>\n",
       "      <td>38.84250</td>\n",
       "      <td>-76.53410</td>\n",
       "      <td>2020-02-13</td>\n",
       "      <td>3.126316</td>\n",
       "      <td>1.065957</td>\n",
       "      <td>NaN</td>\n",
       "      <td>-999</td>\n",
       "    </tr>\n",
       "    <tr>\n",
       "      <th>13160</th>\n",
       "      <td>38.84250</td>\n",
       "      <td>-76.53410</td>\n",
       "      <td>2021-02-08</td>\n",
       "      <td>-0.573684</td>\n",
       "      <td>0.484139</td>\n",
       "      <td>NaN</td>\n",
       "      <td>-999</td>\n",
       "    </tr>\n",
       "    <tr>\n",
       "      <th>13161</th>\n",
       "      <td>38.84250</td>\n",
       "      <td>-76.53410</td>\n",
       "      <td>2022-02-09</td>\n",
       "      <td>-0.723684</td>\n",
       "      <td>-0.089792</td>\n",
       "      <td>NaN</td>\n",
       "      <td>-999</td>\n",
       "    </tr>\n",
       "  </tbody>\n",
       "</table>\n",
       "<p>13162 rows × 7 columns</p>\n",
       "</div>"
      ],
      "text/plain": [
       "       Latitude  Longitude SampleDate  anom_cbp  anom_geopolar  anom_mur  \\\n",
       "0      39.44149  -76.02599 2003-01-15 -2.038462      -0.813166 -0.803528   \n",
       "1      39.44149  -76.02599 2004-01-14 -2.838462      -1.020229 -0.585965   \n",
       "2      39.44149  -76.02599 2005-01-13  1.761538       0.318968  1.116807   \n",
       "3      39.44149  -76.02599 2006-01-12  1.461538       1.184868 -1.978795   \n",
       "4      39.44149  -76.02599 2007-01-12  2.161538       1.744897  3.050197   \n",
       "...         ...        ...        ...       ...            ...       ...   \n",
       "13157  38.84250  -76.53410 2018-02-15 -0.273684       0.177036       NaN   \n",
       "13158  38.84250  -76.53410 2019-02-11  0.026316      -0.566096       NaN   \n",
       "13159  38.84250  -76.53410 2020-02-13  3.126316       1.065957       NaN   \n",
       "13160  38.84250  -76.53410 2021-02-08 -0.573684       0.484139       NaN   \n",
       "13161  38.84250  -76.53410 2022-02-09 -0.723684      -0.089792       NaN   \n",
       "\n",
       "       anom_ostia  \n",
       "0            -999  \n",
       "1            -999  \n",
       "2            -999  \n",
       "3            -999  \n",
       "4            -999  \n",
       "...           ...  \n",
       "13157        -999  \n",
       "13158        -999  \n",
       "13159        -999  \n",
       "13160        -999  \n",
       "13161        -999  \n",
       "\n",
       "[13162 rows x 7 columns]"
      ]
     },
     "execution_count": 15,
     "metadata": {},
     "output_type": "execute_result"
    }
   ],
   "source": [
    "wq_anom"
   ]
  },
  {
   "cell_type": "code",
   "execution_count": 22,
   "id": "08e73445-f2b5-4636-8246-7c1aa931a53a",
   "metadata": {},
   "outputs": [],
   "source": [
    "wq_sst = wq_sst[(~wq_sst['mur'].isnull()) | (~wq_sst['geopolar'].isnull())]"
   ]
  },
  {
   "cell_type": "markdown",
   "id": "94d5bff7-ad27-4e8f-a7f5-a9890f1bd797",
   "metadata": {},
   "source": [
    "### Save File"
   ]
  },
  {
   "cell_type": "code",
   "execution_count": null,
   "id": "5a63f305-56f4-4276-a106-972b0eb6dad0",
   "metadata": {},
   "outputs": [],
   "source": [
    "path = os.path.join(\n",
    "    REPO_ROOT, 'data/processed', \n",
    "    'SSTanom_satellites_cbp_stations.csv'\n",
    "    # 'anomaly_values_satellites_CBPstations_filtered.csv' OLD NAMING PATTERN\n",
    ")\n",
    "wq_anom.to_csv(path, index=False)"
   ]
  },
  {
   "cell_type": "code",
   "execution_count": null,
   "id": "a8466acf-37c7-4e01-af0e-2d0cb81aacfd",
   "metadata": {},
   "outputs": [],
   "source": [
    "wq_anom"
   ]
  },
  {
   "cell_type": "code",
   "execution_count": null,
   "id": "c0e010b7-c24b-4caa-b81b-106f6196f0b5",
   "metadata": {},
   "outputs": [],
   "source": [
    "path = os.path.join(\n",
    "    REPO_ROOT, 'data/processed', \n",
    "    'SST_satellites_cbp_stations.csv'\n",
    "    # New name: sst_values_satellites_cbp_stations.csv\n",
    ")\n",
    "wq_sst.to_csv(path, index=False)"
   ]
  },
  {
   "cell_type": "code",
   "execution_count": 23,
   "id": "7902e181-bd52-45b7-ab21-729b4a993082",
   "metadata": {},
   "outputs": [
    {
     "data": {
      "text/html": [
       "<div>\n",
       "<style scoped>\n",
       "    .dataframe tbody tr th:only-of-type {\n",
       "        vertical-align: middle;\n",
       "    }\n",
       "\n",
       "    .dataframe tbody tr th {\n",
       "        vertical-align: top;\n",
       "    }\n",
       "\n",
       "    .dataframe thead th {\n",
       "        text-align: right;\n",
       "    }\n",
       "</style>\n",
       "<table border=\"1\" class=\"dataframe\">\n",
       "  <thead>\n",
       "    <tr style=\"text-align: right;\">\n",
       "      <th></th>\n",
       "      <th>MeasureValue</th>\n",
       "      <th>Latitude</th>\n",
       "      <th>Longitude</th>\n",
       "      <th>SampleDate</th>\n",
       "      <th>geopolar</th>\n",
       "      <th>mur</th>\n",
       "      <th>ostia</th>\n",
       "    </tr>\n",
       "  </thead>\n",
       "  <tbody>\n",
       "    <tr>\n",
       "      <th>0</th>\n",
       "      <td>8.300</td>\n",
       "      <td>38.40000</td>\n",
       "      <td>-77.32000</td>\n",
       "      <td>2007-03-22</td>\n",
       "      <td>4.000000</td>\n",
       "      <td>NaN</td>\n",
       "      <td>-999</td>\n",
       "    </tr>\n",
       "    <tr>\n",
       "      <th>1</th>\n",
       "      <td>26.200</td>\n",
       "      <td>38.40000</td>\n",
       "      <td>-77.32000</td>\n",
       "      <td>2007-06-18</td>\n",
       "      <td>21.970001</td>\n",
       "      <td>NaN</td>\n",
       "      <td>-999</td>\n",
       "    </tr>\n",
       "    <tr>\n",
       "      <th>2</th>\n",
       "      <td>14.500</td>\n",
       "      <td>38.40000</td>\n",
       "      <td>-77.32000</td>\n",
       "      <td>2007-10-29</td>\n",
       "      <td>18.019989</td>\n",
       "      <td>NaN</td>\n",
       "      <td>-999</td>\n",
       "    </tr>\n",
       "    <tr>\n",
       "      <th>3</th>\n",
       "      <td>5.200</td>\n",
       "      <td>38.40000</td>\n",
       "      <td>-77.32000</td>\n",
       "      <td>2007-12-10</td>\n",
       "      <td>10.750000</td>\n",
       "      <td>NaN</td>\n",
       "      <td>-999</td>\n",
       "    </tr>\n",
       "    <tr>\n",
       "      <th>4</th>\n",
       "      <td>4.900</td>\n",
       "      <td>38.40000</td>\n",
       "      <td>-77.32000</td>\n",
       "      <td>2008-02-04</td>\n",
       "      <td>3.670013</td>\n",
       "      <td>NaN</td>\n",
       "      <td>-999</td>\n",
       "    </tr>\n",
       "    <tr>\n",
       "      <th>...</th>\n",
       "      <td>...</td>\n",
       "      <td>...</td>\n",
       "      <td>...</td>\n",
       "      <td>...</td>\n",
       "      <td>...</td>\n",
       "      <td>...</td>\n",
       "      <td>...</td>\n",
       "    </tr>\n",
       "    <tr>\n",
       "      <th>50988</th>\n",
       "      <td>29.460</td>\n",
       "      <td>37.50465</td>\n",
       "      <td>-76.79252</td>\n",
       "      <td>2008-07-22</td>\n",
       "      <td>NaN</td>\n",
       "      <td>27.756989</td>\n",
       "      <td>-999</td>\n",
       "    </tr>\n",
       "    <tr>\n",
       "      <th>50989</th>\n",
       "      <td>26.455</td>\n",
       "      <td>37.50465</td>\n",
       "      <td>-76.79252</td>\n",
       "      <td>2008-08-22</td>\n",
       "      <td>NaN</td>\n",
       "      <td>26.091003</td>\n",
       "      <td>-999</td>\n",
       "    </tr>\n",
       "    <tr>\n",
       "      <th>50990</th>\n",
       "      <td>25.105</td>\n",
       "      <td>37.50465</td>\n",
       "      <td>-76.79252</td>\n",
       "      <td>2008-09-17</td>\n",
       "      <td>NaN</td>\n",
       "      <td>23.483002</td>\n",
       "      <td>-999</td>\n",
       "    </tr>\n",
       "    <tr>\n",
       "      <th>50991</th>\n",
       "      <td>21.134</td>\n",
       "      <td>37.50465</td>\n",
       "      <td>-76.79252</td>\n",
       "      <td>2008-10-16</td>\n",
       "      <td>NaN</td>\n",
       "      <td>21.225006</td>\n",
       "      <td>-999</td>\n",
       "    </tr>\n",
       "    <tr>\n",
       "      <th>50992</th>\n",
       "      <td>9.925</td>\n",
       "      <td>37.50465</td>\n",
       "      <td>-76.79252</td>\n",
       "      <td>2008-11-20</td>\n",
       "      <td>NaN</td>\n",
       "      <td>10.873993</td>\n",
       "      <td>-999</td>\n",
       "    </tr>\n",
       "  </tbody>\n",
       "</table>\n",
       "<p>35728 rows × 7 columns</p>\n",
       "</div>"
      ],
      "text/plain": [
       "       MeasureValue  Latitude  Longitude SampleDate   geopolar        mur  \\\n",
       "0             8.300  38.40000  -77.32000 2007-03-22   4.000000        NaN   \n",
       "1            26.200  38.40000  -77.32000 2007-06-18  21.970001        NaN   \n",
       "2            14.500  38.40000  -77.32000 2007-10-29  18.019989        NaN   \n",
       "3             5.200  38.40000  -77.32000 2007-12-10  10.750000        NaN   \n",
       "4             4.900  38.40000  -77.32000 2008-02-04   3.670013        NaN   \n",
       "...             ...       ...        ...        ...        ...        ...   \n",
       "50988        29.460  37.50465  -76.79252 2008-07-22        NaN  27.756989   \n",
       "50989        26.455  37.50465  -76.79252 2008-08-22        NaN  26.091003   \n",
       "50990        25.105  37.50465  -76.79252 2008-09-17        NaN  23.483002   \n",
       "50991        21.134  37.50465  -76.79252 2008-10-16        NaN  21.225006   \n",
       "50992         9.925  37.50465  -76.79252 2008-11-20        NaN  10.873993   \n",
       "\n",
       "       ostia  \n",
       "0       -999  \n",
       "1       -999  \n",
       "2       -999  \n",
       "3       -999  \n",
       "4       -999  \n",
       "...      ...  \n",
       "50988   -999  \n",
       "50989   -999  \n",
       "50990   -999  \n",
       "50991   -999  \n",
       "50992   -999  \n",
       "\n",
       "[35728 rows x 7 columns]"
      ]
     },
     "execution_count": 23,
     "metadata": {},
     "output_type": "execute_result"
    }
   ],
   "source": [
    "wq_sst"
   ]
  },
  {
   "cell_type": "code",
   "execution_count": null,
   "id": "2b9b5e51-fd7b-4e65-bb31-2d52dc799b9f",
   "metadata": {},
   "outputs": [],
   "source": []
  },
  {
   "cell_type": "code",
   "execution_count": null,
   "id": "f7b487ae-d1d0-4746-af08-24a945707b72",
   "metadata": {},
   "outputs": [],
   "source": []
  },
  {
   "cell_type": "code",
   "execution_count": null,
   "id": "cba735dd-34d0-44d2-ac32-f19188b4fa3d",
   "metadata": {},
   "outputs": [],
   "source": []
  },
  {
   "cell_type": "markdown",
   "id": "9271a29f-e0f0-4650-a61e-438d84e2e716",
   "metadata": {
    "tags": []
   },
   "source": [
    "### Inspecting the remaining observations"
   ]
  },
  {
   "cell_type": "code",
   "execution_count": null,
   "id": "c3883c4f-89d4-44f8-bbbc-5250445c0f7f",
   "metadata": {},
   "outputs": [],
   "source": [
    "fig, ax1 = plt.subplots()\n",
    "ax2 = ax1.twinx()\n",
    "ax2.set_ylim([800, 4000])\n",
    "\n",
    "histogram = wq.SampleDate.hist(bins=68, ax=ax1, grid=False)\n",
    "ax1.set_ylabel('Number of observations (3 month bins)')\n",
    "ax1.set_xlabel('Year')\n",
    "# ax1.grid(axis='y', linestyle='--', color='lightgrey')\n",
    "# ax1.set_yticks(np.arange(100, 900, 100))\n",
    "\n",
    "# Making the line plot\n",
    "# didn't work using default pandas .plot(ax=ax2) I think because date range was off\n",
    "avgs = wq.groupby(wq.SampleDate.dt.year).count().Station.values\n",
    "year_start = pd.date_range('2003', '2019', freq='YS')\n",
    "year_end = pd.date_range('2003', '2020', freq='Y')\n",
    "# ax2.hlines(avgs, year_start, year_end, color='black')\n",
    "ax2.set_ylabel('Average # of observations per calendar year')\n",
    "# ax2.set_yticks(np.arange(1200, 3200, 3050))\n",
    "\n",
    "fig.suptitle('Number of Available Validation Data Points over Time')\n",
    "\n",
    "if SAVE_FIGS:\n",
    "    path = os.path.join(REPO_ROOT, 'figures/supplemental', 'validation_points_temporal_histogram.png')\n",
    "    plt.savefig(path)"
   ]
  },
  {
   "cell_type": "code",
   "execution_count": null,
   "id": "638c5cd1-5c41-4f87-bb59-a5b0aec738e8",
   "metadata": {},
   "outputs": [],
   "source": []
  },
  {
   "cell_type": "code",
   "execution_count": null,
   "id": "2d526b95-4f01-4d28-af8f-760e19b2ab91",
   "metadata": {},
   "outputs": [],
   "source": []
  },
  {
   "cell_type": "code",
   "execution_count": null,
   "id": "b04f132a-abd4-4dfd-a028-b70bd58800f2",
   "metadata": {},
   "outputs": [],
   "source": []
  },
  {
   "cell_type": "code",
   "execution_count": null,
   "id": "bb23836d-ea48-446e-85dc-421cc28b055b",
   "metadata": {},
   "outputs": [],
   "source": []
  },
  {
   "cell_type": "markdown",
   "id": "34ab936b-38a2-4a80-9f2b-1cc8ac1de935",
   "metadata": {},
   "source": [
    "## For Depth Sensitivity (RMSE) (delete this? or move to another file?) NOTE wq_sst should now be wq_anom if revisiting this (name was changed above)\n",
    "\n",
    "Computing RMSE here so I don't have to read in file in another notebook"
   ]
  },
  {
   "cell_type": "code",
   "execution_count": null,
   "id": "bfd83a64-c57c-463b-a859-3a9edc66c188",
   "metadata": {},
   "outputs": [],
   "source": [
    "wq_sst['geopolar_diff'] = wq_sst['geopolar_anom'] - wq_sst['MeasureAnomaly']\n",
    "wq_sst['mur_diff'] = wq_sst['mur_anom'] - wq_sst['MeasureAnomaly']"
   ]
  },
  {
   "cell_type": "code",
   "execution_count": null,
   "id": "98004871-0f00-40a1-97e7-b875858ebd46",
   "metadata": {},
   "outputs": [],
   "source": [
    "N = len(wq_sst[~wq_sst['geopolar_diff'].isnull()])\n",
    "\n",
    "rmse_geopolar = np.sqrt((wq_sst['geopolar_diff']**2).sum() / N)\n",
    "print('rmse geopolar: ', rmse_geopolar)\n",
    "\n",
    "N = len(wq_sst[~wq_sst['mur_diff'].isnull()])\n",
    "\n",
    "rmse_mur = np.sqrt((wq_sst['mur_diff']**2).sum() / N)\n",
    "print('rmse mur: ', rmse_mur)"
   ]
  },
  {
   "cell_type": "markdown",
   "id": "5e0f5b8a-2229-4c99-9bd1-e59212d5d216",
   "metadata": {},
   "source": [
    "| Depth Range    | Geopolar RMSE | MUR RMSE | \n",
    "| -------- | ------- | ------- |\n",
    "| 0.5-3m  | 1.422   | 1.768 |\n",
    "| 0.5-7m | 1.477   | 1.763 |\n",
    "| **1-3m**    |  1.38   | 1.75|\n",
    "| 1-7m |1.4749  | 1.757  |"
   ]
  },
  {
   "cell_type": "markdown",
   "id": "53f6515d-50d8-4bb1-aef7-768d4f12a03d",
   "metadata": {},
   "source": [
    "| Depth Range    | Geopolar RMSE | MUR RMSE | \n",
    "| -------- | ------- | ------- |\n",
    "| 0.5-3m  | 1.42   | 1.77 |\n",
    "| 0.5-7m | 1.48   | 1.76 |\n",
    "| **1-3m**    |  1.38   | 1.75|\n",
    "| 1-7m |1.47  | 1.76  |"
   ]
  },
  {
   "cell_type": "code",
   "execution_count": null,
   "id": "2dd4a255-85d9-410a-9208-fbc139ea72a5",
   "metadata": {},
   "outputs": [],
   "source": []
  }
 ],
 "metadata": {
  "kernelspec": {
   "display_name": "Python [conda env:chesapeake_mhw]",
   "language": "python",
   "name": "conda-env-chesapeake_mhw-py"
  },
  "language_info": {
   "codemirror_mode": {
    "name": "ipython",
    "version": 3
   },
   "file_extension": ".py",
   "mimetype": "text/x-python",
   "name": "python",
   "nbconvert_exporter": "python",
   "pygments_lexer": "ipython3",
   "version": "3.11.0"
  }
 },
 "nbformat": 4,
 "nbformat_minor": 5
}
